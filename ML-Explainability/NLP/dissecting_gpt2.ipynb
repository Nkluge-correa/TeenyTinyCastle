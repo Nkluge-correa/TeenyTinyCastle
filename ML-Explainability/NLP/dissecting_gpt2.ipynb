{
 "cells": [
  {
   "attachments": {},
   "cell_type": "markdown",
   "metadata": {},
   "source": [
    "# Dissecting a GPT model\n",
    "\n",
    "Return to the [Castle](https://github.com/Nkluge-correa/TeenyTinyCastle)\n",
    "\n",
    "In this notebook, we will explore how a GPT-2 (Generative Pre-trained Transformer 2) model works. This walkthrough is based on the two-video series created by [Neel Nanda](https://www.neelnanda.io/) and serves as a great introduction to how GPT-style models work and the field of [mechanistic interpretability](https://www.neelnanda.io/mechanistic-interpretability/getting-started).\n",
    "\n",
    "- [What is a Transformer? (Transformer Walkthrough Part 1/2)](https://www.youtube.com/watch?v=bOYE6E8JrtU).\n",
    "- [Implementing GPT-2 From Scratch (Transformer Walkthrough Part 2/2)](https://www.youtube.com/watch?v=dsjUDacBw8o).\n",
    "\n",
    "For other resources related to building and interpreting transformer models, check these other tutorials:\n",
    "\n",
    "- [Building the original transformer architecture for sequence-to-sequence translation](https://github.com/Nkluge-correa/TeenyTinyCastle/blob/12eeb87cbb2abfa66c518c40785c47cdb6b62978/ML-Intro-Course/16_seuqnece_to_sequence.ipynb).\n",
    "- [Building a miniGPT model to generate text](https://github.com/Nkluge-correa/TeenyTinyCastle/blob/12eeb87cbb2abfa66c518c40785c47cdb6b62978/ML-Intro-Course/17_text_generation.ipynb).\n",
    "- [Interpret BERT models via integrated gradients](https://github.com/Nkluge-correa/TeenyTinyCastle/blob/12eeb87cbb2abfa66c518c40785c47cdb6b62978/ML-Explainability/NLP/gradient_explanations_BERT.ipynb).\n",
    "\n",
    "This implementation uses many utilities from the [`TransformerLens`](https://github.com/neelnanda-io/TransformerLens) library, so we will install some prerequisites before running anything."
   ]
  },
  {
   "cell_type": "code",
   "execution_count": 2,
   "metadata": {},
   "outputs": [
    {
     "name": "stdout",
     "output_type": "stream",
     "text": [
      "Collecting git+https://github.com/neelnanda-io/TransformerLens\n",
      "  Cloning https://github.com/neelnanda-io/TransformerLens to c:\\users\\cwlink\\appdata\\local\\temp\\pip-req-build-2p8me9mz\n",
      "  Resolved https://github.com/neelnanda-io/TransformerLens to commit 12ff4390a9a9f784f24b6a7dc161a9179b19140a\n",
      "  Installing build dependencies: started\n",
      "  Installing build dependencies: finished with status 'done'\n",
      "  Getting requirements to build wheel: started\n",
      "  Getting requirements to build wheel: finished with status 'done'\n",
      "  Preparing metadata (pyproject.toml): started\n",
      "  Preparing metadata (pyproject.toml): finished with status 'done'\n",
      "Requirement already satisfied: datasets>=2.7.1 in c:\\users\\cwlink\\appdata\\local\\programs\\python\\python39\\lib\\site-packages (from transformer-lens==0.0.0) (2.12.0)\n",
      "Requirement already satisfied: einops>=0.6.0 in c:\\users\\cwlink\\appdata\\local\\programs\\python\\python39\\lib\\site-packages (from transformer-lens==0.0.0) (0.6.1)\n",
      "Requirement already satisfied: fancy-einsum>=0.0.3 in c:\\users\\cwlink\\appdata\\local\\programs\\python\\python39\\lib\\site-packages (from transformer-lens==0.0.0) (0.0.3)\n",
      "Requirement already satisfied: jaxtyping>=0.2.11 in c:\\users\\cwlink\\appdata\\local\\programs\\python\\python39\\lib\\site-packages (from transformer-lens==0.0.0) (0.2.15)\n",
      "Requirement already satisfied: numpy>=1.21 in c:\\users\\cwlink\\appdata\\local\\programs\\python\\python39\\lib\\site-packages (from transformer-lens==0.0.0) (1.23.5)\n",
      "Requirement already satisfied: pandas>=1.1.5 in c:\\users\\cwlink\\appdata\\local\\programs\\python\\python39\\lib\\site-packages (from transformer-lens==0.0.0) (1.5.2)\n",
      "Requirement already satisfied: rich>=12.6.0 in c:\\users\\cwlink\\appdata\\local\\programs\\python\\python39\\lib\\site-packages (from transformer-lens==0.0.0) (13.0.1)\n",
      "Requirement already satisfied: torch>=1.10 in c:\\users\\cwlink\\appdata\\local\\programs\\python\\python39\\lib\\site-packages (from transformer-lens==0.0.0) (1.10.0+cu102)\n",
      "Requirement already satisfied: tqdm>=4.64.1 in c:\\users\\cwlink\\appdata\\local\\programs\\python\\python39\\lib\\site-packages (from transformer-lens==0.0.0) (4.64.1)\n",
      "Requirement already satisfied: transformers>=4.25.1 in c:\\users\\cwlink\\appdata\\local\\programs\\python\\python39\\lib\\site-packages (from transformer-lens==0.0.0) (4.30.2)\n",
      "Requirement already satisfied: typeguard<4.0.0,>=3.0.2 in c:\\users\\cwlink\\appdata\\local\\programs\\python\\python39\\lib\\site-packages (from transformer-lens==0.0.0) (3.0.2)\n",
      "Requirement already satisfied: wandb>=0.13.5 in c:\\users\\cwlink\\appdata\\local\\programs\\python\\python39\\lib\\site-packages (from transformer-lens==0.0.0) (0.15.2)\n",
      "Requirement already satisfied: pyarrow>=8.0.0 in c:\\users\\cwlink\\appdata\\local\\programs\\python\\python39\\lib\\site-packages (from datasets>=2.7.1->transformer-lens==0.0.0) (10.0.1)\n",
      "Requirement already satisfied: dill<0.3.7,>=0.3.0 in c:\\users\\cwlink\\appdata\\local\\programs\\python\\python39\\lib\\site-packages (from datasets>=2.7.1->transformer-lens==0.0.0) (0.3.5.1)\n",
      "Requirement already satisfied: requests>=2.19.0 in c:\\users\\cwlink\\appdata\\local\\programs\\python\\python39\\lib\\site-packages (from datasets>=2.7.1->transformer-lens==0.0.0) (2.28.1)\n",
      "Requirement already satisfied: xxhash in c:\\users\\cwlink\\appdata\\local\\programs\\python\\python39\\lib\\site-packages (from datasets>=2.7.1->transformer-lens==0.0.0) (3.1.0)\n",
      "Requirement already satisfied: multiprocess in c:\\users\\cwlink\\appdata\\local\\programs\\python\\python39\\lib\\site-packages (from datasets>=2.7.1->transformer-lens==0.0.0) (0.70.13)\n",
      "Requirement already satisfied: fsspec[http]>=2021.11.1 in c:\\users\\cwlink\\appdata\\local\\programs\\python\\python39\\lib\\site-packages (from datasets>=2.7.1->transformer-lens==0.0.0) (2022.11.0)\n",
      "Requirement already satisfied: aiohttp in c:\\users\\cwlink\\appdata\\local\\programs\\python\\python39\\lib\\site-packages (from datasets>=2.7.1->transformer-lens==0.0.0) (3.8.3)\n",
      "Requirement already satisfied: huggingface-hub<1.0.0,>=0.11.0 in c:\\users\\cwlink\\appdata\\local\\programs\\python\\python39\\lib\\site-packages (from datasets>=2.7.1->transformer-lens==0.0.0) (0.15.1)\n",
      "Requirement already satisfied: packaging in c:\\users\\cwlink\\appdata\\local\\programs\\python\\python39\\lib\\site-packages (from datasets>=2.7.1->transformer-lens==0.0.0) (22.0)\n",
      "Requirement already satisfied: responses<0.19 in c:\\users\\cwlink\\appdata\\local\\programs\\python\\python39\\lib\\site-packages (from datasets>=2.7.1->transformer-lens==0.0.0) (0.18.0)\n",
      "Requirement already satisfied: pyyaml>=5.1 in c:\\users\\cwlink\\appdata\\local\\programs\\python\\python39\\lib\\site-packages (from datasets>=2.7.1->transformer-lens==0.0.0) (6.0)\n",
      "Requirement already satisfied: typing-extensions>=3.7.4.1 in c:\\users\\cwlink\\appdata\\local\\programs\\python\\python39\\lib\\site-packages (from jaxtyping>=0.2.11->transformer-lens==0.0.0) (4.4.0)\n",
      "Requirement already satisfied: python-dateutil>=2.8.1 in c:\\users\\cwlink\\appdata\\local\\programs\\python\\python39\\lib\\site-packages (from pandas>=1.1.5->transformer-lens==0.0.0) (2.8.2)\n",
      "Requirement already satisfied: pytz>=2020.1 in c:\\users\\cwlink\\appdata\\local\\programs\\python\\python39\\lib\\site-packages (from pandas>=1.1.5->transformer-lens==0.0.0) (2022.7)\n",
      "Requirement already satisfied: commonmark<0.10.0,>=0.9.0 in c:\\users\\cwlink\\appdata\\local\\programs\\python\\python39\\lib\\site-packages (from rich>=12.6.0->transformer-lens==0.0.0) (0.9.1)\n",
      "Requirement already satisfied: pygments<3.0.0,>=2.6.0 in c:\\users\\cwlink\\appdata\\local\\programs\\python\\python39\\lib\\site-packages (from rich>=12.6.0->transformer-lens==0.0.0) (2.13.0)\n",
      "Requirement already satisfied: colorama in c:\\users\\cwlink\\appdata\\local\\programs\\python\\python39\\lib\\site-packages (from tqdm>=4.64.1->transformer-lens==0.0.0) (0.4.6)\n",
      "Requirement already satisfied: filelock in c:\\users\\cwlink\\appdata\\local\\programs\\python\\python39\\lib\\site-packages (from transformers>=4.25.1->transformer-lens==0.0.0) (3.8.2)\n",
      "Requirement already satisfied: regex!=2019.12.17 in c:\\users\\cwlink\\appdata\\local\\programs\\python\\python39\\lib\\site-packages (from transformers>=4.25.1->transformer-lens==0.0.0) (2022.10.31)\n",
      "Requirement already satisfied: tokenizers!=0.11.3,<0.14,>=0.11.1 in c:\\users\\cwlink\\appdata\\local\\programs\\python\\python39\\lib\\site-packages (from transformers>=4.25.1->transformer-lens==0.0.0) (0.13.2)\n",
      "Requirement already satisfied: safetensors>=0.3.1 in c:\\users\\cwlink\\appdata\\local\\programs\\python\\python39\\lib\\site-packages (from transformers>=4.25.1->transformer-lens==0.0.0) (0.3.1)\n",
      "Requirement already satisfied: importlib-metadata>=3.6 in c:\\users\\cwlink\\appdata\\local\\programs\\python\\python39\\lib\\site-packages (from typeguard<4.0.0,>=3.0.2->transformer-lens==0.0.0) (5.2.0)\n",
      "Requirement already satisfied: Click!=8.0.0,>=7.0 in c:\\users\\cwlink\\appdata\\local\\programs\\python\\python39\\lib\\site-packages (from wandb>=0.13.5->transformer-lens==0.0.0) (8.1.3)\n",
      "Requirement already satisfied: GitPython!=3.1.29,>=1.0.0 in c:\\users\\cwlink\\appdata\\local\\programs\\python\\python39\\lib\\site-packages (from wandb>=0.13.5->transformer-lens==0.0.0) (3.1.31)\n",
      "Requirement already satisfied: psutil>=5.0.0 in c:\\users\\cwlink\\appdata\\local\\programs\\python\\python39\\lib\\site-packages (from wandb>=0.13.5->transformer-lens==0.0.0) (5.9.4)\n",
      "Requirement already satisfied: sentry-sdk>=1.0.0 in c:\\users\\cwlink\\appdata\\local\\programs\\python\\python39\\lib\\site-packages (from wandb>=0.13.5->transformer-lens==0.0.0) (1.22.2)\n",
      "Requirement already satisfied: docker-pycreds>=0.4.0 in c:\\users\\cwlink\\appdata\\local\\programs\\python\\python39\\lib\\site-packages (from wandb>=0.13.5->transformer-lens==0.0.0) (0.4.0)\n",
      "Requirement already satisfied: pathtools in c:\\users\\cwlink\\appdata\\local\\programs\\python\\python39\\lib\\site-packages (from wandb>=0.13.5->transformer-lens==0.0.0) (0.1.2)\n",
      "Requirement already satisfied: setproctitle in c:\\users\\cwlink\\appdata\\local\\programs\\python\\python39\\lib\\site-packages (from wandb>=0.13.5->transformer-lens==0.0.0) (1.3.2)\n",
      "Requirement already satisfied: setuptools in c:\\users\\cwlink\\appdata\\local\\programs\\python\\python39\\lib\\site-packages (from wandb>=0.13.5->transformer-lens==0.0.0) (58.1.0)\n",
      "Requirement already satisfied: appdirs>=1.4.3 in c:\\users\\cwlink\\appdata\\local\\programs\\python\\python39\\lib\\site-packages (from wandb>=0.13.5->transformer-lens==0.0.0) (1.4.4)\n",
      "Requirement already satisfied: protobuf!=4.21.0,<5,>=3.19.0 in c:\\users\\cwlink\\appdata\\local\\programs\\python\\python39\\lib\\site-packages (from wandb>=0.13.5->transformer-lens==0.0.0) (3.19.6)\n",
      "Requirement already satisfied: six>=1.4.0 in c:\\users\\cwlink\\appdata\\local\\programs\\python\\python39\\lib\\site-packages (from docker-pycreds>=0.4.0->wandb>=0.13.5->transformer-lens==0.0.0) (1.16.0)\n",
      "Requirement already satisfied: attrs>=17.3.0 in c:\\users\\cwlink\\appdata\\local\\programs\\python\\python39\\lib\\site-packages (from aiohttp->datasets>=2.7.1->transformer-lens==0.0.0) (22.2.0)\n",
      "Requirement already satisfied: charset-normalizer<3.0,>=2.0 in c:\\users\\cwlink\\appdata\\local\\programs\\python\\python39\\lib\\site-packages (from aiohttp->datasets>=2.7.1->transformer-lens==0.0.0) (2.1.1)\n",
      "Requirement already satisfied: multidict<7.0,>=4.5 in c:\\users\\cwlink\\appdata\\local\\programs\\python\\python39\\lib\\site-packages (from aiohttp->datasets>=2.7.1->transformer-lens==0.0.0) (6.0.4)\n",
      "Requirement already satisfied: async-timeout<5.0,>=4.0.0a3 in c:\\users\\cwlink\\appdata\\local\\programs\\python\\python39\\lib\\site-packages (from aiohttp->datasets>=2.7.1->transformer-lens==0.0.0) (4.0.2)\n",
      "Requirement already satisfied: yarl<2.0,>=1.0 in c:\\users\\cwlink\\appdata\\local\\programs\\python\\python39\\lib\\site-packages (from aiohttp->datasets>=2.7.1->transformer-lens==0.0.0) (1.8.2)\n",
      "Requirement already satisfied: frozenlist>=1.1.1 in c:\\users\\cwlink\\appdata\\local\\programs\\python\\python39\\lib\\site-packages (from aiohttp->datasets>=2.7.1->transformer-lens==0.0.0) (1.3.3)\n",
      "Requirement already satisfied: aiosignal>=1.1.2 in c:\\users\\cwlink\\appdata\\local\\programs\\python\\python39\\lib\\site-packages (from aiohttp->datasets>=2.7.1->transformer-lens==0.0.0) (1.3.1)\n",
      "Requirement already satisfied: gitdb<5,>=4.0.1 in c:\\users\\cwlink\\appdata\\local\\programs\\python\\python39\\lib\\site-packages (from GitPython!=3.1.29,>=1.0.0->wandb>=0.13.5->transformer-lens==0.0.0) (4.0.10)\n",
      "Requirement already satisfied: zipp>=0.5 in c:\\users\\cwlink\\appdata\\local\\programs\\python\\python39\\lib\\site-packages (from importlib-metadata>=3.6->typeguard<4.0.0,>=3.0.2->transformer-lens==0.0.0) (3.11.0)\n",
      "Requirement already satisfied: idna<4,>=2.5 in c:\\users\\cwlink\\appdata\\local\\programs\\python\\python39\\lib\\site-packages (from requests>=2.19.0->datasets>=2.7.1->transformer-lens==0.0.0) (2.10)\n",
      "Requirement already satisfied: urllib3<1.27,>=1.21.1 in c:\\users\\cwlink\\appdata\\local\\programs\\python\\python39\\lib\\site-packages (from requests>=2.19.0->datasets>=2.7.1->transformer-lens==0.0.0) (1.26.13)\n",
      "Requirement already satisfied: certifi>=2017.4.17 in c:\\users\\cwlink\\appdata\\local\\programs\\python\\python39\\lib\\site-packages (from requests>=2.19.0->datasets>=2.7.1->transformer-lens==0.0.0) (2022.12.7)\n",
      "Requirement already satisfied: smmap<6,>=3.0.1 in c:\\users\\cwlink\\appdata\\local\\programs\\python\\python39\\lib\\site-packages (from gitdb<5,>=4.0.1->GitPython!=3.1.29,>=1.0.0->wandb>=0.13.5->transformer-lens==0.0.0) (5.0.0)\n",
      "Note: you may need to restart the kernel to use updated packages.\n"
     ]
    },
    {
     "name": "stderr",
     "output_type": "stream",
     "text": [
      "  Running command git clone --filter=blob:none --quiet https://github.com/neelnanda-io/TransformerLens 'C:\\Users\\CWLINK\\AppData\\Local\\Temp\\pip-req-build-2p8me9mz'\n"
     ]
    }
   ],
   "source": [
    "# library for doing mechanistic interpretability of GPT-2 Style language models\n",
    "%pip install git+https://github.com/neelnanda-io/TransformerLens"
   ]
  },
  {
   "attachments": {},
   "cell_type": "markdown",
   "metadata": {},
   "source": [
    "## What does a GPT model do?\n",
    "\n",
    "Before implementing anything, we need a GPT model to work with. Let us load a small version of GPT-2 (117M) so we can gain some understanding of what process this model performs during a forward pass."
   ]
  },
  {
   "cell_type": "code",
   "execution_count": 3,
   "metadata": {},
   "outputs": [
    {
     "data": {
      "application/vnd.jupyter.widget-view+json": {
       "model_id": "169c0b09758e49a984108cd70eeba623",
       "version_major": 2,
       "version_minor": 0
      },
      "text/plain": [
       "Downloading (…)lve/main/config.json:   0%|          | 0.00/665 [00:00<?, ?B/s]"
      ]
     },
     "metadata": {},
     "output_type": "display_data"
    },
    {
     "data": {
      "application/vnd.jupyter.widget-view+json": {
       "model_id": "47ad97179bb7414d89544417f242b6b7",
       "version_major": 2,
       "version_minor": 0
      },
      "text/plain": [
       "Downloading model.safetensors:   0%|          | 0.00/548M [00:00<?, ?B/s]"
      ]
     },
     "metadata": {},
     "output_type": "display_data"
    },
    {
     "data": {
      "application/vnd.jupyter.widget-view+json": {
       "model_id": "1e1ea92f51d647088be1d2d65deb800a",
       "version_major": 2,
       "version_minor": 0
      },
      "text/plain": [
       "Downloading (…)neration_config.json:   0%|          | 0.00/124 [00:00<?, ?B/s]"
      ]
     },
     "metadata": {},
     "output_type": "display_data"
    },
    {
     "data": {
      "application/vnd.jupyter.widget-view+json": {
       "model_id": "d9ba523ef85c4a3e8761cbd864aa80ac",
       "version_major": 2,
       "version_minor": 0
      },
      "text/plain": [
       "Downloading (…)olve/main/vocab.json:   0%|          | 0.00/1.04M [00:00<?, ?B/s]"
      ]
     },
     "metadata": {},
     "output_type": "display_data"
    },
    {
     "data": {
      "application/vnd.jupyter.widget-view+json": {
       "model_id": "af2a30095efb49ee93738dff54fd78d9",
       "version_major": 2,
       "version_minor": 0
      },
      "text/plain": [
       "Downloading (…)olve/main/merges.txt:   0%|          | 0.00/456k [00:00<?, ?B/s]"
      ]
     },
     "metadata": {},
     "output_type": "display_data"
    },
    {
     "data": {
      "application/vnd.jupyter.widget-view+json": {
       "model_id": "1f53b291674440569306518689695ffe",
       "version_major": 2,
       "version_minor": 0
      },
      "text/plain": [
       "Downloading (…)/main/tokenizer.json:   0%|          | 0.00/1.36M [00:00<?, ?B/s]"
      ]
     },
     "metadata": {},
     "output_type": "display_data"
    },
    {
     "name": "stderr",
     "output_type": "stream",
     "text": [
      "Using pad_token, but it is not set yet.\n"
     ]
    },
    {
     "name": "stdout",
     "output_type": "stream",
     "text": [
      "Loaded pretrained model gpt2-small into HookedTransformer\n"
     ]
    },
    {
     "data": {
      "text/plain": [
       "HookedTransformer(\n",
       "  (embed): Embed()\n",
       "  (hook_embed): HookPoint()\n",
       "  (pos_embed): PosEmbed()\n",
       "  (hook_pos_embed): HookPoint()\n",
       "  (blocks): ModuleList(\n",
       "    (0): TransformerBlock(\n",
       "      (ln1): LayerNorm(\n",
       "        (hook_scale): HookPoint()\n",
       "        (hook_normalized): HookPoint()\n",
       "      )\n",
       "      (ln2): LayerNorm(\n",
       "        (hook_scale): HookPoint()\n",
       "        (hook_normalized): HookPoint()\n",
       "      )\n",
       "      (attn): Attention(\n",
       "        (hook_k): HookPoint()\n",
       "        (hook_q): HookPoint()\n",
       "        (hook_v): HookPoint()\n",
       "        (hook_z): HookPoint()\n",
       "        (hook_attn_scores): HookPoint()\n",
       "        (hook_pattern): HookPoint()\n",
       "        (hook_result): HookPoint()\n",
       "      )\n",
       "      (mlp): MLP(\n",
       "        (hook_pre): HookPoint()\n",
       "        (hook_post): HookPoint()\n",
       "      )\n",
       "      (hook_q_input): HookPoint()\n",
       "      (hook_k_input): HookPoint()\n",
       "      (hook_v_input): HookPoint()\n",
       "      (hook_attn_out): HookPoint()\n",
       "      (hook_mlp_out): HookPoint()\n",
       "      (hook_resid_pre): HookPoint()\n",
       "      (hook_resid_mid): HookPoint()\n",
       "      (hook_resid_post): HookPoint()\n",
       "    )\n",
       "    (1): TransformerBlock(\n",
       "      (ln1): LayerNorm(\n",
       "        (hook_scale): HookPoint()\n",
       "        (hook_normalized): HookPoint()\n",
       "      )\n",
       "      (ln2): LayerNorm(\n",
       "        (hook_scale): HookPoint()\n",
       "        (hook_normalized): HookPoint()\n",
       "      )\n",
       "      (attn): Attention(\n",
       "        (hook_k): HookPoint()\n",
       "        (hook_q): HookPoint()\n",
       "        (hook_v): HookPoint()\n",
       "        (hook_z): HookPoint()\n",
       "        (hook_attn_scores): HookPoint()\n",
       "        (hook_pattern): HookPoint()\n",
       "        (hook_result): HookPoint()\n",
       "      )\n",
       "      (mlp): MLP(\n",
       "        (hook_pre): HookPoint()\n",
       "        (hook_post): HookPoint()\n",
       "      )\n",
       "      (hook_q_input): HookPoint()\n",
       "      (hook_k_input): HookPoint()\n",
       "      (hook_v_input): HookPoint()\n",
       "      (hook_attn_out): HookPoint()\n",
       "      (hook_mlp_out): HookPoint()\n",
       "      (hook_resid_pre): HookPoint()\n",
       "      (hook_resid_mid): HookPoint()\n",
       "      (hook_resid_post): HookPoint()\n",
       "    )\n",
       "    (2): TransformerBlock(\n",
       "      (ln1): LayerNorm(\n",
       "        (hook_scale): HookPoint()\n",
       "        (hook_normalized): HookPoint()\n",
       "      )\n",
       "      (ln2): LayerNorm(\n",
       "        (hook_scale): HookPoint()\n",
       "        (hook_normalized): HookPoint()\n",
       "      )\n",
       "      (attn): Attention(\n",
       "        (hook_k): HookPoint()\n",
       "        (hook_q): HookPoint()\n",
       "        (hook_v): HookPoint()\n",
       "        (hook_z): HookPoint()\n",
       "        (hook_attn_scores): HookPoint()\n",
       "        (hook_pattern): HookPoint()\n",
       "        (hook_result): HookPoint()\n",
       "      )\n",
       "      (mlp): MLP(\n",
       "        (hook_pre): HookPoint()\n",
       "        (hook_post): HookPoint()\n",
       "      )\n",
       "      (hook_q_input): HookPoint()\n",
       "      (hook_k_input): HookPoint()\n",
       "      (hook_v_input): HookPoint()\n",
       "      (hook_attn_out): HookPoint()\n",
       "      (hook_mlp_out): HookPoint()\n",
       "      (hook_resid_pre): HookPoint()\n",
       "      (hook_resid_mid): HookPoint()\n",
       "      (hook_resid_post): HookPoint()\n",
       "    )\n",
       "    (3): TransformerBlock(\n",
       "      (ln1): LayerNorm(\n",
       "        (hook_scale): HookPoint()\n",
       "        (hook_normalized): HookPoint()\n",
       "      )\n",
       "      (ln2): LayerNorm(\n",
       "        (hook_scale): HookPoint()\n",
       "        (hook_normalized): HookPoint()\n",
       "      )\n",
       "      (attn): Attention(\n",
       "        (hook_k): HookPoint()\n",
       "        (hook_q): HookPoint()\n",
       "        (hook_v): HookPoint()\n",
       "        (hook_z): HookPoint()\n",
       "        (hook_attn_scores): HookPoint()\n",
       "        (hook_pattern): HookPoint()\n",
       "        (hook_result): HookPoint()\n",
       "      )\n",
       "      (mlp): MLP(\n",
       "        (hook_pre): HookPoint()\n",
       "        (hook_post): HookPoint()\n",
       "      )\n",
       "      (hook_q_input): HookPoint()\n",
       "      (hook_k_input): HookPoint()\n",
       "      (hook_v_input): HookPoint()\n",
       "      (hook_attn_out): HookPoint()\n",
       "      (hook_mlp_out): HookPoint()\n",
       "      (hook_resid_pre): HookPoint()\n",
       "      (hook_resid_mid): HookPoint()\n",
       "      (hook_resid_post): HookPoint()\n",
       "    )\n",
       "    (4): TransformerBlock(\n",
       "      (ln1): LayerNorm(\n",
       "        (hook_scale): HookPoint()\n",
       "        (hook_normalized): HookPoint()\n",
       "      )\n",
       "      (ln2): LayerNorm(\n",
       "        (hook_scale): HookPoint()\n",
       "        (hook_normalized): HookPoint()\n",
       "      )\n",
       "      (attn): Attention(\n",
       "        (hook_k): HookPoint()\n",
       "        (hook_q): HookPoint()\n",
       "        (hook_v): HookPoint()\n",
       "        (hook_z): HookPoint()\n",
       "        (hook_attn_scores): HookPoint()\n",
       "        (hook_pattern): HookPoint()\n",
       "        (hook_result): HookPoint()\n",
       "      )\n",
       "      (mlp): MLP(\n",
       "        (hook_pre): HookPoint()\n",
       "        (hook_post): HookPoint()\n",
       "      )\n",
       "      (hook_q_input): HookPoint()\n",
       "      (hook_k_input): HookPoint()\n",
       "      (hook_v_input): HookPoint()\n",
       "      (hook_attn_out): HookPoint()\n",
       "      (hook_mlp_out): HookPoint()\n",
       "      (hook_resid_pre): HookPoint()\n",
       "      (hook_resid_mid): HookPoint()\n",
       "      (hook_resid_post): HookPoint()\n",
       "    )\n",
       "    (5): TransformerBlock(\n",
       "      (ln1): LayerNorm(\n",
       "        (hook_scale): HookPoint()\n",
       "        (hook_normalized): HookPoint()\n",
       "      )\n",
       "      (ln2): LayerNorm(\n",
       "        (hook_scale): HookPoint()\n",
       "        (hook_normalized): HookPoint()\n",
       "      )\n",
       "      (attn): Attention(\n",
       "        (hook_k): HookPoint()\n",
       "        (hook_q): HookPoint()\n",
       "        (hook_v): HookPoint()\n",
       "        (hook_z): HookPoint()\n",
       "        (hook_attn_scores): HookPoint()\n",
       "        (hook_pattern): HookPoint()\n",
       "        (hook_result): HookPoint()\n",
       "      )\n",
       "      (mlp): MLP(\n",
       "        (hook_pre): HookPoint()\n",
       "        (hook_post): HookPoint()\n",
       "      )\n",
       "      (hook_q_input): HookPoint()\n",
       "      (hook_k_input): HookPoint()\n",
       "      (hook_v_input): HookPoint()\n",
       "      (hook_attn_out): HookPoint()\n",
       "      (hook_mlp_out): HookPoint()\n",
       "      (hook_resid_pre): HookPoint()\n",
       "      (hook_resid_mid): HookPoint()\n",
       "      (hook_resid_post): HookPoint()\n",
       "    )\n",
       "    (6): TransformerBlock(\n",
       "      (ln1): LayerNorm(\n",
       "        (hook_scale): HookPoint()\n",
       "        (hook_normalized): HookPoint()\n",
       "      )\n",
       "      (ln2): LayerNorm(\n",
       "        (hook_scale): HookPoint()\n",
       "        (hook_normalized): HookPoint()\n",
       "      )\n",
       "      (attn): Attention(\n",
       "        (hook_k): HookPoint()\n",
       "        (hook_q): HookPoint()\n",
       "        (hook_v): HookPoint()\n",
       "        (hook_z): HookPoint()\n",
       "        (hook_attn_scores): HookPoint()\n",
       "        (hook_pattern): HookPoint()\n",
       "        (hook_result): HookPoint()\n",
       "      )\n",
       "      (mlp): MLP(\n",
       "        (hook_pre): HookPoint()\n",
       "        (hook_post): HookPoint()\n",
       "      )\n",
       "      (hook_q_input): HookPoint()\n",
       "      (hook_k_input): HookPoint()\n",
       "      (hook_v_input): HookPoint()\n",
       "      (hook_attn_out): HookPoint()\n",
       "      (hook_mlp_out): HookPoint()\n",
       "      (hook_resid_pre): HookPoint()\n",
       "      (hook_resid_mid): HookPoint()\n",
       "      (hook_resid_post): HookPoint()\n",
       "    )\n",
       "    (7): TransformerBlock(\n",
       "      (ln1): LayerNorm(\n",
       "        (hook_scale): HookPoint()\n",
       "        (hook_normalized): HookPoint()\n",
       "      )\n",
       "      (ln2): LayerNorm(\n",
       "        (hook_scale): HookPoint()\n",
       "        (hook_normalized): HookPoint()\n",
       "      )\n",
       "      (attn): Attention(\n",
       "        (hook_k): HookPoint()\n",
       "        (hook_q): HookPoint()\n",
       "        (hook_v): HookPoint()\n",
       "        (hook_z): HookPoint()\n",
       "        (hook_attn_scores): HookPoint()\n",
       "        (hook_pattern): HookPoint()\n",
       "        (hook_result): HookPoint()\n",
       "      )\n",
       "      (mlp): MLP(\n",
       "        (hook_pre): HookPoint()\n",
       "        (hook_post): HookPoint()\n",
       "      )\n",
       "      (hook_q_input): HookPoint()\n",
       "      (hook_k_input): HookPoint()\n",
       "      (hook_v_input): HookPoint()\n",
       "      (hook_attn_out): HookPoint()\n",
       "      (hook_mlp_out): HookPoint()\n",
       "      (hook_resid_pre): HookPoint()\n",
       "      (hook_resid_mid): HookPoint()\n",
       "      (hook_resid_post): HookPoint()\n",
       "    )\n",
       "    (8): TransformerBlock(\n",
       "      (ln1): LayerNorm(\n",
       "        (hook_scale): HookPoint()\n",
       "        (hook_normalized): HookPoint()\n",
       "      )\n",
       "      (ln2): LayerNorm(\n",
       "        (hook_scale): HookPoint()\n",
       "        (hook_normalized): HookPoint()\n",
       "      )\n",
       "      (attn): Attention(\n",
       "        (hook_k): HookPoint()\n",
       "        (hook_q): HookPoint()\n",
       "        (hook_v): HookPoint()\n",
       "        (hook_z): HookPoint()\n",
       "        (hook_attn_scores): HookPoint()\n",
       "        (hook_pattern): HookPoint()\n",
       "        (hook_result): HookPoint()\n",
       "      )\n",
       "      (mlp): MLP(\n",
       "        (hook_pre): HookPoint()\n",
       "        (hook_post): HookPoint()\n",
       "      )\n",
       "      (hook_q_input): HookPoint()\n",
       "      (hook_k_input): HookPoint()\n",
       "      (hook_v_input): HookPoint()\n",
       "      (hook_attn_out): HookPoint()\n",
       "      (hook_mlp_out): HookPoint()\n",
       "      (hook_resid_pre): HookPoint()\n",
       "      (hook_resid_mid): HookPoint()\n",
       "      (hook_resid_post): HookPoint()\n",
       "    )\n",
       "    (9): TransformerBlock(\n",
       "      (ln1): LayerNorm(\n",
       "        (hook_scale): HookPoint()\n",
       "        (hook_normalized): HookPoint()\n",
       "      )\n",
       "      (ln2): LayerNorm(\n",
       "        (hook_scale): HookPoint()\n",
       "        (hook_normalized): HookPoint()\n",
       "      )\n",
       "      (attn): Attention(\n",
       "        (hook_k): HookPoint()\n",
       "        (hook_q): HookPoint()\n",
       "        (hook_v): HookPoint()\n",
       "        (hook_z): HookPoint()\n",
       "        (hook_attn_scores): HookPoint()\n",
       "        (hook_pattern): HookPoint()\n",
       "        (hook_result): HookPoint()\n",
       "      )\n",
       "      (mlp): MLP(\n",
       "        (hook_pre): HookPoint()\n",
       "        (hook_post): HookPoint()\n",
       "      )\n",
       "      (hook_q_input): HookPoint()\n",
       "      (hook_k_input): HookPoint()\n",
       "      (hook_v_input): HookPoint()\n",
       "      (hook_attn_out): HookPoint()\n",
       "      (hook_mlp_out): HookPoint()\n",
       "      (hook_resid_pre): HookPoint()\n",
       "      (hook_resid_mid): HookPoint()\n",
       "      (hook_resid_post): HookPoint()\n",
       "    )\n",
       "    (10): TransformerBlock(\n",
       "      (ln1): LayerNorm(\n",
       "        (hook_scale): HookPoint()\n",
       "        (hook_normalized): HookPoint()\n",
       "      )\n",
       "      (ln2): LayerNorm(\n",
       "        (hook_scale): HookPoint()\n",
       "        (hook_normalized): HookPoint()\n",
       "      )\n",
       "      (attn): Attention(\n",
       "        (hook_k): HookPoint()\n",
       "        (hook_q): HookPoint()\n",
       "        (hook_v): HookPoint()\n",
       "        (hook_z): HookPoint()\n",
       "        (hook_attn_scores): HookPoint()\n",
       "        (hook_pattern): HookPoint()\n",
       "        (hook_result): HookPoint()\n",
       "      )\n",
       "      (mlp): MLP(\n",
       "        (hook_pre): HookPoint()\n",
       "        (hook_post): HookPoint()\n",
       "      )\n",
       "      (hook_q_input): HookPoint()\n",
       "      (hook_k_input): HookPoint()\n",
       "      (hook_v_input): HookPoint()\n",
       "      (hook_attn_out): HookPoint()\n",
       "      (hook_mlp_out): HookPoint()\n",
       "      (hook_resid_pre): HookPoint()\n",
       "      (hook_resid_mid): HookPoint()\n",
       "      (hook_resid_post): HookPoint()\n",
       "    )\n",
       "    (11): TransformerBlock(\n",
       "      (ln1): LayerNorm(\n",
       "        (hook_scale): HookPoint()\n",
       "        (hook_normalized): HookPoint()\n",
       "      )\n",
       "      (ln2): LayerNorm(\n",
       "        (hook_scale): HookPoint()\n",
       "        (hook_normalized): HookPoint()\n",
       "      )\n",
       "      (attn): Attention(\n",
       "        (hook_k): HookPoint()\n",
       "        (hook_q): HookPoint()\n",
       "        (hook_v): HookPoint()\n",
       "        (hook_z): HookPoint()\n",
       "        (hook_attn_scores): HookPoint()\n",
       "        (hook_pattern): HookPoint()\n",
       "        (hook_result): HookPoint()\n",
       "      )\n",
       "      (mlp): MLP(\n",
       "        (hook_pre): HookPoint()\n",
       "        (hook_post): HookPoint()\n",
       "      )\n",
       "      (hook_q_input): HookPoint()\n",
       "      (hook_k_input): HookPoint()\n",
       "      (hook_v_input): HookPoint()\n",
       "      (hook_attn_out): HookPoint()\n",
       "      (hook_mlp_out): HookPoint()\n",
       "      (hook_resid_pre): HookPoint()\n",
       "      (hook_resid_mid): HookPoint()\n",
       "      (hook_resid_post): HookPoint()\n",
       "    )\n",
       "  )\n",
       "  (ln_final): LayerNorm(\n",
       "    (hook_scale): HookPoint()\n",
       "    (hook_normalized): HookPoint()\n",
       "  )\n",
       "  (unembed): Unembed()\n",
       ")"
      ]
     },
     "metadata": {},
     "output_type": "display_data"
    },
    {
     "data": {
      "text/plain": [
       "device(type='cuda')"
      ]
     },
     "metadata": {},
     "output_type": "display_data"
    }
   ],
   "source": [
    "import torch\n",
    "from transformer_lens import HookedTransformer\n",
    "\n",
    "gpt2 = HookedTransformer.from_pretrained(\"gpt2-small\", \n",
    "                                        fold_ln=False, \n",
    "                                        center_unembed=False, \n",
    "                                        center_writing_weights=False)\n",
    "\n",
    "device = torch.device(\"cuda\" if torch.cuda.is_available() else \"cpu\")\n",
    "\n",
    "display(gpt2, device)"
   ]
  },
  {
   "attachments": {},
   "cell_type": "markdown",
   "metadata": {},
   "source": [
    "GPT-2 is a _decoder-only transformer._\n",
    "\n",
    "A `decoder-only` transformer is a type of transformer architecture that only contains the decoder part of the transformer model without the encoder part. In a [typical transformer architecture](https://arxiv.org/abs/1706.03762), the encoder processes an input sequence and generates a representation of that sequence in the form of a hidden/latent state. The decoder then takes this representation and generates an output based on it.\n",
    "\n",
    "A decoder-only transformer takes a fixed-length vector (usually called a \"_context vector_\") as input and generates an output sequence based on it. In a `decoder-only` transformer, this context is the prompt we feed our model. In other words, if you feed in a sentence, the model will generate a probability distribution over tokens, and you can repeatedly sample from this to generate text.\n",
    "\n",
    "Formally, you feed in a sequence of length $N$, then sample from the probability distribution over the $N+1-th$ word, use this to construct a new sequence of length $N+1$, then feed this new sequence into the model to get a probability distribution over the $N+2-th$ word, and so on.\n",
    "\n",
    "$$sample_t = The \\rightarrow_{model} The\\;cat$$\n",
    "$$sample_{t+1} = The\\;cat \\rightarrow_{model} The\\;cat\\;sat$$\n",
    "$$sample_{t+2} = The\\;cat\\;sat \\rightarrow_{model} The\\;cat\\;sat\\;on$$\n",
    "$$sample_{t+3} = The\\;cat\\;sat\\;on \\rightarrow_{model} The\\;cat\\;sat\\;on\\;the$$\n",
    "$$sample_{t+4} = The\\;cat\\;sat\\;on\\;the \\rightarrow_{model} The\\;cat\\;sat\\;on\\;the\\;floor.$$\n",
    "\n",
    "A decoder-only transformer like GPT-2 is trained on a large corpus of text data using a `causal language modeling` objective. \n",
    "\n",
    "> Causal language modeling is a type of language modeling where a model is trained to predict the next word in a sequence given the previous words, with the constraint that the model can only use information from the past, not the future. More precisely, we only allow the model to perform attention on the left side of the sentence. Thus, the prediction of what comes after token $5$ is only a function of the first $5$ tokens, not of token $6$. This is why we call such models autoregressive (they predict the future only using past information). Their objective during training is to predict the next token in a sequence given the previous tokens.\n",
    "\n",
    "<img src=\"https://jalammar.github.io/images/xlnet/gpt-2-autoregression-2.gif\" width=\"600\"/>\n",
    "\n",
    "Source: [The Illustrated GPT-2 (Visualizing Transformer Language Models)](https://jalammar.github.io/illustrated-gpt2/).\n",
    "\n",
    "Transformers are _sequence modeling engines_ that depend on a lot of linear algebra. They are (basically) a stack of `[linear + non-linear + linear]` operations, enclosed in blocks (`block = [attention, MLP, linear mapping]`), that read and write in a continuous stream of residual information.\n",
    "\n",
    "<img src=\"https://imgs.xkcd.com/comics/machine_learning_2x.png\" width=\"400\"/>\n",
    "\n",
    "Source: [xkcd](https://xkcd.com/1838/).\n",
    "\n",
    "But they need something friendly to perform linear algebra on. Not words, but `vectors`. How do we turn words into vectors? We `tokenize` the words and pass them by an `embedding layer`.\n",
    "\n",
    "To learn more about embedding layers:\n",
    "\n",
    "- [Check this tutorial on how to work with embedding layers and perform basic interpretability analysis](https://github.com/Nkluge-correa/TeenyTinyCastle/blob/12eeb87cbb2abfa66c518c40785c47cdb6b62978/ML-Explainability/NLP/investigating_word_embeddings.ipynb).\n",
    "- [Check this tutorial on how to train a word2vec model](https://github.com/Nkluge-correa/TeenyTinyCastle/blob/12eeb87cbb2abfa66c518c40785c47cdb6b62978/ML-Explainability/NLP/word2vec.ipynb).\n",
    "\n",
    "All the other transformer models we trained in this repository use a tokenization scheme that creates a vocabulary of words (like a dictionary). However, the lack of punctuation and many useful symbols present in natural language make this tokenization scheme brittle. GPT-2, and many other large language models, use a tokenization scheme called `Byte-Pair` encodings, which allows the model to tokenize \"chunks\" of words by their 256 ASCII combinations, where common pairs of tokens are merged into a new single token. For example, the word \"the,\" comprised of the ASCII characters `116 104 101`, quickly becomes a singular token in this schema since the word \"the\" always appears in English.\n",
    "\n",
    "The GPT-2 tokenizer has a vocabulary formed out of 50257 tokens corresponding to words, chunks of words, symbols, numbers, etc. Let us see some of these tokens."
   ]
  },
  {
   "cell_type": "code",
   "execution_count": 4,
   "metadata": {},
   "outputs": [
    {
     "name": "stdout",
     "output_type": "stream",
     "text": [
      "Number of parameters in the reference model:  163087441\n",
      "Number of tokens in the reference model tokenizer:  50257\n"
     ]
    },
    {
     "data": {
      "text/plain": [
       "[('Ġa', 257),\n",
       " ('he', 258),\n",
       " ('in', 259),\n",
       " ('re', 260),\n",
       " ('on', 261),\n",
       " ('Ġthe', 262),\n",
       " ('er', 263),\n",
       " ('Ġs', 264),\n",
       " ('at', 265),\n",
       " ('Ġw', 266)]"
      ]
     },
     "metadata": {},
     "output_type": "display_data"
    },
    {
     "data": {
      "text/plain": [
       "[('Ġ(/', 50247),\n",
       " ('âĢ¦.\"', 50248),\n",
       " ('Compar', 50249),\n",
       " ('Ġamplification', 50250),\n",
       " ('ominated', 50251),\n",
       " ('Ġregress', 50252),\n",
       " ('ĠCollider', 50253),\n",
       " ('Ġinformants', 50254),\n",
       " ('Ġgazed', 50255),\n",
       " ('<|endoftext|>', 50256)]"
      ]
     },
     "metadata": {},
     "output_type": "display_data"
    }
   ],
   "source": [
    "# number of parameters in gpt2\n",
    "print(\"Number of parameters in the reference model: \", sum(p.numel() for p in gpt2.parameters()))\n",
    "\n",
    "# numebr of tokens in gpt2 tokenizer\n",
    "print(\"Number of tokens in the reference model tokenizer: \", len(list(gpt2.tokenizer.vocab.items())))\n",
    "\n",
    "sorted_tokens = sorted(list(gpt2.tokenizer.vocab.items()), key=lambda n:n[1])\n",
    "\n",
    "# display tokens 257 to 267\n",
    "display(sorted_tokens[257:267])\n",
    "\n",
    "# display last 10 tokens\n",
    "display(sorted_tokens[-10:])"
   ]
  },
  {
   "attachments": {},
   "cell_type": "markdown",
   "metadata": {},
   "source": [
    "Tokens that start with the letter `Ġ` represent that this token starts with a space. That means that \"and\" and \" and\" are different tokens. Many tokens are weird, and explaining \"why\" the tokenizer chooses to add the token \" gazed\" as a singular token is hard. But it did. The only explanation is that these are the most common bite pairs found in the training corpus.\n",
    "\n",
    "You can use the `to_tokens` and `to_str_tokens` method from the `transformer_lens` library to explore how words are tokenized. You will see that spaces and capitalization matters in tokenization.\n",
    "\n",
    "> Note: `prepend_bos=False` prevents the `bos` token (beginning of the sentence token = 50256) from being appended at every sentence's beginning."
   ]
  },
  {
   "cell_type": "code",
   "execution_count": 5,
   "metadata": {},
   "outputs": [
    {
     "name": "stdout",
     "output_type": "stream",
     "text": [
      "['Cat']\n",
      "'Cat' = token  21979\n",
      "[' Cat']\n",
      "' Cat' = token  5181\n",
      "[' cat']\n",
      "' cat' = token  3797\n",
      "['cat']\n",
      "'cat' = token  9246\n",
      "'8248247+939-100/70' =  ['8', '248', '247', '+', '9', '39', '-', '100', '/', '70']\n"
     ]
    }
   ],
   "source": [
    "# many types of cats\n",
    "print(gpt2.to_str_tokens(\"Cat\", prepend_bos=False))\n",
    "print(\"'Cat' = token \", gpt2.to_tokens(\"Cat\", prepend_bos=False)[0][0].cpu().numpy())\n",
    "print(gpt2.to_str_tokens(\" Cat\", prepend_bos=False))\n",
    "print(\"' Cat' = token \", gpt2.to_tokens(\" Cat\", prepend_bos=False)[0][0].cpu().numpy())\n",
    "print(gpt2.to_str_tokens(\" cat\", prepend_bos=False))\n",
    "print(\"' cat' = token \", gpt2.to_tokens(\" cat\", prepend_bos=False)[0][0].cpu().numpy())\n",
    "print(gpt2.to_str_tokens(\"cat\", prepend_bos=False))\n",
    "print(\"'cat' = token \", gpt2.to_tokens(\"cat\", prepend_bos=False)[0][0].cpu().numpy())\n",
    "\n",
    "# and much more crazy stuff\n",
    "print(\"'8248247+939-100/70' = \",gpt2.to_str_tokens(\"8248247+939-100/70\", prepend_bos=False))"
   ]
  },
  {
   "attachments": {},
   "cell_type": "markdown",
   "metadata": {},
   "source": [
    "The tokenizer is a look-up table that turns words and sub-words into integers. These integers are then turned into vectors by an embedding layer. This embedding layer is also a kind of look-up table, where each token in our vocabulary corresponds to a specific vector representation of dimensionality equal to the dimensionality of the embedding layer. GPT-2 works with $d_{embeddings} = 768$, and the ouput of embedding layer is shape $[d_{batch}, d_{length}, d_{dimensionality}]$."
   ]
  },
  {
   "cell_type": "code",
   "execution_count": 7,
   "metadata": {},
   "outputs": [
    {
     "name": "stdout",
     "output_type": "stream",
     "text": [
      "Sentence:  The cat sat on the\n",
      "Tokenized Sentence:  tensor([[ 464, 3797, 3332,  319,  262]], device='cuda:0')\n",
      "String Tokens:  ['The', ' cat', ' sat', ' on', ' the']\n",
      "Sentence Embedding Shape:  torch.Size([1, 5, 768])\n"
     ]
    }
   ],
   "source": [
    "sentence = \"The cat sat on the\"\n",
    "print(\"Sentence: \", sentence)\n",
    "\n",
    "# convert the sentence to tokens\n",
    "sentence_tokens = gpt2.to_tokens(sentence, prepend_bos=False)\n",
    "print(\"Tokenized Sentence: \", sentence_tokens)\n",
    "\n",
    "# convert the tokens back to sentence\n",
    "string_tokens = gpt2.to_str_tokens(sentence, prepend_bos=False)\n",
    "print(\"String Tokens: \", string_tokens)\n",
    "\n",
    "# convert the tokenks to embedding vectors\n",
    "sentence_embed = gpt2.embed(sentence_tokens)\n",
    "print(\"Sentence Embedding Shape: \", sentence_embed.shape)"
   ]
  },
  {
   "attachments": {},
   "cell_type": "markdown",
   "metadata": {},
   "source": [
    "Given this input, the goal of the model is to output a probability distribution over the next tokens for every prefix of the sequence (a $7$ token sequence generates $7$ next token predictions).\n",
    "\n",
    "The initial embedding matrix is passed by a series of transformer layers (GPT-2 small has 12 layers), which are made of multi-head attention layers and MLP layers (plus some normalization and skip connections). The final output of this process is a vector of logits, i.e.,  a vector of unnormalized scores over the vocabulary (50257 tokens).\n",
    "\n",
    "This vector is then normalized using a softmax function that turns the logits into a probability distribution (a positive distribution that sums up to 1):\n",
    "\n",
    "$$softmax(\\mathbf{x})_i = \\frac{e^{x_i}}{\\sum_{j=1}^{n} e^{x_j}}$$\n",
    "\n",
    "If we want to sample from this distribution greedily, we select the next token as the one with the highest probability score.\n"
   ]
  },
  {
   "cell_type": "code",
   "execution_count": 8,
   "metadata": {},
   "outputs": [
    {
     "name": "stdout",
     "output_type": "stream",
     "text": [
      "Logits Shape torch.Size([1, 5, 50257])\n",
      "Softmax Output torch.Size([1, 5, 50257])\n"
     ]
    }
   ],
   "source": [
    "# pytorch forces us to declare the device on which we want to perform the operations\n",
    "sentence_tokens = sentence_tokens.to(device)\n",
    "\n",
    "# pass the sentence through gpt2\n",
    "logits, cache = gpt2.run_with_cache(sentence_tokens)\n",
    "\n",
    "# print the logits shape (batch_size, sequence_length, vocab_size)\n",
    "print(\"Logits Shape\",logits.shape)\n",
    "\n",
    "# perform softmax on the logits to get the probabilities\n",
    "probs = torch.nn.functional.softmax(logits,dim=-1)\n",
    "\n",
    "# print the probabilities shape (batch_size, sequence_length, vocab_size)\n",
    "print(\"Softmax Output\", probs.shape)"
   ]
  },
  {
   "attachments": {},
   "cell_type": "markdown",
   "metadata": {},
   "source": [
    "We can see now that the model generated a `next_token_prediction` for every token in the seed sentence."
   ]
  },
  {
   "cell_type": "code",
   "execution_count": 6,
   "metadata": {},
   "outputs": [
    {
     "name": "stdout",
     "output_type": "stream",
     "text": [
      "Current token:  The\n",
      "Probability:  0.013599105179309845\n",
      "Next token with max probability:  ('Ċ', 198)\n",
      "\n",
      "Current token:   cat\n",
      "Probability:  0.1103605255484581\n",
      "Next token with max probability:  ('Ġwas', 373)\n",
      "\n",
      "Current token:   sat\n",
      "Probability:  0.223967045545578\n",
      "Next token with max probability:  ('Ġon', 319)\n",
      "\n",
      "Current token:   on\n",
      "Probability:  0.45369622111320496\n",
      "Next token with max probability:  ('Ġthe', 262)\n",
      "\n",
      "Current token:   the\n",
      "Probability:  0.07635769993066788\n",
      "Next token with max probability:  ('Ġfloor', 4314)\n",
      "\n"
     ]
    }
   ],
   "source": [
    "for i in range(probs.shape[1]):\n",
    "    print(\"Current token: \", string_tokens[i])\n",
    "    print(\"Probability: \", probs[0][i].max().item())\n",
    "    print(\"Next token with max probability: \", sorted_tokens[probs[0][i].argmax().item()])\n",
    "    print(\"\")"
   ]
  },
  {
   "attachments": {},
   "cell_type": "markdown",
   "metadata": {},
   "source": [
    "Let us see what \"_other things_\" our cat could have seated on according to GPT-2 by sampling the first $k$ most likely next tokens for the final token in our seed sentence."
   ]
  },
  {
   "cell_type": "code",
   "execution_count": 7,
   "metadata": {},
   "outputs": [
    {
     "name": "stdout",
     "output_type": "stream",
     "text": [
      "Next token (top 1):  ('Ġfloor', 4314)\n",
      "Probability:  0.07635769993066788\n",
      "\n",
      "Next token (top 2):  ('Ġbed', 3996)\n",
      "Probability:  0.06527633219957352\n",
      "\n",
      "Next token (top 3):  ('Ġcouch', 18507)\n",
      "Probability:  0.0540718249976635\n",
      "\n",
      "Next token (top 4):  ('Ġground', 2323)\n",
      "Probability:  0.05208930745720863\n",
      "\n",
      "Next token (top 5):  ('Ġedge', 5743)\n",
      "Probability:  0.047842156141996384\n",
      "\n"
     ]
    }
   ],
   "source": [
    "# get the top k values and their corresponding indices \n",
    "topk_values, topk_indices = torch.topk(probs[0][-1], k=5)\n",
    "\n",
    "# print the top k values and their corresponding indices\n",
    "for i in range(topk_values.shape[0]):\n",
    "    print(f\"Next token (top {i+1}): \", sorted_tokens[topk_indices[i].item()])\n",
    "    print(\"Probability: \", topk_values[i].item())\n",
    "    print(\"\")"
   ]
  },
  {
   "cell_type": "code",
   "execution_count": 8,
   "metadata": {},
   "outputs": [
    {
     "name": "stdout",
     "output_type": "stream",
     "text": [
      "Sentence at t:  The cat sat on the\n",
      "Sentence at t + 1:  The cat sat on the floor\n",
      "Sentence at t + 2:  The cat sat on the floor,\n",
      "Sentence at t + 3:  The cat sat on the floor, and\n",
      "Sentence at t + 4:  The cat sat on the floor, and the\n",
      "Sentence at t + 5:  The cat sat on the floor, and the cat\n",
      "Sentence at t + 6:  The cat sat on the floor, and the cat was\n",
      "Sentence at t + 7:  The cat sat on the floor, and the cat was still\n",
      "Sentence at t + 8:  The cat sat on the floor, and the cat was still asleep\n",
      "Sentence at t + 9:  The cat sat on the floor, and the cat was still asleep.\n",
      "Sentence at t + 10:  The cat sat on the floor, and the cat was still asleep.\n",
      "\n"
     ]
    }
   ],
   "source": [
    "sentence = \"The cat sat on the\"\n",
    "print(\"Sentence at t: \", sentence)\n",
    "\n",
    "sentence_tokens = gpt2.to_tokens(sentence, prepend_bos=False).to(device)\n",
    "\n",
    "for i in range(10):\n",
    "\n",
    "    # pass the sentence through the reference model and get the logits\n",
    "    logits = gpt2(sentence_tokens)\n",
    "\n",
    "    # perform softmax on the logits to get the probabilities\n",
    "    probs = torch.nn.functional.softmax(logits,dim=-1)\n",
    "\n",
    "    # get the next token\n",
    "    next_token = probs[0, -1].argmax(dim=-1)\n",
    "\n",
    "    # append the next token to the sentence\n",
    "    sentence_tokens = torch.cat([sentence_tokens, next_token[None, None]], dim=-1)\n",
    "    \n",
    "    # convert the next token to string\n",
    "    next_char = gpt2.to_string(next_token)\n",
    "\n",
    "    # append the next token to the sentence\n",
    "    sentence = sentence + next_char\n",
    "    \n",
    "    print(f\"Sentence at t + {i+1}: \", sentence)\n"
   ]
  },
  {
   "attachments": {},
   "cell_type": "markdown",
   "metadata": {},
   "source": [
    "Now we know:\n",
    "\n",
    "1. What are decoder-only transformers, and what is their main function (_sequence modeling_).\n",
    "2. How transformers encode language via tokenization.\n",
    "3. How tokens are converted into embeddings. Embeddings are a matrix/look-up table of shape $[d_{dimensionality}, d_{vocabulary}]$\n",
    "4. The output of the embedding layer is of shape $[d_{batch}, d_{length}, d_{dimensionality}]$\n",
    "4. That a GPT-style model is built of decoder blocks. Every block has a Multihead attention layer and an MLP layer combined (plus some extra stuff).\n",
    "5. Decoder-only transformers are trained via causal language modeling (they can only look at the past).\n",
    "6. They output a prediction for every prefix in their input sequence.\n",
    "7. These predictions are the final output of the model. A vector of logits that can be normalized (via softmax) into a probability distribution over $d_{vocabulary}$ of the model.\n",
    "7. Sampling from this distribution in an iterated fashion allows us to generate text.\n",
    "\n",
    "Let us take a look into what happens inside the decoder blocks of a GPT-style model.\n",
    "\n",
    "## Dissecting Attention Layers\n",
    "\n",
    "> Note: this explanation is based on the article \"_[A Mathematical Framework for Transformer Circuits](https://transformer-circuits.pub/2021/framework/index.html)_\", by [Anthropic](https://www.anthropic.com/).\n",
    "\n",
    "The transformer architecture can be taught at a high level as a sequence of transformer layers. Each layer has a fixed number of `attention heads` ($h_1$, $h_2$,...$h_n$) that are concatenated into a multi-head attention layer ($H_k$). Each layer has a multi-head attention layer and an MLP (multi-layer perceptron, $M_k$) ($Layer_k = (H_k, M_k)$), with each one performing operations on the residual stream. This residual stream is the central object of the transformer. The residual stream has a constant shape $[d_{batch}, d_{length}, d_{dimensionality}]$.\n",
    "\n",
    "Each one of the blocks in a transformer can be represented by the diagram below.\n",
    "\n",
    "> Note: Tokenization + Embedding (and positional embedding) only happen before the first transformer block. `Positional embedding` is an extra embedding layer used to give positional information to the sequence. We can input temporal information into our sequence since attention is permutation invariant and position agnostic. Positional information helps the model figure out that words are close to each other, which usually implies that they are relevant to each other.\n",
    "\n",
    "<img src=\"https://www.researchgate.net/publication/334288604/figure/fig1/AS:778232232148992@1562556431066/The-Transformer-encoder-structure_W640.jpg\" width=\"200\"/>\n",
    "\n",
    "Source: [Multi-lingual Intent Detection and Slot Filling in a Joint BERT-based Model](https://www.researchgate.net/publication/334288604_Multi-lingual_Intent_Detection_and_Slot_Filling_in_a_Joint_BERT-based_Model).\n",
    "\n",
    "Thus:\n",
    "\n",
    "1. The incomming residual stream ($[d_{batch}, d_{length}, d_{dimensionality}]$) passes by the MultiHead attention layer.\n",
    "2. Each attention head performs self-attention on the input in parallel, adding their results to the output.\n",
    "3. This output is then normalized by a layer norm.\n",
    "4. The MLP layer passes the normalized output.\n",
    "5. The output of the MLP layer is added to the output of the MultiHead attention layer, normalized, and passed through the next layer in the original shape of the residual stream ($[d_{batch}, d_{length}, d_{dimensionality}]$).\n",
    "6. Both the MLP and MultiHead attention layers read and write to the residual stream.\n",
    "\n",
    "We already talked about tokenization and embedding, so let us talk about attention.\n",
    "\n",
    "### `Attention`\n",
    "\n",
    "Attention (we are referring to self-attention) moves information from prior positions in the sequence to the current token. The word \"sat\" should be strongly tied to \"cat\" in our example sentence, and attention carries this information from token-to-token. Attention layers are the only bit of a transformer that moves information between positions. Attention heads act independently and additively, adding their outputs to the stream. This process is linear (addition and multiplication).\n",
    "\n",
    "Attention has three significant components:\n",
    "\n",
    "- Query: The query is a representation of the current token used to score against all the other tokens (_what we have at our current position_).\n",
    "- Key: Key vectors are what we match our query against (_what does the sequence have to offer_).\n",
    "- Value: Value vectors are actual word representations (like the word embeddings before the first attention block), we add the attention scores to each of these values to create a new representation of the current word (_what should you pay attention to at the end_).\n",
    "\n",
    "But the general \"_gist_\" of attention is this:\n",
    "\n",
    "Given our three input matrices: the query matrix ($Q$), the key matrix ($K$), and the value matrix ($V$), we compute a weighted sum of the value matrix ($V$) based on the similarity between the queries ($Q$) and the keys ($K$).\n",
    "\n",
    "The query, key, and value matrices are typically derived from the input data by applying a linear transformation to the input features. The dimensions of the matrices depend on the input size and the number of attention heads the model uses.\n",
    "\n",
    "First, we compute the dot product of the query and key matrices, which produce a matrix of dot products. The dot products are then divided by the square root of the dimensionality of the key matrix to ensure that the attention weights are under the same scale. Finally, the dot products are passed through a softmax function to produce a matrix of attention weights that sum to $1$.\n",
    "\n",
    "The attention weights are then used to weight the value matrix ($V$) and compute a weighted sum of the values, which is then used as the output of the attention head. This process is repeated for each attention head, and the output of all the attention heads is concatenated to produce the final output.\n",
    "\n",
    "$$ Attention(Q, K, V) = softmax(\\frac{QK^T}{\\sqrt{d_k}})V $$\n",
    "\n",
    "Where:\n",
    "- $Q$ is the query matrix.\n",
    "- $K$ is the key matrix.\n",
    "- $V$ is the value matrix.\n",
    "- $d_k$ is the dimensionality of the key matrix.\n",
    "\n",
    "### `Multi-Layer Perceptron`\n",
    "\n",
    "The MLP layers are just a standard neural network, with a singular hidden layer and a nonlinear activation function (usually [`GELU`](https://paperswithcode.com/method/gelu#:~:text=The%20Gaussian%20Error%20Linear%20Unit,x%201%20x%20%3E%200%20)). They are followed by a linear mapping layer that projects the output of the MLP back to the dimensionality of the residual stream (MLPs usually have a higher dimensionality than that of the residual stream) ($linear\\;map \\rightarrow non-linearity \\rightarrow linear\\;map$).\n",
    "\n",
    "The general intuition behind the MultiHead attention/MLP/linear projection sandwich is that after attention has moved relevant information to a single position in the residual stream, MLPs perform computation on the stream. \n",
    "\n",
    "This process is repeated until the last layer, where the residual stream is finally projected into a vector of logits representing the model's confidence distribution for next token predictions over $d_{vocabulary}$.\n",
    "\n",
    "### `LayerNorm`\n",
    "\n",
    "Layernorm is the normalization applied at the start of each layer (MLP, MultiHead attention, and before the unembedding) to convert each input vector to mean zero and variance 1.\n",
    "\n",
    "### `Activations` vs `Parameters`\n",
    "\n",
    "`Activations` are temporary numbers calculated during a forward pass that are input functions. Attention scores and patterns are examples of activations. The residual stream can be thought of as one flowing stream of activations.\n",
    "\n",
    "> Note: the `run_with_cache` method (from `transformer_lens`) allows us to store all information associated with a forward pass in a transformer model, which is quite useful for interpretability research. With it, we can access all matrices that compose the transformer network and monitor the residual stream (the residual flow of information that travels through the forward pass) as it progresses."
   ]
  },
  {
   "cell_type": "code",
   "execution_count": 9,
   "metadata": {},
   "outputs": [
    {
     "name": "stdout",
     "output_type": "stream",
     "text": [
      "hook_embed                     (1, 5, 768)\n",
      "hook_pos_embed                 (1, 5, 768)\n",
      "blocks.0.hook_resid_pre        (1, 5, 768)\n",
      "blocks.0.ln1.hook_scale        (1, 5, 1)\n",
      "blocks.0.ln1.hook_normalized   (1, 5, 768)\n",
      "blocks.0.attn.hook_q           (1, 5, 12, 64)\n",
      "blocks.0.attn.hook_k           (1, 5, 12, 64)\n",
      "blocks.0.attn.hook_v           (1, 5, 12, 64)\n",
      "blocks.0.attn.hook_attn_scores (1, 12, 5, 5)\n",
      "blocks.0.attn.hook_pattern     (1, 12, 5, 5)\n",
      "blocks.0.attn.hook_z           (1, 5, 12, 64)\n",
      "blocks.0.hook_attn_out         (1, 5, 768)\n",
      "blocks.0.hook_resid_mid        (1, 5, 768)\n",
      "blocks.0.ln2.hook_scale        (1, 5, 1)\n",
      "blocks.0.ln2.hook_normalized   (1, 5, 768)\n",
      "blocks.0.mlp.hook_pre          (1, 5, 3072)\n",
      "blocks.0.mlp.hook_post         (1, 5, 3072)\n",
      "blocks.0.hook_mlp_out          (1, 5, 768)\n",
      "blocks.0.hook_resid_post       (1, 5, 768)\n",
      "ln_final.hook_scale            (1, 5, 1)\n",
      "ln_final.hook_normalized       (1, 5, 768)\n"
     ]
    }
   ],
   "source": [
    "# names and shapes of the activation in the first layer of the reference model\n",
    "for activation_name, activation in cache.items():\n",
    "    if \".0.\" in activation_name or \"blocks\" not in activation_name:\n",
    "        print(f\"{activation_name:30} {tuple(activation.shape)}\")"
   ]
  },
  {
   "attachments": {},
   "cell_type": "markdown",
   "metadata": {},
   "source": [
    "`Parameters` are the weights and biases that the model learned during training. These values do not change when the input changes. They are, for example, the weights (connections) in the MLP layers, or the values in the embedding layer."
   ]
  },
  {
   "cell_type": "code",
   "execution_count": 10,
   "metadata": {},
   "outputs": [
    {
     "name": "stdout",
     "output_type": "stream",
     "text": [
      "embed.W_E          (50257, 768)\n",
      "pos_embed.W_pos    (1024, 768)\n",
      "blocks.0.ln1.w     (768,)\n",
      "blocks.0.ln1.b     (768,)\n",
      "blocks.0.ln2.w     (768,)\n",
      "blocks.0.ln2.b     (768,)\n",
      "blocks.0.attn.W_Q  (12, 768, 64)\n",
      "blocks.0.attn.W_K  (12, 768, 64)\n",
      "blocks.0.attn.W_V  (12, 768, 64)\n",
      "blocks.0.attn.W_O  (12, 64, 768)\n",
      "blocks.0.attn.b_Q  (12, 64)\n",
      "blocks.0.attn.b_K  (12, 64)\n",
      "blocks.0.attn.b_V  (12, 64)\n",
      "blocks.0.attn.b_O  (768,)\n",
      "blocks.0.mlp.W_in  (768, 3072)\n",
      "blocks.0.mlp.b_in  (3072,)\n",
      "blocks.0.mlp.W_out (3072, 768)\n",
      "blocks.0.mlp.b_out (768,)\n",
      "ln_final.w         (768,)\n",
      "ln_final.b         (768,)\n",
      "unembed.W_U        (768, 50257)\n",
      "unembed.b_U        (50257,)\n"
     ]
    }
   ],
   "source": [
    "# names and shapes of the parameters in the first layer of the reference model\n",
    "for name, param in gpt2.named_parameters():\n",
    "    if \".0.\" in name or \"blocks\" not in name:\n",
    "        print(f\"{name:18} {tuple(param.shape)}\")"
   ]
  },
  {
   "attachments": {},
   "cell_type": "markdown",
   "metadata": {},
   "source": [
    "One of the central focuses on interpretability in transformer models is the inner workings of how activations change concerning an input, and one of the main activations of interest in transformers is attention maps. \n",
    "\n",
    "> Note: attention maps are a scalar matrix representing the relative importance of tokens assigned by the layer activations at different 2D spatial locations concerning the given attention head.  \n",
    "\n",
    "GPT-2 small has 12 layers, and every layer has 12 attention heads working in parallel and individually. `TransformerLens` gives access, via the run_with_cache method, in a very straightforward way to these activations, so we can pass them through any visualization library to plot our attention maps."
   ]
  },
  {
   "cell_type": "code",
   "execution_count": 11,
   "metadata": {},
   "outputs": [
    {
     "name": "stdout",
     "output_type": "stream",
     "text": [
      "Layer 1 has 12 heads. Each outputs a pattern of shape torch.Size([15, 15])\n",
      "Layer 2 has 12 heads. Each outputs a pattern of shape torch.Size([15, 15])\n",
      "Layer 3 has 12 heads. Each outputs a pattern of shape torch.Size([15, 15])\n",
      "Layer 4 has 12 heads. Each outputs a pattern of shape torch.Size([15, 15])\n",
      "Layer 5 has 12 heads. Each outputs a pattern of shape torch.Size([15, 15])\n",
      "Layer 6 has 12 heads. Each outputs a pattern of shape torch.Size([15, 15])\n",
      "Layer 7 has 12 heads. Each outputs a pattern of shape torch.Size([15, 15])\n",
      "Layer 8 has 12 heads. Each outputs a pattern of shape torch.Size([15, 15])\n",
      "Layer 9 has 12 heads. Each outputs a pattern of shape torch.Size([15, 15])\n",
      "Layer 10 has 12 heads. Each outputs a pattern of shape torch.Size([15, 15])\n",
      "Layer 11 has 12 heads. Each outputs a pattern of shape torch.Size([15, 15])\n",
      "Layer 12 has 12 heads. Each outputs a pattern of shape torch.Size([15, 15])\n"
     ]
    }
   ],
   "source": [
    "sentence_tokens=gpt2.to_str_tokens(sentence, prepend_bos=False)\n",
    "\n",
    "tokens = gpt2.to_tokens(sentence, prepend_bos=False)\n",
    "tokens = tokens.to(device)\n",
    "\n",
    "_, cache = gpt2.run_with_cache(tokens)\n",
    "\n",
    "for i in range(len([x for x in cache.keys() if \"pattern\" in x])):\n",
    "    print(f\"Layer {i+1} has {cache['pattern', i][0].shape[0]} heads. Each outputs a pattern of shape {cache['pattern', i][0].shape[1:]}\")"
   ]
  },
  {
   "attachments": {},
   "cell_type": "markdown",
   "metadata": {},
   "source": [
    "You can do this using `matplotlib`."
   ]
  },
  {
   "cell_type": "code",
   "execution_count": 42,
   "metadata": {},
   "outputs": [
    {
     "data": {
      "image/png": "[encoded data removed]",
      "text/plain": [
       "<Figure size 1600x1600 with 24 Axes>"
      ]
     },
     "metadata": {},
     "output_type": "display_data"
    }
   ],
   "source": [
    "layer = 3 # choose the layer from 0 to 11\n",
    "\n",
    "import matplotlib.pyplot as plt\n",
    "\n",
    "fig, axes = plt.subplots(nrows=4, ncols=3, figsize=(16, 16))\n",
    "\n",
    "for i, ax in enumerate(axes.flat):\n",
    "    im = ax.imshow(cache[\"pattern\", layer][0][i].cpu().numpy(), cmap='viridis')\n",
    "    ax.set_title('Attention Head {}'.format(i+1))\n",
    "\n",
    "    ax.xaxis.set_ticks(range(len(sentence_tokens)))\n",
    "    ax.yaxis.set_ticks(range(len(sentence_tokens)))\n",
    "    ax.set_xticklabels(sentence_tokens)\n",
    "    ax.set_yticklabels(sentence_tokens)\n",
    "    ax.tick_params(axis='x', which='major', pad=5, rotation=45)\n",
    "    ax.tick_params(axis='y', which='major', pad=5)\n",
    "    plt.colorbar(im, ax=ax)\n",
    "\n",
    "fig.suptitle(f'MultiHead Attention {layer + 1}', fontsize=16)\n",
    "fig.tight_layout()\n",
    "fig.subplots_adjust(top=0.94)\n",
    "plt.show()"
   ]
  },
  {
   "attachments": {},
   "cell_type": "markdown",
   "metadata": {},
   "source": [
    "Or something like `Plotly`."
   ]
  },
  {
   "cell_type": "code",
   "execution_count": 62,
   "metadata": {},
   "outputs": [
    {
     "data": {
      "application/vnd.plotly.v1+json": {
       "config": {
        "plotlyServerURL": "https://plot.ly"
       },
       "data": [
        {
         "hovertemplate": "Key: %{x}<br>Query: %{y}<br>Attention Score: %{z}<extra></extra>",
         "showscale": false,
         "texttemplate": "%{z}",
         "type": "heatmap",
         "xaxis": "x",
         "yaxis": "y",
         "z": [
          [
           0.24991253,
           0.028981432,
           0.009531758,
           0.01260268,
           0.04527378,
           0.009593936,
           0.012372253,
           0.02770322,
           0.04961477,
           0.0056860987,
           0.018354855,
           0.010530008,
           0.0071678013,
           0.18721324,
           0.32546166
          ],
          [
           0.16713348,
           0.043929424,
           0.019330805,
           0.013499817,
           0.035028253,
           0.013582961,
           0.04806789,
           0.05596802,
           0.06512582,
           0.016543169,
           0.03673533,
           0.022829872,
           0.019607661,
           0.4426175,
           0
          ],
          [
           0.059205852,
           0.1143097,
           0.032042306,
           0.06400789,
           0.065796375,
           0.06333642,
           0.11188167,
           0.15452825,
           0.061045,
           0.07307004,
           0.09673048,
           0.040535294,
           0.06351077,
           0,
           0
          ],
          [
           0.106551364,
           0.10276556,
           0.049193062,
           0.047915544,
           0.08997324,
           0.07428152,
           0.08060957,
           0.08104185,
           0.10214921,
           0.10642421,
           0.11862876,
           0.04046608,
           0,
           0,
           0
          ],
          [
           0.10567253,
           0.10933296,
           0.052234963,
           0.036176864,
           0.09040241,
           0.06606483,
           0.07258777,
           0.099005975,
           0.14164439,
           0.11386409,
           0.11301317,
           0,
           0,
           0,
           0
          ],
          [
           0.0753055,
           0.11862747,
           0.069101684,
           0.046247974,
           0.10170253,
           0.09266347,
           0.11912872,
           0.11333322,
           0.13158177,
           0.13230766,
           0,
           0,
           0,
           0,
           0
          ],
          [
           0.14120881,
           0.13764,
           0.048758592,
           0.051079545,
           0.12813911,
           0.074666746,
           0.09702248,
           0.119858235,
           0.20162646,
           0,
           0,
           0,
           0,
           0,
           0
          ],
          [
           0.1373992,
           0.12203711,
           0.07113402,
           0.06981584,
           0.1510667,
           0.118323006,
           0.13625343,
           0.19397067,
           0,
           0,
           0,
           0,
           0,
           0,
           0
          ],
          [
           0.16213281,
           0.13861758,
           0.083279625,
           0.08168877,
           0.23149157,
           0.1527586,
           0.15003113,
           0,
           0,
           0,
           0,
           0,
           0,
           0,
           0
          ],
          [
           0.10753172,
           0.1434536,
           0.10315389,
           0.1865231,
           0.28803876,
           0.17129897,
           0,
           0,
           0,
           0,
           0,
           0,
           0,
           0,
           0
          ],
          [
           0.2988897,
           0.19468448,
           0.14301822,
           0.15883373,
           0.20457394,
           0,
           0,
           0,
           0,
           0,
           0,
           0,
           0,
           0,
           0
          ],
          [
           0.26597342,
           0.366465,
           0.19123709,
           0.17632453,
           0,
           0,
           0,
           0,
           0,
           0,
           0,
           0,
           0,
           0,
           0
          ],
          [
           0.61185056,
           0.27722573,
           0.11092369,
           0,
           0,
           0,
           0,
           0,
           0,
           0,
           0,
           0,
           0,
           0,
           0
          ],
          [
           0.8388392,
           0.1611608,
           0,
           0,
           0,
           0,
           0,
           0,
           0,
           0,
           0,
           0,
           0,
           0,
           0
          ],
          [
           1,
           0,
           0,
           0,
           0,
           0,
           0,
           0,
           0,
           0,
           0,
           0,
           0,
           0,
           0
          ]
         ]
        },
        {
         "hovertemplate": "Key: %{x}<br>Query: %{y}<br>Attention Score: %{z}<extra></extra>",
         "showscale": false,
         "texttemplate": "%{z}",
         "type": "heatmap",
         "xaxis": "x2",
         "yaxis": "y2",
         "z": [
          [
           0.8127668,
           0.020115118,
           0.012503643,
           0.015165608,
           0.011206884,
           0.0053553456,
           0.015718667,
           0.022598697,
           0.011592274,
           0.007328223,
           0.008423032,
           0.003930365,
           0.008599965,
           0.03693671,
           0.0077586584
          ],
          [
           0.5771026,
           0.04286766,
           0.025912754,
           0.023813657,
           0.031602867,
           0.006640795,
           0.04074707,
           0.0917689,
           0.03729613,
           0.02101994,
           0.021328315,
           0.020098872,
           0.024721924,
           0.03507852,
           0
          ],
          [
           0.56402135,
           0.022080388,
           0.10851143,
           0.036416177,
           0.016756661,
           0.019673534,
           0.040803503,
           0.026174327,
           0.018991344,
           0.020050267,
           0.06276297,
           0.024572378,
           0.039185684,
           0,
           0
          ],
          [
           0.69771665,
           0.044359818,
           0.043551058,
           0.016347094,
           0.006909203,
           0.007572984,
           0.03780749,
           0.016838295,
           0.011824053,
           0.018244589,
           0.062053505,
           0.036775313,
           0,
           0,
           0
          ],
          [
           0.71333647,
           0.043635793,
           0.047653925,
           0.025709538,
           0.016420582,
           0.008880935,
           0.046507284,
           0.030292924,
           0.016291006,
           0.016939737,
           0.034331765,
           0,
           0,
           0,
           0
          ],
          [
           0.8301925,
           0.026466107,
           0.043103073,
           0.019743795,
           0.011112133,
           0.00615971,
           0.018602835,
           0.017033763,
           0.015678706,
           0.011907381,
           0,
           0,
           0,
           0,
           0
          ],
          [
           0.7050831,
           0.09518108,
           0.014422035,
           0.02138227,
           0.020285215,
           0.015310299,
           0.03242118,
           0.045725994,
           0.05018888,
           0,
           0,
           0,
           0,
           0,
           0
          ],
          [
           0.778424,
           0.047793124,
           0.017752996,
           0.01915732,
           0.025702342,
           0.004650155,
           0.03671052,
           0.06980943,
           0,
           0,
           0,
           0,
           0,
           0,
           0
          ],
          [
           0.7483775,
           0.06541094,
           0.047934204,
           0.02817519,
           0.02931508,
           0.010052911,
           0.07073431,
           0,
           0,
           0,
           0,
           0,
           0,
           0,
           0
          ],
          [
           0.8085119,
           0.032904938,
           0.06515094,
           0.054687172,
           0.028038092,
           0.010706901,
           0,
           0,
           0,
           0,
           0,
           0,
           0,
           0,
           0
          ],
          [
           0.76419216,
           0.117813975,
           0.022427006,
           0.04694088,
           0.048626006,
           0,
           0,
           0,
           0,
           0,
           0,
           0,
           0,
           0,
           0
          ],
          [
           0.80145067,
           0.08167128,
           0.048334062,
           0.06854393,
           0,
           0,
           0,
           0,
           0,
           0,
           0,
           0,
           0,
           0,
           0
          ],
          [
           0.9100502,
           0.04602732,
           0.043922447,
           0,
           0,
           0,
           0,
           0,
           0,
           0,
           0,
           0,
           0,
           0,
           0
          ],
          [
           0.9813611,
           0.01863884,
           0,
           0,
           0,
           0,
           0,
           0,
           0,
           0,
           0,
           0,
           0,
           0,
           0
          ],
          [
           1,
           0,
           0,
           0,
           0,
           0,
           0,
           0,
           0,
           0,
           0,
           0,
           0,
           0,
           0
          ]
         ]
        },
        {
         "hovertemplate": "Key: %{x}<br>Query: %{y}<br>Attention Score: %{z}<extra></extra>",
         "showscale": false,
         "texttemplate": "%{z}",
         "type": "heatmap",
         "xaxis": "x3",
         "yaxis": "y3",
         "z": [
          [
           0.82634425,
           0.042061742,
           0.0066478527,
           0.0035411566,
           0.0023881716,
           0.00080634444,
           0.0075797867,
           0.008913452,
           0.006186645,
           0.011662893,
           0.0026366725,
           0.002504891,
           0.0019065696,
           0.047569808,
           0.029249739
          ],
          [
           0.7043891,
           0.06478218,
           0.009790014,
           0.004858417,
           0.003007568,
           0.0012666016,
           0.013615425,
           0.022032378,
           0.010890451,
           0.019713633,
           0.00281543,
           0.0035926546,
           0.006138139,
           0.13310796,
           0
          ],
          [
           0.86636716,
           0.032006573,
           0.027034022,
           0.004365794,
           0.001489342,
           0.004211895,
           0.031245956,
           0.0082805,
           0.0035710253,
           0.00608813,
           0.0029009522,
           0.00333067,
           0.009108043,
           0,
           0
          ],
          [
           0.85892326,
           0.038688812,
           0.034679998,
           0.0070396913,
           0.0011796,
           0.003935568,
           0.01658224,
           0.0068575004,
           0.0038762528,
           0.0066092177,
           0.0082706595,
           0.013357285,
           0,
           0,
           0
          ],
          [
           0.85038304,
           0.04243386,
           0.039589725,
           0.008624925,
           0.0021733989,
           0.0031962008,
           0.016986495,
           0.012275266,
           0.007739824,
           0.010355745,
           0.00624142,
           0,
           0,
           0,
           0
          ],
          [
           0.8341339,
           0.027534256,
           0.08257672,
           0.008874758,
           0.0014234873,
           0.0035610825,
           0.024614472,
           0.006815538,
           0.002770161,
           0.0076955594,
           0,
           0,
           0,
           0,
           0
          ],
          [
           0.8602194,
           0.08234226,
           0.008839653,
           0.006799265,
           0.004890946,
           0.006032164,
           0.00880155,
           0.010251629,
           0.011823094,
           0,
           0,
           0,
           0,
           0,
           0
          ],
          [
           0.8459146,
           0.05615391,
           0.014118247,
           0.011024422,
           0.004537104,
           0.0021171423,
           0.025649069,
           0.040485464,
           0,
           0,
           0,
           0,
           0,
           0,
           0
          ],
          [
           0.8621421,
           0.056046974,
           0.031189257,
           0.01420711,
           0.00585974,
           0.0049211197,
           0.025633674,
           0,
           0,
           0,
           0,
           0,
           0,
           0,
           0
          ],
          [
           0.9081736,
           0.02844316,
           0.048206545,
           0.00838204,
           0.0021302204,
           0.00466446,
           0,
           0,
           0,
           0,
           0,
           0,
           0,
           0,
           0
          ],
          [
           0.86635923,
           0.08637419,
           0.016104516,
           0.016453946,
           0.014708077,
           0,
           0,
           0,
           0,
           0,
           0,
           0,
           0,
           0,
           0
          ],
          [
           0.8947749,
           0.07163242,
           0.018480556,
           0.015112125,
           0,
           0,
           0,
           0,
           0,
           0,
           0,
           0,
           0,
           0,
           0
          ],
          [
           0.93178344,
           0.031609893,
           0.036606666,
           0,
           0,
           0,
           0,
           0,
           0,
           0,
           0,
           0,
           0,
           0,
           0
          ],
          [
           0.9591285,
           0.040871523,
           0,
           0,
           0,
           0,
           0,
           0,
           0,
           0,
           0,
           0,
           0,
           0,
           0
          ],
          [
           1,
           0,
           0,
           0,
           0,
           0,
           0,
           0,
           0,
           0,
           0,
           0,
           0,
           0,
           0
          ]
         ]
        },
        {
         "hovertemplate": "Key: %{x}<br>Query: %{y}<br>Attention Score: %{z}<extra></extra>",
         "showscale": false,
         "texttemplate": "%{z}",
         "type": "heatmap",
         "xaxis": "x4",
         "yaxis": "y4",
         "z": [
          [
           0.428835,
           0.018666811,
           0.035741907,
           0.013525895,
           0.0042184438,
           0.01842054,
           0.07877786,
           0.06725674,
           0.01290538,
           0.006564949,
           0.015331025,
           0.009615071,
           0.04206661,
           0.19461504,
           0.053458765
          ],
          [
           0.3942422,
           0.033565916,
           0.034146015,
           0.018489348,
           0.0020735338,
           0.026104474,
           0.064607196,
           0.08376365,
           0.00885816,
           0.017662343,
           0.011777432,
           0.0076757437,
           0.038413174,
           0.25862092,
           0
          ],
          [
           0.5773802,
           0.016606797,
           0.07219135,
           0.019908002,
           0.0066874414,
           0.038421333,
           0.07460439,
           0.071490474,
           0.012705678,
           0.036190845,
           0.035925455,
           0.019649647,
           0.018238366,
           0,
           0
          ],
          [
           0.4490976,
           0.062885925,
           0.0922345,
           0.015449329,
           0.0066127367,
           0.061753105,
           0.088963,
           0.039848298,
           0.015912298,
           0.058971938,
           0.08555381,
           0.022717468,
           0,
           0,
           0
          ],
          [
           0.43557408,
           0.06882506,
           0.09332078,
           0.03388628,
           0.0073143113,
           0.0943708,
           0.082655594,
           0.05552364,
           0.014007109,
           0.07225758,
           0.042264882,
           0,
           0,
           0,
           0
          ],
          [
           0.371012,
           0.043573346,
           0.14156552,
           0.025970448,
           0.012367755,
           0.08893925,
           0.17091781,
           0.07307014,
           0.021271033,
           0.0513127,
           0,
           0,
           0,
           0,
           0
          ],
          [
           0.2970103,
           0.066452086,
           0.09040298,
           0.06427125,
           0.030641882,
           0.116384625,
           0.120920114,
           0.1166529,
           0.09726394,
           0,
           0,
           0,
           0,
           0,
           0
          ],
          [
           0.3785855,
           0.099628784,
           0.13779072,
           0.021750817,
           0.003139102,
           0.12113681,
           0.15450422,
           0.08346402,
           0,
           0,
           0,
           0,
           0,
           0,
           0
          ],
          [
           0.4658298,
           0.09291397,
           0.17036745,
           0.018272994,
           0.0042765555,
           0.11891386,
           0.1294254,
           0,
           0,
           0,
           0,
           0,
           0,
           0,
           0
          ],
          [
           0.52117515,
           0.045919687,
           0.27305055,
           0.035273135,
           0.026649691,
           0.09793177,
           0,
           0,
           0,
           0,
           0,
           0,
           0,
           0,
           0
          ],
          [
           0.453289,
           0.10332333,
           0.17157482,
           0.13728358,
           0.13452925,
           0,
           0,
           0,
           0,
           0,
           0,
           0,
           0,
           0,
           0
          ],
          [
           0.71696573,
           0.11001966,
           0.12090699,
           0.052107636,
           0,
           0,
           0,
           0,
           0,
           0,
           0,
           0,
           0,
           0,
           0
          ],
          [
           0.8275499,
           0.0763415,
           0.09610873,
           0,
           0,
           0,
           0,
           0,
           0,
           0,
           0,
           0,
           0,
           0,
           0
          ],
          [
           0.9157258,
           0.08427421,
           0,
           0,
           0,
           0,
           0,
           0,
           0,
           0,
           0,
           0,
           0,
           0,
           0
          ],
          [
           1,
           0,
           0,
           0,
           0,
           0,
           0,
           0,
           0,
           0,
           0,
           0,
           0,
           0,
           0
          ]
         ]
        },
        {
         "hovertemplate": "Key: %{x}<br>Query: %{y}<br>Attention Score: %{z}<extra></extra>",
         "showscale": false,
         "texttemplate": "%{z}",
         "type": "heatmap",
         "xaxis": "x5",
         "yaxis": "y5",
         "z": [
          [
           0.8008735,
           0.023703951,
           0.009239974,
           0.010794329,
           0.005945465,
           0.0018004177,
           0.016093485,
           0.029586492,
           0.017302588,
           0.003932813,
           0.0049653864,
           0.0021260015,
           0.013101603,
           0.033553924,
           0.026980035
          ],
          [
           0.7722701,
           0.020294597,
           0.011474353,
           0.010523326,
           0.011746336,
           0.004205091,
           0.017920973,
           0.039723147,
           0.03030389,
           0.0036798837,
           0.0064014434,
           0.005322911,
           0.012899782,
           0.0532342,
           0
          ],
          [
           0.5758583,
           0.02978988,
           0.039897647,
           0.012702408,
           0.030609481,
           0.015057148,
           0.123794556,
           0.05047347,
           0.040810775,
           0.007960853,
           0.03157318,
           0.010167928,
           0.031304464,
           0,
           0
          ],
          [
           0.5854931,
           0.044942744,
           0.06175585,
           0.022569686,
           0.009438202,
           0.00983503,
           0.09566097,
           0.062358245,
           0.022023465,
           0.010460481,
           0.05253391,
           0.022928314,
           0,
           0,
           0
          ],
          [
           0.66719604,
           0.035012063,
           0.04885187,
           0.01606207,
           0.009503332,
           0.0061272047,
           0.0572552,
           0.07689815,
           0.03144315,
           0.00925551,
           0.042395364,
           0,
           0,
           0,
           0
          ],
          [
           0.6807913,
           0.02453338,
           0.03950811,
           0.012923918,
           0.011241565,
           0.0034567264,
           0.08461482,
           0.0872612,
           0.046870694,
           0.008798222,
           0,
           0,
           0,
           0,
           0
          ],
          [
           0.7205169,
           0.08048269,
           0.024979666,
           0.017476343,
           0.010886605,
           0.0066083106,
           0.033513397,
           0.058907013,
           0.046629008,
           0,
           0,
           0,
           0,
           0,
           0
          ],
          [
           0.84665996,
           0.023635138,
           0.015383601,
           0.010893632,
           0.012258013,
           0.0043532387,
           0.027451914,
           0.059364542,
           0,
           0,
           0,
           0,
           0,
           0,
           0
          ],
          [
           0.76981676,
           0.03663434,
           0.059279982,
           0.019201437,
           0.01578039,
           0.011441976,
           0.08784516,
           0,
           0,
           0,
           0,
           0,
           0,
           0,
           0
          ],
          [
           0.7671135,
           0.025264567,
           0.082415916,
           0.038598996,
           0.06254009,
           0.024066862,
           0,
           0,
           0,
           0,
           0,
           0,
           0,
           0,
           0
          ],
          [
           0.78431284,
           0.054934636,
           0.036707584,
           0.061305173,
           0.06273973,
           0,
           0,
           0,
           0,
           0,
           0,
           0,
           0,
           0,
           0
          ],
          [
           0.9138169,
           0.033242796,
           0.025656983,
           0.027283236,
           0,
           0,
           0,
           0,
           0,
           0,
           0,
           0,
           0,
           0,
           0
          ],
          [
           0.82895255,
           0.044095337,
           0.12695204,
           0,
           0,
           0,
           0,
           0,
           0,
           0,
           0,
           0,
           0,
           0,
           0
          ],
          [
           0.95558035,
           0.04441966,
           0,
           0,
           0,
           0,
           0,
           0,
           0,
           0,
           0,
           0,
           0,
           0,
           0
          ],
          [
           1,
           0,
           0,
           0,
           0,
           0,
           0,
           0,
           0,
           0,
           0,
           0,
           0,
           0,
           0
          ]
         ]
        },
        {
         "hovertemplate": "Key: %{x}<br>Query: %{y}<br>Attention Score: %{z}<extra></extra>",
         "showscale": false,
         "texttemplate": "%{z}",
         "type": "heatmap",
         "xaxis": "x6",
         "yaxis": "y6",
         "z": [
          [
           0.89691055,
           0.0036958999,
           0.0024706167,
           0.0026170188,
           0.0018012129,
           0.003665914,
           0.005454942,
           0.0038131147,
           0.0015948017,
           0.0011136377,
           0.0019053568,
           0.0009650806,
           0.002157783,
           0.04288898,
           0.028944997
          ],
          [
           0.75053406,
           0.005354165,
           0.009183014,
           0.006792179,
           0.0057169865,
           0.0041601183,
           0.024226608,
           0.030997861,
           0.013117462,
           0.0016807028,
           0.0071743876,
           0.004021152,
           0.0038298466,
           0.13321143,
           0
          ],
          [
           0.8607903,
           0.0053488165,
           0.016293045,
           0.018738627,
           0.004859028,
           0.014159707,
           0.02954803,
           0.01492339,
           0.008156446,
           0.0016066233,
           0.010105526,
           0.007246051,
           0.008224382,
           0,
           0
          ],
          [
           0.712839,
           0.009056972,
           0.04868623,
           0.03429084,
           0.008353335,
           0.015105141,
           0.05421271,
           0.024303885,
           0.01533122,
           0.0039046272,
           0.03177949,
           0.04213664,
           0,
           0,
           0
          ],
          [
           0.8122869,
           0.0038967,
           0.031516846,
           0.03215746,
           0.007091317,
           0.01654854,
           0.033961896,
           0.032696113,
           0.012221492,
           0.003193073,
           0.014429642,
           0,
           0,
           0,
           0
          ],
          [
           0.6353865,
           0.0063084057,
           0.13310383,
           0.028231887,
           0.008888498,
           0.01136982,
           0.07003126,
           0.07570481,
           0.025126811,
           0.005848207,
           0,
           0,
           0,
           0,
           0
          ],
          [
           0.91883934,
           0.023000147,
           0.0145947775,
           0.0037676806,
           0.0026519538,
           0.01574868,
           0.007118824,
           0.0065927044,
           0.0076858997,
           0,
           0,
           0,
           0,
           0,
           0
          ],
          [
           0.8873092,
           0.0060361824,
           0.021108862,
           0.008457241,
           0.004018919,
           0.004268719,
           0.029518181,
           0.03928274,
           0,
           0,
           0,
           0,
           0,
           0,
           0
          ],
          [
           0.87010443,
           0.004467485,
           0.032895736,
           0.014615814,
           0.006850937,
           0.014429816,
           0.056635812,
           0,
           0,
           0,
           0,
           0,
           0,
           0,
           0
          ],
          [
           0.9540235,
           0.0023278086,
           0.011687589,
           0.012344891,
           0.0061021196,
           0.013514222,
           0,
           0,
           0,
           0,
           0,
           0,
           0,
           0,
           0
          ],
          [
           0.96008813,
           0.0074309595,
           0.0067573795,
           0.010103065,
           0.0156204,
           0,
           0,
           0,
           0,
           0,
           0,
           0,
           0,
           0,
           0
          ],
          [
           0.9852153,
           0.0032306304,
           0.0035916234,
           0.007962348,
           0,
           0,
           0,
           0,
           0,
           0,
           0,
           0,
           0,
           0,
           0
          ],
          [
           0.98509985,
           0.0030277895,
           0.011872309,
           0,
           0,
           0,
           0,
           0,
           0,
           0,
           0,
           0,
           0,
           0,
           0
          ],
          [
           0.9924602,
           0.0075397654,
           0,
           0,
           0,
           0,
           0,
           0,
           0,
           0,
           0,
           0,
           0,
           0,
           0
          ],
          [
           1,
           0,
           0,
           0,
           0,
           0,
           0,
           0,
           0,
           0,
           0,
           0,
           0,
           0,
           0
          ]
         ]
        },
        {
         "hovertemplate": "Key: %{x}<br>Query: %{y}<br>Attention Score: %{z}<extra></extra>",
         "showscale": false,
         "texttemplate": "%{z}",
         "type": "heatmap",
         "xaxis": "x7",
         "yaxis": "y7",
         "z": [
          [
           0.9209185,
           0.025092416,
           0.0050344327,
           0.0012389416,
           0.0017428484,
           0.0011574121,
           0.0018818985,
           0.0026091791,
           0.0024784433,
           0.0074605956,
           0.001038239,
           0.0019212917,
           0.009278324,
           0.011680417,
           0.0064670737
          ],
          [
           0.84103537,
           0.045266602,
           0.010537544,
           0.003214974,
           0.0027848498,
           0.0023483364,
           0.004939248,
           0.009938201,
           0.010668933,
           0.015399495,
           0.0032565524,
           0.0045496365,
           0.013085089,
           0.032975174,
           0
          ],
          [
           0.8597232,
           0.018855201,
           0.030718368,
           0.01291352,
           0.0039274995,
           0.0046737874,
           0.008458827,
           0.0077165137,
           0.0075023794,
           0.012420688,
           0.011781847,
           0.006615159,
           0.0146929175,
           0,
           0
          ],
          [
           0.8928723,
           0.03417978,
           0.02617726,
           0.0033990333,
           0.000575839,
           0.0037372687,
           0.0059315874,
           0.0037900917,
           0.0030750025,
           0.010452196,
           0.0061071836,
           0.009702458,
           0,
           0,
           0
          ],
          [
           0.9072701,
           0.022620983,
           0.02609784,
           0.0049946154,
           0.00092420046,
           0.0038959563,
           0.007228157,
           0.0071632597,
           0.0044712774,
           0.008945617,
           0.0063881218,
           0,
           0,
           0,
           0
          ],
          [
           0.9196634,
           0.014551729,
           0.03430171,
           0.005791522,
           0.00084595755,
           0.0025618433,
           0.0033995272,
           0.004149632,
           0.003484037,
           0.011250652,
           0,
           0,
           0,
           0,
           0
          ],
          [
           0.91179264,
           0.05619323,
           0.0111225145,
           0.002653226,
           0.0014508277,
           0.006528681,
           0.0024886476,
           0.003004199,
           0.0047660586,
           0,
           0,
           0,
           0,
           0,
           0
          ],
          [
           0.94453084,
           0.026975477,
           0.008199842,
           0.002707972,
           0.0027043805,
           0.0017228872,
           0.0039996547,
           0.009158911,
           0,
           0,
           0,
           0,
           0,
           0,
           0
          ],
          [
           0.9372655,
           0.025369406,
           0.01867202,
           0.003680848,
           0.0024539863,
           0.00405124,
           0.008507064,
           0,
           0,
           0,
           0,
           0,
           0,
           0,
           0
          ],
          [
           0.94078106,
           0.014279856,
           0.025239872,
           0.007985905,
           0.004534575,
           0.007178785,
           0,
           0,
           0,
           0,
           0,
           0,
           0,
           0,
           0
          ],
          [
           0.9270808,
           0.0464367,
           0.011767084,
           0.005823427,
           0.008892111,
           0,
           0,
           0,
           0,
           0,
           0,
           0,
           0,
           0,
           0
          ],
          [
           0.9480246,
           0.037148517,
           0.008741306,
           0.006085518,
           0,
           0,
           0,
           0,
           0,
           0,
           0,
           0,
           0,
           0,
           0
          ],
          [
           0.9599908,
           0.011995337,
           0.028013807,
           0,
           0,
           0,
           0,
           0,
           0,
           0,
           0,
           0,
           0,
           0,
           0
          ],
          [
           0.980142,
           0.019858005,
           0,
           0,
           0,
           0,
           0,
           0,
           0,
           0,
           0,
           0,
           0,
           0,
           0
          ],
          [
           1,
           0,
           0,
           0,
           0,
           0,
           0,
           0,
           0,
           0,
           0,
           0,
           0,
           0,
           0
          ]
         ]
        },
        {
         "hovertemplate": "Key: %{x}<br>Query: %{y}<br>Attention Score: %{z}<extra></extra>",
         "showscale": false,
         "texttemplate": "%{z}",
         "type": "heatmap",
         "xaxis": "x8",
         "yaxis": "y8",
         "z": [
          [
           0.84127253,
           0.01800024,
           0.0056378543,
           0.0031856962,
           0.005672062,
           0.002624858,
           0.0060669724,
           0.01622702,
           0.020626135,
           0.0055912123,
           0.0022975958,
           0.0026291446,
           0.00837233,
           0.040652543,
           0.021143887
          ],
          [
           0.66109544,
           0.01609755,
           0.01540413,
           0.009522202,
           0.014312041,
           0.0046154982,
           0.018715605,
           0.045867916,
           0.054657273,
           0.006285469,
           0.0092154015,
           0.0071739913,
           0.013127638,
           0.12390989,
           0
          ],
          [
           0.75456566,
           0.012133786,
           0.03065592,
           0.009074718,
           0.013400982,
           0.01287046,
           0.065447755,
           0.030647464,
           0.013822539,
           0.0048298845,
           0.027849298,
           0.005086134,
           0.019615462,
           0,
           0
          ],
          [
           0.8724221,
           0.016641414,
           0.020192986,
           0.008522344,
           0.0059800474,
           0.004630841,
           0.01738511,
           0.015125467,
           0.012929621,
           0.0035958425,
           0.010886889,
           0.011687359,
           0,
           0,
           0
          ],
          [
           0.83212024,
           0.015286765,
           0.03498845,
           0.014400266,
           0.012682975,
           0.007583429,
           0.021937123,
           0.024027409,
           0.021450516,
           0.0040241084,
           0.011498797,
           0,
           0,
           0,
           0
          ],
          [
           0.9180065,
           0.013184221,
           0.013704912,
           0.0045918166,
           0.0021226176,
           0.0036670843,
           0.0063878763,
           0.009344628,
           0.024828456,
           0.0041618966,
           0,
           0,
           0,
           0,
           0
          ],
          [
           0.89979017,
           0.04523032,
           0.0068479944,
           0.005076373,
           0.0049385065,
           0.010855082,
           0.004549854,
           0.0063996175,
           0.0163121,
           0,
           0,
           0,
           0,
           0,
           0
          ],
          [
           0.875512,
           0.016178459,
           0.012493166,
           0.0070602004,
           0.013092537,
           0.0037060464,
           0.020004869,
           0.051952716,
           0,
           0,
           0,
           0,
           0,
           0,
           0
          ],
          [
           0.8751763,
           0.013958601,
           0.043596968,
           0.014760349,
           0.013126687,
           0.0076428526,
           0.031738173,
           0,
           0,
           0,
           0,
           0,
           0,
           0,
           0
          ],
          [
           0.9301888,
           0.0067327856,
           0.033552006,
           0.007964832,
           0.011290881,
           0.010270678,
           0,
           0,
           0,
           0,
           0,
           0,
           0,
           0,
           0
          ],
          [
           0.9502745,
           0.022160755,
           0.008116579,
           0.005781548,
           0.013666619,
           0,
           0,
           0,
           0,
           0,
           0,
           0,
           0,
           0,
           0
          ],
          [
           0.9243523,
           0.014346292,
           0.03251579,
           0.028785538,
           0,
           0,
           0,
           0,
           0,
           0,
           0,
           0,
           0,
           0,
           0
          ],
          [
           0.9538055,
           0.008281315,
           0.03791316,
           0,
           0,
           0,
           0,
           0,
           0,
           0,
           0,
           0,
           0,
           0,
           0
          ],
          [
           0.9828478,
           0.017152159,
           0,
           0,
           0,
           0,
           0,
           0,
           0,
           0,
           0,
           0,
           0,
           0,
           0
          ],
          [
           1,
           0,
           0,
           0,
           0,
           0,
           0,
           0,
           0,
           0,
           0,
           0,
           0,
           0,
           0
          ]
         ]
        },
        {
         "hovertemplate": "Key: %{x}<br>Query: %{y}<br>Attention Score: %{z}<extra></extra>",
         "showscale": false,
         "texttemplate": "%{z}",
         "type": "heatmap",
         "xaxis": "x9",
         "yaxis": "y9",
         "z": [
          [
           0.00004557019,
           0.22488166,
           0.058467094,
           0.012357174,
           0.017706143,
           0.0125725595,
           0.042135328,
           0.039454885,
           0.036947504,
           0.024261065,
           0.022524033,
           0.0084507605,
           0.0028362498,
           0.14508308,
           0.35227686
          ],
          [
           0.00017941925,
           0.042962894,
           0.032409735,
           0.008074095,
           0.012293787,
           0.019345615,
           0.112925716,
           0.16079986,
           0.019032456,
           0.03366647,
           0.05196875,
           0.012263332,
           0.003875378,
           0.49020246,
           0
          ],
          [
           0.0000146386365,
           0.07808407,
           0.11882794,
           0.009947793,
           0.010054913,
           0.25163355,
           0.06313701,
           0.093498796,
           0.024399279,
           0.14149997,
           0.097374104,
           0.038982634,
           0.0725453,
           0,
           0
          ],
          [
           0.0002862293,
           0.09229574,
           0.062205307,
           0.008850287,
           0.030038668,
           0.034389563,
           0.03769496,
           0.07794073,
           0.07794039,
           0.20241915,
           0.30964628,
           0.06629268,
           0,
           0,
           0
          ],
          [
           0.00038755834,
           0.11524,
           0.08179979,
           0.0140756,
           0.01658738,
           0.019008787,
           0.081031784,
           0.1941031,
           0.0797023,
           0.20959581,
           0.18846783,
           0,
           0,
           0,
           0
          ],
          [
           0.000024766861,
           0.051738538,
           0.15483905,
           0.029612677,
           0.03798227,
           0.020691447,
           0.13316275,
           0.36928925,
           0.11909551,
           0.083563745,
           0,
           0,
           0,
           0,
           0
          ],
          [
           0.000116868985,
           0.23808543,
           0.07104883,
           0.035246536,
           0.13431484,
           0.012767425,
           0.0850357,
           0.14854068,
           0.27484366,
           0,
           0,
           0,
           0,
           0,
           0
          ],
          [
           0.00005381653,
           0.16738978,
           0.17963937,
           0.041353695,
           0.024582285,
           0.030474728,
           0.17385207,
           0.38265425,
           0,
           0,
           0,
           0,
           0,
           0,
           0
          ],
          [
           0.000246333,
           0.09690316,
           0.33374226,
           0.07544756,
           0.07082086,
           0.1100023,
           0.3128375,
           0,
           0,
           0,
           0,
           0,
           0,
           0,
           0
          ],
          [
           0.000074779884,
           0.06967332,
           0.65900075,
           0.078421146,
           0.03270929,
           0.16012064,
           0,
           0,
           0,
           0,
           0,
           0,
           0,
           0,
           0
          ],
          [
           0.00094059715,
           0.27504236,
           0.24120241,
           0.13524984,
           0.3475648,
           0,
           0,
           0,
           0,
           0,
           0,
           0,
           0,
           0,
           0
          ],
          [
           0.0001475194,
           0.19524837,
           0.66867137,
           0.13593277,
           0,
           0,
           0,
           0,
           0,
           0,
           0,
           0,
           0,
           0,
           0
          ],
          [
           0.0007818101,
           0.4559798,
           0.54323834,
           0,
           0,
           0,
           0,
           0,
           0,
           0,
           0,
           0,
           0,
           0,
           0
          ],
          [
           0.0003823176,
           0.9996177,
           0,
           0,
           0,
           0,
           0,
           0,
           0,
           0,
           0,
           0,
           0,
           0,
           0
          ],
          [
           1,
           0,
           0,
           0,
           0,
           0,
           0,
           0,
           0,
           0,
           0,
           0,
           0,
           0,
           0
          ]
         ]
        },
        {
         "hovertemplate": "Key: %{x}<br>Query: %{y}<br>Attention Score: %{z}<extra></extra>",
         "showscale": false,
         "texttemplate": "%{z}",
         "type": "heatmap",
         "xaxis": "x10",
         "yaxis": "y10",
         "z": [
          [
           0.97566074,
           0.0048685665,
           0.0012000034,
           0.0007520094,
           0.00082072284,
           0.0009884501,
           0.00049634115,
           0.0011928984,
           0.0008778011,
           0.0015157709,
           0.000245126,
           0.0002324213,
           0.0015577078,
           0.005827011,
           0.0037644424
          ],
          [
           0.9187412,
           0.008798098,
           0.0069361334,
           0.0023843832,
           0.0020192065,
           0.003127617,
           0.0034123836,
           0.008379697,
           0.006616936,
           0.004441676,
           0.0010691865,
           0.0014795171,
           0.0090971645,
           0.023496697,
           0
          ],
          [
           0.93660873,
           0.0057071685,
           0.0105995005,
           0.007217221,
           0.0017591795,
           0.0025441386,
           0.0082474165,
           0.005527546,
           0.004116308,
           0.0038395494,
           0.0046952874,
           0.0025510057,
           0.006586789,
           0,
           0
          ],
          [
           0.88738805,
           0.0026840926,
           0.021240978,
           0.011563256,
           0.0029282463,
           0.0058682556,
           0.019404892,
           0.00844962,
           0.008199456,
           0.0025905087,
           0.011376735,
           0.01830587,
           0,
           0,
           0
          ],
          [
           0.9101029,
           0.0016139483,
           0.018120466,
           0.011961885,
           0.0032747583,
           0.0061148982,
           0.014215802,
           0.011788647,
           0.01163607,
           0.0012314806,
           0.00993908,
           0,
           0,
           0,
           0
          ],
          [
           0.87719905,
           0.0019092371,
           0.04540529,
           0.017427811,
           0.0042666057,
           0.0029925406,
           0.017383149,
           0.01650633,
           0.014916428,
           0.0019936129,
           0,
           0,
           0,
           0,
           0
          ],
          [
           0.94614387,
           0.012317449,
           0.009404946,
           0.0019439816,
           0.0016053633,
           0.014291939,
           0.0028959368,
           0.0040393965,
           0.007357102,
           0,
           0,
           0,
           0,
           0,
           0
          ],
          [
           0.9369321,
           0.004978973,
           0.010012076,
           0.00500769,
           0.0040224837,
           0.0014608944,
           0.014152076,
           0.023433736,
           0,
           0,
           0,
           0,
           0,
           0,
           0
          ],
          [
           0.929865,
           0.0025151276,
           0.014068045,
           0.007013027,
           0.0048885504,
           0.002854878,
           0.03879537,
           0,
           0,
           0,
           0,
           0,
           0,
           0,
           0
          ],
          [
           0.9796012,
           0.0021728673,
           0.0064602704,
           0.0060313097,
           0.003054195,
           0.002680237,
           0,
           0,
           0,
           0,
           0,
           0,
           0,
           0,
           0
          ],
          [
           0.9827764,
           0.0063800258,
           0.004291512,
           0.0022595106,
           0.0042924327,
           0,
           0,
           0,
           0,
           0,
           0,
           0,
           0,
           0,
           0
          ],
          [
           0.9844833,
           0.007355859,
           0.0050302846,
           0.0031305405,
           0,
           0,
           0,
           0,
           0,
           0,
           0,
           0,
           0,
           0,
           0
          ],
          [
           0.9890928,
           0.0026970753,
           0.00821015,
           0,
           0,
           0,
           0,
           0,
           0,
           0,
           0,
           0,
           0,
           0,
           0
          ],
          [
           0.99675864,
           0.0032413802,
           0,
           0,
           0,
           0,
           0,
           0,
           0,
           0,
           0,
           0,
           0,
           0,
           0
          ],
          [
           1,
           0,
           0,
           0,
           0,
           0,
           0,
           0,
           0,
           0,
           0,
           0,
           0,
           0,
           0
          ]
         ]
        },
        {
         "hovertemplate": "Key: %{x}<br>Query: %{y}<br>Attention Score: %{z}<extra></extra>",
         "showscale": false,
         "texttemplate": "%{z}",
         "type": "heatmap",
         "xaxis": "x11",
         "yaxis": "y11",
         "z": [
          [
           0.6556491,
           0.0061603817,
           0.00461868,
           0.0050414437,
           0.0024365245,
           0.0013982705,
           0.019171609,
           0.033641204,
           0.0077986,
           0.0020035852,
           0.005445575,
           0.003436283,
           0.0073785894,
           0.19630805,
           0.04951207
          ],
          [
           0.35093054,
           0.034027822,
           0.012557388,
           0.0100815315,
           0.002674073,
           0.0031487823,
           0.050620407,
           0.122087084,
           0.02593467,
           0.030863855,
           0.01255764,
           0.007671258,
           0.011000671,
           0.3258443,
           0
          ],
          [
           0.5653875,
           0.013965654,
           0.07031756,
           0.023444513,
           0.011049224,
           0.032843824,
           0.09342636,
           0.07510392,
           0.02348385,
           0.01562416,
           0.021035085,
           0.007757385,
           0.04656094,
           0,
           0
          ],
          [
           0.31975707,
           0.06432073,
           0.14732398,
           0.013644109,
           0.0032302188,
           0.031763773,
           0.080207944,
           0.04825482,
           0.018284539,
           0.06826107,
           0.14895163,
           0.056000117,
           0,
           0,
           0
          ],
          [
           0.40715078,
           0.037498724,
           0.1485518,
           0.033708174,
           0.005277023,
           0.04054182,
           0.08906434,
           0.090532474,
           0.03366576,
           0.04298329,
           0.071025796,
           0,
           0,
           0,
           0
          ],
          [
           0.30175018,
           0.033497497,
           0.24692681,
           0.031714417,
           0.0091041615,
           0.017751712,
           0.16655116,
           0.114294946,
           0.039223984,
           0.03918515,
           0,
           0,
           0,
           0,
           0
          ],
          [
           0.46317533,
           0.19376858,
           0.036069196,
           0.04137688,
           0.018688777,
           0.035457164,
           0.05001996,
           0.060264256,
           0.101179935,
           0,
           0,
           0,
           0,
           0,
           0
          ],
          [
           0.39321,
           0.056795675,
           0.14380957,
           0.03002585,
           0.004268388,
           0.020781077,
           0.14268997,
           0.20841956,
           0,
           0,
           0,
           0,
           0,
           0,
           0
          ],
          [
           0.25326973,
           0.04141484,
           0.4359079,
           0.056748237,
           0.008569409,
           0.07338895,
           0.13070095,
           0,
           0,
           0,
           0,
           0,
           0,
           0,
           0
          ],
          [
           0.37883133,
           0.0143351415,
           0.44491985,
           0.04252169,
           0.0161575,
           0.10323455,
           0,
           0,
           0,
           0,
           0,
           0,
           0,
           0,
           0
          ],
          [
           0.6460247,
           0.07133317,
           0.079563454,
           0.14012308,
           0.06295557,
           0,
           0,
           0,
           0,
           0,
           0,
           0,
           0,
           0,
           0
          ],
          [
           0.76879054,
           0.07460578,
           0.090307705,
           0.06629595,
           0,
           0,
           0,
           0,
           0,
           0,
           0,
           0,
           0,
           0,
           0
          ],
          [
           0.71154785,
           0.03328571,
           0.25516647,
           0,
           0,
           0,
           0,
           0,
           0,
           0,
           0,
           0,
           0,
           0,
           0
          ],
          [
           0.9156761,
           0.08432386,
           0,
           0,
           0,
           0,
           0,
           0,
           0,
           0,
           0,
           0,
           0,
           0,
           0
          ],
          [
           1,
           0,
           0,
           0,
           0,
           0,
           0,
           0,
           0,
           0,
           0,
           0,
           0,
           0,
           0
          ]
         ]
        },
        {
         "hovertemplate": "Key: %{x}<br>Query: %{y}<br>Attention Score: %{z}<extra></extra>",
         "showscale": false,
         "texttemplate": "%{z}",
         "type": "heatmap",
         "xaxis": "x12",
         "yaxis": "y12",
         "z": [
          [
           0.011801535,
           0.0014523538,
           0.0011610371,
           0.00336345,
           0.00042945417,
           0.0012399879,
           0.0081403535,
           0.0055031716,
           0.0015530959,
           0.000064710075,
           0.0005307327,
           0.0005735552,
           0.005145502,
           0.94592357,
           0.013117476
          ],
          [
           0.60102445,
           0.049258422,
           0.014645103,
           0.017131379,
           0.0022597958,
           0.009043896,
           0.024725907,
           0.050910123,
           0.013264889,
           0.01296166,
           0.013004803,
           0.012980682,
           0.054590378,
           0.12419855,
           0
          ],
          [
           0.32577533,
           0.023146683,
           0.054010343,
           0.040184285,
           0.01165375,
           0.03736058,
           0.23423298,
           0.10397623,
           0.031553328,
           0.027581379,
           0.041184206,
           0.017786399,
           0.051554512,
           0,
           0
          ],
          [
           0.3675125,
           0.070202254,
           0.066186115,
           0.01962192,
           0.0052272948,
           0.040576644,
           0.058930315,
           0.028118577,
           0.025097214,
           0.09809632,
           0.14331955,
           0.077111356,
           0,
           0,
           0
          ],
          [
           0.545876,
           0.05457084,
           0.081481494,
           0.043439187,
           0.010510172,
           0.052086845,
           0.035127547,
           0.034553323,
           0.027636694,
           0.047248144,
           0.067469716,
           0,
           0,
           0,
           0
          ],
          [
           0.40521023,
           0.022271095,
           0.1255697,
           0.12552433,
           0.02474415,
           0.056754105,
           0.099176206,
           0.06276606,
           0.06396052,
           0.014023574,
           0,
           0,
           0,
           0,
           0
          ],
          [
           0.6429787,
           0.023721151,
           0.042919602,
           0.097743995,
           0.022678807,
           0.031597562,
           0.021712499,
           0.032059435,
           0.08458823,
           0,
           0,
           0,
           0,
           0,
           0
          ],
          [
           0.69184715,
           0.073283754,
           0.056327652,
           0.036537036,
           0.003939418,
           0.025310034,
           0.061348278,
           0.0514067,
           0,
           0,
           0,
           0,
           0,
           0,
           0
          ],
          [
           0.6446916,
           0.11812595,
           0.10282162,
           0.036666136,
           0.006826517,
           0.044319894,
           0.046548396,
           0,
           0,
           0,
           0,
           0,
           0,
           0,
           0
          ],
          [
           0.67527467,
           0.047482785,
           0.12663643,
           0.09237347,
           0.03345087,
           0.024781743,
           0,
           0,
           0,
           0,
           0,
           0,
           0,
           0,
           0
          ],
          [
           0.7328252,
           0.031903256,
           0.0118575785,
           0.1848766,
           0.038537357,
           0,
           0,
           0,
           0,
           0,
           0,
           0,
           0,
           0,
           0
          ],
          [
           0.776217,
           0.08947785,
           0.031940617,
           0.10236449,
           0,
           0,
           0,
           0,
           0,
           0,
           0,
           0,
           0,
           0,
           0
          ],
          [
           0.77715564,
           0.07493938,
           0.14790493,
           0,
           0,
           0,
           0,
           0,
           0,
           0,
           0,
           0,
           0,
           0,
           0
          ],
          [
           0.9390166,
           0.060983457,
           0,
           0,
           0,
           0,
           0,
           0,
           0,
           0,
           0,
           0,
           0,
           0,
           0
          ],
          [
           1,
           0,
           0,
           0,
           0,
           0,
           0,
           0,
           0,
           0,
           0,
           0,
           0,
           0,
           0
          ]
         ]
        }
       ],
       "layout": {
        "annotations": [
         {
          "font": {
           "size": 16
          },
          "showarrow": false,
          "text": "Attention Head 1",
          "x": 0.14444444444444446,
          "xanchor": "center",
          "xref": "paper",
          "y": 1,
          "yanchor": "bottom",
          "yref": "paper"
         },
         {
          "font": {
           "size": 16
          },
          "showarrow": false,
          "text": "Attention Head 2",
          "x": 0.5,
          "xanchor": "center",
          "xref": "paper",
          "y": 1,
          "yanchor": "bottom",
          "yref": "paper"
         },
         {
          "font": {
           "size": 16
          },
          "showarrow": false,
          "text": "Attention Head 3",
          "x": 0.8555555555555556,
          "xanchor": "center",
          "xref": "paper",
          "y": 1,
          "yanchor": "bottom",
          "yref": "paper"
         },
         {
          "font": {
           "size": 16
          },
          "showarrow": false,
          "text": "Attention Head 4",
          "x": 0.14444444444444446,
          "xanchor": "center",
          "xref": "paper",
          "y": 0.71875,
          "yanchor": "bottom",
          "yref": "paper"
         },
         {
          "font": {
           "size": 16
          },
          "showarrow": false,
          "text": "Attention Head 5",
          "x": 0.5,
          "xanchor": "center",
          "xref": "paper",
          "y": 0.71875,
          "yanchor": "bottom",
          "yref": "paper"
         },
         {
          "font": {
           "size": 16
          },
          "showarrow": false,
          "text": "Attention Head 6",
          "x": 0.8555555555555556,
          "xanchor": "center",
          "xref": "paper",
          "y": 0.71875,
          "yanchor": "bottom",
          "yref": "paper"
         },
         {
          "font": {
           "size": 16
          },
          "showarrow": false,
          "text": "Attention Head 7",
          "x": 0.14444444444444446,
          "xanchor": "center",
          "xref": "paper",
          "y": 0.4375,
          "yanchor": "bottom",
          "yref": "paper"
         },
         {
          "font": {
           "size": 16
          },
          "showarrow": false,
          "text": "Attention Head 8",
          "x": 0.5,
          "xanchor": "center",
          "xref": "paper",
          "y": 0.4375,
          "yanchor": "bottom",
          "yref": "paper"
         },
         {
          "font": {
           "size": 16
          },
          "showarrow": false,
          "text": "Attention Head 9",
          "x": 0.8555555555555556,
          "xanchor": "center",
          "xref": "paper",
          "y": 0.4375,
          "yanchor": "bottom",
          "yref": "paper"
         },
         {
          "font": {
           "size": 16
          },
          "showarrow": false,
          "text": "Attention Head 10",
          "x": 0.14444444444444446,
          "xanchor": "center",
          "xref": "paper",
          "y": 0.15625,
          "yanchor": "bottom",
          "yref": "paper"
         },
         {
          "font": {
           "size": 16
          },
          "showarrow": false,
          "text": "Attention Head 11",
          "x": 0.5,
          "xanchor": "center",
          "xref": "paper",
          "y": 0.15625,
          "yanchor": "bottom",
          "yref": "paper"
         },
         {
          "font": {
           "size": 16
          },
          "showarrow": false,
          "text": "Attention Head 12",
          "x": 0.8555555555555556,
          "xanchor": "center",
          "xref": "paper",
          "y": 0.15625,
          "yanchor": "bottom",
          "yref": "paper"
         }
        ],
        "font": {
         "size": 10
        },
        "height": 1300,
        "paper_bgcolor": "rgba(0, 0, 0, 0)",
        "plot_bgcolor": "rgba(0, 0, 0, 0)",
        "template": {
         "data": {
          "bar": [
           {
            "error_x": {
             "color": "#f2f5fa"
            },
            "error_y": {
             "color": "#f2f5fa"
            },
            "marker": {
             "line": {
              "color": "rgb(17,17,17)",
              "width": 0.5
             },
             "pattern": {
              "fillmode": "overlay",
              "size": 10,
              "solidity": 0.2
             }
            },
            "type": "bar"
           }
          ],
          "barpolar": [
           {
            "marker": {
             "line": {
              "color": "rgb(17,17,17)",
              "width": 0.5
             },
             "pattern": {
              "fillmode": "overlay",
              "size": 10,
              "solidity": 0.2
             }
            },
            "type": "barpolar"
           }
          ],
          "carpet": [
           {
            "aaxis": {
             "endlinecolor": "#A2B1C6",
             "gridcolor": "#506784",
             "linecolor": "#506784",
             "minorgridcolor": "#506784",
             "startlinecolor": "#A2B1C6"
            },
            "baxis": {
             "endlinecolor": "#A2B1C6",
             "gridcolor": "#506784",
             "linecolor": "#506784",
             "minorgridcolor": "#506784",
             "startlinecolor": "#A2B1C6"
            },
            "type": "carpet"
           }
          ],
          "choropleth": [
           {
            "colorbar": {
             "outlinewidth": 0,
             "ticks": ""
            },
            "type": "choropleth"
           }
          ],
          "contour": [
           {
            "colorbar": {
             "outlinewidth": 0,
             "ticks": ""
            },
            "colorscale": [
             [
              0,
              "#0d0887"
             ],
             [
              0.1111111111111111,
              "#46039f"
             ],
             [
              0.2222222222222222,
              "#7201a8"
             ],
             [
              0.3333333333333333,
              "#9c179e"
             ],
             [
              0.4444444444444444,
              "#bd3786"
             ],
             [
              0.5555555555555556,
              "#d8576b"
             ],
             [
              0.6666666666666666,
              "#ed7953"
             ],
             [
              0.7777777777777778,
              "#fb9f3a"
             ],
             [
              0.8888888888888888,
              "#fdca26"
             ],
             [
              1,
              "#f0f921"
             ]
            ],
            "type": "contour"
           }
          ],
          "contourcarpet": [
           {
            "colorbar": {
             "outlinewidth": 0,
             "ticks": ""
            },
            "type": "contourcarpet"
           }
          ],
          "heatmap": [
           {
            "colorbar": {
             "outlinewidth": 0,
             "ticks": ""
            },
            "colorscale": [
             [
              0,
              "#0d0887"
             ],
             [
              0.1111111111111111,
              "#46039f"
             ],
             [
              0.2222222222222222,
              "#7201a8"
             ],
             [
              0.3333333333333333,
              "#9c179e"
             ],
             [
              0.4444444444444444,
              "#bd3786"
             ],
             [
              0.5555555555555556,
              "#d8576b"
             ],
             [
              0.6666666666666666,
              "#ed7953"
             ],
             [
              0.7777777777777778,
              "#fb9f3a"
             ],
             [
              0.8888888888888888,
              "#fdca26"
             ],
             [
              1,
              "#f0f921"
             ]
            ],
            "type": "heatmap"
           }
          ],
          "heatmapgl": [
           {
            "colorbar": {
             "outlinewidth": 0,
             "ticks": ""
            },
            "colorscale": [
             [
              0,
              "#0d0887"
             ],
             [
              0.1111111111111111,
              "#46039f"
             ],
             [
              0.2222222222222222,
              "#7201a8"
             ],
             [
              0.3333333333333333,
              "#9c179e"
             ],
             [
              0.4444444444444444,
              "#bd3786"
             ],
             [
              0.5555555555555556,
              "#d8576b"
             ],
             [
              0.6666666666666666,
              "#ed7953"
             ],
             [
              0.7777777777777778,
              "#fb9f3a"
             ],
             [
              0.8888888888888888,
              "#fdca26"
             ],
             [
              1,
              "#f0f921"
             ]
            ],
            "type": "heatmapgl"
           }
          ],
          "histogram": [
           {
            "marker": {
             "pattern": {
              "fillmode": "overlay",
              "size": 10,
              "solidity": 0.2
             }
            },
            "type": "histogram"
           }
          ],
          "histogram2d": [
           {
            "colorbar": {
             "outlinewidth": 0,
             "ticks": ""
            },
            "colorscale": [
             [
              0,
              "#0d0887"
             ],
             [
              0.1111111111111111,
              "#46039f"
             ],
             [
              0.2222222222222222,
              "#7201a8"
             ],
             [
              0.3333333333333333,
              "#9c179e"
             ],
             [
              0.4444444444444444,
              "#bd3786"
             ],
             [
              0.5555555555555556,
              "#d8576b"
             ],
             [
              0.6666666666666666,
              "#ed7953"
             ],
             [
              0.7777777777777778,
              "#fb9f3a"
             ],
             [
              0.8888888888888888,
              "#fdca26"
             ],
             [
              1,
              "#f0f921"
             ]
            ],
            "type": "histogram2d"
           }
          ],
          "histogram2dcontour": [
           {
            "colorbar": {
             "outlinewidth": 0,
             "ticks": ""
            },
            "colorscale": [
             [
              0,
              "#0d0887"
             ],
             [
              0.1111111111111111,
              "#46039f"
             ],
             [
              0.2222222222222222,
              "#7201a8"
             ],
             [
              0.3333333333333333,
              "#9c179e"
             ],
             [
              0.4444444444444444,
              "#bd3786"
             ],
             [
              0.5555555555555556,
              "#d8576b"
             ],
             [
              0.6666666666666666,
              "#ed7953"
             ],
             [
              0.7777777777777778,
              "#fb9f3a"
             ],
             [
              0.8888888888888888,
              "#fdca26"
             ],
             [
              1,
              "#f0f921"
             ]
            ],
            "type": "histogram2dcontour"
           }
          ],
          "mesh3d": [
           {
            "colorbar": {
             "outlinewidth": 0,
             "ticks": ""
            },
            "type": "mesh3d"
           }
          ],
          "parcoords": [
           {
            "line": {
             "colorbar": {
              "outlinewidth": 0,
              "ticks": ""
             }
            },
            "type": "parcoords"
           }
          ],
          "pie": [
           {
            "automargin": true,
            "type": "pie"
           }
          ],
          "scatter": [
           {
            "marker": {
             "line": {
              "color": "#283442"
             }
            },
            "type": "scatter"
           }
          ],
          "scatter3d": [
           {
            "line": {
             "colorbar": {
              "outlinewidth": 0,
              "ticks": ""
             }
            },
            "marker": {
             "colorbar": {
              "outlinewidth": 0,
              "ticks": ""
             }
            },
            "type": "scatter3d"
           }
          ],
          "scattercarpet": [
           {
            "marker": {
             "colorbar": {
              "outlinewidth": 0,
              "ticks": ""
             }
            },
            "type": "scattercarpet"
           }
          ],
          "scattergeo": [
           {
            "marker": {
             "colorbar": {
              "outlinewidth": 0,
              "ticks": ""
             }
            },
            "type": "scattergeo"
           }
          ],
          "scattergl": [
           {
            "marker": {
             "line": {
              "color": "#283442"
             }
            },
            "type": "scattergl"
           }
          ],
          "scattermapbox": [
           {
            "marker": {
             "colorbar": {
              "outlinewidth": 0,
              "ticks": ""
             }
            },
            "type": "scattermapbox"
           }
          ],
          "scatterpolar": [
           {
            "marker": {
             "colorbar": {
              "outlinewidth": 0,
              "ticks": ""
             }
            },
            "type": "scatterpolar"
           }
          ],
          "scatterpolargl": [
           {
            "marker": {
             "colorbar": {
              "outlinewidth": 0,
              "ticks": ""
             }
            },
            "type": "scatterpolargl"
           }
          ],
          "scatterternary": [
           {
            "marker": {
             "colorbar": {
              "outlinewidth": 0,
              "ticks": ""
             }
            },
            "type": "scatterternary"
           }
          ],
          "surface": [
           {
            "colorbar": {
             "outlinewidth": 0,
             "ticks": ""
            },
            "colorscale": [
             [
              0,
              "#0d0887"
             ],
             [
              0.1111111111111111,
              "#46039f"
             ],
             [
              0.2222222222222222,
              "#7201a8"
             ],
             [
              0.3333333333333333,
              "#9c179e"
             ],
             [
              0.4444444444444444,
              "#bd3786"
             ],
             [
              0.5555555555555556,
              "#d8576b"
             ],
             [
              0.6666666666666666,
              "#ed7953"
             ],
             [
              0.7777777777777778,
              "#fb9f3a"
             ],
             [
              0.8888888888888888,
              "#fdca26"
             ],
             [
              1,
              "#f0f921"
             ]
            ],
            "type": "surface"
           }
          ],
          "table": [
           {
            "cells": {
             "fill": {
              "color": "#506784"
             },
             "line": {
              "color": "rgb(17,17,17)"
             }
            },
            "header": {
             "fill": {
              "color": "#2a3f5f"
             },
             "line": {
              "color": "rgb(17,17,17)"
             }
            },
            "type": "table"
           }
          ]
         },
         "layout": {
          "annotationdefaults": {
           "arrowcolor": "#f2f5fa",
           "arrowhead": 0,
           "arrowwidth": 1
          },
          "autotypenumbers": "strict",
          "coloraxis": {
           "colorbar": {
            "outlinewidth": 0,
            "ticks": ""
           }
          },
          "colorscale": {
           "diverging": [
            [
             0,
             "#8e0152"
            ],
            [
             0.1,
             "#c51b7d"
            ],
            [
             0.2,
             "#de77ae"
            ],
            [
             0.3,
             "#f1b6da"
            ],
            [
             0.4,
             "#fde0ef"
            ],
            [
             0.5,
             "#f7f7f7"
            ],
            [
             0.6,
             "#e6f5d0"
            ],
            [
             0.7,
             "#b8e186"
            ],
            [
             0.8,
             "#7fbc41"
            ],
            [
             0.9,
             "#4d9221"
            ],
            [
             1,
             "#276419"
            ]
           ],
           "sequential": [
            [
             0,
             "#0d0887"
            ],
            [
             0.1111111111111111,
             "#46039f"
            ],
            [
             0.2222222222222222,
             "#7201a8"
            ],
            [
             0.3333333333333333,
             "#9c179e"
            ],
            [
             0.4444444444444444,
             "#bd3786"
            ],
            [
             0.5555555555555556,
             "#d8576b"
            ],
            [
             0.6666666666666666,
             "#ed7953"
            ],
            [
             0.7777777777777778,
             "#fb9f3a"
            ],
            [
             0.8888888888888888,
             "#fdca26"
            ],
            [
             1,
             "#f0f921"
            ]
           ],
           "sequentialminus": [
            [
             0,
             "#0d0887"
            ],
            [
             0.1111111111111111,
             "#46039f"
            ],
            [
             0.2222222222222222,
             "#7201a8"
            ],
            [
             0.3333333333333333,
             "#9c179e"
            ],
            [
             0.4444444444444444,
             "#bd3786"
            ],
            [
             0.5555555555555556,
             "#d8576b"
            ],
            [
             0.6666666666666666,
             "#ed7953"
            ],
            [
             0.7777777777777778,
             "#fb9f3a"
            ],
            [
             0.8888888888888888,
             "#fdca26"
            ],
            [
             1,
             "#f0f921"
            ]
           ]
          },
          "colorway": [
           "#636efa",
           "#EF553B",
           "#00cc96",
           "#ab63fa",
           "#FFA15A",
           "#19d3f3",
           "#FF6692",
           "#B6E880",
           "#FF97FF",
           "#FECB52"
          ],
          "font": {
           "color": "#f2f5fa"
          },
          "geo": {
           "bgcolor": "rgb(17,17,17)",
           "lakecolor": "rgb(17,17,17)",
           "landcolor": "rgb(17,17,17)",
           "showlakes": true,
           "showland": true,
           "subunitcolor": "#506784"
          },
          "hoverlabel": {
           "align": "left"
          },
          "hovermode": "closest",
          "mapbox": {
           "style": "dark"
          },
          "paper_bgcolor": "rgb(17,17,17)",
          "plot_bgcolor": "rgb(17,17,17)",
          "polar": {
           "angularaxis": {
            "gridcolor": "#506784",
            "linecolor": "#506784",
            "ticks": ""
           },
           "bgcolor": "rgb(17,17,17)",
           "radialaxis": {
            "gridcolor": "#506784",
            "linecolor": "#506784",
            "ticks": ""
           }
          },
          "scene": {
           "xaxis": {
            "backgroundcolor": "rgb(17,17,17)",
            "gridcolor": "#506784",
            "gridwidth": 2,
            "linecolor": "#506784",
            "showbackground": true,
            "ticks": "",
            "zerolinecolor": "#C8D4E3"
           },
           "yaxis": {
            "backgroundcolor": "rgb(17,17,17)",
            "gridcolor": "#506784",
            "gridwidth": 2,
            "linecolor": "#506784",
            "showbackground": true,
            "ticks": "",
            "zerolinecolor": "#C8D4E3"
           },
           "zaxis": {
            "backgroundcolor": "rgb(17,17,17)",
            "gridcolor": "#506784",
            "gridwidth": 2,
            "linecolor": "#506784",
            "showbackground": true,
            "ticks": "",
            "zerolinecolor": "#C8D4E3"
           }
          },
          "shapedefaults": {
           "line": {
            "color": "#f2f5fa"
           }
          },
          "sliderdefaults": {
           "bgcolor": "#C8D4E3",
           "bordercolor": "rgb(17,17,17)",
           "borderwidth": 1,
           "tickwidth": 0
          },
          "ternary": {
           "aaxis": {
            "gridcolor": "#506784",
            "linecolor": "#506784",
            "ticks": ""
           },
           "baxis": {
            "gridcolor": "#506784",
            "linecolor": "#506784",
            "ticks": ""
           },
           "bgcolor": "rgb(17,17,17)",
           "caxis": {
            "gridcolor": "#506784",
            "linecolor": "#506784",
            "ticks": ""
           }
          },
          "title": {
           "x": 0.05
          },
          "updatemenudefaults": {
           "bgcolor": "#506784",
           "borderwidth": 0
          },
          "xaxis": {
           "automargin": true,
           "gridcolor": "#283442",
           "linecolor": "#506784",
           "ticks": "",
           "title": {
            "standoff": 15
           },
           "zerolinecolor": "#283442",
           "zerolinewidth": 2
          },
          "yaxis": {
           "automargin": true,
           "gridcolor": "#283442",
           "linecolor": "#506784",
           "ticks": "",
           "title": {
            "standoff": 15
           },
           "zerolinecolor": "#283442",
           "zerolinewidth": 2
          }
         }
        },
        "title": {
         "text": "<b><i>MultiHead Attention - Layer 12</i></b>"
        },
        "xaxis": {
         "anchor": "y",
         "domain": [
          0,
          0.2888888888888889
         ],
         "tickangle": 45,
         "tickmode": "array",
         "ticktext": [
          "The",
          " cat",
          " sat",
          " on",
          " the",
          " floor",
          ",",
          " and",
          " the",
          " cat",
          " was",
          " still",
          " asleep",
          ".",
          "\n"
         ],
         "tickvals": [
          0,
          1,
          2,
          3,
          4,
          5,
          6,
          7,
          8,
          9,
          10,
          11,
          12,
          13,
          14
         ],
         "title": {
          "text": "Key"
         }
        },
        "xaxis10": {
         "anchor": "y10",
         "domain": [
          0,
          0.2888888888888889
         ],
         "tickangle": 45,
         "tickmode": "array",
         "ticktext": [
          "The",
          " cat",
          " sat",
          " on",
          " the",
          " floor",
          ",",
          " and",
          " the",
          " cat",
          " was",
          " still",
          " asleep",
          ".",
          "\n"
         ],
         "tickvals": [
          0,
          1,
          2,
          3,
          4,
          5,
          6,
          7,
          8,
          9,
          10,
          11,
          12,
          13,
          14
         ],
         "title": {
          "text": "Key"
         }
        },
        "xaxis11": {
         "anchor": "y11",
         "domain": [
          0.35555555555555557,
          0.6444444444444445
         ],
         "tickangle": 45,
         "tickmode": "array",
         "ticktext": [
          "The",
          " cat",
          " sat",
          " on",
          " the",
          " floor",
          ",",
          " and",
          " the",
          " cat",
          " was",
          " still",
          " asleep",
          ".",
          "\n"
         ],
         "tickvals": [
          0,
          1,
          2,
          3,
          4,
          5,
          6,
          7,
          8,
          9,
          10,
          11,
          12,
          13,
          14
         ],
         "title": {
          "text": "Key"
         }
        },
        "xaxis12": {
         "anchor": "y12",
         "domain": [
          0.7111111111111111,
          1
         ],
         "tickangle": 45,
         "tickmode": "array",
         "ticktext": [
          "The",
          " cat",
          " sat",
          " on",
          " the",
          " floor",
          ",",
          " and",
          " the",
          " cat",
          " was",
          " still",
          " asleep",
          ".",
          "\n"
         ],
         "tickvals": [
          0,
          1,
          2,
          3,
          4,
          5,
          6,
          7,
          8,
          9,
          10,
          11,
          12,
          13,
          14
         ],
         "title": {
          "text": "Key"
         }
        },
        "xaxis2": {
         "anchor": "y2",
         "domain": [
          0.35555555555555557,
          0.6444444444444445
         ],
         "tickangle": 45,
         "tickmode": "array",
         "ticktext": [
          "The",
          " cat",
          " sat",
          " on",
          " the",
          " floor",
          ",",
          " and",
          " the",
          " cat",
          " was",
          " still",
          " asleep",
          ".",
          "\n"
         ],
         "tickvals": [
          0,
          1,
          2,
          3,
          4,
          5,
          6,
          7,
          8,
          9,
          10,
          11,
          12,
          13,
          14
         ],
         "title": {
          "text": "Key"
         }
        },
        "xaxis3": {
         "anchor": "y3",
         "domain": [
          0.7111111111111111,
          1
         ],
         "tickangle": 45,
         "tickmode": "array",
         "ticktext": [
          "The",
          " cat",
          " sat",
          " on",
          " the",
          " floor",
          ",",
          " and",
          " the",
          " cat",
          " was",
          " still",
          " asleep",
          ".",
          "\n"
         ],
         "tickvals": [
          0,
          1,
          2,
          3,
          4,
          5,
          6,
          7,
          8,
          9,
          10,
          11,
          12,
          13,
          14
         ],
         "title": {
          "text": "Key"
         }
        },
        "xaxis4": {
         "anchor": "y4",
         "domain": [
          0,
          0.2888888888888889
         ],
         "tickangle": 45,
         "tickmode": "array",
         "ticktext": [
          "The",
          " cat",
          " sat",
          " on",
          " the",
          " floor",
          ",",
          " and",
          " the",
          " cat",
          " was",
          " still",
          " asleep",
          ".",
          "\n"
         ],
         "tickvals": [
          0,
          1,
          2,
          3,
          4,
          5,
          6,
          7,
          8,
          9,
          10,
          11,
          12,
          13,
          14
         ],
         "title": {
          "text": "Key"
         }
        },
        "xaxis5": {
         "anchor": "y5",
         "domain": [
          0.35555555555555557,
          0.6444444444444445
         ],
         "tickangle": 45,
         "tickmode": "array",
         "ticktext": [
          "The",
          " cat",
          " sat",
          " on",
          " the",
          " floor",
          ",",
          " and",
          " the",
          " cat",
          " was",
          " still",
          " asleep",
          ".",
          "\n"
         ],
         "tickvals": [
          0,
          1,
          2,
          3,
          4,
          5,
          6,
          7,
          8,
          9,
          10,
          11,
          12,
          13,
          14
         ],
         "title": {
          "text": "Key"
         }
        },
        "xaxis6": {
         "anchor": "y6",
         "domain": [
          0.7111111111111111,
          1
         ],
         "tickangle": 45,
         "tickmode": "array",
         "ticktext": [
          "The",
          " cat",
          " sat",
          " on",
          " the",
          " floor",
          ",",
          " and",
          " the",
          " cat",
          " was",
          " still",
          " asleep",
          ".",
          "\n"
         ],
         "tickvals": [
          0,
          1,
          2,
          3,
          4,
          5,
          6,
          7,
          8,
          9,
          10,
          11,
          12,
          13,
          14
         ],
         "title": {
          "text": "Key"
         }
        },
        "xaxis7": {
         "anchor": "y7",
         "domain": [
          0,
          0.2888888888888889
         ],
         "tickangle": 45,
         "tickmode": "array",
         "ticktext": [
          "The",
          " cat",
          " sat",
          " on",
          " the",
          " floor",
          ",",
          " and",
          " the",
          " cat",
          " was",
          " still",
          " asleep",
          ".",
          "\n"
         ],
         "tickvals": [
          0,
          1,
          2,
          3,
          4,
          5,
          6,
          7,
          8,
          9,
          10,
          11,
          12,
          13,
          14
         ],
         "title": {
          "text": "Key"
         }
        },
        "xaxis8": {
         "anchor": "y8",
         "domain": [
          0.35555555555555557,
          0.6444444444444445
         ],
         "tickangle": 45,
         "tickmode": "array",
         "ticktext": [
          "The",
          " cat",
          " sat",
          " on",
          " the",
          " floor",
          ",",
          " and",
          " the",
          " cat",
          " was",
          " still",
          " asleep",
          ".",
          "\n"
         ],
         "tickvals": [
          0,
          1,
          2,
          3,
          4,
          5,
          6,
          7,
          8,
          9,
          10,
          11,
          12,
          13,
          14
         ],
         "title": {
          "text": "Key"
         }
        },
        "xaxis9": {
         "anchor": "y9",
         "domain": [
          0.7111111111111111,
          1
         ],
         "tickangle": 45,
         "tickmode": "array",
         "ticktext": [
          "The",
          " cat",
          " sat",
          " on",
          " the",
          " floor",
          ",",
          " and",
          " the",
          " cat",
          " was",
          " still",
          " asleep",
          ".",
          "\n"
         ],
         "tickvals": [
          0,
          1,
          2,
          3,
          4,
          5,
          6,
          7,
          8,
          9,
          10,
          11,
          12,
          13,
          14
         ],
         "title": {
          "text": "Key"
         }
        },
        "yaxis": {
         "anchor": "x",
         "domain": [
          0.84375,
          1
         ],
         "tickmode": "array",
         "ticktext": [
          "\n",
          ".",
          " asleep",
          " still",
          " was",
          " cat",
          " the",
          " and",
          ",",
          " floor",
          " the",
          " on",
          " sat",
          " cat",
          "The"
         ],
         "tickvals": [
          0,
          1,
          2,
          3,
          4,
          5,
          6,
          7,
          8,
          9,
          10,
          11,
          12,
          13,
          14
         ],
         "title": {
          "text": "Query"
         }
        },
        "yaxis10": {
         "anchor": "x10",
         "domain": [
          0,
          0.15625
         ],
         "tickmode": "array",
         "ticktext": [
          "\n",
          ".",
          " asleep",
          " still",
          " was",
          " cat",
          " the",
          " and",
          ",",
          " floor",
          " the",
          " on",
          " sat",
          " cat",
          "The"
         ],
         "tickvals": [
          0,
          1,
          2,
          3,
          4,
          5,
          6,
          7,
          8,
          9,
          10,
          11,
          12,
          13,
          14
         ],
         "title": {
          "text": "Query"
         }
        },
        "yaxis11": {
         "anchor": "x11",
         "domain": [
          0,
          0.15625
         ],
         "tickmode": "array",
         "ticktext": [
          "\n",
          ".",
          " asleep",
          " still",
          " was",
          " cat",
          " the",
          " and",
          ",",
          " floor",
          " the",
          " on",
          " sat",
          " cat",
          "The"
         ],
         "tickvals": [
          0,
          1,
          2,
          3,
          4,
          5,
          6,
          7,
          8,
          9,
          10,
          11,
          12,
          13,
          14
         ],
         "title": {
          "text": "Query"
         }
        },
        "yaxis12": {
         "anchor": "x12",
         "domain": [
          0,
          0.15625
         ],
         "tickmode": "array",
         "ticktext": [
          "\n",
          ".",
          " asleep",
          " still",
          " was",
          " cat",
          " the",
          " and",
          ",",
          " floor",
          " the",
          " on",
          " sat",
          " cat",
          "The"
         ],
         "tickvals": [
          0,
          1,
          2,
          3,
          4,
          5,
          6,
          7,
          8,
          9,
          10,
          11,
          12,
          13,
          14
         ],
         "title": {
          "text": "Query"
         }
        },
        "yaxis2": {
         "anchor": "x2",
         "domain": [
          0.84375,
          1
         ],
         "tickmode": "array",
         "ticktext": [
          "\n",
          ".",
          " asleep",
          " still",
          " was",
          " cat",
          " the",
          " and",
          ",",
          " floor",
          " the",
          " on",
          " sat",
          " cat",
          "The"
         ],
         "tickvals": [
          0,
          1,
          2,
          3,
          4,
          5,
          6,
          7,
          8,
          9,
          10,
          11,
          12,
          13,
          14
         ],
         "title": {
          "text": "Query"
         }
        },
        "yaxis3": {
         "anchor": "x3",
         "domain": [
          0.84375,
          1
         ],
         "tickmode": "array",
         "ticktext": [
          "\n",
          ".",
          " asleep",
          " still",
          " was",
          " cat",
          " the",
          " and",
          ",",
          " floor",
          " the",
          " on",
          " sat",
          " cat",
          "The"
         ],
         "tickvals": [
          0,
          1,
          2,
          3,
          4,
          5,
          6,
          7,
          8,
          9,
          10,
          11,
          12,
          13,
          14
         ],
         "title": {
          "text": "Query"
         }
        },
        "yaxis4": {
         "anchor": "x4",
         "domain": [
          0.5625,
          0.71875
         ],
         "tickmode": "array",
         "ticktext": [
          "\n",
          ".",
          " asleep",
          " still",
          " was",
          " cat",
          " the",
          " and",
          ",",
          " floor",
          " the",
          " on",
          " sat",
          " cat",
          "The"
         ],
         "tickvals": [
          0,
          1,
          2,
          3,
          4,
          5,
          6,
          7,
          8,
          9,
          10,
          11,
          12,
          13,
          14
         ],
         "title": {
          "text": "Query"
         }
        },
        "yaxis5": {
         "anchor": "x5",
         "domain": [
          0.5625,
          0.71875
         ],
         "tickmode": "array",
         "ticktext": [
          "\n",
          ".",
          " asleep",
          " still",
          " was",
          " cat",
          " the",
          " and",
          ",",
          " floor",
          " the",
          " on",
          " sat",
          " cat",
          "The"
         ],
         "tickvals": [
          0,
          1,
          2,
          3,
          4,
          5,
          6,
          7,
          8,
          9,
          10,
          11,
          12,
          13,
          14
         ],
         "title": {
          "text": "Query"
         }
        },
        "yaxis6": {
         "anchor": "x6",
         "domain": [
          0.5625,
          0.71875
         ],
         "tickmode": "array",
         "ticktext": [
          "\n",
          ".",
          " asleep",
          " still",
          " was",
          " cat",
          " the",
          " and",
          ",",
          " floor",
          " the",
          " on",
          " sat",
          " cat",
          "The"
         ],
         "tickvals": [
          0,
          1,
          2,
          3,
          4,
          5,
          6,
          7,
          8,
          9,
          10,
          11,
          12,
          13,
          14
         ],
         "title": {
          "text": "Query"
         }
        },
        "yaxis7": {
         "anchor": "x7",
         "domain": [
          0.28125,
          0.4375
         ],
         "tickmode": "array",
         "ticktext": [
          "\n",
          ".",
          " asleep",
          " still",
          " was",
          " cat",
          " the",
          " and",
          ",",
          " floor",
          " the",
          " on",
          " sat",
          " cat",
          "The"
         ],
         "tickvals": [
          0,
          1,
          2,
          3,
          4,
          5,
          6,
          7,
          8,
          9,
          10,
          11,
          12,
          13,
          14
         ],
         "title": {
          "text": "Query"
         }
        },
        "yaxis8": {
         "anchor": "x8",
         "domain": [
          0.28125,
          0.4375
         ],
         "tickmode": "array",
         "ticktext": [
          "\n",
          ".",
          " asleep",
          " still",
          " was",
          " cat",
          " the",
          " and",
          ",",
          " floor",
          " the",
          " on",
          " sat",
          " cat",
          "The"
         ],
         "tickvals": [
          0,
          1,
          2,
          3,
          4,
          5,
          6,
          7,
          8,
          9,
          10,
          11,
          12,
          13,
          14
         ],
         "title": {
          "text": "Query"
         }
        },
        "yaxis9": {
         "anchor": "x9",
         "domain": [
          0.28125,
          0.4375
         ],
         "tickmode": "array",
         "ticktext": [
          "\n",
          ".",
          " asleep",
          " still",
          " was",
          " cat",
          " the",
          " and",
          ",",
          " floor",
          " the",
          " on",
          " sat",
          " cat",
          "The"
         ],
         "tickvals": [
          0,
          1,
          2,
          3,
          4,
          5,
          6,
          7,
          8,
          9,
          10,
          11,
          12,
          13,
          14
         ],
         "title": {
          "text": "Query"
         }
        }
       }
      }
     },
     "metadata": {},
     "output_type": "display_data"
    }
   ],
   "source": [
    "import plotly.graph_objs as go\n",
    "from plotly.subplots import make_subplots\n",
    "\n",
    "\n",
    "fig = go.Figure()\n",
    "specs = [[{'type': 'heatmap'}]*3]*4\n",
    "subplot_titles = [f\"Attention Head {i+1}\" for i in range(12)]\n",
    "fig = make_subplots(rows=4, cols=3, specs=specs, subplot_titles=subplot_titles)\n",
    "\n",
    "for i in range(1, 13):\n",
    "    row = (i - 1) // 3 + 1\n",
    "    col = i % 3 if i % 3 != 0 else 3\n",
    "    fig.add_trace(\n",
    "        # plotly go.Heatmap requires the matrix to be flipped\n",
    "        go.Heatmap(z=cache[\"pattern\", layer][0][i-1].cpu().numpy()[::-1, :], \n",
    "            texttemplate=\"%{z}\",\n",
    "            showscale=False,\n",
    "            hovertemplate='Key: %{x}<br>Query: %{y}<br>Attention Score: %{z}<extra></extra>'), \n",
    "            row=row, col=col)\n",
    "\n",
    "    fig.update_xaxes(title_text=\"Key\", ticktext=sentence_tokens,row=row, col=col, tickmode='array', \n",
    "                    tickvals=list(range(len(sentence_tokens))), tickangle=45)\n",
    "    fig.update_yaxes(title_text=\"Query\", ticktext=sentence_tokens[::-1],row=row, col=col, tickmode='array', \n",
    "                    tickvals=list(range(len(sentence_tokens))))\n",
    "    fig.update_layout(template=\"plotly_dark\",\n",
    "                        title_text=f\"<b><i>MultiHead Attention - Layer {layer + 1}</i></b>\", \n",
    "                        font=dict(size=10), \n",
    "                        height=1300,\n",
    "                        paper_bgcolor='rgba(0, 0, 0, 0)',\n",
    "                        plot_bgcolor='rgba(0, 0, 0, 0)',\n",
    "                        )\n",
    "\n",
    "fig.show()"
   ]
  },
  {
   "attachments": {},
   "cell_type": "markdown",
   "metadata": {},
   "source": [
    "These attention maps represent the relative importance of different tokens in the input sequence with respect to each other. A higher attention score between two tokens indicates that they are more relevant to each other. All attention head contributes to the final MultiHead Attention output. This output will be written to the residual stream together with the output of the MLP layer.\n",
    "\n",
    "One way to interpret these maps is by looking at how the queries are scored against each key. For example, at layer 12, head 11, the query \"_floor_\" focuses most on \"_sat_.\" This pattern emerges again in heads 9 and 4, where most of the attention associated with the query \"_floor_\" is again paid to the value \"_sat_.\" These heads independently agree that \"_sat_\" and \"_floor_\" are correlated in this context. These maps also help us visualize what `causal masking` is, wich is zeroing all the right-upper side of our attention matrix (queries cannot look to the keys in the future). \n",
    "\n",
    "Attention represents a vital part of transformer and GPT-style architectures, and understanding how attention heads coordinate, even in different layers, to help enrich the context of the residual stream is an open problem in interpretability research.\n",
    "\n",
    "Another point of interest is what happens inside the MLP layers, but this we will leave for another tutorial.\n",
    "\n",
    "---\n",
    "\n",
    "Return to the [Castle](https://github.com/Nkluge-correa/TeenyTinyCastle)"
   ]
  }
 ],
 "metadata": {
  "kernelspec": {
   "display_name": "Python 3",
   "language": "python",
   "name": "python3"
  },
  "language_info": {
   "codemirror_mode": {
    "name": "ipython",
    "version": 3
   },
   "file_extension": ".py",
   "mimetype": "text/x-python",
   "name": "python",
   "nbconvert_exporter": "python",
   "pygments_lexer": "ipython3",
   "version": "3.9.13"
  },
  "orig_nbformat": 4
 },
 "nbformat": 4,
 "nbformat_minor": 2
}
