{
 "cells": [
  {
   "attachments": {},
   "cell_type": "markdown",
   "metadata": {},
   "source": [
    "# Accountability through _Model Reporting_\n",
    "\n",
    "Return to the [castle](https://github.com/Nkluge-correa/teeny-tiny_castle).\n",
    "\n",
    "**In this notebook, we will show how to develop a document to promote accountability and transparency within the AI community: _Model Cards_. Model Cards are short documents that accompany machine learning models. You can think of model cards as small `readme.md` files, but created for ML models. This methodology was first proposed by [Mitchell et al](https://arxiv.org/abs/1810.03993), in _[Model Cards for Model Reporting](https://arxiv.org/abs/1810.03993)_**\n",
    "\n",
    "**Citing the authors:**\n",
    "\n",
    "> _We hope this work encourages those releasing trained machine learning models to accompany model releases with similar detailed evaluation numbers and other relevant documentation._\n",
    "\n",
    "![readme](https://cdn2.iconfinder.com/data/icons/text-file-extension-field-outline-1/64/1_README-512.png)\n",
    "\n",
    "**We first impute all relevant information from the model in question (in this example we are using the model developed on one of the [notebooks](https://github.com/Nkluge-correa/teeny-tiny_castle/blob/bbe9c0a77499fa68de7c6d53bf5ef7e0b43a25e0/ML%20Fairness/fair_metrics_Credit_card_approval.ipynb) used in our directory on [Machine Learning Fairness](https://github.com/Nkluge-correa/teeny-tiny_castle/tree/master/ML%20Fairness)) in a form/CSV file. Then we simply use the information from the form to fill a `model_template.md` card, based on the work of [Mitchell et al](https://arxiv.org/search/cs?searchtype=author&query=Mitchell%2C+M).**\n",
    "\n",
    "\n"
   ]
  },
  {
   "cell_type": "code",
   "execution_count": 16,
   "metadata": {},
   "outputs": [],
   "source": [
    "import pandas as pd\n",
    "\n",
    "df = pd.read_csv(r'model_card_form.csv', header=None).iloc[1: , :]\n",
    "\n",
    "# Model Details\n",
    "\n",
    "model_details_responsible = df[2][1].replace(\"\\n\", \" \")\n",
    "model_details_nature = df[3][1].replace(\"\\n\", \" \")\n",
    "model_details_motivation = df[4][1].replace(\"\\n\", \" \")\n",
    "model_details_dataset = df[5][1].replace(\"\\n\", \" \")\n",
    "model_details_dataset_2 = df[6][1].replace(\"\\n\", \" \")\n",
    "model_details_features = df[7][1].replace(\"\\n\", \" \")\n",
    "model_details_open_source = df[8][1]\n",
    "model_details_website = df[9][1]\n",
    "model_details_publication = df[10][1]\n",
    "model_details_cite = df[11][1]\n",
    "model_details_license = df[12][1]\n",
    "model_details_contact = df[13][1]\n",
    "\n",
    "# Intended Use\n",
    "\n",
    "intendet_use = df[14][1].replace(\"\\n\", \" \")\n",
    "intendet_use_public = df[15][1].replace(\"\\n\", \" \")\n",
    "\n",
    "# Factors\n",
    "\n",
    "factores_features = df[16][1].replace(\"\\n\", \" \")\n",
    "factores_data_bias = df[17][1].replace(\"\\n\", \" \")\n",
    "\n",
    "# Metrics\n",
    "\n",
    "metrics_performance = df[18][1].replace(\"\\n\", \" \")\n",
    "metrics_performance_variation = df[19][1].replace(\"\\n\", \" \")\n",
    "\n",
    "# Equity Statement\n",
    "\n",
    "fairness_statement = df[20][1].replace(\"\\n\", \" \")\n",
    "\n",
    "# Recommendations\n",
    "\n",
    "recommendations_1 = df[21][1].replace(\"\\n\", \" \")\n",
    "recommendations_2 = df[22][1].replace(\"\\n\", \" \")"
   ]
  },
  {
   "attachments": {},
   "cell_type": "markdown",
   "metadata": {},
   "source": [
    "**Now, let's insert the information we extracted from the report into a premade `markdown` template.**\n",
    "\n",
    "- **Note:** _In this example, the processed text (and generated letter) are in Portuguese (pt-br) only._\n",
    "\n",
    "**Let's summarize the content of our sample letter. The template provided in this notebook contains six sections: MODEL DETAILS, INTENDED USE, FACTORS, METRICS, EQUITY STATEMENT, DETAILS, AND RECOMMENDATIONS. Let's now explore the contents of each of these sections:**\n",
    "\n",
    "- **MODEL DETAILS:** this section is where we find essential information to ensure an accountability bond. Here we find information about the people responsible for developing the model (organization, engineer, etc.), its nature (CNN, LM, Logistic Classifier, Expert System, etc.), the motivation that led to the creation of the model, the license, the database used, a contact link, among other pertinent information.\n",
    "- **INTENDED USE:** in this section, developers specify the scope of use of their model, i.e., to which instances the model should be applied, and vice versa.\n",
    "- **FACTORS:** in this section, important factors are explained (relative to the database or model itself) that may interfere with the performance of the model in question.\n",
    "- **METRICS:** section where the adopted performance metrics are explained, along with the performance results of the model under testing circumstances.\n",
    "- **FAIRNESS STATEMENT:** a statement about the performance of the model when evaluated by different _fairness metrics_, to make transparent any discriminatory biases that may have been detected by the developers.\n",
    "- **RECOMMENDATIONS**: final notes, where developers can make recommendations to users and other stakeholders who can come to interact with the model during its life cycle.\n"
   ]
  },
  {
   "cell_type": "code",
   "execution_count": 18,
   "metadata": {},
   "outputs": [
    {
     "data": {
      "text/html": [
       "<a href='model_card.md' target='_blank'>model_card.md</a>"
      ],
      "text/plain": [
       "<IPython.core.display.HTML object>"
      ]
     },
     "metadata": {},
     "output_type": "display_data"
    }
   ],
   "source": [
    "\n",
    "with open('model_card.md', 'w+', encoding='utf8') as fp:\n",
    "    fp.write(f'''# Carta Modelo RAIES\n",
    "\n",
    "**Cartas de modelo são pequenos documentos que acompanham modelos desenvolvidos por aprendizagem de maquina. Tais cartas fornecem detalhes e características de desempenho de um modelo em questão, ajudando a visibilizar condutas de transparência e responsabilização no desenvolvimento de sistemas autônomos/inteligentes.**\n",
    "\n",
    "**Este formulário foi criado para alimentar um \"_template_\" padrão de carta modelo, desenvolvido pela Rede de Inteligência Artificial Ética e Segura ([RAIES](https://www.raies.org/)).**\n",
    "\n",
    "**Para mais informações, contate-nos em [raies@raies.org](mailto:raies@raies.org).**\n",
    "\n",
    "## DETALHES DO MODELO\n",
    "\n",
    "1. {model_details_responsible}\n",
    "\n",
    "2. {model_details_nature}\n",
    "\n",
    "3. {model_details_motivation}\n",
    "\n",
    "4. {model_details_dataset}\n",
    "\n",
    "5. {model_details_dataset_2}\n",
    "\n",
    "6. {model_details_features}\n",
    "\n",
    "7. {model_details_open_source}\n",
    "\n",
    "8. Disponível em: [{model_details_website}](mailto:{model_details_website}).\n",
    "\n",
    "9. Publicação: {model_details_publication if model_details_publication != 'nan' else 'No publication link.'}.\n",
    "\n",
    "10. Licença: {model_details_license}.\n",
    "\n",
    "Contato: [{model_details_contact}](mailto:{model_details_contact}).\n",
    "\n",
    "### Citar como\n",
    "\n",
    "````MarkDown\n",
    "\n",
    "{model_details_cite}\n",
    "\n",
    "````\n",
    "\n",
    "## USO PRETENDIDO\n",
    "\n",
    "1. {intendet_use}\n",
    "\n",
    "2. {intendet_use_public}\n",
    "\n",
    "## FATORES\n",
    "\n",
    "1. {factores_features}\n",
    "\n",
    "2. {factores_data_bias}\n",
    "\n",
    "## MÉTRICAS\n",
    "  \n",
    "1. {metrics_performance}\n",
    "\n",
    "2. {metrics_performance_variation}\n",
    "\n",
    "## DECLARAÇÃO DE EQUIDADE\n",
    "  \n",
    "1. {fairness_statement}\n",
    "\n",
    "## RECOMENDAÇÕES\n",
    "\n",
    "1. {recommendations_1}\n",
    "2. {recommendations_2}\n",
    "''')\n",
    "    fp.close()       \n",
    "\n",
    "from IPython.display import display, HTML\n",
    "\n",
    "display(\n",
    "    HTML(f\"<a href='model_card.md' target='_blank'>model_card.md</a>\"))\n"
   ]
  },
  {
   "cell_type": "markdown",
   "metadata": {},
   "source": [
    "**Model Cards, as well as carbon emission reports, are useful tools for introducing responsible, transparent, and sustainable behavior within the AI community.** 🙃"
   ]
  },
  {
   "attachments": {},
   "cell_type": "markdown",
   "metadata": {},
   "source": [
    "----\n",
    "\n",
    "Return to the [castle](https://github.com/Nkluge-correa/teeny-tiny_castle).\n"
   ]
  }
 ],
 "metadata": {
  "kernelspec": {
   "display_name": "Python 3",
   "language": "python",
   "name": "python3"
  },
  "language_info": {
   "codemirror_mode": {
    "name": "ipython",
    "version": 3
   },
   "file_extension": ".py",
   "mimetype": "text/x-python",
   "name": "python",
   "nbconvert_exporter": "python",
   "pygments_lexer": "ipython3",
   "version": "3.9.13 (tags/v3.9.13:6de2ca5, May 17 2022, 16:36:42) [MSC v.1929 64 bit (AMD64)]"
  },
  "orig_nbformat": 4,
  "vscode": {
   "interpreter": {
    "hash": "aca09746cf57686f00a55ae76e987247ecfb5dd0b3b2e2474d8dbbf0c5e3377e"
   }
  }
 },
 "nbformat": 4,
 "nbformat_minor": 2
}
