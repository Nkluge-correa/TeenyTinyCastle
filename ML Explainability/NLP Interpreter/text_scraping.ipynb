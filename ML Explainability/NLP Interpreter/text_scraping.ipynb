{
 "cells": [
  {
   "attachments": {},
   "cell_type": "markdown",
   "metadata": {},
   "source": [
    "# Web scraping with `google_play_scraper`\n",
    "\n",
    "Return to the [castle](https://github.com/Nkluge-correa/teeny-tiny_castle).\n",
    "\n",
    "**`Web scraping` is the process of extracting data from websites using automated software tools. It is a method of collecting information from the internet that would otherwise require manual copying and pasting. `Web scraping` is used by businesses, researchers, and individuals to gather data for a variety of purposes, including market research, price monitoring, content aggregation, and social media analysis.\n",
    "\n",
    "**With the right tools and techniques, `web scraping` can be an efficient and effective way to collect large amounts of data from the web. However, it is important to be aware of the legal and ethical considerations involved in web scraping and to ensure that data is collected responsibly and transparently. Always respect the rules established by the `robots.txt` file of the website you wish to crawl.**\n",
    "\n",
    "![scrappe](https://contraponto.digital/wp-content/uploads/2022/02/web-.jpg)\n",
    "\n",
    "**`Python` has several libraries and frameworks, such as `Beautiful Soup` and `Scrapy`, that make web scraping easier and more efficient, and allow developers to access, extract and manipulate web data in a structured and efficient manner. In [this notebook](xxx), we use `Beautiful Soup` to create a dataset to train a model for language generation.**\n",
    "\n",
    "**However, in this notebook, we are using the `google_play_scraper` to create and automate our crawler. First, let us create a list of apps for us to scrape from `Google Play`**"
   ]
  },
  {
   "cell_type": "code",
   "execution_count": 1,
   "metadata": {},
   "outputs": [],
   "source": [
    "apps_ids = [\n",
    "    'com.mcdo.mcdonalds',\n",
    "    'com.ubercab.eats',\n",
    "    'com.instagram.android',\n",
    "    'com.tinder',\n",
    "    'com.facebook.katana',\n",
    "    'com.google.android.youtube',\n",
    "    'com.ubercab',\n",
    "    'com.twitter.android',\n",
    "]"
   ]
  },
  {
   "attachments": {},
   "cell_type": "markdown",
   "metadata": {},
   "source": [
    "**Second, we collect some information/metadata about the apps we want to scrape.**\n",
    "\n",
    "**If you want to scrape reviews in Portuguese, you can try the following apps:**\n",
    "\n",
    "```python\n",
    "apps_ids = [\n",
    "    'br.com.brainweb.ifood',\n",
    "    'com.cerveceriamodelo.modelonow',\n",
    "    'com.mcdo.mcdonalds',\n",
    "    'habibs.alphacode.com.br',\n",
    "    'com.xiaojukeji.didi.brazil.customer',\n",
    "    'com.ubercab.eats',\n",
    "    'com.grability.rappi',\n",
    "    'burgerking.com.br.appandroid',\n",
    "    'com.instagram.android',\n",
    "    'com.tinder',\n",
    "    'com.facebook.katana',\n",
    "    'com.google.android.youtube',\n",
    "    'com.zhiliaoapp.musically',\n",
    "    'com.ubercab',\n",
    "    'com.twitter.android',\n",
    "    'org.telegram.messenger',\n",
    "]\n",
    "```"
   ]
  },
  {
   "cell_type": "code",
   "execution_count": 7,
   "metadata": {},
   "outputs": [
    {
     "name": "stdout",
     "output_type": "stream",
     "text": [
      "McDonald's Offers and Delivery\n",
      "Uber Eats: Food Delivery\n",
      "Instagram\n",
      "Tinder: Dating app. Meet. Chat\n",
      "Facebook\n",
      "YouTube\n",
      "Uber - Request a ride\n",
      "Twitter\n"
     ]
    }
   ],
   "source": [
    "from google_play_scraper import Sort, reviews, app\n",
    "\n",
    "app_infos = []\n",
    "\n",
    "for ap in apps_ids:\n",
    "    info = app(ap, lang='en', country='us')\n",
    "    del info['comments']\n",
    "    app_infos.append(info)\n",
    "\n",
    "for i in range(len(app_infos)):\n",
    "    print(app_infos[i]['title'])"
   ]
  },
  {
   "attachments": {},
   "cell_type": "markdown",
   "metadata": {},
   "source": [
    "**Now, we are determining some targets for our crawler. We determine that we only want English reviews (`lang='en'`), from the US (`country='us'`), prioritizing the most relevant reviews (`Sort.MOST_RELEVANT`), from 1 to 5 stars (`for score in list(range(1, 6)):`), except the reviews with 3 stars, otherwise, we collect one thousand reviews (`ount=0 if score == 3 else 1000`).**"
   ]
  },
  {
   "cell_type": "code",
   "execution_count": 9,
   "metadata": {},
   "outputs": [
    {
     "name": "stdout",
     "output_type": "stream",
     "text": [
      "Scraping com.mcdo.mcdonalds...\n",
      "Scraping com.ubercab.eats...\n",
      "Scraping com.instagram.android...\n",
      "Scraping com.tinder...\n",
      "Scraping com.facebook.katana...\n",
      "Scraping com.google.android.youtube...\n",
      "Scraping com.ubercab...\n",
      "Scraping com.twitter.android...\n",
      "Got your data!\n"
     ]
    }
   ],
   "source": [
    "app_reviews = []\n",
    "for app in apps_ids:\n",
    "    print(f'Scraping {app}...')\n",
    "    for score in list(range(1, 6)):\n",
    "        for sort_order in [Sort.MOST_RELEVANT]:\n",
    "            rvs, _ = reviews(\n",
    "                app,\n",
    "                lang='en',\n",
    "                country='us',\n",
    "                sort=sort_order,\n",
    "                count=0 if score == 3 else 1000,\n",
    "                filter_score_with=score\n",
    "            )\n",
    "            for r in rvs:\n",
    "                r['sortOrder'] = 'most_relevant'\n",
    "                r['appId'] = ap\n",
    "            app_reviews.extend(rvs)\n",
    "print('Got your data!')"
   ]
  },
  {
   "attachments": {},
   "cell_type": "markdown",
   "metadata": {},
   "source": [
    "**Let us now turn our data into a `DataFrame`.**"
   ]
  },
  {
   "cell_type": "code",
   "execution_count": 20,
   "metadata": {},
   "outputs": [
    {
     "data": {
      "text/plain": [
       "0        Useless, when I choose my country it takes me ...\n",
       "1        This app is horrible it constantly freezes up ...\n",
       "2        After the last update, the name of the app eve...\n",
       "3        Really slow, crashed my brand new phone. Got s...\n",
       "4        Worst service ever. They have so many issues w...\n",
       "                               ...                        \n",
       "30413    Suddenly is just so much better. Great app to ...\n",
       "30414    The best app to get all latest trending topics...\n",
       "30415    Love it , especially since musk took over. You...\n",
       "30416    It's a nice app and improved since the takeove...\n",
       "30417    My new favourite social. Feed much more taylor...\n",
       "Name: content, Length: 30418, dtype: object"
      ]
     },
     "metadata": {},
     "output_type": "display_data"
    }
   ],
   "source": [
    "import pandas as pd\n",
    "\n",
    "data = pd.DataFrame(app_reviews)\n",
    "\n",
    "display(data.content)"
   ]
  },
  {
   "attachments": {},
   "cell_type": "markdown",
   "metadata": {},
   "source": [
    "**Let us clean our text with a `custom_standardization` function (remove HTML tags, lowercase everything, remove symbols, remove accents, remove double spaces, etc.)**"
   ]
  },
  {
   "cell_type": "code",
   "execution_count": 21,
   "metadata": {},
   "outputs": [
    {
     "data": {
      "text/plain": [
       "0        useless when i choose my country it takes me t...\n",
       "1        this app is horrible it constantly freezes up ...\n",
       "2        after the last update the name of the app even...\n",
       "3        really slow crashed my brand new phone got stu...\n",
       "4        worst service ever they have so many issues wi...\n",
       "                               ...                        \n",
       "30413    suddenly is just so much better great app to c...\n",
       "30414    the best app to get all latest trending topics...\n",
       "30415    love it especially since musk took over you ca...\n",
       "30416    it's a nice app and improved since the takeove...\n",
       "30417    my new favourite social feed much more taylore...\n",
       "Name: content, Length: 30418, dtype: object"
      ]
     },
     "metadata": {},
     "output_type": "display_data"
    }
   ],
   "source": [
    "import re\n",
    "from unidecode import unidecode\n",
    "\n",
    "def custom_standardization(input_data):\n",
    "    clean_text = input_data.lower().replace(\"<br />\", \" \")\n",
    "    clean_text = re.sub(r\"[-()\\\"#/@;:<>{}=~|.?,]\", ' ', clean_text)\n",
    "    clean_text = re.sub(' +', ' ', clean_text)\n",
    "    return unidecode(clean_text)\n",
    "\n",
    "data.content = data.content.apply(custom_standardization)\n",
    "display(data.content)"
   ]
  },
  {
   "attachments": {},
   "cell_type": "markdown",
   "metadata": {},
   "source": [
    "**Now, let us save our data into a CSV file for later use. This dataset could be used to, for example, train an ML model in sentiment analysis.**"
   ]
  },
  {
   "cell_type": "code",
   "execution_count": 22,
   "metadata": {},
   "outputs": [
    {
     "data": {
      "text/html": [
       "<div>\n",
       "<style scoped>\n",
       "    .dataframe tbody tr th:only-of-type {\n",
       "        vertical-align: middle;\n",
       "    }\n",
       "\n",
       "    .dataframe tbody tr th {\n",
       "        vertical-align: top;\n",
       "    }\n",
       "\n",
       "    .dataframe thead th {\n",
       "        text-align: right;\n",
       "    }\n",
       "</style>\n",
       "<table border=\"1\" class=\"dataframe\">\n",
       "  <thead>\n",
       "    <tr style=\"text-align: right;\">\n",
       "      <th></th>\n",
       "      <th>review</th>\n",
       "      <th>sentiment</th>\n",
       "    </tr>\n",
       "  </thead>\n",
       "  <tbody>\n",
       "    <tr>\n",
       "      <th>0</th>\n",
       "      <td>useless when i choose my country it takes me t...</td>\n",
       "      <td>0</td>\n",
       "    </tr>\n",
       "    <tr>\n",
       "      <th>1</th>\n",
       "      <td>this app is horrible it constantly freezes up ...</td>\n",
       "      <td>0</td>\n",
       "    </tr>\n",
       "    <tr>\n",
       "      <th>2</th>\n",
       "      <td>after the last update the name of the app even...</td>\n",
       "      <td>0</td>\n",
       "    </tr>\n",
       "    <tr>\n",
       "      <th>3</th>\n",
       "      <td>really slow crashed my brand new phone got stu...</td>\n",
       "      <td>0</td>\n",
       "    </tr>\n",
       "    <tr>\n",
       "      <th>4</th>\n",
       "      <td>worst service ever they have so many issues wi...</td>\n",
       "      <td>0</td>\n",
       "    </tr>\n",
       "    <tr>\n",
       "      <th>...</th>\n",
       "      <td>...</td>\n",
       "      <td>...</td>\n",
       "    </tr>\n",
       "    <tr>\n",
       "      <th>30413</th>\n",
       "      <td>suddenly is just so much better great app to c...</td>\n",
       "      <td>1</td>\n",
       "    </tr>\n",
       "    <tr>\n",
       "      <th>30414</th>\n",
       "      <td>the best app to get all latest trending topics...</td>\n",
       "      <td>1</td>\n",
       "    </tr>\n",
       "    <tr>\n",
       "      <th>30415</th>\n",
       "      <td>love it especially since musk took over you ca...</td>\n",
       "      <td>1</td>\n",
       "    </tr>\n",
       "    <tr>\n",
       "      <th>30416</th>\n",
       "      <td>it's a nice app and improved since the takeove...</td>\n",
       "      <td>1</td>\n",
       "    </tr>\n",
       "    <tr>\n",
       "      <th>30417</th>\n",
       "      <td>my new favourite social feed much more taylore...</td>\n",
       "      <td>1</td>\n",
       "    </tr>\n",
       "  </tbody>\n",
       "</table>\n",
       "<p>30418 rows × 2 columns</p>\n",
       "</div>"
      ],
      "text/plain": [
       "                                                  review  sentiment\n",
       "0      useless when i choose my country it takes me t...          0\n",
       "1      this app is horrible it constantly freezes up ...          0\n",
       "2      after the last update the name of the app even...          0\n",
       "3      really slow crashed my brand new phone got stu...          0\n",
       "4      worst service ever they have so many issues wi...          0\n",
       "...                                                  ...        ...\n",
       "30413  suddenly is just so much better great app to c...          1\n",
       "30414  the best app to get all latest trending topics...          1\n",
       "30415  love it especially since musk took over you ca...          1\n",
       "30416  it's a nice app and improved since the takeove...          1\n",
       "30417  my new favourite social feed much more taylore...          1\n",
       "\n",
       "[30418 rows x 2 columns]"
      ]
     },
     "metadata": {},
     "output_type": "display_data"
    }
   ],
   "source": [
    "data = data.drop(['reviewId', 'userName', 'userImage', 'appId',\n",
    "                  'thumbsUpCount', 'reviewCreatedVersion', 'at',\n",
    "                  'replyContent', 'repliedAt', 'sortOrder'], axis=1)\n",
    "\n",
    "def to_sentiment(rating):\n",
    "    rating = int(rating)\n",
    "    if rating <= 2:\n",
    "        return 0\n",
    "    else:\n",
    "        return 1\n",
    "\n",
    "data.score = data.score.apply(to_sentiment)\n",
    "data.columns = ['review', 'sentiment']\n",
    "\n",
    "data.to_csv('data/google_play_apps_review_en.csv', index=None)\n",
    "display(data)"
   ]
  },
  {
   "attachments": {},
   "cell_type": "markdown",
   "metadata": {},
   "source": [
    "**Congratulations, you scrapped your own sentiment dataset. 🙃**\n",
    "\n",
    "---\n",
    "\n",
    "Return to the [castle](https://github.com/Nkluge-correa/teeny-tiny_castle).\n"
   ]
  }
 ],
 "metadata": {
  "kernelspec": {
   "display_name": "Python 3",
   "language": "python",
   "name": "python3"
  },
  "language_info": {
   "codemirror_mode": {
    "name": "ipython",
    "version": 3
   },
   "file_extension": ".py",
   "mimetype": "text/x-python",
   "name": "python",
   "nbconvert_exporter": "python",
   "pygments_lexer": "ipython3",
   "version": "3.9.13"
  },
  "orig_nbformat": 4,
  "vscode": {
   "interpreter": {
    "hash": "aca09746cf57686f00a55ae76e987247ecfb5dd0b3b2e2474d8dbbf0c5e3377e"
   }
  }
 },
 "nbformat": 4,
 "nbformat_minor": 2
}
