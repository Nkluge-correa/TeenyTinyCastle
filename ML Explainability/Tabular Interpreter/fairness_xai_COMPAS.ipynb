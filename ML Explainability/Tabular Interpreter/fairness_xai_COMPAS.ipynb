{
 "cells": [
  {
   "attachments": {},
   "cell_type": "markdown",
   "metadata": {},
   "source": [
    "# _Fairness_ and _Interpretability_ in the COMPAS dataset\n",
    "\n",
    "Return to the [castle](https://github.com/Nkluge-correa/teeny-tiny_castle).\n",
    "\n",
    "***Correctional Offender Management Profiling for Alternative Sanctions* (COMPAS) is a case management and decision support tool developed and owned by Northpointe (now [Equivant](https://www.equivant.com/)) used by USA courts to assess the likelihood of a defendant becoming a recidivist.**\n",
    "\n",
    "**The COMPAS software uses an algorithm to assess potential recidivism risk. Northpointe created risk scales for general and *violent recidivism*, and for *pretrial misconduct*.**\n",
    "\n",
    "![compas](https://cdn.psychologytoday.com/sites/default/files/styles/article-inline-half/public/field_blog_entry_images/2018-01/compas.jpg?itok=H4USxzQ3)\n",
    "\n",
    "## **Ethical Problems**\n",
    "\n",
    "- **A general critique of the use of proprietary software such as COMPAS is that since the algorithms it uses are *trade secrets*, they cannot be examined by the public and affected parties which may be a violation of due process.**\n",
    "\n",
    "- **Another general criticism of machine-learning based algorithms is since they are data-dependent if the data are biased, the software will likely yield biased results.**\n",
    "\n",
    "**In this notebook, we will be using *COMPAS Recidivism Racial Bias* (available on [Kaggle](https://www.kaggle.com/datasets/danofer/compass?select=cox-violent-parsed_filt.csv)) to explore certain tools related to ML Fairness and Explainable AI (XAI). In our example, we will be using the parsed data from this dataset (`cox-violent-parsed_filt.csv`), which contains 18316 samples.**"
   ]
  },
  {
   "cell_type": "code",
   "execution_count": 1,
   "metadata": {},
   "outputs": [
    {
     "name": "stdout",
     "output_type": "stream",
     "text": [
      "Feature id : 39.94% is NaN values.\n",
      "Feature r_charge_degree : 54.05% is NaN values.\n",
      "Feature r_days_from_arrest : 65.28% is NaN values.\n",
      "Feature r_offense_date : 54.05% is NaN values.\n",
      "Feature r_charge_desc : 54.81% is NaN values.\n",
      "Feature r_jail_in : 65.28% is NaN values.\n",
      "Feature violent_recid : 100.0% is NaN values.\n",
      "Feature vr_charge_degree : 92.69% is NaN values.\n",
      "Feature vr_offense_date : 92.69% is NaN values.\n",
      "Feature vr_charge_desc : 92.69% is NaN values.\n"
     ]
    },
    {
     "data": {
      "text/html": [
       "<div>\n",
       "<style scoped>\n",
       "    .dataframe tbody tr th:only-of-type {\n",
       "        vertical-align: middle;\n",
       "    }\n",
       "\n",
       "    .dataframe tbody tr th {\n",
       "        vertical-align: top;\n",
       "    }\n",
       "\n",
       "    .dataframe thead th {\n",
       "        text-align: right;\n",
       "    }\n",
       "</style>\n",
       "<table border=\"1\" class=\"dataframe\">\n",
       "  <thead>\n",
       "    <tr style=\"text-align: right;\">\n",
       "      <th></th>\n",
       "      <th>sex</th>\n",
       "      <th>age_cat</th>\n",
       "      <th>race</th>\n",
       "      <th>juv_fel_count</th>\n",
       "      <th>juv_misd_count</th>\n",
       "      <th>juv_other_count</th>\n",
       "      <th>priors_count</th>\n",
       "      <th>days_b_screening_arrest</th>\n",
       "      <th>c_days_from_compas</th>\n",
       "      <th>c_charge_degree</th>\n",
       "      <th>is_recid</th>\n",
       "      <th>is_violent_recid</th>\n",
       "      <th>label</th>\n",
       "    </tr>\n",
       "  </thead>\n",
       "  <tbody>\n",
       "    <tr>\n",
       "      <th>0</th>\n",
       "      <td>Male</td>\n",
       "      <td>Greater than 45</td>\n",
       "      <td>Other</td>\n",
       "      <td>0</td>\n",
       "      <td>0</td>\n",
       "      <td>0</td>\n",
       "      <td>0</td>\n",
       "      <td>-1.0</td>\n",
       "      <td>1.0</td>\n",
       "      <td>(F3)</td>\n",
       "      <td>0</td>\n",
       "      <td>0</td>\n",
       "      <td>1</td>\n",
       "    </tr>\n",
       "    <tr>\n",
       "      <th>1</th>\n",
       "      <td>Male</td>\n",
       "      <td>Greater than 45</td>\n",
       "      <td>Other</td>\n",
       "      <td>0</td>\n",
       "      <td>0</td>\n",
       "      <td>0</td>\n",
       "      <td>0</td>\n",
       "      <td>-1.0</td>\n",
       "      <td>1.0</td>\n",
       "      <td>(F3)</td>\n",
       "      <td>0</td>\n",
       "      <td>0</td>\n",
       "      <td>1</td>\n",
       "    </tr>\n",
       "    <tr>\n",
       "      <th>3</th>\n",
       "      <td>Male</td>\n",
       "      <td>25 - 45</td>\n",
       "      <td>African-American</td>\n",
       "      <td>0</td>\n",
       "      <td>0</td>\n",
       "      <td>0</td>\n",
       "      <td>0</td>\n",
       "      <td>-1.0</td>\n",
       "      <td>1.0</td>\n",
       "      <td>(F3)</td>\n",
       "      <td>1</td>\n",
       "      <td>1</td>\n",
       "      <td>1</td>\n",
       "    </tr>\n",
       "    <tr>\n",
       "      <th>4</th>\n",
       "      <td>Male</td>\n",
       "      <td>Less than 25</td>\n",
       "      <td>African-American</td>\n",
       "      <td>0</td>\n",
       "      <td>0</td>\n",
       "      <td>1</td>\n",
       "      <td>4</td>\n",
       "      <td>-1.0</td>\n",
       "      <td>1.0</td>\n",
       "      <td>(F3)</td>\n",
       "      <td>1</td>\n",
       "      <td>0</td>\n",
       "      <td>1</td>\n",
       "    </tr>\n",
       "    <tr>\n",
       "      <th>5</th>\n",
       "      <td>Male</td>\n",
       "      <td>Less than 25</td>\n",
       "      <td>African-American</td>\n",
       "      <td>0</td>\n",
       "      <td>0</td>\n",
       "      <td>1</td>\n",
       "      <td>4</td>\n",
       "      <td>-1.0</td>\n",
       "      <td>1.0</td>\n",
       "      <td>(F3)</td>\n",
       "      <td>1</td>\n",
       "      <td>0</td>\n",
       "      <td>1</td>\n",
       "    </tr>\n",
       "    <tr>\n",
       "      <th>...</th>\n",
       "      <td>...</td>\n",
       "      <td>...</td>\n",
       "      <td>...</td>\n",
       "      <td>...</td>\n",
       "      <td>...</td>\n",
       "      <td>...</td>\n",
       "      <td>...</td>\n",
       "      <td>...</td>\n",
       "      <td>...</td>\n",
       "      <td>...</td>\n",
       "      <td>...</td>\n",
       "      <td>...</td>\n",
       "      <td>...</td>\n",
       "    </tr>\n",
       "    <tr>\n",
       "      <th>18311</th>\n",
       "      <td>Female</td>\n",
       "      <td>25 - 45</td>\n",
       "      <td>African-American</td>\n",
       "      <td>0</td>\n",
       "      <td>0</td>\n",
       "      <td>0</td>\n",
       "      <td>5</td>\n",
       "      <td>-1.0</td>\n",
       "      <td>1.0</td>\n",
       "      <td>(M1)</td>\n",
       "      <td>0</td>\n",
       "      <td>0</td>\n",
       "      <td>1</td>\n",
       "    </tr>\n",
       "    <tr>\n",
       "      <th>18312</th>\n",
       "      <td>Male</td>\n",
       "      <td>Greater than 45</td>\n",
       "      <td>Other</td>\n",
       "      <td>0</td>\n",
       "      <td>0</td>\n",
       "      <td>0</td>\n",
       "      <td>0</td>\n",
       "      <td>-1.0</td>\n",
       "      <td>1.0</td>\n",
       "      <td>(F2)</td>\n",
       "      <td>0</td>\n",
       "      <td>0</td>\n",
       "      <td>1</td>\n",
       "    </tr>\n",
       "    <tr>\n",
       "      <th>18313</th>\n",
       "      <td>Female</td>\n",
       "      <td>25 - 45</td>\n",
       "      <td>African-American</td>\n",
       "      <td>0</td>\n",
       "      <td>0</td>\n",
       "      <td>0</td>\n",
       "      <td>3</td>\n",
       "      <td>-1.0</td>\n",
       "      <td>1.0</td>\n",
       "      <td>(M1)</td>\n",
       "      <td>0</td>\n",
       "      <td>0</td>\n",
       "      <td>1</td>\n",
       "    </tr>\n",
       "    <tr>\n",
       "      <th>18314</th>\n",
       "      <td>Female</td>\n",
       "      <td>Less than 25</td>\n",
       "      <td>Hispanic</td>\n",
       "      <td>0</td>\n",
       "      <td>0</td>\n",
       "      <td>0</td>\n",
       "      <td>2</td>\n",
       "      <td>-2.0</td>\n",
       "      <td>2.0</td>\n",
       "      <td>(F3)</td>\n",
       "      <td>1</td>\n",
       "      <td>0</td>\n",
       "      <td>1</td>\n",
       "    </tr>\n",
       "    <tr>\n",
       "      <th>18315</th>\n",
       "      <td>Female</td>\n",
       "      <td>Less than 25</td>\n",
       "      <td>Hispanic</td>\n",
       "      <td>0</td>\n",
       "      <td>0</td>\n",
       "      <td>0</td>\n",
       "      <td>2</td>\n",
       "      <td>-2.0</td>\n",
       "      <td>2.0</td>\n",
       "      <td>(F3)</td>\n",
       "      <td>1</td>\n",
       "      <td>0</td>\n",
       "      <td>1</td>\n",
       "    </tr>\n",
       "  </tbody>\n",
       "</table>\n",
       "<p>17019 rows × 13 columns</p>\n",
       "</div>"
      ],
      "text/plain": [
       "          sex          age_cat              race  juv_fel_count  \\\n",
       "0        Male  Greater than 45             Other              0   \n",
       "1        Male  Greater than 45             Other              0   \n",
       "3        Male          25 - 45  African-American              0   \n",
       "4        Male     Less than 25  African-American              0   \n",
       "5        Male     Less than 25  African-American              0   \n",
       "...       ...              ...               ...            ...   \n",
       "18311  Female          25 - 45  African-American              0   \n",
       "18312    Male  Greater than 45             Other              0   \n",
       "18313  Female          25 - 45  African-American              0   \n",
       "18314  Female     Less than 25          Hispanic              0   \n",
       "18315  Female     Less than 25          Hispanic              0   \n",
       "\n",
       "       juv_misd_count  juv_other_count  priors_count  days_b_screening_arrest  \\\n",
       "0                   0                0             0                     -1.0   \n",
       "1                   0                0             0                     -1.0   \n",
       "3                   0                0             0                     -1.0   \n",
       "4                   0                1             4                     -1.0   \n",
       "5                   0                1             4                     -1.0   \n",
       "...               ...              ...           ...                      ...   \n",
       "18311               0                0             5                     -1.0   \n",
       "18312               0                0             0                     -1.0   \n",
       "18313               0                0             3                     -1.0   \n",
       "18314               0                0             2                     -2.0   \n",
       "18315               0                0             2                     -2.0   \n",
       "\n",
       "       c_days_from_compas c_charge_degree  is_recid  is_violent_recid  label  \n",
       "0                     1.0            (F3)         0                 0      1  \n",
       "1                     1.0            (F3)         0                 0      1  \n",
       "3                     1.0            (F3)         1                 1      1  \n",
       "4                     1.0            (F3)         1                 0      1  \n",
       "5                     1.0            (F3)         1                 0      1  \n",
       "...                   ...             ...       ...               ...    ...  \n",
       "18311                 1.0            (M1)         0                 0      1  \n",
       "18312                 1.0            (F2)         0                 0      1  \n",
       "18313                 1.0            (M1)         0                 0      1  \n",
       "18314                 2.0            (F3)         1                 0      1  \n",
       "18315                 2.0            (F3)         1                 0      1  \n",
       "\n",
       "[17019 rows x 13 columns]"
      ]
     },
     "metadata": {},
     "output_type": "display_data"
    }
   ],
   "source": [
    "import pandas as pd\n",
    "df = pd.read_csv(\"data\\COMPAS.csv\")\n",
    "\n",
    "for column in df.columns:\n",
    "    nan = df[column].isna().sum()\n",
    "    if round((nan / len(df[column])) * 100, 2) > 10.0:\n",
    "        print(f'Feature {column} : {round((nan / len(df[column])) * 100, 2)}% is NaN values.')\n",
    "\n",
    "def turn_to_binary(score):\n",
    "    if score == 'Low' or score == 'Medium':\n",
    "        return 1\n",
    "    else:\n",
    "        return 0\n",
    "\n",
    "df['label'] = df['score_text'].apply(turn_to_binary)\n",
    "\n",
    "df = df.drop(['id', 'name', 'first', 'last', 'dob', 'age', 'priors_count.1', 'c_charge_desc', 'event',\n",
    "                'r_charge_degree', 'r_days_from_arrest', 'r_offense_date', 'r_charge_desc', 'decile_score',\n",
    "                'r_jail_in', 'violent_recid', 'vr_charge_degree', 'vr_offense_date', 'vr_charge_desc',\n",
    "                'c_jail_in', 'c_jail_out', 'type_of_assessment', 'decile_score.1', 'screening_date',\n",
    "                'v_type_of_assessment', 'v_decile_score', 'v_score_text', 'score_text'], axis = 1).dropna()\n",
    "                \n",
    "with pd.option_context('display.max_columns', None):                     \n",
    "    display(df)"
   ]
  },
  {
   "cell_type": "markdown",
   "metadata": {},
   "source": [
    "**To create a classifier from scratch, we first need to get rid of the labels (scores and categories) that the original algorithm produced. For better performance purposes, we are also excluding features that have more than $10\\%$ of their total bulk as missing values (\"`NaN`\"). This resulted in a final sample size of $17019$. In the end, we are left with a dataset containing 12 features + the label. For simplicity, we are merging the \"*Low*\" and \"*Medium*\" labels, to turn this classification task into a binary problem (Fairness analyses are simpler in these cases). \"*High Risk*\" samples represent only $25\\%$ of our dataset, and these are exactly the cases we want to better distinguish.**\n",
    "\n",
    "**As the first tool to analyze our dataset, we are using `FACETS`. With it we can already perceive skewed distributions, especially with regard to categorical variables (e.g., *gender, race,* etc.)**"
   ]
  },
  {
   "cell_type": "markdown",
   "metadata": {},
   "source": [
    "## FACETS\n",
    "\n",
    "**[Facets](https://pair-code.github.io/facets/) its a lybrary for data visualization. It contains two robust visualizations to aid in understanding and analyzing machine learning datasets. Get a sense of the shape of each feature of your dataset using Facets Overview, or explore individual observations using Facets Dive.**\n",
    "\n",
    "![facets](https://3.bp.blogspot.com/-T0dTxdse9Ow/WWz0u431RpI/AAAAAAAAB5M/rBvToJjx1L0FVVpXkgNOAwzXASyZC_JWwCLcBGAs/s640/image4.gif)\n"
   ]
  },
  {
   "cell_type": "code",
   "execution_count": 2,
   "metadata": {},
   "outputs": [
    {
     "data": {
      "text/html": [
       "<script src='https://cdnjs.cloudflare.com/ajax/libs/webcomponentsjs/1.3.3/webcomponents-lite.js'></script>\n",
       "        <link rel='import' href='https://raw.githubusercontent.com/PAIR-code/facets/1.0.0/facets-dist/facets-jupyter.html'>\n",
       "        <facets-overview id='elem'></facets-overview>\n",
       "        <script>\n",
       "          document.querySelector('#elem').protoInput = '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';\n",
       "        </script>"
      ],
      "text/plain": [
       "<IPython.core.display.HTML object>"
      ]
     },
     "metadata": {},
     "output_type": "display_data"
    },
    {
     "data": {
      "text/html": [
       "<a href='overview_compas.html' target='_blank'>overview_compas.html</a>"
      ],
      "text/plain": [
       "<IPython.core.display.HTML object>"
      ]
     },
     "metadata": {},
     "output_type": "display_data"
    }
   ],
   "source": [
    "from facets_overview.feature_statistics_generator import FeatureStatisticsGenerator\n",
    "from IPython.display import display, HTML\n",
    "import base64\n",
    "\n",
    "fsg = FeatureStatisticsGenerator()\n",
    "dataframes = [\n",
    "    {'table': df, 'name': 'trainData'}]\n",
    "censusProto = fsg.ProtoFromDataFrames(dataframes)\n",
    "protostr = base64.b64encode(censusProto.SerializeToString()).decode('utf-8')\n",
    "\n",
    "\n",
    "HTML_TEMPLATE = '''<script src='https://cdnjs.cloudflare.com/ajax/libs/webcomponentsjs/1.3.3/webcomponents-lite.js'></script>\n",
    "        <link rel='import' href='https://raw.githubusercontent.com/PAIR-code/facets/1.0.0/facets-dist/facets-jupyter.html'>\n",
    "        <facets-overview id='elem'></facets-overview>\n",
    "        <script>\n",
    "          document.querySelector('#elem').protoInput = '{protostr}';\n",
    "        </script>'''\n",
    "html = HTML_TEMPLATE.format(protostr=protostr)\n",
    "display(HTML(html))\n",
    "with open(\"overview_compas.html\", \"w\") as fp:\n",
    "    fp.write(html)\n",
    "    fp.close()\n",
    "display(HTML(\"<a href='overview_compas.html' target='_blank'>overview_compas.html</a>\"))"
   ]
  },
  {
   "cell_type": "code",
   "execution_count": 3,
   "metadata": {},
   "outputs": [
    {
     "name": "stdout",
     "output_type": "stream",
     "text": [
      "\n",
      "For some reason, the Dive HTML does not open well in VScode notebooks, \n",
      "but you can see the dash following the link below:\n",
      "\n"
     ]
    },
    {
     "data": {
      "text/html": [
       "<a href='dive_compas.html' target='_blank'>dive_compas.html</a>"
      ],
      "text/plain": [
       "<IPython.core.display.HTML object>"
      ]
     },
     "metadata": {},
     "output_type": "display_data"
    }
   ],
   "source": [
    "SAMPLE_SIZE = 1000\n",
    "\n",
    "data_dive = df.sample(SAMPLE_SIZE).to_json(orient='records')\n",
    "\n",
    "HTML_TEMPLATE = \"\"\"<script src=\"https://cdnjs.cloudflare.com/ajax/libs/webcomponentsjs/1.3.3/webcomponents-lite.js\"></script>\n",
    "        <link rel=\"import\" href=\"https://raw.githubusercontent.com/PAIR-code/facets/1.0.0/facets-dist/facets-jupyter.html\">\n",
    "        <facets-dive id=\"elem\" height=\"600\"></facets-dive>\n",
    "        <script>\n",
    "          var data = {jsonstr};\n",
    "          document.querySelector(\"#elem\").data = data;\n",
    "        </script>\"\"\"\n",
    "html = HTML_TEMPLATE.format(jsonstr=data_dive)\n",
    "\n",
    "print('''\n",
    "For some reason, the Dive HTML does not open well in VScode notebooks, \n",
    "but you can see the dash following the link below:\n",
    "''')\n",
    "with open(\"dive_compas.html\", \"w\") as fp:\n",
    "    fp.write(html)\n",
    "    fp.close()\n",
    "display(HTML(\"<a href='dive_compas.html' target='_blank'>dive_compas.html</a>\"))"
   ]
  },
  {
   "cell_type": "markdown",
   "metadata": {},
   "source": [
    "## Pandas Profiling\n",
    "\n",
    "![pandas-profiling](https://warehouse-camo.ingress.cmh1.psfhosted.org/6d498300bf33179bd2299e521adf386991ac9ba4/68747470733a2f2f70616e6461732d70726f66696c696e672e79646174612e61692f646f63732f6173736574732f6c6f676f5f6865616465722e706e67)\n",
    "\n",
    "**Another way to find information about a `pd.DataFrame`, besides using `facets` and functions like `describe` and `info`, is by using the `pandas-profiling` [module](https://pypi.org/project/pandas-profiling/).**\n",
    "\n",
    "**`pandas-profiling` generates profile reports from a pandas `DataFrame`. Extending a pandas `DataFrame` with `df.profile_report()`, will automatically generate a standardized univariate and multivariate report for data understanding.**"
   ]
  },
  {
   "cell_type": "code",
   "execution_count": null,
   "metadata": {},
   "outputs": [],
   "source": [
    "from pandas_profiling import ProfileReport\n",
    "\n",
    "profile = ProfileReport(df, title=\"Pandas Profiling Report\")\n",
    "profile.to_notebook_iframe()\n",
    "profile.to_file(\"pandas_profiling_compas.html\")"
   ]
  },
  {
   "cell_type": "markdown",
   "metadata": {},
   "source": [
    "**To deal with the classification problem, we will create two classifiers: a `RandomForestClassifier` and a `LogisticRegressor`. We will make two classifiers to (1) compare their performance, and (2) because analysis of coefficients is not possible with forest-type classifiers (decision trees).**"
   ]
  },
  {
   "cell_type": "code",
   "execution_count": 4,
   "metadata": {},
   "outputs": [
    {
     "name": "stdout",
     "output_type": "stream",
     "text": [
      "Accuracy (Random Forest): 76.67 %\n"
     ]
    }
   ],
   "source": [
    "from sklearn.preprocessing import StandardScaler, OneHotEncoder\n",
    "from sklearn.model_selection import train_test_split\n",
    "from sklearn.compose import make_column_transformer\n",
    "from sklearn.pipeline import make_pipeline\n",
    "\n",
    "seed = 42\n",
    "\n",
    "X, y = df[df.columns.values.tolist()[0:12]], df[df.columns.values.tolist()[-1]]\n",
    "X_train, X_test, y_train, y_test = train_test_split(\n",
    "    X,\n",
    "    y,\n",
    "    test_size=0.2,\n",
    "    random_state=seed\n",
    ")\n",
    "\n",
    "preprocess = make_column_transformer(\n",
    "    (StandardScaler(), ['juv_fel_count', 'juv_misd_count', 'juv_other_count', 'priors_count', 'days_b_screening_arrest', 'c_days_from_compas']),\n",
    "    (OneHotEncoder(), ['sex', 'age_cat', 'race', 'c_charge_degree', 'is_recid', 'is_violent_recid']))\n",
    "\n",
    "from sklearn.ensemble import RandomForestClassifier\n",
    "\n",
    "model_rf = make_pipeline(\n",
    "    preprocess,\n",
    "    RandomForestClassifier(max_depth=3, n_estimators=500))\n",
    "model_rf.fit(X_train, y_train.values.ravel())\n",
    "score = model_rf.score(X_test, y_test.values.ravel())\n",
    "print(f'Accuracy (Random Forest): ' + '{:.2f}'.format(score * 100) + ' %')"
   ]
  },
  {
   "cell_type": "code",
   "execution_count": 5,
   "metadata": {},
   "outputs": [
    {
     "name": "stdout",
     "output_type": "stream",
     "text": [
      "Accuracy (Logistic Regression): 80.08 %\n"
     ]
    },
    {
     "data": {
      "application/vnd.plotly.v1+json": {
       "config": {
        "plotlyServerURL": "https://plot.ly"
       },
       "data": [
        {
         "coloraxis": "coloraxis",
         "hovertemplate": "Predicted: %{x}<br>True label: %{y}<br>color: %{z}<extra></extra>",
         "name": "0",
         "texttemplate": "%{z}",
         "type": "heatmap",
         "x": [
          "High",
          "Low"
         ],
         "xaxis": "x",
         "y": [
          "High",
          "Low"
         ],
         "yaxis": "y",
         "z": [
          [
           300,
           557
          ],
          [
           121,
           2426
          ]
         ]
        }
       ],
       "layout": {
        "coloraxis": {
         "colorscale": [
          [
           0,
           "#0d0887"
          ],
          [
           0.1111111111111111,
           "#46039f"
          ],
          [
           0.2222222222222222,
           "#7201a8"
          ],
          [
           0.3333333333333333,
           "#9c179e"
          ],
          [
           0.4444444444444444,
           "#bd3786"
          ],
          [
           0.5555555555555556,
           "#d8576b"
          ],
          [
           0.6666666666666666,
           "#ed7953"
          ],
          [
           0.7777777777777778,
           "#fb9f3a"
          ],
          [
           0.8888888888888888,
           "#fdca26"
          ],
          [
           1,
           "#f0f921"
          ]
         ],
         "showscale": false
        },
        "margin": {
         "t": 60
        },
        "paper_bgcolor": "rgba(0, 0, 0, 0)",
        "plot_bgcolor": "rgba(0, 0, 0, 0)",
        "template": {
         "data": {
          "bar": [
           {
            "error_x": {
             "color": "#f2f5fa"
            },
            "error_y": {
             "color": "#f2f5fa"
            },
            "marker": {
             "line": {
              "color": "rgb(17,17,17)",
              "width": 0.5
             },
             "pattern": {
              "fillmode": "overlay",
              "size": 10,
              "solidity": 0.2
             }
            },
            "type": "bar"
           }
          ],
          "barpolar": [
           {
            "marker": {
             "line": {
              "color": "rgb(17,17,17)",
              "width": 0.5
             },
             "pattern": {
              "fillmode": "overlay",
              "size": 10,
              "solidity": 0.2
             }
            },
            "type": "barpolar"
           }
          ],
          "carpet": [
           {
            "aaxis": {
             "endlinecolor": "#A2B1C6",
             "gridcolor": "#506784",
             "linecolor": "#506784",
             "minorgridcolor": "#506784",
             "startlinecolor": "#A2B1C6"
            },
            "baxis": {
             "endlinecolor": "#A2B1C6",
             "gridcolor": "#506784",
             "linecolor": "#506784",
             "minorgridcolor": "#506784",
             "startlinecolor": "#A2B1C6"
            },
            "type": "carpet"
           }
          ],
          "choropleth": [
           {
            "colorbar": {
             "outlinewidth": 0,
             "ticks": ""
            },
            "type": "choropleth"
           }
          ],
          "contour": [
           {
            "colorbar": {
             "outlinewidth": 0,
             "ticks": ""
            },
            "colorscale": [
             [
              0,
              "#0d0887"
             ],
             [
              0.1111111111111111,
              "#46039f"
             ],
             [
              0.2222222222222222,
              "#7201a8"
             ],
             [
              0.3333333333333333,
              "#9c179e"
             ],
             [
              0.4444444444444444,
              "#bd3786"
             ],
             [
              0.5555555555555556,
              "#d8576b"
             ],
             [
              0.6666666666666666,
              "#ed7953"
             ],
             [
              0.7777777777777778,
              "#fb9f3a"
             ],
             [
              0.8888888888888888,
              "#fdca26"
             ],
             [
              1,
              "#f0f921"
             ]
            ],
            "type": "contour"
           }
          ],
          "contourcarpet": [
           {
            "colorbar": {
             "outlinewidth": 0,
             "ticks": ""
            },
            "type": "contourcarpet"
           }
          ],
          "heatmap": [
           {
            "colorbar": {
             "outlinewidth": 0,
             "ticks": ""
            },
            "colorscale": [
             [
              0,
              "#0d0887"
             ],
             [
              0.1111111111111111,
              "#46039f"
             ],
             [
              0.2222222222222222,
              "#7201a8"
             ],
             [
              0.3333333333333333,
              "#9c179e"
             ],
             [
              0.4444444444444444,
              "#bd3786"
             ],
             [
              0.5555555555555556,
              "#d8576b"
             ],
             [
              0.6666666666666666,
              "#ed7953"
             ],
             [
              0.7777777777777778,
              "#fb9f3a"
             ],
             [
              0.8888888888888888,
              "#fdca26"
             ],
             [
              1,
              "#f0f921"
             ]
            ],
            "type": "heatmap"
           }
          ],
          "heatmapgl": [
           {
            "colorbar": {
             "outlinewidth": 0,
             "ticks": ""
            },
            "colorscale": [
             [
              0,
              "#0d0887"
             ],
             [
              0.1111111111111111,
              "#46039f"
             ],
             [
              0.2222222222222222,
              "#7201a8"
             ],
             [
              0.3333333333333333,
              "#9c179e"
             ],
             [
              0.4444444444444444,
              "#bd3786"
             ],
             [
              0.5555555555555556,
              "#d8576b"
             ],
             [
              0.6666666666666666,
              "#ed7953"
             ],
             [
              0.7777777777777778,
              "#fb9f3a"
             ],
             [
              0.8888888888888888,
              "#fdca26"
             ],
             [
              1,
              "#f0f921"
             ]
            ],
            "type": "heatmapgl"
           }
          ],
          "histogram": [
           {
            "marker": {
             "pattern": {
              "fillmode": "overlay",
              "size": 10,
              "solidity": 0.2
             }
            },
            "type": "histogram"
           }
          ],
          "histogram2d": [
           {
            "colorbar": {
             "outlinewidth": 0,
             "ticks": ""
            },
            "colorscale": [
             [
              0,
              "#0d0887"
             ],
             [
              0.1111111111111111,
              "#46039f"
             ],
             [
              0.2222222222222222,
              "#7201a8"
             ],
             [
              0.3333333333333333,
              "#9c179e"
             ],
             [
              0.4444444444444444,
              "#bd3786"
             ],
             [
              0.5555555555555556,
              "#d8576b"
             ],
             [
              0.6666666666666666,
              "#ed7953"
             ],
             [
              0.7777777777777778,
              "#fb9f3a"
             ],
             [
              0.8888888888888888,
              "#fdca26"
             ],
             [
              1,
              "#f0f921"
             ]
            ],
            "type": "histogram2d"
           }
          ],
          "histogram2dcontour": [
           {
            "colorbar": {
             "outlinewidth": 0,
             "ticks": ""
            },
            "colorscale": [
             [
              0,
              "#0d0887"
             ],
             [
              0.1111111111111111,
              "#46039f"
             ],
             [
              0.2222222222222222,
              "#7201a8"
             ],
             [
              0.3333333333333333,
              "#9c179e"
             ],
             [
              0.4444444444444444,
              "#bd3786"
             ],
             [
              0.5555555555555556,
              "#d8576b"
             ],
             [
              0.6666666666666666,
              "#ed7953"
             ],
             [
              0.7777777777777778,
              "#fb9f3a"
             ],
             [
              0.8888888888888888,
              "#fdca26"
             ],
             [
              1,
              "#f0f921"
             ]
            ],
            "type": "histogram2dcontour"
           }
          ],
          "mesh3d": [
           {
            "colorbar": {
             "outlinewidth": 0,
             "ticks": ""
            },
            "type": "mesh3d"
           }
          ],
          "parcoords": [
           {
            "line": {
             "colorbar": {
              "outlinewidth": 0,
              "ticks": ""
             }
            },
            "type": "parcoords"
           }
          ],
          "pie": [
           {
            "automargin": true,
            "type": "pie"
           }
          ],
          "scatter": [
           {
            "marker": {
             "line": {
              "color": "#283442"
             }
            },
            "type": "scatter"
           }
          ],
          "scatter3d": [
           {
            "line": {
             "colorbar": {
              "outlinewidth": 0,
              "ticks": ""
             }
            },
            "marker": {
             "colorbar": {
              "outlinewidth": 0,
              "ticks": ""
             }
            },
            "type": "scatter3d"
           }
          ],
          "scattercarpet": [
           {
            "marker": {
             "colorbar": {
              "outlinewidth": 0,
              "ticks": ""
             }
            },
            "type": "scattercarpet"
           }
          ],
          "scattergeo": [
           {
            "marker": {
             "colorbar": {
              "outlinewidth": 0,
              "ticks": ""
             }
            },
            "type": "scattergeo"
           }
          ],
          "scattergl": [
           {
            "marker": {
             "line": {
              "color": "#283442"
             }
            },
            "type": "scattergl"
           }
          ],
          "scattermapbox": [
           {
            "marker": {
             "colorbar": {
              "outlinewidth": 0,
              "ticks": ""
             }
            },
            "type": "scattermapbox"
           }
          ],
          "scatterpolar": [
           {
            "marker": {
             "colorbar": {
              "outlinewidth": 0,
              "ticks": ""
             }
            },
            "type": "scatterpolar"
           }
          ],
          "scatterpolargl": [
           {
            "marker": {
             "colorbar": {
              "outlinewidth": 0,
              "ticks": ""
             }
            },
            "type": "scatterpolargl"
           }
          ],
          "scatterternary": [
           {
            "marker": {
             "colorbar": {
              "outlinewidth": 0,
              "ticks": ""
             }
            },
            "type": "scatterternary"
           }
          ],
          "surface": [
           {
            "colorbar": {
             "outlinewidth": 0,
             "ticks": ""
            },
            "colorscale": [
             [
              0,
              "#0d0887"
             ],
             [
              0.1111111111111111,
              "#46039f"
             ],
             [
              0.2222222222222222,
              "#7201a8"
             ],
             [
              0.3333333333333333,
              "#9c179e"
             ],
             [
              0.4444444444444444,
              "#bd3786"
             ],
             [
              0.5555555555555556,
              "#d8576b"
             ],
             [
              0.6666666666666666,
              "#ed7953"
             ],
             [
              0.7777777777777778,
              "#fb9f3a"
             ],
             [
              0.8888888888888888,
              "#fdca26"
             ],
             [
              1,
              "#f0f921"
             ]
            ],
            "type": "surface"
           }
          ],
          "table": [
           {
            "cells": {
             "fill": {
              "color": "#506784"
             },
             "line": {
              "color": "rgb(17,17,17)"
             }
            },
            "header": {
             "fill": {
              "color": "#2a3f5f"
             },
             "line": {
              "color": "rgb(17,17,17)"
             }
            },
            "type": "table"
           }
          ]
         },
         "layout": {
          "annotationdefaults": {
           "arrowcolor": "#f2f5fa",
           "arrowhead": 0,
           "arrowwidth": 1
          },
          "autotypenumbers": "strict",
          "coloraxis": {
           "colorbar": {
            "outlinewidth": 0,
            "ticks": ""
           }
          },
          "colorscale": {
           "diverging": [
            [
             0,
             "#8e0152"
            ],
            [
             0.1,
             "#c51b7d"
            ],
            [
             0.2,
             "#de77ae"
            ],
            [
             0.3,
             "#f1b6da"
            ],
            [
             0.4,
             "#fde0ef"
            ],
            [
             0.5,
             "#f7f7f7"
            ],
            [
             0.6,
             "#e6f5d0"
            ],
            [
             0.7,
             "#b8e186"
            ],
            [
             0.8,
             "#7fbc41"
            ],
            [
             0.9,
             "#4d9221"
            ],
            [
             1,
             "#276419"
            ]
           ],
           "sequential": [
            [
             0,
             "#0d0887"
            ],
            [
             0.1111111111111111,
             "#46039f"
            ],
            [
             0.2222222222222222,
             "#7201a8"
            ],
            [
             0.3333333333333333,
             "#9c179e"
            ],
            [
             0.4444444444444444,
             "#bd3786"
            ],
            [
             0.5555555555555556,
             "#d8576b"
            ],
            [
             0.6666666666666666,
             "#ed7953"
            ],
            [
             0.7777777777777778,
             "#fb9f3a"
            ],
            [
             0.8888888888888888,
             "#fdca26"
            ],
            [
             1,
             "#f0f921"
            ]
           ],
           "sequentialminus": [
            [
             0,
             "#0d0887"
            ],
            [
             0.1111111111111111,
             "#46039f"
            ],
            [
             0.2222222222222222,
             "#7201a8"
            ],
            [
             0.3333333333333333,
             "#9c179e"
            ],
            [
             0.4444444444444444,
             "#bd3786"
            ],
            [
             0.5555555555555556,
             "#d8576b"
            ],
            [
             0.6666666666666666,
             "#ed7953"
            ],
            [
             0.7777777777777778,
             "#fb9f3a"
            ],
            [
             0.8888888888888888,
             "#fdca26"
            ],
            [
             1,
             "#f0f921"
            ]
           ]
          },
          "colorway": [
           "#636efa",
           "#EF553B",
           "#00cc96",
           "#ab63fa",
           "#FFA15A",
           "#19d3f3",
           "#FF6692",
           "#B6E880",
           "#FF97FF",
           "#FECB52"
          ],
          "font": {
           "color": "#f2f5fa"
          },
          "geo": {
           "bgcolor": "rgb(17,17,17)",
           "lakecolor": "rgb(17,17,17)",
           "landcolor": "rgb(17,17,17)",
           "showlakes": true,
           "showland": true,
           "subunitcolor": "#506784"
          },
          "hoverlabel": {
           "align": "left"
          },
          "hovermode": "closest",
          "mapbox": {
           "style": "dark"
          },
          "paper_bgcolor": "rgb(17,17,17)",
          "plot_bgcolor": "rgb(17,17,17)",
          "polar": {
           "angularaxis": {
            "gridcolor": "#506784",
            "linecolor": "#506784",
            "ticks": ""
           },
           "bgcolor": "rgb(17,17,17)",
           "radialaxis": {
            "gridcolor": "#506784",
            "linecolor": "#506784",
            "ticks": ""
           }
          },
          "scene": {
           "xaxis": {
            "backgroundcolor": "rgb(17,17,17)",
            "gridcolor": "#506784",
            "gridwidth": 2,
            "linecolor": "#506784",
            "showbackground": true,
            "ticks": "",
            "zerolinecolor": "#C8D4E3"
           },
           "yaxis": {
            "backgroundcolor": "rgb(17,17,17)",
            "gridcolor": "#506784",
            "gridwidth": 2,
            "linecolor": "#506784",
            "showbackground": true,
            "ticks": "",
            "zerolinecolor": "#C8D4E3"
           },
           "zaxis": {
            "backgroundcolor": "rgb(17,17,17)",
            "gridcolor": "#506784",
            "gridwidth": 2,
            "linecolor": "#506784",
            "showbackground": true,
            "ticks": "",
            "zerolinecolor": "#C8D4E3"
           }
          },
          "shapedefaults": {
           "line": {
            "color": "#f2f5fa"
           }
          },
          "sliderdefaults": {
           "bgcolor": "#C8D4E3",
           "bordercolor": "rgb(17,17,17)",
           "borderwidth": 1,
           "tickwidth": 0
          },
          "ternary": {
           "aaxis": {
            "gridcolor": "#506784",
            "linecolor": "#506784",
            "ticks": ""
           },
           "baxis": {
            "gridcolor": "#506784",
            "linecolor": "#506784",
            "ticks": ""
           },
           "bgcolor": "rgb(17,17,17)",
           "caxis": {
            "gridcolor": "#506784",
            "linecolor": "#506784",
            "ticks": ""
           }
          },
          "title": {
           "x": 0.05
          },
          "updatemenudefaults": {
           "bgcolor": "#506784",
           "borderwidth": 0
          },
          "xaxis": {
           "automargin": true,
           "gridcolor": "#283442",
           "linecolor": "#506784",
           "ticks": "",
           "title": {
            "standoff": 15
           },
           "zerolinecolor": "#283442",
           "zerolinewidth": 2
          },
          "yaxis": {
           "automargin": true,
           "gridcolor": "#283442",
           "linecolor": "#506784",
           "ticks": "",
           "title": {
            "standoff": 15
           },
           "zerolinecolor": "#283442",
           "zerolinewidth": 2
          }
         }
        },
        "title": {
         "text": "Confusion Matrix (Logistic_Regression_Model)"
        },
        "xaxis": {
         "anchor": "y",
         "constrain": "domain",
         "domain": [
          0,
          1
         ],
         "scaleanchor": "y",
         "side": "top",
         "title": {
          "text": "Predicted"
         }
        },
        "yaxis": {
         "anchor": "x",
         "autorange": "reversed",
         "constrain": "domain",
         "domain": [
          0,
          1
         ],
         "title": {
          "text": "True label"
         }
        }
       }
      }
     },
     "metadata": {},
     "output_type": "display_data"
    }
   ],
   "source": [
    "from sklearn.linear_model import LogisticRegression\n",
    "from sklearn.metrics import confusion_matrix\n",
    "\n",
    "model_lr = make_pipeline(\n",
    "    preprocess,\n",
    "    LogisticRegression(penalty='l2', max_iter= 500))\n",
    "model_lr.fit(X_train, y_train.values.ravel())\n",
    "score = model_lr.score(X_test, y_test.values.ravel())\n",
    "print(f'Accuracy (Logistic Regression): ' +\n",
    "      '{:.2f}'.format(score * 100) + ' %')\n",
    "\n",
    "preds = model_lr.predict(X_test)\n",
    "matrix = confusion_matrix(y_test.values.ravel(), preds)\n",
    "\n",
    "import plotly.express as px\n",
    "fig = px.imshow(matrix,\n",
    "                labels=dict(x=\"Predicted\", y=\"True label\"),\n",
    "                x=['High', 'Low'],\n",
    "                y=['High', 'Low'],\n",
    "                text_auto=True\n",
    "                )\n",
    "fig.update_xaxes(side='top')\n",
    "fig.update_layout(template='plotly_dark',\n",
    "                  title='Confusion Matrix (Logistic_Regression_Model)',\n",
    "                  coloraxis_showscale=False,\n",
    "                  paper_bgcolor='rgba(0, 0, 0, 0)',\n",
    "                  plot_bgcolor='rgba(0, 0, 0, 0)')\n",
    "fig.show()"
   ]
  },
  {
   "cell_type": "markdown",
   "metadata": {},
   "source": [
    "**Accuracy varies considerably between classifiers. If we look at the confusion matrix of the second classifier, we see that the class that the algorithm has the most trouble getting right is \"`High Risk`\" (label = 0). While the algorithm's biggest error is in the False Negatives (individuals classified as \"`Low`\" who should be given \"`High`\" risk score). It is worth remembering that given the original distribution of the data (only 25% of samples are labeled \"`High`\") to achieve 75% accuracy on this problem, it would be sufficient for the classifier to label all entries as \"`Low`\".**\n",
    "\n",
    "**Let's now analyze the *coefficients* learned by the model during its training.**"
   ]
  },
  {
   "cell_type": "code",
   "execution_count": 6,
   "metadata": {},
   "outputs": [
    {
     "data": {
      "text/html": [
       "<div>\n",
       "<style scoped>\n",
       "    .dataframe tbody tr th:only-of-type {\n",
       "        vertical-align: middle;\n",
       "    }\n",
       "\n",
       "    .dataframe tbody tr th {\n",
       "        vertical-align: top;\n",
       "    }\n",
       "\n",
       "    .dataframe thead th {\n",
       "        text-align: right;\n",
       "    }\n",
       "</style>\n",
       "<table border=\"1\" class=\"dataframe\">\n",
       "  <thead>\n",
       "    <tr style=\"text-align: right;\">\n",
       "      <th></th>\n",
       "      <th>Coefficients</th>\n",
       "    </tr>\n",
       "  </thead>\n",
       "  <tbody>\n",
       "    <tr>\n",
       "      <th>standardscaler__juv_fel_count</th>\n",
       "      <td>-0.256862</td>\n",
       "    </tr>\n",
       "    <tr>\n",
       "      <th>standardscaler__juv_misd_count</th>\n",
       "      <td>-0.156000</td>\n",
       "    </tr>\n",
       "    <tr>\n",
       "      <th>standardscaler__juv_other_count</th>\n",
       "      <td>-0.120214</td>\n",
       "    </tr>\n",
       "    <tr>\n",
       "      <th>standardscaler__priors_count</th>\n",
       "      <td>-0.779870</td>\n",
       "    </tr>\n",
       "    <tr>\n",
       "      <th>standardscaler__days_b_screening_arrest</th>\n",
       "      <td>-0.040276</td>\n",
       "    </tr>\n",
       "    <tr>\n",
       "      <th>standardscaler__c_days_from_compas</th>\n",
       "      <td>-0.111659</td>\n",
       "    </tr>\n",
       "    <tr>\n",
       "      <th>onehotencoder__sex_Female</th>\n",
       "      <td>0.063771</td>\n",
       "    </tr>\n",
       "    <tr>\n",
       "      <th>onehotencoder__sex_Male</th>\n",
       "      <td>-0.039929</td>\n",
       "    </tr>\n",
       "    <tr>\n",
       "      <th>onehotencoder__age_cat_25 - 45</th>\n",
       "      <td>-0.079381</td>\n",
       "    </tr>\n",
       "    <tr>\n",
       "      <th>onehotencoder__age_cat_Greater than 45</th>\n",
       "      <td>1.108571</td>\n",
       "    </tr>\n",
       "    <tr>\n",
       "      <th>onehotencoder__age_cat_Less than 25</th>\n",
       "      <td>-1.005348</td>\n",
       "    </tr>\n",
       "    <tr>\n",
       "      <th>onehotencoder__race_African-American</th>\n",
       "      <td>-0.620566</td>\n",
       "    </tr>\n",
       "    <tr>\n",
       "      <th>onehotencoder__race_Asian</th>\n",
       "      <td>-0.172628</td>\n",
       "    </tr>\n",
       "    <tr>\n",
       "      <th>onehotencoder__race_Caucasian</th>\n",
       "      <td>-0.089737</td>\n",
       "    </tr>\n",
       "    <tr>\n",
       "      <th>onehotencoder__race_Hispanic</th>\n",
       "      <td>0.151108</td>\n",
       "    </tr>\n",
       "    <tr>\n",
       "      <th>onehotencoder__race_Native American</th>\n",
       "      <td>-0.350460</td>\n",
       "    </tr>\n",
       "    <tr>\n",
       "      <th>onehotencoder__race_Other</th>\n",
       "      <td>1.106126</td>\n",
       "    </tr>\n",
       "    <tr>\n",
       "      <th>onehotencoder__c_charge_degree_(CO3)</th>\n",
       "      <td>0.277892</td>\n",
       "    </tr>\n",
       "    <tr>\n",
       "      <th>onehotencoder__c_charge_degree_(F1)</th>\n",
       "      <td>-0.376898</td>\n",
       "    </tr>\n",
       "    <tr>\n",
       "      <th>onehotencoder__c_charge_degree_(F2)</th>\n",
       "      <td>-0.254710</td>\n",
       "    </tr>\n",
       "    <tr>\n",
       "      <th>onehotencoder__c_charge_degree_(F3)</th>\n",
       "      <td>-0.393149</td>\n",
       "    </tr>\n",
       "    <tr>\n",
       "      <th>onehotencoder__c_charge_degree_(F5)</th>\n",
       "      <td>1.102318</td>\n",
       "    </tr>\n",
       "    <tr>\n",
       "      <th>onehotencoder__c_charge_degree_(F6)</th>\n",
       "      <td>0.417419</td>\n",
       "    </tr>\n",
       "    <tr>\n",
       "      <th>onehotencoder__c_charge_degree_(F7)</th>\n",
       "      <td>0.003908</td>\n",
       "    </tr>\n",
       "    <tr>\n",
       "      <th>onehotencoder__c_charge_degree_(M1)</th>\n",
       "      <td>0.087954</td>\n",
       "    </tr>\n",
       "    <tr>\n",
       "      <th>onehotencoder__c_charge_degree_(M2)</th>\n",
       "      <td>-0.182335</td>\n",
       "    </tr>\n",
       "    <tr>\n",
       "      <th>onehotencoder__c_charge_degree_(MO3)</th>\n",
       "      <td>-0.724421</td>\n",
       "    </tr>\n",
       "    <tr>\n",
       "      <th>onehotencoder__c_charge_degree_(NI0)</th>\n",
       "      <td>-0.338534</td>\n",
       "    </tr>\n",
       "    <tr>\n",
       "      <th>onehotencoder__c_charge_degree_(TCX)</th>\n",
       "      <td>0.232710</td>\n",
       "    </tr>\n",
       "    <tr>\n",
       "      <th>onehotencoder__c_charge_degree_(X)</th>\n",
       "      <td>0.171688</td>\n",
       "    </tr>\n",
       "    <tr>\n",
       "      <th>onehotencoder__is_recid_-1</th>\n",
       "      <td>0.017816</td>\n",
       "    </tr>\n",
       "    <tr>\n",
       "      <th>onehotencoder__is_recid_0</th>\n",
       "      <td>0.194382</td>\n",
       "    </tr>\n",
       "    <tr>\n",
       "      <th>onehotencoder__is_recid_1</th>\n",
       "      <td>-0.188356</td>\n",
       "    </tr>\n",
       "    <tr>\n",
       "      <th>onehotencoder__is_violent_recid_0</th>\n",
       "      <td>0.155762</td>\n",
       "    </tr>\n",
       "    <tr>\n",
       "      <th>onehotencoder__is_violent_recid_1</th>\n",
       "      <td>-0.131920</td>\n",
       "    </tr>\n",
       "  </tbody>\n",
       "</table>\n",
       "</div>"
      ],
      "text/plain": [
       "                                         Coefficients\n",
       "standardscaler__juv_fel_count               -0.256862\n",
       "standardscaler__juv_misd_count              -0.156000\n",
       "standardscaler__juv_other_count             -0.120214\n",
       "standardscaler__priors_count                -0.779870\n",
       "standardscaler__days_b_screening_arrest     -0.040276\n",
       "standardscaler__c_days_from_compas          -0.111659\n",
       "onehotencoder__sex_Female                    0.063771\n",
       "onehotencoder__sex_Male                     -0.039929\n",
       "onehotencoder__age_cat_25 - 45              -0.079381\n",
       "onehotencoder__age_cat_Greater than 45       1.108571\n",
       "onehotencoder__age_cat_Less than 25         -1.005348\n",
       "onehotencoder__race_African-American        -0.620566\n",
       "onehotencoder__race_Asian                   -0.172628\n",
       "onehotencoder__race_Caucasian               -0.089737\n",
       "onehotencoder__race_Hispanic                 0.151108\n",
       "onehotencoder__race_Native American         -0.350460\n",
       "onehotencoder__race_Other                    1.106126\n",
       "onehotencoder__c_charge_degree_(CO3)         0.277892\n",
       "onehotencoder__c_charge_degree_(F1)         -0.376898\n",
       "onehotencoder__c_charge_degree_(F2)         -0.254710\n",
       "onehotencoder__c_charge_degree_(F3)         -0.393149\n",
       "onehotencoder__c_charge_degree_(F5)          1.102318\n",
       "onehotencoder__c_charge_degree_(F6)          0.417419\n",
       "onehotencoder__c_charge_degree_(F7)          0.003908\n",
       "onehotencoder__c_charge_degree_(M1)          0.087954\n",
       "onehotencoder__c_charge_degree_(M2)         -0.182335\n",
       "onehotencoder__c_charge_degree_(MO3)        -0.724421\n",
       "onehotencoder__c_charge_degree_(NI0)        -0.338534\n",
       "onehotencoder__c_charge_degree_(TCX)         0.232710\n",
       "onehotencoder__c_charge_degree_(X)           0.171688\n",
       "onehotencoder__is_recid_-1                   0.017816\n",
       "onehotencoder__is_recid_0                    0.194382\n",
       "onehotencoder__is_recid_1                   -0.188356\n",
       "onehotencoder__is_violent_recid_0            0.155762\n",
       "onehotencoder__is_violent_recid_1           -0.131920"
      ]
     },
     "metadata": {},
     "output_type": "display_data"
    },
    {
     "data": {
      "application/vnd.plotly.v1+json": {
       "config": {
        "plotlyServerURL": "https://plot.ly"
       },
       "data": [
        {
         "orientation": "h",
         "type": "bar",
         "x": [
          -0.25686220779566904,
          -0.15599984111962062,
          -0.12021359893656336,
          -0.7798704846437537,
          -0.04027553712141761,
          -0.11165906636993383,
          0.06377086884506648,
          -0.039928718559706394,
          -0.07938083013631876,
          1.1085708549896123,
          -1.0053478745679356,
          -0.6205659399071656,
          -0.17262846594540246,
          -0.08973669343024952,
          0.15110820816985102,
          -0.35046048046587946,
          1.1061255218642145,
          0.27789212811614333,
          -0.3768976071370427,
          -0.2547102019377269,
          -0.3931490793654183,
          1.1023180409139965,
          0.41741944468502595,
          0.003907814832876151,
          0.08795352012937209,
          -0.18233527697144072,
          -0.7244206124597213,
          -0.3385338397887094,
          0.23270952832290256,
          0.17168829094512786,
          0.017815883267364857,
          0.19438241503088405,
          -0.18835614801286457,
          0.15576222847422372,
          -0.13192007818885151
         ],
         "y": [
          "standardscaler__juv_fel_count",
          "standardscaler__juv_misd_count",
          "standardscaler__juv_other_count",
          "standardscaler__priors_count",
          "standardscaler__days_b_screening_arrest",
          "standardscaler__c_days_from_compas",
          "onehotencoder__sex_Female",
          "onehotencoder__sex_Male",
          "onehotencoder__age_cat_25 - 45",
          "onehotencoder__age_cat_Greater than 45",
          "onehotencoder__age_cat_Less than 25",
          "onehotencoder__race_African-American",
          "onehotencoder__race_Asian",
          "onehotencoder__race_Caucasian",
          "onehotencoder__race_Hispanic",
          "onehotencoder__race_Native American",
          "onehotencoder__race_Other",
          "onehotencoder__c_charge_degree_(CO3)",
          "onehotencoder__c_charge_degree_(F1)",
          "onehotencoder__c_charge_degree_(F2)",
          "onehotencoder__c_charge_degree_(F3)",
          "onehotencoder__c_charge_degree_(F5)",
          "onehotencoder__c_charge_degree_(F6)",
          "onehotencoder__c_charge_degree_(F7)",
          "onehotencoder__c_charge_degree_(M1)",
          "onehotencoder__c_charge_degree_(M2)",
          "onehotencoder__c_charge_degree_(MO3)",
          "onehotencoder__c_charge_degree_(NI0)",
          "onehotencoder__c_charge_degree_(TCX)",
          "onehotencoder__c_charge_degree_(X)",
          "onehotencoder__is_recid_-1",
          "onehotencoder__is_recid_0",
          "onehotencoder__is_recid_1",
          "onehotencoder__is_violent_recid_0",
          "onehotencoder__is_violent_recid_1"
         ]
        }
       ],
       "layout": {
        "paper_bgcolor": "rgba(0, 0, 0, 0)",
        "plot_bgcolor": "rgba(0, 0, 0, 0)",
        "template": {
         "data": {
          "bar": [
           {
            "error_x": {
             "color": "#f2f5fa"
            },
            "error_y": {
             "color": "#f2f5fa"
            },
            "marker": {
             "line": {
              "color": "rgb(17,17,17)",
              "width": 0.5
             },
             "pattern": {
              "fillmode": "overlay",
              "size": 10,
              "solidity": 0.2
             }
            },
            "type": "bar"
           }
          ],
          "barpolar": [
           {
            "marker": {
             "line": {
              "color": "rgb(17,17,17)",
              "width": 0.5
             },
             "pattern": {
              "fillmode": "overlay",
              "size": 10,
              "solidity": 0.2
             }
            },
            "type": "barpolar"
           }
          ],
          "carpet": [
           {
            "aaxis": {
             "endlinecolor": "#A2B1C6",
             "gridcolor": "#506784",
             "linecolor": "#506784",
             "minorgridcolor": "#506784",
             "startlinecolor": "#A2B1C6"
            },
            "baxis": {
             "endlinecolor": "#A2B1C6",
             "gridcolor": "#506784",
             "linecolor": "#506784",
             "minorgridcolor": "#506784",
             "startlinecolor": "#A2B1C6"
            },
            "type": "carpet"
           }
          ],
          "choropleth": [
           {
            "colorbar": {
             "outlinewidth": 0,
             "ticks": ""
            },
            "type": "choropleth"
           }
          ],
          "contour": [
           {
            "colorbar": {
             "outlinewidth": 0,
             "ticks": ""
            },
            "colorscale": [
             [
              0,
              "#0d0887"
             ],
             [
              0.1111111111111111,
              "#46039f"
             ],
             [
              0.2222222222222222,
              "#7201a8"
             ],
             [
              0.3333333333333333,
              "#9c179e"
             ],
             [
              0.4444444444444444,
              "#bd3786"
             ],
             [
              0.5555555555555556,
              "#d8576b"
             ],
             [
              0.6666666666666666,
              "#ed7953"
             ],
             [
              0.7777777777777778,
              "#fb9f3a"
             ],
             [
              0.8888888888888888,
              "#fdca26"
             ],
             [
              1,
              "#f0f921"
             ]
            ],
            "type": "contour"
           }
          ],
          "contourcarpet": [
           {
            "colorbar": {
             "outlinewidth": 0,
             "ticks": ""
            },
            "type": "contourcarpet"
           }
          ],
          "heatmap": [
           {
            "colorbar": {
             "outlinewidth": 0,
             "ticks": ""
            },
            "colorscale": [
             [
              0,
              "#0d0887"
             ],
             [
              0.1111111111111111,
              "#46039f"
             ],
             [
              0.2222222222222222,
              "#7201a8"
             ],
             [
              0.3333333333333333,
              "#9c179e"
             ],
             [
              0.4444444444444444,
              "#bd3786"
             ],
             [
              0.5555555555555556,
              "#d8576b"
             ],
             [
              0.6666666666666666,
              "#ed7953"
             ],
             [
              0.7777777777777778,
              "#fb9f3a"
             ],
             [
              0.8888888888888888,
              "#fdca26"
             ],
             [
              1,
              "#f0f921"
             ]
            ],
            "type": "heatmap"
           }
          ],
          "heatmapgl": [
           {
            "colorbar": {
             "outlinewidth": 0,
             "ticks": ""
            },
            "colorscale": [
             [
              0,
              "#0d0887"
             ],
             [
              0.1111111111111111,
              "#46039f"
             ],
             [
              0.2222222222222222,
              "#7201a8"
             ],
             [
              0.3333333333333333,
              "#9c179e"
             ],
             [
              0.4444444444444444,
              "#bd3786"
             ],
             [
              0.5555555555555556,
              "#d8576b"
             ],
             [
              0.6666666666666666,
              "#ed7953"
             ],
             [
              0.7777777777777778,
              "#fb9f3a"
             ],
             [
              0.8888888888888888,
              "#fdca26"
             ],
             [
              1,
              "#f0f921"
             ]
            ],
            "type": "heatmapgl"
           }
          ],
          "histogram": [
           {
            "marker": {
             "pattern": {
              "fillmode": "overlay",
              "size": 10,
              "solidity": 0.2
             }
            },
            "type": "histogram"
           }
          ],
          "histogram2d": [
           {
            "colorbar": {
             "outlinewidth": 0,
             "ticks": ""
            },
            "colorscale": [
             [
              0,
              "#0d0887"
             ],
             [
              0.1111111111111111,
              "#46039f"
             ],
             [
              0.2222222222222222,
              "#7201a8"
             ],
             [
              0.3333333333333333,
              "#9c179e"
             ],
             [
              0.4444444444444444,
              "#bd3786"
             ],
             [
              0.5555555555555556,
              "#d8576b"
             ],
             [
              0.6666666666666666,
              "#ed7953"
             ],
             [
              0.7777777777777778,
              "#fb9f3a"
             ],
             [
              0.8888888888888888,
              "#fdca26"
             ],
             [
              1,
              "#f0f921"
             ]
            ],
            "type": "histogram2d"
           }
          ],
          "histogram2dcontour": [
           {
            "colorbar": {
             "outlinewidth": 0,
             "ticks": ""
            },
            "colorscale": [
             [
              0,
              "#0d0887"
             ],
             [
              0.1111111111111111,
              "#46039f"
             ],
             [
              0.2222222222222222,
              "#7201a8"
             ],
             [
              0.3333333333333333,
              "#9c179e"
             ],
             [
              0.4444444444444444,
              "#bd3786"
             ],
             [
              0.5555555555555556,
              "#d8576b"
             ],
             [
              0.6666666666666666,
              "#ed7953"
             ],
             [
              0.7777777777777778,
              "#fb9f3a"
             ],
             [
              0.8888888888888888,
              "#fdca26"
             ],
             [
              1,
              "#f0f921"
             ]
            ],
            "type": "histogram2dcontour"
           }
          ],
          "mesh3d": [
           {
            "colorbar": {
             "outlinewidth": 0,
             "ticks": ""
            },
            "type": "mesh3d"
           }
          ],
          "parcoords": [
           {
            "line": {
             "colorbar": {
              "outlinewidth": 0,
              "ticks": ""
             }
            },
            "type": "parcoords"
           }
          ],
          "pie": [
           {
            "automargin": true,
            "type": "pie"
           }
          ],
          "scatter": [
           {
            "marker": {
             "line": {
              "color": "#283442"
             }
            },
            "type": "scatter"
           }
          ],
          "scatter3d": [
           {
            "line": {
             "colorbar": {
              "outlinewidth": 0,
              "ticks": ""
             }
            },
            "marker": {
             "colorbar": {
              "outlinewidth": 0,
              "ticks": ""
             }
            },
            "type": "scatter3d"
           }
          ],
          "scattercarpet": [
           {
            "marker": {
             "colorbar": {
              "outlinewidth": 0,
              "ticks": ""
             }
            },
            "type": "scattercarpet"
           }
          ],
          "scattergeo": [
           {
            "marker": {
             "colorbar": {
              "outlinewidth": 0,
              "ticks": ""
             }
            },
            "type": "scattergeo"
           }
          ],
          "scattergl": [
           {
            "marker": {
             "line": {
              "color": "#283442"
             }
            },
            "type": "scattergl"
           }
          ],
          "scattermapbox": [
           {
            "marker": {
             "colorbar": {
              "outlinewidth": 0,
              "ticks": ""
             }
            },
            "type": "scattermapbox"
           }
          ],
          "scatterpolar": [
           {
            "marker": {
             "colorbar": {
              "outlinewidth": 0,
              "ticks": ""
             }
            },
            "type": "scatterpolar"
           }
          ],
          "scatterpolargl": [
           {
            "marker": {
             "colorbar": {
              "outlinewidth": 0,
              "ticks": ""
             }
            },
            "type": "scatterpolargl"
           }
          ],
          "scatterternary": [
           {
            "marker": {
             "colorbar": {
              "outlinewidth": 0,
              "ticks": ""
             }
            },
            "type": "scatterternary"
           }
          ],
          "surface": [
           {
            "colorbar": {
             "outlinewidth": 0,
             "ticks": ""
            },
            "colorscale": [
             [
              0,
              "#0d0887"
             ],
             [
              0.1111111111111111,
              "#46039f"
             ],
             [
              0.2222222222222222,
              "#7201a8"
             ],
             [
              0.3333333333333333,
              "#9c179e"
             ],
             [
              0.4444444444444444,
              "#bd3786"
             ],
             [
              0.5555555555555556,
              "#d8576b"
             ],
             [
              0.6666666666666666,
              "#ed7953"
             ],
             [
              0.7777777777777778,
              "#fb9f3a"
             ],
             [
              0.8888888888888888,
              "#fdca26"
             ],
             [
              1,
              "#f0f921"
             ]
            ],
            "type": "surface"
           }
          ],
          "table": [
           {
            "cells": {
             "fill": {
              "color": "#506784"
             },
             "line": {
              "color": "rgb(17,17,17)"
             }
            },
            "header": {
             "fill": {
              "color": "#2a3f5f"
             },
             "line": {
              "color": "rgb(17,17,17)"
             }
            },
            "type": "table"
           }
          ]
         },
         "layout": {
          "annotationdefaults": {
           "arrowcolor": "#f2f5fa",
           "arrowhead": 0,
           "arrowwidth": 1
          },
          "autotypenumbers": "strict",
          "coloraxis": {
           "colorbar": {
            "outlinewidth": 0,
            "ticks": ""
           }
          },
          "colorscale": {
           "diverging": [
            [
             0,
             "#8e0152"
            ],
            [
             0.1,
             "#c51b7d"
            ],
            [
             0.2,
             "#de77ae"
            ],
            [
             0.3,
             "#f1b6da"
            ],
            [
             0.4,
             "#fde0ef"
            ],
            [
             0.5,
             "#f7f7f7"
            ],
            [
             0.6,
             "#e6f5d0"
            ],
            [
             0.7,
             "#b8e186"
            ],
            [
             0.8,
             "#7fbc41"
            ],
            [
             0.9,
             "#4d9221"
            ],
            [
             1,
             "#276419"
            ]
           ],
           "sequential": [
            [
             0,
             "#0d0887"
            ],
            [
             0.1111111111111111,
             "#46039f"
            ],
            [
             0.2222222222222222,
             "#7201a8"
            ],
            [
             0.3333333333333333,
             "#9c179e"
            ],
            [
             0.4444444444444444,
             "#bd3786"
            ],
            [
             0.5555555555555556,
             "#d8576b"
            ],
            [
             0.6666666666666666,
             "#ed7953"
            ],
            [
             0.7777777777777778,
             "#fb9f3a"
            ],
            [
             0.8888888888888888,
             "#fdca26"
            ],
            [
             1,
             "#f0f921"
            ]
           ],
           "sequentialminus": [
            [
             0,
             "#0d0887"
            ],
            [
             0.1111111111111111,
             "#46039f"
            ],
            [
             0.2222222222222222,
             "#7201a8"
            ],
            [
             0.3333333333333333,
             "#9c179e"
            ],
            [
             0.4444444444444444,
             "#bd3786"
            ],
            [
             0.5555555555555556,
             "#d8576b"
            ],
            [
             0.6666666666666666,
             "#ed7953"
            ],
            [
             0.7777777777777778,
             "#fb9f3a"
            ],
            [
             0.8888888888888888,
             "#fdca26"
            ],
            [
             1,
             "#f0f921"
            ]
           ]
          },
          "colorway": [
           "#636efa",
           "#EF553B",
           "#00cc96",
           "#ab63fa",
           "#FFA15A",
           "#19d3f3",
           "#FF6692",
           "#B6E880",
           "#FF97FF",
           "#FECB52"
          ],
          "font": {
           "color": "#f2f5fa"
          },
          "geo": {
           "bgcolor": "rgb(17,17,17)",
           "lakecolor": "rgb(17,17,17)",
           "landcolor": "rgb(17,17,17)",
           "showlakes": true,
           "showland": true,
           "subunitcolor": "#506784"
          },
          "hoverlabel": {
           "align": "left"
          },
          "hovermode": "closest",
          "mapbox": {
           "style": "dark"
          },
          "paper_bgcolor": "rgb(17,17,17)",
          "plot_bgcolor": "rgb(17,17,17)",
          "polar": {
           "angularaxis": {
            "gridcolor": "#506784",
            "linecolor": "#506784",
            "ticks": ""
           },
           "bgcolor": "rgb(17,17,17)",
           "radialaxis": {
            "gridcolor": "#506784",
            "linecolor": "#506784",
            "ticks": ""
           }
          },
          "scene": {
           "xaxis": {
            "backgroundcolor": "rgb(17,17,17)",
            "gridcolor": "#506784",
            "gridwidth": 2,
            "linecolor": "#506784",
            "showbackground": true,
            "ticks": "",
            "zerolinecolor": "#C8D4E3"
           },
           "yaxis": {
            "backgroundcolor": "rgb(17,17,17)",
            "gridcolor": "#506784",
            "gridwidth": 2,
            "linecolor": "#506784",
            "showbackground": true,
            "ticks": "",
            "zerolinecolor": "#C8D4E3"
           },
           "zaxis": {
            "backgroundcolor": "rgb(17,17,17)",
            "gridcolor": "#506784",
            "gridwidth": 2,
            "linecolor": "#506784",
            "showbackground": true,
            "ticks": "",
            "zerolinecolor": "#C8D4E3"
           }
          },
          "shapedefaults": {
           "line": {
            "color": "#f2f5fa"
           }
          },
          "sliderdefaults": {
           "bgcolor": "#C8D4E3",
           "bordercolor": "rgb(17,17,17)",
           "borderwidth": 1,
           "tickwidth": 0
          },
          "ternary": {
           "aaxis": {
            "gridcolor": "#506784",
            "linecolor": "#506784",
            "ticks": ""
           },
           "baxis": {
            "gridcolor": "#506784",
            "linecolor": "#506784",
            "ticks": ""
           },
           "bgcolor": "rgb(17,17,17)",
           "caxis": {
            "gridcolor": "#506784",
            "linecolor": "#506784",
            "ticks": ""
           }
          },
          "title": {
           "x": 0.05
          },
          "updatemenudefaults": {
           "bgcolor": "#506784",
           "borderwidth": 0
          },
          "xaxis": {
           "automargin": true,
           "gridcolor": "#283442",
           "linecolor": "#506784",
           "ticks": "",
           "title": {
            "standoff": 15
           },
           "zerolinecolor": "#283442",
           "zerolinewidth": 2
          },
          "yaxis": {
           "automargin": true,
           "gridcolor": "#283442",
           "linecolor": "#506784",
           "ticks": "",
           "title": {
            "standoff": 15
           },
           "zerolinecolor": "#283442",
           "zerolinewidth": 2
          }
         }
        },
        "title": {
         "text": "LogisticRegression Coefficients"
        },
        "xaxis": {
         "dtick": 0.5,
         "range": [
          -1.105882662024729,
          1.2194279404885735
         ],
         "tick0": 0,
         "tickmode": "linear"
        }
       }
      }
     },
     "metadata": {},
     "output_type": "display_data"
    }
   ],
   "source": [
    "coefs = pd.DataFrame(\n",
    "    model_lr[-1].coef_,\n",
    "    columns=model_lr[:-1].get_feature_names_out(),\n",
    "    index=['Coefficients']).transpose()\n",
    "\n",
    "display(coefs)\n",
    "import plotly.graph_objects as go\n",
    "\n",
    "fig = go.Figure(go.Bar(\n",
    "    x=coefs['Coefficients'],\n",
    "    y=model_lr[:-1].get_feature_names_out(),\n",
    "    orientation='h'))\n",
    "fig.update_xaxes(range=[model_lr[-1].coef_.min(\n",
    ") + (model_lr[-1].coef_.min() * 0.1), model_lr[-1].coef_.max() + (model_lr[-1].coef_.max() * 0.1)])\n",
    "fig.update_layout(\n",
    "    xaxis=dict(\n",
    "        tickmode='linear',\n",
    "        tick0=0,\n",
    "        dtick=0.5\n",
    "    ),\n",
    "    template='plotly_dark',\n",
    "    title_text='LogisticRegression Coefficients',\n",
    "    paper_bgcolor='rgba(0, 0, 0, 0)',\n",
    "    plot_bgcolor='rgba(0, 0, 0, 0)'\n",
    "\n",
    ")\n",
    "fig.show()"
   ]
  },
  {
   "cell_type": "markdown",
   "metadata": {},
   "source": [
    "**At first glance, several things seem to contribute equally to this classifier.**\n",
    "\n",
    "**However, we need to be cautious when interpreting coefficients from linear models. Since each feature represents a _measured quantity on its own scale_, it doesn't make sense to compare them:**\n",
    "\n",
    "- **E.g., age can range from, e.g.,  16 to 100, but binary features only from 0 to 1. _This does not mean that an age of 100 has 100 times more weight than a feature with gender_.**\n",
    "\n",
    "**To get a more correct view, we first need to normalize these values by their `standard deviation` (something that brings all the values to a common scale).**"
   ]
  },
  {
   "cell_type": "code",
   "execution_count": 7,
   "metadata": {},
   "outputs": [
    {
     "data": {
      "text/html": [
       "<div>\n",
       "<style scoped>\n",
       "    .dataframe tbody tr th:only-of-type {\n",
       "        vertical-align: middle;\n",
       "    }\n",
       "\n",
       "    .dataframe tbody tr th {\n",
       "        vertical-align: top;\n",
       "    }\n",
       "\n",
       "    .dataframe thead th {\n",
       "        text-align: right;\n",
       "    }\n",
       "</style>\n",
       "<table border=\"1\" class=\"dataframe\">\n",
       "  <thead>\n",
       "    <tr style=\"text-align: right;\">\n",
       "      <th></th>\n",
       "      <th>Coefficients (Normalized by STD)</th>\n",
       "    </tr>\n",
       "  </thead>\n",
       "  <tbody>\n",
       "    <tr>\n",
       "      <th>standardscaler__juv_fel_count</th>\n",
       "      <td>-0.256872</td>\n",
       "    </tr>\n",
       "    <tr>\n",
       "      <th>standardscaler__juv_misd_count</th>\n",
       "      <td>-0.156006</td>\n",
       "    </tr>\n",
       "    <tr>\n",
       "      <th>standardscaler__juv_other_count</th>\n",
       "      <td>-0.120218</td>\n",
       "    </tr>\n",
       "    <tr>\n",
       "      <th>standardscaler__priors_count</th>\n",
       "      <td>-0.779899</td>\n",
       "    </tr>\n",
       "    <tr>\n",
       "      <th>standardscaler__days_b_screening_arrest</th>\n",
       "      <td>-0.040277</td>\n",
       "    </tr>\n",
       "    <tr>\n",
       "      <th>standardscaler__c_days_from_compas</th>\n",
       "      <td>-0.111663</td>\n",
       "    </tr>\n",
       "    <tr>\n",
       "      <th>onehotencoder__sex_Female</th>\n",
       "      <td>0.024641</td>\n",
       "    </tr>\n",
       "    <tr>\n",
       "      <th>onehotencoder__sex_Male</th>\n",
       "      <td>-0.015429</td>\n",
       "    </tr>\n",
       "    <tr>\n",
       "      <th>onehotencoder__age_cat_25 - 45</th>\n",
       "      <td>-0.039286</td>\n",
       "    </tr>\n",
       "    <tr>\n",
       "      <th>onehotencoder__age_cat_Greater than 45</th>\n",
       "      <td>0.439112</td>\n",
       "    </tr>\n",
       "    <tr>\n",
       "      <th>onehotencoder__age_cat_Less than 25</th>\n",
       "      <td>-0.425563</td>\n",
       "    </tr>\n",
       "    <tr>\n",
       "      <th>onehotencoder__race_African-American</th>\n",
       "      <td>-0.309417</td>\n",
       "    </tr>\n",
       "    <tr>\n",
       "      <th>onehotencoder__race_Asian</th>\n",
       "      <td>-0.009908</td>\n",
       "    </tr>\n",
       "    <tr>\n",
       "      <th>onehotencoder__race_Caucasian</th>\n",
       "      <td>-0.042336</td>\n",
       "    </tr>\n",
       "    <tr>\n",
       "      <th>onehotencoder__race_Hispanic</th>\n",
       "      <td>0.039853</td>\n",
       "    </tr>\n",
       "    <tr>\n",
       "      <th>onehotencoder__race_Native American</th>\n",
       "      <td>-0.018246</td>\n",
       "    </tr>\n",
       "    <tr>\n",
       "      <th>onehotencoder__race_Other</th>\n",
       "      <td>0.233776</td>\n",
       "    </tr>\n",
       "    <tr>\n",
       "      <th>onehotencoder__c_charge_degree_(CO3)</th>\n",
       "      <td>0.005325</td>\n",
       "    </tr>\n",
       "    <tr>\n",
       "      <th>onehotencoder__c_charge_degree_(F1)</th>\n",
       "      <td>-0.047417</td>\n",
       "    </tr>\n",
       "    <tr>\n",
       "      <th>onehotencoder__c_charge_degree_(F2)</th>\n",
       "      <td>-0.071720</td>\n",
       "    </tr>\n",
       "    <tr>\n",
       "      <th>onehotencoder__c_charge_degree_(F3)</th>\n",
       "      <td>-0.192854</td>\n",
       "    </tr>\n",
       "    <tr>\n",
       "      <th>onehotencoder__c_charge_degree_(F5)</th>\n",
       "      <td>0.032712</td>\n",
       "    </tr>\n",
       "    <tr>\n",
       "      <th>onehotencoder__c_charge_degree_(F6)</th>\n",
       "      <td>0.011860</td>\n",
       "    </tr>\n",
       "    <tr>\n",
       "      <th>onehotencoder__c_charge_degree_(F7)</th>\n",
       "      <td>0.000398</td>\n",
       "    </tr>\n",
       "    <tr>\n",
       "      <th>onehotencoder__c_charge_degree_(M1)</th>\n",
       "      <td>0.035719</td>\n",
       "    </tr>\n",
       "    <tr>\n",
       "      <th>onehotencoder__c_charge_degree_(M2)</th>\n",
       "      <td>-0.046523</td>\n",
       "    </tr>\n",
       "    <tr>\n",
       "      <th>onehotencoder__c_charge_degree_(MO3)</th>\n",
       "      <td>-0.066012</td>\n",
       "    </tr>\n",
       "    <tr>\n",
       "      <th>onehotencoder__c_charge_degree_(NI0)</th>\n",
       "      <td>-0.009619</td>\n",
       "    </tr>\n",
       "    <tr>\n",
       "      <th>onehotencoder__c_charge_degree_(TCX)</th>\n",
       "      <td>0.001994</td>\n",
       "    </tr>\n",
       "    <tr>\n",
       "      <th>onehotencoder__c_charge_degree_(X)</th>\n",
       "      <td>0.001471</td>\n",
       "    </tr>\n",
       "    <tr>\n",
       "      <th>onehotencoder__is_recid_-1</th>\n",
       "      <td>0.000153</td>\n",
       "    </tr>\n",
       "    <tr>\n",
       "      <th>onehotencoder__is_recid_0</th>\n",
       "      <td>0.097174</td>\n",
       "    </tr>\n",
       "    <tr>\n",
       "      <th>onehotencoder__is_recid_1</th>\n",
       "      <td>-0.094161</td>\n",
       "    </tr>\n",
       "    <tr>\n",
       "      <th>onehotencoder__is_violent_recid_0</th>\n",
       "      <td>0.041592</td>\n",
       "    </tr>\n",
       "    <tr>\n",
       "      <th>onehotencoder__is_violent_recid_1</th>\n",
       "      <td>-0.035226</td>\n",
       "    </tr>\n",
       "  </tbody>\n",
       "</table>\n",
       "</div>"
      ],
      "text/plain": [
       "                                         Coefficients (Normalized by STD)\n",
       "standardscaler__juv_fel_count                                   -0.256872\n",
       "standardscaler__juv_misd_count                                  -0.156006\n",
       "standardscaler__juv_other_count                                 -0.120218\n",
       "standardscaler__priors_count                                    -0.779899\n",
       "standardscaler__days_b_screening_arrest                         -0.040277\n",
       "standardscaler__c_days_from_compas                              -0.111663\n",
       "onehotencoder__sex_Female                                        0.024641\n",
       "onehotencoder__sex_Male                                         -0.015429\n",
       "onehotencoder__age_cat_25 - 45                                  -0.039286\n",
       "onehotencoder__age_cat_Greater than 45                           0.439112\n",
       "onehotencoder__age_cat_Less than 25                             -0.425563\n",
       "onehotencoder__race_African-American                            -0.309417\n",
       "onehotencoder__race_Asian                                       -0.009908\n",
       "onehotencoder__race_Caucasian                                   -0.042336\n",
       "onehotencoder__race_Hispanic                                     0.039853\n",
       "onehotencoder__race_Native American                             -0.018246\n",
       "onehotencoder__race_Other                                        0.233776\n",
       "onehotencoder__c_charge_degree_(CO3)                             0.005325\n",
       "onehotencoder__c_charge_degree_(F1)                             -0.047417\n",
       "onehotencoder__c_charge_degree_(F2)                             -0.071720\n",
       "onehotencoder__c_charge_degree_(F3)                             -0.192854\n",
       "onehotencoder__c_charge_degree_(F5)                              0.032712\n",
       "onehotencoder__c_charge_degree_(F6)                              0.011860\n",
       "onehotencoder__c_charge_degree_(F7)                              0.000398\n",
       "onehotencoder__c_charge_degree_(M1)                              0.035719\n",
       "onehotencoder__c_charge_degree_(M2)                             -0.046523\n",
       "onehotencoder__c_charge_degree_(MO3)                            -0.066012\n",
       "onehotencoder__c_charge_degree_(NI0)                            -0.009619\n",
       "onehotencoder__c_charge_degree_(TCX)                             0.001994\n",
       "onehotencoder__c_charge_degree_(X)                               0.001471\n",
       "onehotencoder__is_recid_-1                                       0.000153\n",
       "onehotencoder__is_recid_0                                        0.097174\n",
       "onehotencoder__is_recid_1                                       -0.094161\n",
       "onehotencoder__is_violent_recid_0                                0.041592\n",
       "onehotencoder__is_violent_recid_1                               -0.035226"
      ]
     },
     "metadata": {},
     "output_type": "display_data"
    },
    {
     "data": {
      "application/vnd.plotly.v1+json": {
       "config": {
        "plotlyServerURL": "https://plot.ly"
       },
       "data": [
        {
         "orientation": "h",
         "type": "bar",
         "x": [
          -0.25687164137474544,
          -0.15600557040478769,
          -0.12021801392817057,
          -0.7798991263421545,
          -0.04027701628983068,
          -0.11166316718585859,
          0.024641497058097157,
          -0.015428728175446717,
          -0.03928644723993165,
          0.43911197857509976,
          -0.42556330238479206,
          -0.3094172149191305,
          -0.00990847677977877,
          -0.04233557703163995,
          0.03985349836886827,
          -0.018245514745122326,
          0.23377615357586912,
          0.005324619930588764,
          -0.04741669840840846,
          -0.0717201764364413,
          -0.1928535991187468,
          0.03271245900281433,
          0.011860435449641046,
          0.00039839725447014264,
          0.03571855482462669,
          -0.04652288194161029,
          -0.06601224417676732,
          -0.009619002673348979,
          0.0019943682105140236,
          0.0014714037368651516,
          0.00015268576016947,
          0.09717377803881923,
          -0.09416089622938295,
          0.04159249813270892,
          -0.03522603431835605
         ],
         "y": [
          "standardscaler__juv_fel_count",
          "standardscaler__juv_misd_count",
          "standardscaler__juv_other_count",
          "standardscaler__priors_count",
          "standardscaler__days_b_screening_arrest",
          "standardscaler__c_days_from_compas",
          "onehotencoder__sex_Female",
          "onehotencoder__sex_Male",
          "onehotencoder__age_cat_25 - 45",
          "onehotencoder__age_cat_Greater than 45",
          "onehotencoder__age_cat_Less than 25",
          "onehotencoder__race_African-American",
          "onehotencoder__race_Asian",
          "onehotencoder__race_Caucasian",
          "onehotencoder__race_Hispanic",
          "onehotencoder__race_Native American",
          "onehotencoder__race_Other",
          "onehotencoder__c_charge_degree_(CO3)",
          "onehotencoder__c_charge_degree_(F1)",
          "onehotencoder__c_charge_degree_(F2)",
          "onehotencoder__c_charge_degree_(F3)",
          "onehotencoder__c_charge_degree_(F5)",
          "onehotencoder__c_charge_degree_(F6)",
          "onehotencoder__c_charge_degree_(F7)",
          "onehotencoder__c_charge_degree_(M1)",
          "onehotencoder__c_charge_degree_(M2)",
          "onehotencoder__c_charge_degree_(MO3)",
          "onehotencoder__c_charge_degree_(NI0)",
          "onehotencoder__c_charge_degree_(TCX)",
          "onehotencoder__c_charge_degree_(X)",
          "onehotencoder__is_recid_-1",
          "onehotencoder__is_recid_0",
          "onehotencoder__is_recid_1",
          "onehotencoder__is_violent_recid_0",
          "onehotencoder__is_violent_recid_1"
         ]
        }
       ],
       "layout": {
        "paper_bgcolor": "rgba(0, 0, 0, 0)",
        "plot_bgcolor": "rgba(0, 0, 0, 0)",
        "template": {
         "data": {
          "bar": [
           {
            "error_x": {
             "color": "#f2f5fa"
            },
            "error_y": {
             "color": "#f2f5fa"
            },
            "marker": {
             "line": {
              "color": "rgb(17,17,17)",
              "width": 0.5
             },
             "pattern": {
              "fillmode": "overlay",
              "size": 10,
              "solidity": 0.2
             }
            },
            "type": "bar"
           }
          ],
          "barpolar": [
           {
            "marker": {
             "line": {
              "color": "rgb(17,17,17)",
              "width": 0.5
             },
             "pattern": {
              "fillmode": "overlay",
              "size": 10,
              "solidity": 0.2
             }
            },
            "type": "barpolar"
           }
          ],
          "carpet": [
           {
            "aaxis": {
             "endlinecolor": "#A2B1C6",
             "gridcolor": "#506784",
             "linecolor": "#506784",
             "minorgridcolor": "#506784",
             "startlinecolor": "#A2B1C6"
            },
            "baxis": {
             "endlinecolor": "#A2B1C6",
             "gridcolor": "#506784",
             "linecolor": "#506784",
             "minorgridcolor": "#506784",
             "startlinecolor": "#A2B1C6"
            },
            "type": "carpet"
           }
          ],
          "choropleth": [
           {
            "colorbar": {
             "outlinewidth": 0,
             "ticks": ""
            },
            "type": "choropleth"
           }
          ],
          "contour": [
           {
            "colorbar": {
             "outlinewidth": 0,
             "ticks": ""
            },
            "colorscale": [
             [
              0,
              "#0d0887"
             ],
             [
              0.1111111111111111,
              "#46039f"
             ],
             [
              0.2222222222222222,
              "#7201a8"
             ],
             [
              0.3333333333333333,
              "#9c179e"
             ],
             [
              0.4444444444444444,
              "#bd3786"
             ],
             [
              0.5555555555555556,
              "#d8576b"
             ],
             [
              0.6666666666666666,
              "#ed7953"
             ],
             [
              0.7777777777777778,
              "#fb9f3a"
             ],
             [
              0.8888888888888888,
              "#fdca26"
             ],
             [
              1,
              "#f0f921"
             ]
            ],
            "type": "contour"
           }
          ],
          "contourcarpet": [
           {
            "colorbar": {
             "outlinewidth": 0,
             "ticks": ""
            },
            "type": "contourcarpet"
           }
          ],
          "heatmap": [
           {
            "colorbar": {
             "outlinewidth": 0,
             "ticks": ""
            },
            "colorscale": [
             [
              0,
              "#0d0887"
             ],
             [
              0.1111111111111111,
              "#46039f"
             ],
             [
              0.2222222222222222,
              "#7201a8"
             ],
             [
              0.3333333333333333,
              "#9c179e"
             ],
             [
              0.4444444444444444,
              "#bd3786"
             ],
             [
              0.5555555555555556,
              "#d8576b"
             ],
             [
              0.6666666666666666,
              "#ed7953"
             ],
             [
              0.7777777777777778,
              "#fb9f3a"
             ],
             [
              0.8888888888888888,
              "#fdca26"
             ],
             [
              1,
              "#f0f921"
             ]
            ],
            "type": "heatmap"
           }
          ],
          "heatmapgl": [
           {
            "colorbar": {
             "outlinewidth": 0,
             "ticks": ""
            },
            "colorscale": [
             [
              0,
              "#0d0887"
             ],
             [
              0.1111111111111111,
              "#46039f"
             ],
             [
              0.2222222222222222,
              "#7201a8"
             ],
             [
              0.3333333333333333,
              "#9c179e"
             ],
             [
              0.4444444444444444,
              "#bd3786"
             ],
             [
              0.5555555555555556,
              "#d8576b"
             ],
             [
              0.6666666666666666,
              "#ed7953"
             ],
             [
              0.7777777777777778,
              "#fb9f3a"
             ],
             [
              0.8888888888888888,
              "#fdca26"
             ],
             [
              1,
              "#f0f921"
             ]
            ],
            "type": "heatmapgl"
           }
          ],
          "histogram": [
           {
            "marker": {
             "pattern": {
              "fillmode": "overlay",
              "size": 10,
              "solidity": 0.2
             }
            },
            "type": "histogram"
           }
          ],
          "histogram2d": [
           {
            "colorbar": {
             "outlinewidth": 0,
             "ticks": ""
            },
            "colorscale": [
             [
              0,
              "#0d0887"
             ],
             [
              0.1111111111111111,
              "#46039f"
             ],
             [
              0.2222222222222222,
              "#7201a8"
             ],
             [
              0.3333333333333333,
              "#9c179e"
             ],
             [
              0.4444444444444444,
              "#bd3786"
             ],
             [
              0.5555555555555556,
              "#d8576b"
             ],
             [
              0.6666666666666666,
              "#ed7953"
             ],
             [
              0.7777777777777778,
              "#fb9f3a"
             ],
             [
              0.8888888888888888,
              "#fdca26"
             ],
             [
              1,
              "#f0f921"
             ]
            ],
            "type": "histogram2d"
           }
          ],
          "histogram2dcontour": [
           {
            "colorbar": {
             "outlinewidth": 0,
             "ticks": ""
            },
            "colorscale": [
             [
              0,
              "#0d0887"
             ],
             [
              0.1111111111111111,
              "#46039f"
             ],
             [
              0.2222222222222222,
              "#7201a8"
             ],
             [
              0.3333333333333333,
              "#9c179e"
             ],
             [
              0.4444444444444444,
              "#bd3786"
             ],
             [
              0.5555555555555556,
              "#d8576b"
             ],
             [
              0.6666666666666666,
              "#ed7953"
             ],
             [
              0.7777777777777778,
              "#fb9f3a"
             ],
             [
              0.8888888888888888,
              "#fdca26"
             ],
             [
              1,
              "#f0f921"
             ]
            ],
            "type": "histogram2dcontour"
           }
          ],
          "mesh3d": [
           {
            "colorbar": {
             "outlinewidth": 0,
             "ticks": ""
            },
            "type": "mesh3d"
           }
          ],
          "parcoords": [
           {
            "line": {
             "colorbar": {
              "outlinewidth": 0,
              "ticks": ""
             }
            },
            "type": "parcoords"
           }
          ],
          "pie": [
           {
            "automargin": true,
            "type": "pie"
           }
          ],
          "scatter": [
           {
            "marker": {
             "line": {
              "color": "#283442"
             }
            },
            "type": "scatter"
           }
          ],
          "scatter3d": [
           {
            "line": {
             "colorbar": {
              "outlinewidth": 0,
              "ticks": ""
             }
            },
            "marker": {
             "colorbar": {
              "outlinewidth": 0,
              "ticks": ""
             }
            },
            "type": "scatter3d"
           }
          ],
          "scattercarpet": [
           {
            "marker": {
             "colorbar": {
              "outlinewidth": 0,
              "ticks": ""
             }
            },
            "type": "scattercarpet"
           }
          ],
          "scattergeo": [
           {
            "marker": {
             "colorbar": {
              "outlinewidth": 0,
              "ticks": ""
             }
            },
            "type": "scattergeo"
           }
          ],
          "scattergl": [
           {
            "marker": {
             "line": {
              "color": "#283442"
             }
            },
            "type": "scattergl"
           }
          ],
          "scattermapbox": [
           {
            "marker": {
             "colorbar": {
              "outlinewidth": 0,
              "ticks": ""
             }
            },
            "type": "scattermapbox"
           }
          ],
          "scatterpolar": [
           {
            "marker": {
             "colorbar": {
              "outlinewidth": 0,
              "ticks": ""
             }
            },
            "type": "scatterpolar"
           }
          ],
          "scatterpolargl": [
           {
            "marker": {
             "colorbar": {
              "outlinewidth": 0,
              "ticks": ""
             }
            },
            "type": "scatterpolargl"
           }
          ],
          "scatterternary": [
           {
            "marker": {
             "colorbar": {
              "outlinewidth": 0,
              "ticks": ""
             }
            },
            "type": "scatterternary"
           }
          ],
          "surface": [
           {
            "colorbar": {
             "outlinewidth": 0,
             "ticks": ""
            },
            "colorscale": [
             [
              0,
              "#0d0887"
             ],
             [
              0.1111111111111111,
              "#46039f"
             ],
             [
              0.2222222222222222,
              "#7201a8"
             ],
             [
              0.3333333333333333,
              "#9c179e"
             ],
             [
              0.4444444444444444,
              "#bd3786"
             ],
             [
              0.5555555555555556,
              "#d8576b"
             ],
             [
              0.6666666666666666,
              "#ed7953"
             ],
             [
              0.7777777777777778,
              "#fb9f3a"
             ],
             [
              0.8888888888888888,
              "#fdca26"
             ],
             [
              1,
              "#f0f921"
             ]
            ],
            "type": "surface"
           }
          ],
          "table": [
           {
            "cells": {
             "fill": {
              "color": "#506784"
             },
             "line": {
              "color": "rgb(17,17,17)"
             }
            },
            "header": {
             "fill": {
              "color": "#2a3f5f"
             },
             "line": {
              "color": "rgb(17,17,17)"
             }
            },
            "type": "table"
           }
          ]
         },
         "layout": {
          "annotationdefaults": {
           "arrowcolor": "#f2f5fa",
           "arrowhead": 0,
           "arrowwidth": 1
          },
          "autotypenumbers": "strict",
          "coloraxis": {
           "colorbar": {
            "outlinewidth": 0,
            "ticks": ""
           }
          },
          "colorscale": {
           "diverging": [
            [
             0,
             "#8e0152"
            ],
            [
             0.1,
             "#c51b7d"
            ],
            [
             0.2,
             "#de77ae"
            ],
            [
             0.3,
             "#f1b6da"
            ],
            [
             0.4,
             "#fde0ef"
            ],
            [
             0.5,
             "#f7f7f7"
            ],
            [
             0.6,
             "#e6f5d0"
            ],
            [
             0.7,
             "#b8e186"
            ],
            [
             0.8,
             "#7fbc41"
            ],
            [
             0.9,
             "#4d9221"
            ],
            [
             1,
             "#276419"
            ]
           ],
           "sequential": [
            [
             0,
             "#0d0887"
            ],
            [
             0.1111111111111111,
             "#46039f"
            ],
            [
             0.2222222222222222,
             "#7201a8"
            ],
            [
             0.3333333333333333,
             "#9c179e"
            ],
            [
             0.4444444444444444,
             "#bd3786"
            ],
            [
             0.5555555555555556,
             "#d8576b"
            ],
            [
             0.6666666666666666,
             "#ed7953"
            ],
            [
             0.7777777777777778,
             "#fb9f3a"
            ],
            [
             0.8888888888888888,
             "#fdca26"
            ],
            [
             1,
             "#f0f921"
            ]
           ],
           "sequentialminus": [
            [
             0,
             "#0d0887"
            ],
            [
             0.1111111111111111,
             "#46039f"
            ],
            [
             0.2222222222222222,
             "#7201a8"
            ],
            [
             0.3333333333333333,
             "#9c179e"
            ],
            [
             0.4444444444444444,
             "#bd3786"
            ],
            [
             0.5555555555555556,
             "#d8576b"
            ],
            [
             0.6666666666666666,
             "#ed7953"
            ],
            [
             0.7777777777777778,
             "#fb9f3a"
            ],
            [
             0.8888888888888888,
             "#fdca26"
            ],
            [
             1,
             "#f0f921"
            ]
           ]
          },
          "colorway": [
           "#636efa",
           "#EF553B",
           "#00cc96",
           "#ab63fa",
           "#FFA15A",
           "#19d3f3",
           "#FF6692",
           "#B6E880",
           "#FF97FF",
           "#FECB52"
          ],
          "font": {
           "color": "#f2f5fa"
          },
          "geo": {
           "bgcolor": "rgb(17,17,17)",
           "lakecolor": "rgb(17,17,17)",
           "landcolor": "rgb(17,17,17)",
           "showlakes": true,
           "showland": true,
           "subunitcolor": "#506784"
          },
          "hoverlabel": {
           "align": "left"
          },
          "hovermode": "closest",
          "mapbox": {
           "style": "dark"
          },
          "paper_bgcolor": "rgb(17,17,17)",
          "plot_bgcolor": "rgb(17,17,17)",
          "polar": {
           "angularaxis": {
            "gridcolor": "#506784",
            "linecolor": "#506784",
            "ticks": ""
           },
           "bgcolor": "rgb(17,17,17)",
           "radialaxis": {
            "gridcolor": "#506784",
            "linecolor": "#506784",
            "ticks": ""
           }
          },
          "scene": {
           "xaxis": {
            "backgroundcolor": "rgb(17,17,17)",
            "gridcolor": "#506784",
            "gridwidth": 2,
            "linecolor": "#506784",
            "showbackground": true,
            "ticks": "",
            "zerolinecolor": "#C8D4E3"
           },
           "yaxis": {
            "backgroundcolor": "rgb(17,17,17)",
            "gridcolor": "#506784",
            "gridwidth": 2,
            "linecolor": "#506784",
            "showbackground": true,
            "ticks": "",
            "zerolinecolor": "#C8D4E3"
           },
           "zaxis": {
            "backgroundcolor": "rgb(17,17,17)",
            "gridcolor": "#506784",
            "gridwidth": 2,
            "linecolor": "#506784",
            "showbackground": true,
            "ticks": "",
            "zerolinecolor": "#C8D4E3"
           }
          },
          "shapedefaults": {
           "line": {
            "color": "#f2f5fa"
           }
          },
          "sliderdefaults": {
           "bgcolor": "#C8D4E3",
           "bordercolor": "rgb(17,17,17)",
           "borderwidth": 1,
           "tickwidth": 0
          },
          "ternary": {
           "aaxis": {
            "gridcolor": "#506784",
            "linecolor": "#506784",
            "ticks": ""
           },
           "baxis": {
            "gridcolor": "#506784",
            "linecolor": "#506784",
            "ticks": ""
           },
           "bgcolor": "rgb(17,17,17)",
           "caxis": {
            "gridcolor": "#506784",
            "linecolor": "#506784",
            "ticks": ""
           }
          },
          "title": {
           "x": 0.05
          },
          "updatemenudefaults": {
           "bgcolor": "#506784",
           "borderwidth": 0
          },
          "xaxis": {
           "automargin": true,
           "gridcolor": "#283442",
           "linecolor": "#506784",
           "ticks": "",
           "title": {
            "standoff": 15
           },
           "zerolinecolor": "#283442",
           "zerolinewidth": 2
          },
          "yaxis": {
           "automargin": true,
           "gridcolor": "#283442",
           "linecolor": "#506784",
           "ticks": "",
           "title": {
            "standoff": 15
           },
           "zerolinecolor": "#283442",
           "zerolinewidth": 2
          }
         }
        },
        "title": {
         "text": "LogisticRegression Coefficients (Normalized by STD)"
        },
        "xaxis": {
         "dtick": 0.5,
         "range": [
          -1.105882662024729,
          1.2194279404885735
         ],
         "tick0": 0,
         "tickmode": "linear"
        }
       }
      }
     },
     "metadata": {},
     "output_type": "display_data"
    }
   ],
   "source": [
    "X_train_preprocessed = pd.DataFrame(\n",
    "    model_lr[:-1].transform(X_train), columns=model_lr[:-1].get_feature_names_out(),\n",
    ")\n",
    "\n",
    "coefs = pd.DataFrame(\n",
    "    model_lr[-1].coef_ * X_train_preprocessed.std(axis=0).values,\n",
    "    columns=model_lr[:-1].get_feature_names_out(),\n",
    "    index=['Coefficients (Normalized by STD)']).transpose()\n",
    "\n",
    "display(coefs)\n",
    "\n",
    "fig = go.Figure(go.Bar(\n",
    "    x=coefs['Coefficients (Normalized by STD)'],\n",
    "    y=model_lr[:-1].get_feature_names_out(),\n",
    "    orientation='h'))\n",
    "fig.update_xaxes(range=[model_lr[-1].coef_.min(\n",
    ") + (model_lr[-1].coef_.min() * 0.1), model_lr[-1].coef_.max() + (model_lr[-1].coef_.max() * 0.1)])\n",
    "fig.update_layout(\n",
    "    xaxis=dict(\n",
    "        tickmode='linear',\n",
    "        tick0=0,\n",
    "        dtick=0.5\n",
    "    ),\n",
    "    template='plotly_dark',\n",
    "    title_text='LogisticRegression Coefficients (Normalized by STD)',\n",
    "    paper_bgcolor='rgba(0, 0, 0, 0)',\n",
    "    plot_bgcolor='rgba(0, 0, 0, 0)'\n",
    "\n",
    ")\n",
    "fig.show()"
   ]
  },
  {
   "attachments": {},
   "cell_type": "markdown",
   "metadata": {},
   "source": [
    "**Now we have a more reliable view of what our model has learned. The most important features for this problem are `race`, `age` and `prior`.**\n",
    "\n",
    "**As [Cynthia Rudin](https://www.nature.com/articles/s42256-019-0048-x#auth-Cynthia-Rudin) puts: we shuold _[stop explaining black box machine learning models for high stakes decisions and use interpretable models instead](https://www.nature.com/articles/s42256-019-0048-x)_.**\n",
    "\n",
    "**For example, a fully interpretable model could be used in this problem. A model that can be written in 4 lines of pseudocode:**\n",
    "\n",
    "````\n",
    "\n",
    "If sample has < 25 years & is African-American & has prior counts > 0:\n",
    "\tRisk = High\n",
    "Else:\n",
    "\tRisk = Low\n",
    "\t\n",
    "````\n",
    "\n",
    "**Lets call this model the `evil_model` and see how it performs incomparisson to our `RandomForestClassifier`.**"
   ]
  },
  {
   "cell_type": "code",
   "execution_count": 8,
   "metadata": {},
   "outputs": [
    {
     "name": "stdout",
     "output_type": "stream",
     "text": [
      "Accuracy (Evil-Model): 74.65%\n"
     ]
    },
    {
     "data": {
      "application/vnd.plotly.v1+json": {
       "config": {
        "plotlyServerURL": "https://plot.ly"
       },
       "data": [
        {
         "coloraxis": "coloraxis",
         "hovertemplate": "Predicted: %{x}<br>True label: %{y}<br>color: %{z}<extra></extra>",
         "name": "0",
         "texttemplate": "%{z}",
         "type": "heatmap",
         "x": [
          "High",
          "Low"
         ],
         "xaxis": "x",
         "y": [
          "High",
          "Low"
         ],
         "yaxis": "y",
         "z": [
          [
           179,
           678
          ],
          [
           185,
           2362
          ]
         ]
        }
       ],
       "layout": {
        "coloraxis": {
         "colorscale": [
          [
           0,
           "#0d0887"
          ],
          [
           0.1111111111111111,
           "#46039f"
          ],
          [
           0.2222222222222222,
           "#7201a8"
          ],
          [
           0.3333333333333333,
           "#9c179e"
          ],
          [
           0.4444444444444444,
           "#bd3786"
          ],
          [
           0.5555555555555556,
           "#d8576b"
          ],
          [
           0.6666666666666666,
           "#ed7953"
          ],
          [
           0.7777777777777778,
           "#fb9f3a"
          ],
          [
           0.8888888888888888,
           "#fdca26"
          ],
          [
           1,
           "#f0f921"
          ]
         ],
         "showscale": false
        },
        "margin": {
         "t": 60
        },
        "paper_bgcolor": "rgba(0, 0, 0, 0)",
        "plot_bgcolor": "rgba(0, 0, 0, 0)",
        "template": {
         "data": {
          "bar": [
           {
            "error_x": {
             "color": "#f2f5fa"
            },
            "error_y": {
             "color": "#f2f5fa"
            },
            "marker": {
             "line": {
              "color": "rgb(17,17,17)",
              "width": 0.5
             },
             "pattern": {
              "fillmode": "overlay",
              "size": 10,
              "solidity": 0.2
             }
            },
            "type": "bar"
           }
          ],
          "barpolar": [
           {
            "marker": {
             "line": {
              "color": "rgb(17,17,17)",
              "width": 0.5
             },
             "pattern": {
              "fillmode": "overlay",
              "size": 10,
              "solidity": 0.2
             }
            },
            "type": "barpolar"
           }
          ],
          "carpet": [
           {
            "aaxis": {
             "endlinecolor": "#A2B1C6",
             "gridcolor": "#506784",
             "linecolor": "#506784",
             "minorgridcolor": "#506784",
             "startlinecolor": "#A2B1C6"
            },
            "baxis": {
             "endlinecolor": "#A2B1C6",
             "gridcolor": "#506784",
             "linecolor": "#506784",
             "minorgridcolor": "#506784",
             "startlinecolor": "#A2B1C6"
            },
            "type": "carpet"
           }
          ],
          "choropleth": [
           {
            "colorbar": {
             "outlinewidth": 0,
             "ticks": ""
            },
            "type": "choropleth"
           }
          ],
          "contour": [
           {
            "colorbar": {
             "outlinewidth": 0,
             "ticks": ""
            },
            "colorscale": [
             [
              0,
              "#0d0887"
             ],
             [
              0.1111111111111111,
              "#46039f"
             ],
             [
              0.2222222222222222,
              "#7201a8"
             ],
             [
              0.3333333333333333,
              "#9c179e"
             ],
             [
              0.4444444444444444,
              "#bd3786"
             ],
             [
              0.5555555555555556,
              "#d8576b"
             ],
             [
              0.6666666666666666,
              "#ed7953"
             ],
             [
              0.7777777777777778,
              "#fb9f3a"
             ],
             [
              0.8888888888888888,
              "#fdca26"
             ],
             [
              1,
              "#f0f921"
             ]
            ],
            "type": "contour"
           }
          ],
          "contourcarpet": [
           {
            "colorbar": {
             "outlinewidth": 0,
             "ticks": ""
            },
            "type": "contourcarpet"
           }
          ],
          "heatmap": [
           {
            "colorbar": {
             "outlinewidth": 0,
             "ticks": ""
            },
            "colorscale": [
             [
              0,
              "#0d0887"
             ],
             [
              0.1111111111111111,
              "#46039f"
             ],
             [
              0.2222222222222222,
              "#7201a8"
             ],
             [
              0.3333333333333333,
              "#9c179e"
             ],
             [
              0.4444444444444444,
              "#bd3786"
             ],
             [
              0.5555555555555556,
              "#d8576b"
             ],
             [
              0.6666666666666666,
              "#ed7953"
             ],
             [
              0.7777777777777778,
              "#fb9f3a"
             ],
             [
              0.8888888888888888,
              "#fdca26"
             ],
             [
              1,
              "#f0f921"
             ]
            ],
            "type": "heatmap"
           }
          ],
          "heatmapgl": [
           {
            "colorbar": {
             "outlinewidth": 0,
             "ticks": ""
            },
            "colorscale": [
             [
              0,
              "#0d0887"
             ],
             [
              0.1111111111111111,
              "#46039f"
             ],
             [
              0.2222222222222222,
              "#7201a8"
             ],
             [
              0.3333333333333333,
              "#9c179e"
             ],
             [
              0.4444444444444444,
              "#bd3786"
             ],
             [
              0.5555555555555556,
              "#d8576b"
             ],
             [
              0.6666666666666666,
              "#ed7953"
             ],
             [
              0.7777777777777778,
              "#fb9f3a"
             ],
             [
              0.8888888888888888,
              "#fdca26"
             ],
             [
              1,
              "#f0f921"
             ]
            ],
            "type": "heatmapgl"
           }
          ],
          "histogram": [
           {
            "marker": {
             "pattern": {
              "fillmode": "overlay",
              "size": 10,
              "solidity": 0.2
             }
            },
            "type": "histogram"
           }
          ],
          "histogram2d": [
           {
            "colorbar": {
             "outlinewidth": 0,
             "ticks": ""
            },
            "colorscale": [
             [
              0,
              "#0d0887"
             ],
             [
              0.1111111111111111,
              "#46039f"
             ],
             [
              0.2222222222222222,
              "#7201a8"
             ],
             [
              0.3333333333333333,
              "#9c179e"
             ],
             [
              0.4444444444444444,
              "#bd3786"
             ],
             [
              0.5555555555555556,
              "#d8576b"
             ],
             [
              0.6666666666666666,
              "#ed7953"
             ],
             [
              0.7777777777777778,
              "#fb9f3a"
             ],
             [
              0.8888888888888888,
              "#fdca26"
             ],
             [
              1,
              "#f0f921"
             ]
            ],
            "type": "histogram2d"
           }
          ],
          "histogram2dcontour": [
           {
            "colorbar": {
             "outlinewidth": 0,
             "ticks": ""
            },
            "colorscale": [
             [
              0,
              "#0d0887"
             ],
             [
              0.1111111111111111,
              "#46039f"
             ],
             [
              0.2222222222222222,
              "#7201a8"
             ],
             [
              0.3333333333333333,
              "#9c179e"
             ],
             [
              0.4444444444444444,
              "#bd3786"
             ],
             [
              0.5555555555555556,
              "#d8576b"
             ],
             [
              0.6666666666666666,
              "#ed7953"
             ],
             [
              0.7777777777777778,
              "#fb9f3a"
             ],
             [
              0.8888888888888888,
              "#fdca26"
             ],
             [
              1,
              "#f0f921"
             ]
            ],
            "type": "histogram2dcontour"
           }
          ],
          "mesh3d": [
           {
            "colorbar": {
             "outlinewidth": 0,
             "ticks": ""
            },
            "type": "mesh3d"
           }
          ],
          "parcoords": [
           {
            "line": {
             "colorbar": {
              "outlinewidth": 0,
              "ticks": ""
             }
            },
            "type": "parcoords"
           }
          ],
          "pie": [
           {
            "automargin": true,
            "type": "pie"
           }
          ],
          "scatter": [
           {
            "marker": {
             "line": {
              "color": "#283442"
             }
            },
            "type": "scatter"
           }
          ],
          "scatter3d": [
           {
            "line": {
             "colorbar": {
              "outlinewidth": 0,
              "ticks": ""
             }
            },
            "marker": {
             "colorbar": {
              "outlinewidth": 0,
              "ticks": ""
             }
            },
            "type": "scatter3d"
           }
          ],
          "scattercarpet": [
           {
            "marker": {
             "colorbar": {
              "outlinewidth": 0,
              "ticks": ""
             }
            },
            "type": "scattercarpet"
           }
          ],
          "scattergeo": [
           {
            "marker": {
             "colorbar": {
              "outlinewidth": 0,
              "ticks": ""
             }
            },
            "type": "scattergeo"
           }
          ],
          "scattergl": [
           {
            "marker": {
             "line": {
              "color": "#283442"
             }
            },
            "type": "scattergl"
           }
          ],
          "scattermapbox": [
           {
            "marker": {
             "colorbar": {
              "outlinewidth": 0,
              "ticks": ""
             }
            },
            "type": "scattermapbox"
           }
          ],
          "scatterpolar": [
           {
            "marker": {
             "colorbar": {
              "outlinewidth": 0,
              "ticks": ""
             }
            },
            "type": "scatterpolar"
           }
          ],
          "scatterpolargl": [
           {
            "marker": {
             "colorbar": {
              "outlinewidth": 0,
              "ticks": ""
             }
            },
            "type": "scatterpolargl"
           }
          ],
          "scatterternary": [
           {
            "marker": {
             "colorbar": {
              "outlinewidth": 0,
              "ticks": ""
             }
            },
            "type": "scatterternary"
           }
          ],
          "surface": [
           {
            "colorbar": {
             "outlinewidth": 0,
             "ticks": ""
            },
            "colorscale": [
             [
              0,
              "#0d0887"
             ],
             [
              0.1111111111111111,
              "#46039f"
             ],
             [
              0.2222222222222222,
              "#7201a8"
             ],
             [
              0.3333333333333333,
              "#9c179e"
             ],
             [
              0.4444444444444444,
              "#bd3786"
             ],
             [
              0.5555555555555556,
              "#d8576b"
             ],
             [
              0.6666666666666666,
              "#ed7953"
             ],
             [
              0.7777777777777778,
              "#fb9f3a"
             ],
             [
              0.8888888888888888,
              "#fdca26"
             ],
             [
              1,
              "#f0f921"
             ]
            ],
            "type": "surface"
           }
          ],
          "table": [
           {
            "cells": {
             "fill": {
              "color": "#506784"
             },
             "line": {
              "color": "rgb(17,17,17)"
             }
            },
            "header": {
             "fill": {
              "color": "#2a3f5f"
             },
             "line": {
              "color": "rgb(17,17,17)"
             }
            },
            "type": "table"
           }
          ]
         },
         "layout": {
          "annotationdefaults": {
           "arrowcolor": "#f2f5fa",
           "arrowhead": 0,
           "arrowwidth": 1
          },
          "autotypenumbers": "strict",
          "coloraxis": {
           "colorbar": {
            "outlinewidth": 0,
            "ticks": ""
           }
          },
          "colorscale": {
           "diverging": [
            [
             0,
             "#8e0152"
            ],
            [
             0.1,
             "#c51b7d"
            ],
            [
             0.2,
             "#de77ae"
            ],
            [
             0.3,
             "#f1b6da"
            ],
            [
             0.4,
             "#fde0ef"
            ],
            [
             0.5,
             "#f7f7f7"
            ],
            [
             0.6,
             "#e6f5d0"
            ],
            [
             0.7,
             "#b8e186"
            ],
            [
             0.8,
             "#7fbc41"
            ],
            [
             0.9,
             "#4d9221"
            ],
            [
             1,
             "#276419"
            ]
           ],
           "sequential": [
            [
             0,
             "#0d0887"
            ],
            [
             0.1111111111111111,
             "#46039f"
            ],
            [
             0.2222222222222222,
             "#7201a8"
            ],
            [
             0.3333333333333333,
             "#9c179e"
            ],
            [
             0.4444444444444444,
             "#bd3786"
            ],
            [
             0.5555555555555556,
             "#d8576b"
            ],
            [
             0.6666666666666666,
             "#ed7953"
            ],
            [
             0.7777777777777778,
             "#fb9f3a"
            ],
            [
             0.8888888888888888,
             "#fdca26"
            ],
            [
             1,
             "#f0f921"
            ]
           ],
           "sequentialminus": [
            [
             0,
             "#0d0887"
            ],
            [
             0.1111111111111111,
             "#46039f"
            ],
            [
             0.2222222222222222,
             "#7201a8"
            ],
            [
             0.3333333333333333,
             "#9c179e"
            ],
            [
             0.4444444444444444,
             "#bd3786"
            ],
            [
             0.5555555555555556,
             "#d8576b"
            ],
            [
             0.6666666666666666,
             "#ed7953"
            ],
            [
             0.7777777777777778,
             "#fb9f3a"
            ],
            [
             0.8888888888888888,
             "#fdca26"
            ],
            [
             1,
             "#f0f921"
            ]
           ]
          },
          "colorway": [
           "#636efa",
           "#EF553B",
           "#00cc96",
           "#ab63fa",
           "#FFA15A",
           "#19d3f3",
           "#FF6692",
           "#B6E880",
           "#FF97FF",
           "#FECB52"
          ],
          "font": {
           "color": "#f2f5fa"
          },
          "geo": {
           "bgcolor": "rgb(17,17,17)",
           "lakecolor": "rgb(17,17,17)",
           "landcolor": "rgb(17,17,17)",
           "showlakes": true,
           "showland": true,
           "subunitcolor": "#506784"
          },
          "hoverlabel": {
           "align": "left"
          },
          "hovermode": "closest",
          "mapbox": {
           "style": "dark"
          },
          "paper_bgcolor": "rgb(17,17,17)",
          "plot_bgcolor": "rgb(17,17,17)",
          "polar": {
           "angularaxis": {
            "gridcolor": "#506784",
            "linecolor": "#506784",
            "ticks": ""
           },
           "bgcolor": "rgb(17,17,17)",
           "radialaxis": {
            "gridcolor": "#506784",
            "linecolor": "#506784",
            "ticks": ""
           }
          },
          "scene": {
           "xaxis": {
            "backgroundcolor": "rgb(17,17,17)",
            "gridcolor": "#506784",
            "gridwidth": 2,
            "linecolor": "#506784",
            "showbackground": true,
            "ticks": "",
            "zerolinecolor": "#C8D4E3"
           },
           "yaxis": {
            "backgroundcolor": "rgb(17,17,17)",
            "gridcolor": "#506784",
            "gridwidth": 2,
            "linecolor": "#506784",
            "showbackground": true,
            "ticks": "",
            "zerolinecolor": "#C8D4E3"
           },
           "zaxis": {
            "backgroundcolor": "rgb(17,17,17)",
            "gridcolor": "#506784",
            "gridwidth": 2,
            "linecolor": "#506784",
            "showbackground": true,
            "ticks": "",
            "zerolinecolor": "#C8D4E3"
           }
          },
          "shapedefaults": {
           "line": {
            "color": "#f2f5fa"
           }
          },
          "sliderdefaults": {
           "bgcolor": "#C8D4E3",
           "bordercolor": "rgb(17,17,17)",
           "borderwidth": 1,
           "tickwidth": 0
          },
          "ternary": {
           "aaxis": {
            "gridcolor": "#506784",
            "linecolor": "#506784",
            "ticks": ""
           },
           "baxis": {
            "gridcolor": "#506784",
            "linecolor": "#506784",
            "ticks": ""
           },
           "bgcolor": "rgb(17,17,17)",
           "caxis": {
            "gridcolor": "#506784",
            "linecolor": "#506784",
            "ticks": ""
           }
          },
          "title": {
           "x": 0.05
          },
          "updatemenudefaults": {
           "bgcolor": "#506784",
           "borderwidth": 0
          },
          "xaxis": {
           "automargin": true,
           "gridcolor": "#283442",
           "linecolor": "#506784",
           "ticks": "",
           "title": {
            "standoff": 15
           },
           "zerolinecolor": "#283442",
           "zerolinewidth": 2
          },
          "yaxis": {
           "automargin": true,
           "gridcolor": "#283442",
           "linecolor": "#506784",
           "ticks": "",
           "title": {
            "standoff": 15
           },
           "zerolinecolor": "#283442",
           "zerolinewidth": 2
          }
         }
        },
        "title": {
         "text": "Confusion Matrix (Evil_Model)"
        },
        "xaxis": {
         "anchor": "y",
         "constrain": "domain",
         "domain": [
          0,
          1
         ],
         "scaleanchor": "y",
         "side": "top",
         "title": {
          "text": "Predicted"
         }
        },
        "yaxis": {
         "anchor": "x",
         "autorange": "reversed",
         "constrain": "domain",
         "domain": [
          0,
          1
         ],
         "title": {
          "text": "True label"
         }
        }
       }
      }
     },
     "metadata": {},
     "output_type": "display_data"
    }
   ],
   "source": [
    "def evil_model(df):\n",
    "    predictions = []\n",
    "    for i in range(len(df)):\n",
    "        sample = df.iloc[i]\n",
    "        if sample['age_cat'] == 'Less than 25' and sample['race'] == 'African-American' and sample['priors_count'] > 0:\n",
    "            predictions.append(0)\n",
    "        else:\n",
    "            predictions.append(1)\n",
    "    return predictions\n",
    "\n",
    "predictions = evil_model(X_test)\n",
    "\n",
    "matrix = confusion_matrix(y_test, predictions)\n",
    "TN, FP, FN, TP = matrix.ravel()\n",
    "\n",
    "print(f'Accuracy (Evil-Model): {round(((TP + TN)/(TP + FP + TN + FN)) * 100, 2)}%')\n",
    "\n",
    "\n",
    "fig = px.imshow(matrix,\n",
    "                labels=dict(x=\"Predicted\", y=\"True label\"),\n",
    "                x=['High', 'Low'],\n",
    "                y=['High', 'Low'],\n",
    "                text_auto=True\n",
    "                )\n",
    "fig.update_xaxes(side='top')\n",
    "fig.update_layout(template='plotly_dark',\n",
    "                  title='Confusion Matrix (Evil_Model)',\n",
    "                  coloraxis_showscale=False,\n",
    "                  paper_bgcolor='rgba(0, 0, 0, 0)',\n",
    "                  plot_bgcolor='rgba(0, 0, 0, 0)')\n",
    "fig.show()\n"
   ]
  },
  {
   "cell_type": "markdown",
   "metadata": {},
   "source": [
    "- **Accuracy (Random Forest): 76.56 %;**\n",
    "- **Accuracy (Evil-Model): 74.65%.**\n",
    "\n",
    "**The `evil_model` even seems to be wrong in the same way that the `LogisticRegressor` (i.e., most of the mistakes are False Neagtives).**\n",
    "\n",
    "**The big difference between this model (`evil_model`) and the model produced by Northpointe is that the Northpointe model is a black-box. We simply do not know how it works. Whereas in the case of the `evil_model`, with similar accuracy to the original model, we know exactly what it does. And so, we can say: _this is unacceptable_.**"
   ]
  },
  {
   "cell_type": "code",
   "execution_count": 10,
   "metadata": {},
   "outputs": [
    {
     "data": {
      "text/markdown": [
       "\n",
       "|Fairness Scores | Score |\n",
       "|--|--|\n",
       "| Chance of receiving the positive class - privileged |0.96|\n",
       "| Chance of receiving the positive class - unprivileged |0.8|\n",
       "| Statistical Parity Ratio (SPR)|0.83|\n",
       "| True Positive Rate - privileged |0.99|\n",
       "| True Positive Rate - unprivileged |0.91|\n",
       "| Equal Opportunity Ratio (EOR)|0.93|\n",
       "| Positive Predictive Value - privileged |0.86|\n",
       "| Positive Predictive Value - unprivileged |0.75|\n",
       "| Predictive Parity Ratio (PPR)|0.87|\n",
       "| False Positive Rate - privileged |0.84|\n",
       "| False Positive Rate - unprivileged |0.58|\n",
       "| Predictive Equality Ratio (PER)|0.7|\n",
       "| Accuracy - privileged |0.86|\n",
       "| Accuracy - unprivileged |0.74|\n",
       "| Accuracy Equality Ratio (AER)|0.87|\n",
       "| Equalized Odds|TPR: 0.99 vs 0.91 <br> FPR: 0.84 vs 0.58|\n",
       "\n"
      ],
      "text/plain": [
       "<IPython.core.display.Markdown object>"
      ]
     },
     "metadata": {},
     "output_type": "display_data"
    },
    {
     "data": {
      "text/html": [
       "<div>\n",
       "<style scoped>\n",
       "    .dataframe tbody tr th:only-of-type {\n",
       "        vertical-align: middle;\n",
       "    }\n",
       "\n",
       "    .dataframe tbody tr th {\n",
       "        vertical-align: top;\n",
       "    }\n",
       "\n",
       "    .dataframe thead th {\n",
       "        text-align: right;\n",
       "    }\n",
       "</style>\n",
       "<table border=\"1\" class=\"dataframe\">\n",
       "  <thead>\n",
       "    <tr style=\"text-align: right;\">\n",
       "      <th></th>\n",
       "      <th>Scores</th>\n",
       "    </tr>\n",
       "    <tr>\n",
       "      <th>Fairness Metrics</th>\n",
       "      <th></th>\n",
       "    </tr>\n",
       "  </thead>\n",
       "  <tbody>\n",
       "    <tr>\n",
       "      <th>Chance of receiving the positive class - privileged</th>\n",
       "      <td>0.96</td>\n",
       "    </tr>\n",
       "    <tr>\n",
       "      <th>Chance of receiving the positive class - unprivileged</th>\n",
       "      <td>0.8</td>\n",
       "    </tr>\n",
       "    <tr>\n",
       "      <th>Statistical Parity Ratio (SPR)</th>\n",
       "      <td>0.83</td>\n",
       "    </tr>\n",
       "    <tr>\n",
       "      <th>True Positive Rate - privileged</th>\n",
       "      <td>0.99</td>\n",
       "    </tr>\n",
       "    <tr>\n",
       "      <th>True Positive Rate - unprivileged</th>\n",
       "      <td>0.91</td>\n",
       "    </tr>\n",
       "    <tr>\n",
       "      <th>Equal Opportunity Ratio (EOR)</th>\n",
       "      <td>0.93</td>\n",
       "    </tr>\n",
       "    <tr>\n",
       "      <th>Positive Predictive Value - privileged</th>\n",
       "      <td>0.86</td>\n",
       "    </tr>\n",
       "    <tr>\n",
       "      <th>Positive Predictive Value - unprivileged</th>\n",
       "      <td>0.75</td>\n",
       "    </tr>\n",
       "    <tr>\n",
       "      <th>Predictive Parity Ratio (PPR)</th>\n",
       "      <td>0.87</td>\n",
       "    </tr>\n",
       "    <tr>\n",
       "      <th>False Positive Rate - privileged</th>\n",
       "      <td>0.84</td>\n",
       "    </tr>\n",
       "    <tr>\n",
       "      <th>False Positive Rate - unprivileged</th>\n",
       "      <td>0.58</td>\n",
       "    </tr>\n",
       "    <tr>\n",
       "      <th>Predictive Equality Ratio (PER)</th>\n",
       "      <td>0.7</td>\n",
       "    </tr>\n",
       "    <tr>\n",
       "      <th>Accuracy - privileged</th>\n",
       "      <td>0.86</td>\n",
       "    </tr>\n",
       "    <tr>\n",
       "      <th>Accuracy - unprivileged</th>\n",
       "      <td>0.74</td>\n",
       "    </tr>\n",
       "    <tr>\n",
       "      <th>Accuracy Equality Ratio (AER)</th>\n",
       "      <td>0.87</td>\n",
       "    </tr>\n",
       "    <tr>\n",
       "      <th>Equalized Odds</th>\n",
       "      <td>TPR: 0.99 vs 0.91. FPR: 0.84 vs 0.58</td>\n",
       "    </tr>\n",
       "  </tbody>\n",
       "</table>\n",
       "</div>"
      ],
      "text/plain": [
       "                                                                                  Scores\n",
       "Fairness Metrics                                                                        \n",
       "Chance of receiving the positive class - privil...                                  0.96\n",
       "Chance of receiving the positive class - unpriv...                                   0.8\n",
       "Statistical Parity Ratio (SPR)                                                      0.83\n",
       "True Positive Rate - privileged                                                     0.99\n",
       "True Positive Rate - unprivileged                                                   0.91\n",
       "Equal Opportunity Ratio (EOR)                                                       0.93\n",
       "Positive Predictive Value - privileged                                              0.86\n",
       "Positive Predictive Value - unprivileged                                            0.75\n",
       "Predictive Parity Ratio (PPR)                                                       0.87\n",
       "False Positive Rate - privileged                                                    0.84\n",
       "False Positive Rate - unprivileged                                                  0.58\n",
       "Predictive Equality Ratio (PER)                                                      0.7\n",
       "Accuracy - privileged                                                               0.86\n",
       "Accuracy - unprivileged                                                             0.74\n",
       "Accuracy Equality Ratio (AER)                                                       0.87\n",
       "Equalized Odds                                      TPR: 0.99 vs 0.91. FPR: 0.84 vs 0.58"
      ]
     },
     "metadata": {},
     "output_type": "display_data"
    }
   ],
   "source": [
    "from IPython.display import Markdown\n",
    "\n",
    "def calc_fair(model, DataFrame, protected_atributte, group_priv, group_unpriv, label):\n",
    "    test_set = DataFrame\n",
    "\n",
    "    test_set_priv_labels, test_set_priv = list(test_set[test_set[protected_atributte] == group_priv][label]), test_set[test_set[protected_atributte] == group_priv].drop(label, axis = 1)\n",
    "    test_set_unpriv_labels, test_set_unpriv = list(test_set[test_set[protected_atributte] == group_unpriv][label]), test_set[test_set[protected_atributte] == group_unpriv].drop(label, axis = 1)\n",
    "    \n",
    "    preds_priv = model.predict(test_set_priv)\n",
    "    preds_unpriv = model.predict(test_set_unpriv)\n",
    "\n",
    "    TN_PV, FP_PV, FN_PV, TP_PV = confusion_matrix(test_set_priv_labels, preds_priv).ravel()\n",
    "    TN_UPV, FP_UPV, FN_UPV, TP_UPV = confusion_matrix(test_set_unpriv_labels, preds_unpriv).ravel()\n",
    "\n",
    "    statistical_parity_priv = (TP_PV + FP_PV)/(TP_PV + FP_PV + TN_PV + FN_PV)  # STATISTICAL PARITY RATIO\n",
    "    statistical_parity_unpriv = (TP_UPV + FP_UPV)/(TP_UPV + FP_UPV + TN_UPV + FN_UPV)  # STATISTICAL PARITY RATIO\n",
    "    equal_oportunity_priv = TP_PV / (TP_PV+FN_PV)  # TRUE POSITIVE RATIO\n",
    "    equal_oportunity_unpriv = TP_UPV / (TP_UPV+FN_UPV)  # TRUE POSITIVE RATIO\n",
    "    predictive_parity_priv = TP_PV/(TP_PV + FP_PV)  # POSITIVE PREDICTIVE VALUE\n",
    "    predictive_parity_unpriv = TP_UPV/(TP_UPV + FP_UPV)  # POSITIVE PREDICTIVE VALUE\n",
    "    predictive_equality_priv = FP_PV / (FP_PV+TN_PV)  # FALSE POSITIVE RATE\n",
    "    predictive_equality_unpriv = FP_UPV / (FP_UPV+TN_UPV)  # FALSE POSITIVE RATE\n",
    "    accuracy_equality_priv = (TP_PV + TN_PV)/(TP_PV + FP_PV + TN_PV + FN_PV)  # ACCURACY EQUALITY RATIO\n",
    "    accuracy_equality_unpriv = (TP_UPV + TN_UPV)/(TP_UPV + FP_UPV + TN_UPV + FN_UPV)  # ACCURACY EQUALITY RATIO \n",
    "\n",
    "    if statistical_parity_priv >= statistical_parity_unpriv:\n",
    "        statistical_parity_ratio = statistical_parity_unpriv/statistical_parity_priv\n",
    "    elif statistical_parity_priv < statistical_parity_unpriv:\n",
    "        statistical_parity_ratio = statistical_parity_priv/statistical_parity_unpriv\n",
    "\n",
    "    if equal_oportunity_priv >= equal_oportunity_unpriv:\n",
    "        equal_oportunity_ratio = equal_oportunity_unpriv/equal_oportunity_priv\n",
    "    elif equal_oportunity_priv < equal_oportunity_unpriv:\n",
    "        equal_oportunity_ratio = equal_oportunity_priv/equal_oportunity_unpriv\n",
    "    \n",
    "    if predictive_parity_priv >= predictive_parity_unpriv:\n",
    "        predictive_parity_ratio = predictive_parity_unpriv/predictive_parity_priv\n",
    "    elif predictive_parity_priv < predictive_parity_unpriv:\n",
    "        predictive_parity_ratio = predictive_parity_priv/predictive_parity_unpriv\n",
    "\n",
    "    if predictive_equality_priv >= predictive_equality_unpriv:\n",
    "        predictive_equality_ratio = predictive_equality_unpriv/predictive_equality_priv\n",
    "    elif predictive_equality_priv < predictive_equality_unpriv:\n",
    "        predictive_equality_ratio = predictive_equality_priv/predictive_equality_unpriv\n",
    "    \n",
    "    if accuracy_equality_priv >= accuracy_equality_unpriv:\n",
    "        accuracy_equality_ratio = accuracy_equality_unpriv/accuracy_equality_priv\n",
    "    elif accuracy_equality_priv < accuracy_equality_unpriv:\n",
    "        accuracy_equality_ratio = accuracy_equality_priv/accuracy_equality_unpriv\n",
    "\n",
    "    equalized_odds = f'TPR: {round(equal_oportunity_priv, 2)} vs {round(equal_oportunity_unpriv, 2)} <br> FPR: {round(predictive_equality_priv,2)} vs {round(predictive_equality_unpriv,2)}'\n",
    "\n",
    "    data = {'Fairness Metrics': ['Chance of receiving the positive class - privileged',\n",
    "                                'Chance of receiving the positive class - unprivileged',\n",
    "                                'Statistical Parity Ratio (SPR)',\n",
    "                                'True Positive Rate - privileged',\n",
    "                                'True Positive Rate - unprivileged',\n",
    "                                'Equal Opportunity Ratio (EOR)',\n",
    "                                'Positive Predictive Value - privileged',\n",
    "                                'Positive Predictive Value - unprivileged',\n",
    "                                'Predictive Parity Ratio (PPR)',\n",
    "                                'False Positive Rate - privileged',\n",
    "                                'False Positive Rate - unprivileged',\n",
    "                                'Predictive Equality Ratio (PER)',\n",
    "                                'Accuracy - privileged',\n",
    "                                'Accuracy - unprivileged',\n",
    "                                'Accuracy Equality Ratio (AER)',\n",
    "                                'Equalized Odds'],\n",
    "            'Scores': [round(statistical_parity_priv, 2),\n",
    "                        round(statistical_parity_unpriv, 2),\n",
    "                        round(statistical_parity_ratio,2),\n",
    "                        round(equal_oportunity_priv, 2),\n",
    "                        round(equal_oportunity_unpriv, 2),\n",
    "                        round(equal_oportunity_ratio, 2),\n",
    "                        round(predictive_parity_priv,2),\n",
    "                        round(predictive_parity_unpriv,2),\n",
    "                        round(predictive_parity_ratio,2),\n",
    "                        round(predictive_equality_priv,2),\n",
    "                        round(predictive_equality_unpriv,2),\n",
    "                        round(predictive_equality_ratio,2),\n",
    "                        round(accuracy_equality_priv,2),\n",
    "                        round(accuracy_equality_unpriv,2),\n",
    "                        round(accuracy_equality_ratio,2),\n",
    "                        f'TPR: {round(equal_oportunity_priv, 2)} vs {round(equal_oportunity_unpriv, 2)}. FPR: {round(predictive_equality_priv,2)} vs {round(predictive_equality_unpriv,2)}']\n",
    "            }\n",
    "    df = pd.DataFrame(data).set_index('Fairness Metrics')\n",
    "\n",
    "    return df, display(Markdown(f'''\n",
    "|Fairness Scores | Score |\n",
    "|--|--|\n",
    "| Chance of receiving the positive class - privileged |{round(statistical_parity_priv, 2)}|\n",
    "| Chance of receiving the positive class - unprivileged |{round(statistical_parity_unpriv, 2)}|\n",
    "| Statistical Parity Ratio (SPR)|{round(statistical_parity_ratio,2)}|\n",
    "| True Positive Rate - privileged |{round(equal_oportunity_priv, 2)}|\n",
    "| True Positive Rate - unprivileged |{round(equal_oportunity_unpriv, 2)}|\n",
    "| Equal Opportunity Ratio (EOR)|{round(equal_oportunity_ratio, 2)}|\n",
    "| Positive Predictive Value - privileged |{round(predictive_parity_priv,2)}|\n",
    "| Positive Predictive Value - unprivileged |{round(predictive_parity_unpriv,2)}|\n",
    "| Predictive Parity Ratio (PPR)|{round(predictive_parity_ratio,2)}|\n",
    "| False Positive Rate - privileged |{round(predictive_equality_priv,2)}|\n",
    "| False Positive Rate - unprivileged |{round(predictive_equality_unpriv,2)}|\n",
    "| Predictive Equality Ratio (PER)|{round(predictive_equality_ratio,2)}|\n",
    "| Accuracy - privileged |{round(accuracy_equality_priv,2)}|\n",
    "| Accuracy - unprivileged |{round(accuracy_equality_unpriv,2)}|\n",
    "| Accuracy Equality Ratio (AER)|{round(accuracy_equality_ratio,2)}|\n",
    "| Equalized Odds|{equalized_odds}|\n",
    "\n",
    "'''\n",
    "))\n",
    "\n",
    "X_test['labels'] = y_test\n",
    "\n",
    "results_df, results_md = calc_fair(model_lr, X_test, 'race', 'Caucasian', 'African-American', 'labels')\n",
    "display(results_df)"
   ]
  },
  {
   "cell_type": "markdown",
   "metadata": {},
   "source": [
    "**Above we can see the Fairness evaluation of the best model (`LogisticRegressor`). To learn more about ML Fairness, and how these scores are computed visit our directory on [ML Fairness](https://github.com/Nkluge-correa/teeny-tiny_castle/tree/master/ML%20Fairness).**\n",
    "\n",
    "**Now let's create an `Explainer` around our model using the [Dalex](https://dalex.drwhy.ai/python/) library.**"
   ]
  },
  {
   "cell_type": "code",
   "execution_count": 11,
   "metadata": {},
   "outputs": [
    {
     "name": "stdout",
     "output_type": "stream",
     "text": [
      "Preparation of a new explainer is initiated\n",
      "\n",
      "  -> data              : 17019 rows 12 cols\n",
      "  -> target variable   : Parameter 'y' was a pandas.Series. Converted to a numpy.ndarray.\n",
      "  -> target variable   : 17019 values\n",
      "  -> model_class       : sklearn.linear_model._logistic.LogisticRegression (default)\n",
      "  -> label             : Logistic Regression explainer\n",
      "  -> predict function  : <function yhat_proba_default at 0x000001AC74C1EDC0> will be used (default)\n",
      "  -> predict function  : Accepts only pandas.DataFrame, numpy.ndarray causes problems.\n",
      "  -> predicted values  : min = 1.87e-05, mean = 0.743, max = 0.995\n",
      "  -> model type        : binary classification will be used\n",
      "  -> residual function : difference between y and yhat (default)\n",
      "  -> residuals         : min = -0.991, mean = 0.000594, max = 0.997\n",
      "  -> model_info        : package sklearn\n",
      "\n",
      "A new explainer has been created!\n"
     ]
    }
   ],
   "source": [
    "import dalex as dx\n",
    "\n",
    "model_lr_exp = dx.Explainer(model_lr,\n",
    "                            X, y, label='Logistic Regression explainer',\n",
    "                            model_type='binary classification')"
   ]
  },
  {
   "cell_type": "markdown",
   "metadata": {},
   "source": [
    "**To finish our interpretability analysis, we will set up a Break-Down plot of two different samples. One of the samples has the sensitive attribute \"`African-American`\", and the other has the attribute \"`Caucasian`\".**"
   ]
  },
  {
   "cell_type": "code",
   "execution_count": 48,
   "metadata": {},
   "outputs": [
    {
     "name": "stdout",
     "output_type": "stream",
     "text": [
      "Probabilities for sample_1 (African-American):  [[0.96979264 0.03020736]]\n"
     ]
    },
    {
     "data": {
      "text/plain": [
       "sex                                    Male\n",
       "age_cat                             25 - 45\n",
       "race                       African-American\n",
       "juv_fel_count                             2\n",
       "juv_misd_count                            1\n",
       "juv_other_count                           3\n",
       "priors_count                             21\n",
       "days_b_screening_arrest                 0.0\n",
       "c_days_from_compas                      0.0\n",
       "c_charge_degree                        (F2)\n",
       "is_recid                                  1\n",
       "is_violent_recid                          0\n",
       "Name: 101, dtype: object"
      ]
     },
     "metadata": {},
     "output_type": "display_data"
    },
    {
     "name": "stdout",
     "output_type": "stream",
     "text": [
      "Probabilities for sample_1 (Caucasian):  [[0.04983306 0.95016694]]\n"
     ]
    },
    {
     "data": {
      "text/plain": [
       "sex                           Female\n",
       "age_cat                      25 - 45\n",
       "race                       Caucasian\n",
       "juv_fel_count                      0\n",
       "juv_misd_count                     0\n",
       "juv_other_count                    0\n",
       "priors_count                       0\n",
       "days_b_screening_arrest         -1.0\n",
       "c_days_from_compas               1.0\n",
       "c_charge_degree                 (M1)\n",
       "is_recid                           0\n",
       "is_violent_recid                   0\n",
       "Name: 17, dtype: object"
      ]
     },
     "metadata": {},
     "output_type": "display_data"
    }
   ],
   "source": [
    "print('Probabilities for sample_1 (African-American): ', model_lr.predict_proba(pd.DataFrame(df[df['label'] == 0].drop('label', axis = 1).iloc[27]).transpose()))\n",
    "display(df[df['label'] == 0].drop('label', axis = 1).iloc[27])\n",
    "print('Probabilities for sample_1 (Caucasian): ', model_lr.predict_proba(pd.DataFrame(df[df['label'] == 1].drop('label', axis = 1).iloc[14]).transpose()))\n",
    "display( df[df['label'] == 1].drop('label', axis = 1).iloc[14])\n"
   ]
  },
  {
   "cell_type": "code",
   "execution_count": 49,
   "metadata": {},
   "outputs": [
    {
     "data": {
      "application/vnd.plotly.v1+json": {
       "config": {
        "plotlyServerURL": "https://plot.ly"
       },
       "data": [
        {
         "base": 0.7428105129194006,
         "connector": {
          "line": {
           "color": "#371ea3",
           "dash": "solid",
           "width": 1
          },
          "mode": "spanning"
         },
         "decreasing": {
          "marker": {
           "color": "#f05a71"
          }
         },
         "hoverinfo": "text+delta",
         "hoverlabel": {
          "bgcolor": "rgba(0,0,0,0.8)"
         },
         "hovertext": [
          "Average response: 0.743<br>Prediction: 0.03",
          "age_cat = 25 - 45<br>increases average response by",
          "c_charge_degree = (F2)<br>increases average response by",
          "is_violent_recid = 0.0<br>increases average response by",
          "c_days_from_compas = 0.0<br>increases average response by",
          "days_b_screening_arrest = 0.0<br>decreases average response by",
          "sex = Male<br>decreases average response by",
          "is_recid = 1.0<br>decreases average response by",
          "race = African-American<br>decreases average response by",
          "juv_misd_count = 1.0<br>decreases average response by",
          "juv_other_count = 3.0<br>decreases average response by",
          "+ all other factors<br>decreases average response by",
          "Average response: 0.743<br>Prediction: 0.03"
         ],
         "increasing": {
          "marker": {
           "color": "#8bdcbe"
          }
         },
         "measure": [
          "relative",
          "relative",
          "relative",
          "relative",
          "relative",
          "relative",
          "relative",
          "relative",
          "relative",
          "relative",
          "relative",
          "relative",
          "total"
         ],
         "orientation": "h",
         "showlegend": false,
         "text": [
          "0.743",
          "+0.015",
          "+0.004",
          "+0.004",
          "+0.003",
          "0.0",
          "-0.002",
          "-0.025",
          "-0.044",
          "-0.048",
          "-0.146",
          "-0.473",
          "0.03"
         ],
         "textposition": "outside",
         "totals": {
          "marker": {
           "color": "#371ea3"
          }
         },
         "type": "waterfall",
         "x": [
          0,
          0.015,
          0.004,
          0.004,
          0.003,
          0,
          -0.002,
          -0.025,
          -0.044,
          -0.048,
          -0.146,
          -0.473,
          -0.713
         ],
         "xaxis": "x",
         "y": [
          "intercept",
          "age_cat = 25 - 45",
          "c_charge_degree = (F2)",
          "is_violent_recid = 0.0",
          "c_days_from_compas = 0.0",
          "days_b_screening_arrest = 0.0",
          "sex = Male",
          "is_recid = 1.0",
          "race = African-American",
          "juv_misd_count = 1.0",
          "juv_other_count = 3.0",
          "+ all other factors",
          "prediction"
         ],
         "yaxis": "y"
        }
       ],
       "layout": {
        "annotations": [
         {
          "font": {
           "size": 16
          },
          "showarrow": false,
          "text": "Logistic Regression explainer",
          "x": 0.5,
          "xanchor": "center",
          "xref": "paper",
          "y": 1,
          "yanchor": "bottom",
          "yref": "paper"
         },
         {
          "font": {
           "size": 16
          },
          "showarrow": false,
          "text": "contribution",
          "x": 0.5,
          "xanchor": "center",
          "xref": "paper",
          "y": 0,
          "yanchor": "top",
          "yref": "paper",
          "yshift": -30
         }
        ],
        "font": {
         "color": "white"
        },
        "height": 413,
        "margin": {
         "b": 71,
         "r": 30,
         "t": 78
        },
        "paper_bgcolor": "rgba(0, 0, 0, 0)",
        "plot_bgcolor": "rgba(0, 0, 0, 0)",
        "shapes": [
         {
          "line": {
           "color": "#371ea3",
           "dash": "dot",
           "width": 1.5
          },
          "type": "line",
          "x0": 0.7428105129194006,
          "x1": 0.7428105129194006,
          "xref": "x",
          "y0": -1,
          "y1": 13,
          "yref": "y"
         }
        ],
        "template": {
         "data": {
          "bar": [
           {
            "error_x": {
             "color": "#f2f5fa"
            },
            "error_y": {
             "color": "#f2f5fa"
            },
            "marker": {
             "line": {
              "color": "rgb(17,17,17)",
              "width": 0.5
             },
             "pattern": {
              "fillmode": "overlay",
              "size": 10,
              "solidity": 0.2
             }
            },
            "type": "bar"
           }
          ],
          "barpolar": [
           {
            "marker": {
             "line": {
              "color": "rgb(17,17,17)",
              "width": 0.5
             },
             "pattern": {
              "fillmode": "overlay",
              "size": 10,
              "solidity": 0.2
             }
            },
            "type": "barpolar"
           }
          ],
          "carpet": [
           {
            "aaxis": {
             "endlinecolor": "#A2B1C6",
             "gridcolor": "#506784",
             "linecolor": "#506784",
             "minorgridcolor": "#506784",
             "startlinecolor": "#A2B1C6"
            },
            "baxis": {
             "endlinecolor": "#A2B1C6",
             "gridcolor": "#506784",
             "linecolor": "#506784",
             "minorgridcolor": "#506784",
             "startlinecolor": "#A2B1C6"
            },
            "type": "carpet"
           }
          ],
          "choropleth": [
           {
            "colorbar": {
             "outlinewidth": 0,
             "ticks": ""
            },
            "type": "choropleth"
           }
          ],
          "contour": [
           {
            "colorbar": {
             "outlinewidth": 0,
             "ticks": ""
            },
            "colorscale": [
             [
              0,
              "#0d0887"
             ],
             [
              0.1111111111111111,
              "#46039f"
             ],
             [
              0.2222222222222222,
              "#7201a8"
             ],
             [
              0.3333333333333333,
              "#9c179e"
             ],
             [
              0.4444444444444444,
              "#bd3786"
             ],
             [
              0.5555555555555556,
              "#d8576b"
             ],
             [
              0.6666666666666666,
              "#ed7953"
             ],
             [
              0.7777777777777778,
              "#fb9f3a"
             ],
             [
              0.8888888888888888,
              "#fdca26"
             ],
             [
              1,
              "#f0f921"
             ]
            ],
            "type": "contour"
           }
          ],
          "contourcarpet": [
           {
            "colorbar": {
             "outlinewidth": 0,
             "ticks": ""
            },
            "type": "contourcarpet"
           }
          ],
          "heatmap": [
           {
            "colorbar": {
             "outlinewidth": 0,
             "ticks": ""
            },
            "colorscale": [
             [
              0,
              "#0d0887"
             ],
             [
              0.1111111111111111,
              "#46039f"
             ],
             [
              0.2222222222222222,
              "#7201a8"
             ],
             [
              0.3333333333333333,
              "#9c179e"
             ],
             [
              0.4444444444444444,
              "#bd3786"
             ],
             [
              0.5555555555555556,
              "#d8576b"
             ],
             [
              0.6666666666666666,
              "#ed7953"
             ],
             [
              0.7777777777777778,
              "#fb9f3a"
             ],
             [
              0.8888888888888888,
              "#fdca26"
             ],
             [
              1,
              "#f0f921"
             ]
            ],
            "type": "heatmap"
           }
          ],
          "heatmapgl": [
           {
            "colorbar": {
             "outlinewidth": 0,
             "ticks": ""
            },
            "colorscale": [
             [
              0,
              "#0d0887"
             ],
             [
              0.1111111111111111,
              "#46039f"
             ],
             [
              0.2222222222222222,
              "#7201a8"
             ],
             [
              0.3333333333333333,
              "#9c179e"
             ],
             [
              0.4444444444444444,
              "#bd3786"
             ],
             [
              0.5555555555555556,
              "#d8576b"
             ],
             [
              0.6666666666666666,
              "#ed7953"
             ],
             [
              0.7777777777777778,
              "#fb9f3a"
             ],
             [
              0.8888888888888888,
              "#fdca26"
             ],
             [
              1,
              "#f0f921"
             ]
            ],
            "type": "heatmapgl"
           }
          ],
          "histogram": [
           {
            "marker": {
             "pattern": {
              "fillmode": "overlay",
              "size": 10,
              "solidity": 0.2
             }
            },
            "type": "histogram"
           }
          ],
          "histogram2d": [
           {
            "colorbar": {
             "outlinewidth": 0,
             "ticks": ""
            },
            "colorscale": [
             [
              0,
              "#0d0887"
             ],
             [
              0.1111111111111111,
              "#46039f"
             ],
             [
              0.2222222222222222,
              "#7201a8"
             ],
             [
              0.3333333333333333,
              "#9c179e"
             ],
             [
              0.4444444444444444,
              "#bd3786"
             ],
             [
              0.5555555555555556,
              "#d8576b"
             ],
             [
              0.6666666666666666,
              "#ed7953"
             ],
             [
              0.7777777777777778,
              "#fb9f3a"
             ],
             [
              0.8888888888888888,
              "#fdca26"
             ],
             [
              1,
              "#f0f921"
             ]
            ],
            "type": "histogram2d"
           }
          ],
          "histogram2dcontour": [
           {
            "colorbar": {
             "outlinewidth": 0,
             "ticks": ""
            },
            "colorscale": [
             [
              0,
              "#0d0887"
             ],
             [
              0.1111111111111111,
              "#46039f"
             ],
             [
              0.2222222222222222,
              "#7201a8"
             ],
             [
              0.3333333333333333,
              "#9c179e"
             ],
             [
              0.4444444444444444,
              "#bd3786"
             ],
             [
              0.5555555555555556,
              "#d8576b"
             ],
             [
              0.6666666666666666,
              "#ed7953"
             ],
             [
              0.7777777777777778,
              "#fb9f3a"
             ],
             [
              0.8888888888888888,
              "#fdca26"
             ],
             [
              1,
              "#f0f921"
             ]
            ],
            "type": "histogram2dcontour"
           }
          ],
          "mesh3d": [
           {
            "colorbar": {
             "outlinewidth": 0,
             "ticks": ""
            },
            "type": "mesh3d"
           }
          ],
          "parcoords": [
           {
            "line": {
             "colorbar": {
              "outlinewidth": 0,
              "ticks": ""
             }
            },
            "type": "parcoords"
           }
          ],
          "pie": [
           {
            "automargin": true,
            "type": "pie"
           }
          ],
          "scatter": [
           {
            "marker": {
             "line": {
              "color": "#283442"
             }
            },
            "type": "scatter"
           }
          ],
          "scatter3d": [
           {
            "line": {
             "colorbar": {
              "outlinewidth": 0,
              "ticks": ""
             }
            },
            "marker": {
             "colorbar": {
              "outlinewidth": 0,
              "ticks": ""
             }
            },
            "type": "scatter3d"
           }
          ],
          "scattercarpet": [
           {
            "marker": {
             "colorbar": {
              "outlinewidth": 0,
              "ticks": ""
             }
            },
            "type": "scattercarpet"
           }
          ],
          "scattergeo": [
           {
            "marker": {
             "colorbar": {
              "outlinewidth": 0,
              "ticks": ""
             }
            },
            "type": "scattergeo"
           }
          ],
          "scattergl": [
           {
            "marker": {
             "line": {
              "color": "#283442"
             }
            },
            "type": "scattergl"
           }
          ],
          "scattermapbox": [
           {
            "marker": {
             "colorbar": {
              "outlinewidth": 0,
              "ticks": ""
             }
            },
            "type": "scattermapbox"
           }
          ],
          "scatterpolar": [
           {
            "marker": {
             "colorbar": {
              "outlinewidth": 0,
              "ticks": ""
             }
            },
            "type": "scatterpolar"
           }
          ],
          "scatterpolargl": [
           {
            "marker": {
             "colorbar": {
              "outlinewidth": 0,
              "ticks": ""
             }
            },
            "type": "scatterpolargl"
           }
          ],
          "scatterternary": [
           {
            "marker": {
             "colorbar": {
              "outlinewidth": 0,
              "ticks": ""
             }
            },
            "type": "scatterternary"
           }
          ],
          "surface": [
           {
            "colorbar": {
             "outlinewidth": 0,
             "ticks": ""
            },
            "colorscale": [
             [
              0,
              "#0d0887"
             ],
             [
              0.1111111111111111,
              "#46039f"
             ],
             [
              0.2222222222222222,
              "#7201a8"
             ],
             [
              0.3333333333333333,
              "#9c179e"
             ],
             [
              0.4444444444444444,
              "#bd3786"
             ],
             [
              0.5555555555555556,
              "#d8576b"
             ],
             [
              0.6666666666666666,
              "#ed7953"
             ],
             [
              0.7777777777777778,
              "#fb9f3a"
             ],
             [
              0.8888888888888888,
              "#fdca26"
             ],
             [
              1,
              "#f0f921"
             ]
            ],
            "type": "surface"
           }
          ],
          "table": [
           {
            "cells": {
             "fill": {
              "color": "#506784"
             },
             "line": {
              "color": "rgb(17,17,17)"
             }
            },
            "header": {
             "fill": {
              "color": "#2a3f5f"
             },
             "line": {
              "color": "rgb(17,17,17)"
             }
            },
            "type": "table"
           }
          ]
         },
         "layout": {
          "annotationdefaults": {
           "arrowcolor": "#f2f5fa",
           "arrowhead": 0,
           "arrowwidth": 1
          },
          "autotypenumbers": "strict",
          "coloraxis": {
           "colorbar": {
            "outlinewidth": 0,
            "ticks": ""
           }
          },
          "colorscale": {
           "diverging": [
            [
             0,
             "#8e0152"
            ],
            [
             0.1,
             "#c51b7d"
            ],
            [
             0.2,
             "#de77ae"
            ],
            [
             0.3,
             "#f1b6da"
            ],
            [
             0.4,
             "#fde0ef"
            ],
            [
             0.5,
             "#f7f7f7"
            ],
            [
             0.6,
             "#e6f5d0"
            ],
            [
             0.7,
             "#b8e186"
            ],
            [
             0.8,
             "#7fbc41"
            ],
            [
             0.9,
             "#4d9221"
            ],
            [
             1,
             "#276419"
            ]
           ],
           "sequential": [
            [
             0,
             "#0d0887"
            ],
            [
             0.1111111111111111,
             "#46039f"
            ],
            [
             0.2222222222222222,
             "#7201a8"
            ],
            [
             0.3333333333333333,
             "#9c179e"
            ],
            [
             0.4444444444444444,
             "#bd3786"
            ],
            [
             0.5555555555555556,
             "#d8576b"
            ],
            [
             0.6666666666666666,
             "#ed7953"
            ],
            [
             0.7777777777777778,
             "#fb9f3a"
            ],
            [
             0.8888888888888888,
             "#fdca26"
            ],
            [
             1,
             "#f0f921"
            ]
           ],
           "sequentialminus": [
            [
             0,
             "#0d0887"
            ],
            [
             0.1111111111111111,
             "#46039f"
            ],
            [
             0.2222222222222222,
             "#7201a8"
            ],
            [
             0.3333333333333333,
             "#9c179e"
            ],
            [
             0.4444444444444444,
             "#bd3786"
            ],
            [
             0.5555555555555556,
             "#d8576b"
            ],
            [
             0.6666666666666666,
             "#ed7953"
            ],
            [
             0.7777777777777778,
             "#fb9f3a"
            ],
            [
             0.8888888888888888,
             "#fdca26"
            ],
            [
             1,
             "#f0f921"
            ]
           ]
          },
          "colorway": [
           "#636efa",
           "#EF553B",
           "#00cc96",
           "#ab63fa",
           "#FFA15A",
           "#19d3f3",
           "#FF6692",
           "#B6E880",
           "#FF97FF",
           "#FECB52"
          ],
          "font": {
           "color": "#f2f5fa"
          },
          "geo": {
           "bgcolor": "rgb(17,17,17)",
           "lakecolor": "rgb(17,17,17)",
           "landcolor": "rgb(17,17,17)",
           "showlakes": true,
           "showland": true,
           "subunitcolor": "#506784"
          },
          "hoverlabel": {
           "align": "left"
          },
          "hovermode": "closest",
          "mapbox": {
           "style": "dark"
          },
          "paper_bgcolor": "rgb(17,17,17)",
          "plot_bgcolor": "rgb(17,17,17)",
          "polar": {
           "angularaxis": {
            "gridcolor": "#506784",
            "linecolor": "#506784",
            "ticks": ""
           },
           "bgcolor": "rgb(17,17,17)",
           "radialaxis": {
            "gridcolor": "#506784",
            "linecolor": "#506784",
            "ticks": ""
           }
          },
          "scene": {
           "xaxis": {
            "backgroundcolor": "rgb(17,17,17)",
            "gridcolor": "#506784",
            "gridwidth": 2,
            "linecolor": "#506784",
            "showbackground": true,
            "ticks": "",
            "zerolinecolor": "#C8D4E3"
           },
           "yaxis": {
            "backgroundcolor": "rgb(17,17,17)",
            "gridcolor": "#506784",
            "gridwidth": 2,
            "linecolor": "#506784",
            "showbackground": true,
            "ticks": "",
            "zerolinecolor": "#C8D4E3"
           },
           "zaxis": {
            "backgroundcolor": "rgb(17,17,17)",
            "gridcolor": "#506784",
            "gridwidth": 2,
            "linecolor": "#506784",
            "showbackground": true,
            "ticks": "",
            "zerolinecolor": "#C8D4E3"
           }
          },
          "shapedefaults": {
           "line": {
            "color": "#f2f5fa"
           }
          },
          "sliderdefaults": {
           "bgcolor": "#C8D4E3",
           "bordercolor": "rgb(17,17,17)",
           "borderwidth": 1,
           "tickwidth": 0
          },
          "ternary": {
           "aaxis": {
            "gridcolor": "#506784",
            "linecolor": "#506784",
            "ticks": ""
           },
           "baxis": {
            "gridcolor": "#506784",
            "linecolor": "#506784",
            "ticks": ""
           },
           "bgcolor": "rgb(17,17,17)",
           "caxis": {
            "gridcolor": "#506784",
            "linecolor": "#506784",
            "ticks": ""
           }
          },
          "title": {
           "x": 0.05
          },
          "updatemenudefaults": {
           "bgcolor": "#506784",
           "borderwidth": 0
          },
          "xaxis": {
           "automargin": true,
           "gridcolor": "#283442",
           "linecolor": "#506784",
           "ticks": "",
           "title": {
            "standoff": 15
           },
           "zerolinecolor": "#283442",
           "zerolinewidth": 2
          },
          "yaxis": {
           "automargin": true,
           "gridcolor": "#283442",
           "linecolor": "#506784",
           "ticks": "",
           "title": {
            "standoff": 15
           },
           "zerolinecolor": "#283442",
           "zerolinewidth": 2
          }
         }
        },
        "title": {
         "text": "sample_african_american (Logistic Regression Explainer)"
        },
        "xaxis": {
         "anchor": "y",
         "automargin": true,
         "domain": [
          0,
          1
         ],
         "fixedrange": true,
         "gridwidth": 2,
         "range": [
          -0.08084999999999999,
          0.87985
         ],
         "tickcolor": "white",
         "ticklen": 3,
         "ticks": "outside",
         "type": "linear",
         "zeroline": false
        },
        "yaxis": {
         "anchor": "x",
         "automargin": true,
         "autorange": "reversed",
         "domain": [
          0,
          1
         ],
         "fixedrange": true,
         "gridwidth": 2,
         "tickcolor": "white",
         "ticklen": 10,
         "ticks": "outside",
         "type": "category"
        }
       }
      }
     },
     "metadata": {},
     "output_type": "display_data"
    },
    {
     "data": {
      "application/vnd.plotly.v1+json": {
       "config": {
        "plotlyServerURL": "https://plot.ly"
       },
       "data": [
        {
         "base": 0.7428105129194006,
         "connector": {
          "line": {
           "color": "#371ea3",
           "dash": "solid",
           "width": 1
          },
          "mode": "spanning"
         },
         "decreasing": {
          "marker": {
           "color": "#f05a71"
          }
         },
         "hoverinfo": "text+delta",
         "hoverlabel": {
          "bgcolor": "rgba(0,0,0,0.8)"
         },
         "hovertext": [
          "Average response: 0.743<br>Prediction: 0.95",
          "priors_count = 0.0<br>increases average response by",
          "c_charge_degree = (M1)<br>increases average response by",
          "race = Caucasian<br>increases average response by",
          "is_recid = 0.0<br>increases average response by",
          "age_cat = 25 - 45<br>increases average response by",
          "sex = Female<br>increases average response by",
          "juv_fel_count = 0.0<br>increases average response by",
          "juv_other_count = 0.0<br>increases average response by",
          "juv_misd_count = 0.0<br>increases average response by",
          "is_violent_recid = 0.0<br>increases average response by",
          "+ all other factors<br>increases average response by",
          "Average response: 0.743<br>Prediction: 0.95"
         ],
         "increasing": {
          "marker": {
           "color": "#8bdcbe"
          }
         },
         "measure": [
          "relative",
          "relative",
          "relative",
          "relative",
          "relative",
          "relative",
          "relative",
          "relative",
          "relative",
          "relative",
          "relative",
          "relative",
          "total"
         ],
         "orientation": "h",
         "showlegend": false,
         "text": [
          "0.743",
          "+0.096",
          "+0.04",
          "+0.027",
          "+0.016",
          "+0.013",
          "+0.005",
          "+0.004",
          "+0.002",
          "+0.002",
          "+0.001",
          "+0.001",
          "0.95"
         ],
         "textposition": "outside",
         "totals": {
          "marker": {
           "color": "#371ea3"
          }
         },
         "type": "waterfall",
         "x": [
          0,
          0.096,
          0.04,
          0.027,
          0.016,
          0.013,
          0.005,
          0.004,
          0.002,
          0.002,
          0.001,
          0.001,
          0.207
         ],
         "xaxis": "x",
         "y": [
          "intercept",
          "priors_count = 0.0",
          "c_charge_degree = (M1)",
          "race = Caucasian",
          "is_recid = 0.0",
          "age_cat = 25 - 45",
          "sex = Female",
          "juv_fel_count = 0.0",
          "juv_other_count = 0.0",
          "juv_misd_count = 0.0",
          "is_violent_recid = 0.0",
          "+ all other factors",
          "prediction"
         ],
         "yaxis": "y"
        }
       ],
       "layout": {
        "annotations": [
         {
          "font": {
           "size": 16
          },
          "showarrow": false,
          "text": "Logistic Regression explainer",
          "x": 0.5,
          "xanchor": "center",
          "xref": "paper",
          "y": 1,
          "yanchor": "bottom",
          "yref": "paper"
         },
         {
          "font": {
           "size": 16
          },
          "showarrow": false,
          "text": "contribution",
          "x": 0.5,
          "xanchor": "center",
          "xref": "paper",
          "y": 0,
          "yanchor": "top",
          "yref": "paper",
          "yshift": -30
         }
        ],
        "font": {
         "color": "white"
        },
        "height": 413,
        "margin": {
         "b": 71,
         "r": 30,
         "t": 78
        },
        "paper_bgcolor": "rgba(0, 0, 0, 0)",
        "plot_bgcolor": "rgba(0, 0, 0, 0)",
        "shapes": [
         {
          "line": {
           "color": "#371ea3",
           "dash": "dot",
           "width": 1.5
          },
          "type": "line",
          "x0": 0.7428105129194006,
          "x1": 0.7428105129194006,
          "xref": "x",
          "y0": -1,
          "y1": 13,
          "yref": "y"
         }
        ],
        "template": {
         "data": {
          "bar": [
           {
            "error_x": {
             "color": "#f2f5fa"
            },
            "error_y": {
             "color": "#f2f5fa"
            },
            "marker": {
             "line": {
              "color": "rgb(17,17,17)",
              "width": 0.5
             },
             "pattern": {
              "fillmode": "overlay",
              "size": 10,
              "solidity": 0.2
             }
            },
            "type": "bar"
           }
          ],
          "barpolar": [
           {
            "marker": {
             "line": {
              "color": "rgb(17,17,17)",
              "width": 0.5
             },
             "pattern": {
              "fillmode": "overlay",
              "size": 10,
              "solidity": 0.2
             }
            },
            "type": "barpolar"
           }
          ],
          "carpet": [
           {
            "aaxis": {
             "endlinecolor": "#A2B1C6",
             "gridcolor": "#506784",
             "linecolor": "#506784",
             "minorgridcolor": "#506784",
             "startlinecolor": "#A2B1C6"
            },
            "baxis": {
             "endlinecolor": "#A2B1C6",
             "gridcolor": "#506784",
             "linecolor": "#506784",
             "minorgridcolor": "#506784",
             "startlinecolor": "#A2B1C6"
            },
            "type": "carpet"
           }
          ],
          "choropleth": [
           {
            "colorbar": {
             "outlinewidth": 0,
             "ticks": ""
            },
            "type": "choropleth"
           }
          ],
          "contour": [
           {
            "colorbar": {
             "outlinewidth": 0,
             "ticks": ""
            },
            "colorscale": [
             [
              0,
              "#0d0887"
             ],
             [
              0.1111111111111111,
              "#46039f"
             ],
             [
              0.2222222222222222,
              "#7201a8"
             ],
             [
              0.3333333333333333,
              "#9c179e"
             ],
             [
              0.4444444444444444,
              "#bd3786"
             ],
             [
              0.5555555555555556,
              "#d8576b"
             ],
             [
              0.6666666666666666,
              "#ed7953"
             ],
             [
              0.7777777777777778,
              "#fb9f3a"
             ],
             [
              0.8888888888888888,
              "#fdca26"
             ],
             [
              1,
              "#f0f921"
             ]
            ],
            "type": "contour"
           }
          ],
          "contourcarpet": [
           {
            "colorbar": {
             "outlinewidth": 0,
             "ticks": ""
            },
            "type": "contourcarpet"
           }
          ],
          "heatmap": [
           {
            "colorbar": {
             "outlinewidth": 0,
             "ticks": ""
            },
            "colorscale": [
             [
              0,
              "#0d0887"
             ],
             [
              0.1111111111111111,
              "#46039f"
             ],
             [
              0.2222222222222222,
              "#7201a8"
             ],
             [
              0.3333333333333333,
              "#9c179e"
             ],
             [
              0.4444444444444444,
              "#bd3786"
             ],
             [
              0.5555555555555556,
              "#d8576b"
             ],
             [
              0.6666666666666666,
              "#ed7953"
             ],
             [
              0.7777777777777778,
              "#fb9f3a"
             ],
             [
              0.8888888888888888,
              "#fdca26"
             ],
             [
              1,
              "#f0f921"
             ]
            ],
            "type": "heatmap"
           }
          ],
          "heatmapgl": [
           {
            "colorbar": {
             "outlinewidth": 0,
             "ticks": ""
            },
            "colorscale": [
             [
              0,
              "#0d0887"
             ],
             [
              0.1111111111111111,
              "#46039f"
             ],
             [
              0.2222222222222222,
              "#7201a8"
             ],
             [
              0.3333333333333333,
              "#9c179e"
             ],
             [
              0.4444444444444444,
              "#bd3786"
             ],
             [
              0.5555555555555556,
              "#d8576b"
             ],
             [
              0.6666666666666666,
              "#ed7953"
             ],
             [
              0.7777777777777778,
              "#fb9f3a"
             ],
             [
              0.8888888888888888,
              "#fdca26"
             ],
             [
              1,
              "#f0f921"
             ]
            ],
            "type": "heatmapgl"
           }
          ],
          "histogram": [
           {
            "marker": {
             "pattern": {
              "fillmode": "overlay",
              "size": 10,
              "solidity": 0.2
             }
            },
            "type": "histogram"
           }
          ],
          "histogram2d": [
           {
            "colorbar": {
             "outlinewidth": 0,
             "ticks": ""
            },
            "colorscale": [
             [
              0,
              "#0d0887"
             ],
             [
              0.1111111111111111,
              "#46039f"
             ],
             [
              0.2222222222222222,
              "#7201a8"
             ],
             [
              0.3333333333333333,
              "#9c179e"
             ],
             [
              0.4444444444444444,
              "#bd3786"
             ],
             [
              0.5555555555555556,
              "#d8576b"
             ],
             [
              0.6666666666666666,
              "#ed7953"
             ],
             [
              0.7777777777777778,
              "#fb9f3a"
             ],
             [
              0.8888888888888888,
              "#fdca26"
             ],
             [
              1,
              "#f0f921"
             ]
            ],
            "type": "histogram2d"
           }
          ],
          "histogram2dcontour": [
           {
            "colorbar": {
             "outlinewidth": 0,
             "ticks": ""
            },
            "colorscale": [
             [
              0,
              "#0d0887"
             ],
             [
              0.1111111111111111,
              "#46039f"
             ],
             [
              0.2222222222222222,
              "#7201a8"
             ],
             [
              0.3333333333333333,
              "#9c179e"
             ],
             [
              0.4444444444444444,
              "#bd3786"
             ],
             [
              0.5555555555555556,
              "#d8576b"
             ],
             [
              0.6666666666666666,
              "#ed7953"
             ],
             [
              0.7777777777777778,
              "#fb9f3a"
             ],
             [
              0.8888888888888888,
              "#fdca26"
             ],
             [
              1,
              "#f0f921"
             ]
            ],
            "type": "histogram2dcontour"
           }
          ],
          "mesh3d": [
           {
            "colorbar": {
             "outlinewidth": 0,
             "ticks": ""
            },
            "type": "mesh3d"
           }
          ],
          "parcoords": [
           {
            "line": {
             "colorbar": {
              "outlinewidth": 0,
              "ticks": ""
             }
            },
            "type": "parcoords"
           }
          ],
          "pie": [
           {
            "automargin": true,
            "type": "pie"
           }
          ],
          "scatter": [
           {
            "marker": {
             "line": {
              "color": "#283442"
             }
            },
            "type": "scatter"
           }
          ],
          "scatter3d": [
           {
            "line": {
             "colorbar": {
              "outlinewidth": 0,
              "ticks": ""
             }
            },
            "marker": {
             "colorbar": {
              "outlinewidth": 0,
              "ticks": ""
             }
            },
            "type": "scatter3d"
           }
          ],
          "scattercarpet": [
           {
            "marker": {
             "colorbar": {
              "outlinewidth": 0,
              "ticks": ""
             }
            },
            "type": "scattercarpet"
           }
          ],
          "scattergeo": [
           {
            "marker": {
             "colorbar": {
              "outlinewidth": 0,
              "ticks": ""
             }
            },
            "type": "scattergeo"
           }
          ],
          "scattergl": [
           {
            "marker": {
             "line": {
              "color": "#283442"
             }
            },
            "type": "scattergl"
           }
          ],
          "scattermapbox": [
           {
            "marker": {
             "colorbar": {
              "outlinewidth": 0,
              "ticks": ""
             }
            },
            "type": "scattermapbox"
           }
          ],
          "scatterpolar": [
           {
            "marker": {
             "colorbar": {
              "outlinewidth": 0,
              "ticks": ""
             }
            },
            "type": "scatterpolar"
           }
          ],
          "scatterpolargl": [
           {
            "marker": {
             "colorbar": {
              "outlinewidth": 0,
              "ticks": ""
             }
            },
            "type": "scatterpolargl"
           }
          ],
          "scatterternary": [
           {
            "marker": {
             "colorbar": {
              "outlinewidth": 0,
              "ticks": ""
             }
            },
            "type": "scatterternary"
           }
          ],
          "surface": [
           {
            "colorbar": {
             "outlinewidth": 0,
             "ticks": ""
            },
            "colorscale": [
             [
              0,
              "#0d0887"
             ],
             [
              0.1111111111111111,
              "#46039f"
             ],
             [
              0.2222222222222222,
              "#7201a8"
             ],
             [
              0.3333333333333333,
              "#9c179e"
             ],
             [
              0.4444444444444444,
              "#bd3786"
             ],
             [
              0.5555555555555556,
              "#d8576b"
             ],
             [
              0.6666666666666666,
              "#ed7953"
             ],
             [
              0.7777777777777778,
              "#fb9f3a"
             ],
             [
              0.8888888888888888,
              "#fdca26"
             ],
             [
              1,
              "#f0f921"
             ]
            ],
            "type": "surface"
           }
          ],
          "table": [
           {
            "cells": {
             "fill": {
              "color": "#506784"
             },
             "line": {
              "color": "rgb(17,17,17)"
             }
            },
            "header": {
             "fill": {
              "color": "#2a3f5f"
             },
             "line": {
              "color": "rgb(17,17,17)"
             }
            },
            "type": "table"
           }
          ]
         },
         "layout": {
          "annotationdefaults": {
           "arrowcolor": "#f2f5fa",
           "arrowhead": 0,
           "arrowwidth": 1
          },
          "autotypenumbers": "strict",
          "coloraxis": {
           "colorbar": {
            "outlinewidth": 0,
            "ticks": ""
           }
          },
          "colorscale": {
           "diverging": [
            [
             0,
             "#8e0152"
            ],
            [
             0.1,
             "#c51b7d"
            ],
            [
             0.2,
             "#de77ae"
            ],
            [
             0.3,
             "#f1b6da"
            ],
            [
             0.4,
             "#fde0ef"
            ],
            [
             0.5,
             "#f7f7f7"
            ],
            [
             0.6,
             "#e6f5d0"
            ],
            [
             0.7,
             "#b8e186"
            ],
            [
             0.8,
             "#7fbc41"
            ],
            [
             0.9,
             "#4d9221"
            ],
            [
             1,
             "#276419"
            ]
           ],
           "sequential": [
            [
             0,
             "#0d0887"
            ],
            [
             0.1111111111111111,
             "#46039f"
            ],
            [
             0.2222222222222222,
             "#7201a8"
            ],
            [
             0.3333333333333333,
             "#9c179e"
            ],
            [
             0.4444444444444444,
             "#bd3786"
            ],
            [
             0.5555555555555556,
             "#d8576b"
            ],
            [
             0.6666666666666666,
             "#ed7953"
            ],
            [
             0.7777777777777778,
             "#fb9f3a"
            ],
            [
             0.8888888888888888,
             "#fdca26"
            ],
            [
             1,
             "#f0f921"
            ]
           ],
           "sequentialminus": [
            [
             0,
             "#0d0887"
            ],
            [
             0.1111111111111111,
             "#46039f"
            ],
            [
             0.2222222222222222,
             "#7201a8"
            ],
            [
             0.3333333333333333,
             "#9c179e"
            ],
            [
             0.4444444444444444,
             "#bd3786"
            ],
            [
             0.5555555555555556,
             "#d8576b"
            ],
            [
             0.6666666666666666,
             "#ed7953"
            ],
            [
             0.7777777777777778,
             "#fb9f3a"
            ],
            [
             0.8888888888888888,
             "#fdca26"
            ],
            [
             1,
             "#f0f921"
            ]
           ]
          },
          "colorway": [
           "#636efa",
           "#EF553B",
           "#00cc96",
           "#ab63fa",
           "#FFA15A",
           "#19d3f3",
           "#FF6692",
           "#B6E880",
           "#FF97FF",
           "#FECB52"
          ],
          "font": {
           "color": "#f2f5fa"
          },
          "geo": {
           "bgcolor": "rgb(17,17,17)",
           "lakecolor": "rgb(17,17,17)",
           "landcolor": "rgb(17,17,17)",
           "showlakes": true,
           "showland": true,
           "subunitcolor": "#506784"
          },
          "hoverlabel": {
           "align": "left"
          },
          "hovermode": "closest",
          "mapbox": {
           "style": "dark"
          },
          "paper_bgcolor": "rgb(17,17,17)",
          "plot_bgcolor": "rgb(17,17,17)",
          "polar": {
           "angularaxis": {
            "gridcolor": "#506784",
            "linecolor": "#506784",
            "ticks": ""
           },
           "bgcolor": "rgb(17,17,17)",
           "radialaxis": {
            "gridcolor": "#506784",
            "linecolor": "#506784",
            "ticks": ""
           }
          },
          "scene": {
           "xaxis": {
            "backgroundcolor": "rgb(17,17,17)",
            "gridcolor": "#506784",
            "gridwidth": 2,
            "linecolor": "#506784",
            "showbackground": true,
            "ticks": "",
            "zerolinecolor": "#C8D4E3"
           },
           "yaxis": {
            "backgroundcolor": "rgb(17,17,17)",
            "gridcolor": "#506784",
            "gridwidth": 2,
            "linecolor": "#506784",
            "showbackground": true,
            "ticks": "",
            "zerolinecolor": "#C8D4E3"
           },
           "zaxis": {
            "backgroundcolor": "rgb(17,17,17)",
            "gridcolor": "#506784",
            "gridwidth": 2,
            "linecolor": "#506784",
            "showbackground": true,
            "ticks": "",
            "zerolinecolor": "#C8D4E3"
           }
          },
          "shapedefaults": {
           "line": {
            "color": "#f2f5fa"
           }
          },
          "sliderdefaults": {
           "bgcolor": "#C8D4E3",
           "bordercolor": "rgb(17,17,17)",
           "borderwidth": 1,
           "tickwidth": 0
          },
          "ternary": {
           "aaxis": {
            "gridcolor": "#506784",
            "linecolor": "#506784",
            "ticks": ""
           },
           "baxis": {
            "gridcolor": "#506784",
            "linecolor": "#506784",
            "ticks": ""
           },
           "bgcolor": "rgb(17,17,17)",
           "caxis": {
            "gridcolor": "#506784",
            "linecolor": "#506784",
            "ticks": ""
           }
          },
          "title": {
           "x": 0.05
          },
          "updatemenudefaults": {
           "bgcolor": "#506784",
           "borderwidth": 0
          },
          "xaxis": {
           "automargin": true,
           "gridcolor": "#283442",
           "linecolor": "#506784",
           "ticks": "",
           "title": {
            "standoff": 15
           },
           "zerolinecolor": "#283442",
           "zerolinewidth": 2
          },
          "yaxis": {
           "automargin": true,
           "gridcolor": "#283442",
           "linecolor": "#506784",
           "ticks": "",
           "title": {
            "standoff": 15
           },
           "zerolinecolor": "#283442",
           "zerolinewidth": 2
          }
         }
        },
        "title": {
         "text": "sample_caucasian (Logistic Regression Explainer)"
        },
        "xaxis": {
         "anchor": "y",
         "automargin": true,
         "domain": [
          0,
          1
         ],
         "fixedrange": true,
         "gridwidth": 2,
         "range": [
          0.71195,
          0.98105
         ],
         "tickcolor": "white",
         "ticklen": 3,
         "ticks": "outside",
         "type": "linear",
         "zeroline": false
        },
        "yaxis": {
         "anchor": "x",
         "automargin": true,
         "autorange": "reversed",
         "domain": [
          0,
          1
         ],
         "fixedrange": true,
         "gridwidth": 2,
         "tickcolor": "white",
         "ticklen": 10,
         "ticks": "outside",
         "type": "category"
        }
       }
      }
     },
     "metadata": {},
     "output_type": "display_data"
    }
   ],
   "source": [
    "sample_african_american = df[df['label'] == 0].drop('label', axis = 1).iloc[27]\n",
    "\n",
    "bd_sample_1 = model_lr_exp.predict_parts(sample_african_american,\n",
    "                                         type='break_down')\n",
    "\n",
    "\n",
    "fig = bd_sample_1.plot(show=False)\n",
    "fig.update_layout(\n",
    "    template='plotly_dark',\n",
    "    title='sample_african_american (Logistic Regression Explainer)',\n",
    "    paper_bgcolor='rgba(0, 0, 0, 0)',\n",
    "    plot_bgcolor='rgba(0, 0, 0, 0)',\n",
    "    font_color='white')\n",
    "fig.show()\n",
    "\n",
    "sample_caucasian = df[df['label'] == 1].drop('label', axis = 1).iloc[14]\n",
    "\n",
    "bd_sample_2 = model_lr_exp.predict_parts(sample_caucasian,\n",
    "                                         type='break_down')\n",
    "\n",
    "\n",
    "fig = bd_sample_2.plot(show=False)\n",
    "fig.update_layout(\n",
    "    template='plotly_dark',\n",
    "    title='sample_caucasian (Logistic Regression Explainer)',\n",
    "    paper_bgcolor='rgba(0, 0, 0, 0)',\n",
    "    plot_bgcolor='rgba(0, 0, 0, 0)',\n",
    "    font_color='white')\n",
    "fig.show()"
   ]
  },
  {
   "attachments": {},
   "cell_type": "markdown",
   "metadata": {},
   "source": [
    "**XAI and ML Fairness bring us new tools to investigate the social ills that are embedded in our societies.**\n",
    "\n",
    "**Tools used in ML Fairness and XAI can help us better understand how AI systems work. With this knowledge, we can take several directions of action, such as creating interpretable models, or deciding that a model should not be used for a particular application.** ⚖️🔎\n",
    "\n",
    "----\n",
    "\n",
    "Return to the [castle](https://github.com/Nkluge-correa/teeny-tiny_castle)."
   ]
  }
 ],
 "metadata": {
  "kernelspec": {
   "display_name": "Python 3.9.13 64-bit",
   "language": "python",
   "name": "python3"
  },
  "language_info": {
   "codemirror_mode": {
    "name": "ipython",
    "version": 3
   },
   "file_extension": ".py",
   "mimetype": "text/x-python",
   "name": "python",
   "nbconvert_exporter": "python",
   "pygments_lexer": "ipython3",
   "version": "3.9.13 (tags/v3.9.13:6de2ca5, May 17 2022, 16:36:42) [MSC v.1929 64 bit (AMD64)]"
  },
  "orig_nbformat": 4,
  "vscode": {
   "interpreter": {
    "hash": "aca09746cf57686f00a55ae76e987247ecfb5dd0b3b2e2474d8dbbf0c5e3377e"
   }
  }
 },
 "nbformat": 4,
 "nbformat_minor": 2
}
