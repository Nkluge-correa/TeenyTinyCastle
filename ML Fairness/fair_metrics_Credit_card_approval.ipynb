{
 "cells": [
  {
   "attachments": {},
   "cell_type": "markdown",
   "metadata": {},
   "source": [
    "# Machine Learning Fairness\n",
    "\n",
    "Return to the [castle](https://github.com/Nkluge-correa/teeny-tiny_castle).\n",
    "\n",
    "**Fairness** in [machine learning](https://en.wikipedia.org/wiki/Machine_Learning \"Machine Learning\") refers to the various attempts at correcting [algorithmic bias](https://en.wikipedia.org/wiki/Algorithmic_bias \"Algorithmic bias\") in automated decision processes based on machine learning models. Decisions made by computers after a machine-learning process may be considered unfair if they were based on [variables](https://en.wikipedia.org/wiki/Dependent_and_independent_variables \"Dependent and independent variables\") considered **sensitive**. Examples of these kinds of variable include [gender](https://en.wikipedia.org/wiki/Gender \"Gender\"), [ethnicity](https://en.wikipedia.org/wiki/Ethnicity), [sexual orientation](https://en.wikipedia.org/wiki/Sexual_orientation \"Sexual orientation\"), [disability](https://en.wikipedia.org/wiki/Disability \"Disability\") and more.\n",
    "\n",
    "As is the case with many ethical concepts, definitions of fairness and bias are always controversial. In general, fairness and bias are considered relevant when the decision process impacts people's lives. In [machine learning](https://en.wikipedia.org/wiki/Machine_learning \"Machine learning\"), the problem of [algorithmic bias](https://en.wikipedia.org/wiki/Algorithmic_bias \"Algorithmic bias\") is well known and well studied. Outcomes may be skewed by a range of factors and thus might be considered unfair concerning certain groups or individuals.\n",
    "\n",
    "![image](https://repository-images.githubusercontent.com/250897484/9466ef80-cb69-11ea-9bc7-404fd8b3bddc)\n"
   ]
  },
  {
   "cell_type": "code",
   "execution_count": 1,
   "metadata": {},
   "outputs": [],
   "source": [
    "import numpy as np\n",
    "import pandas as pd\n",
    "import plotly.express as px\n",
    "import plotly.graph_objects as go\n",
    "from IPython.display import Markdown\n",
    "from sklearn.metrics import confusion_matrix\n",
    "from sklearn.preprocessing import MinMaxScaler\n",
    "from sklearn.linear_model import LogisticRegression\n",
    "from sklearn.model_selection import train_test_split"
   ]
  },
  {
   "cell_type": "markdown",
   "metadata": {},
   "source": [
    "### Credit Approval Data Set\n",
    "\n",
    "The data set used is this notebook is the [**Credit Approval Data Set**](https://archive.ics.uci.edu/ml/datasets/credit+approval), made available by the [UCI Machine Learning Repository](https://archive.ics.uci.edu/ml/index.php). This dataset contains labeled samples (approved/unapproved) of credit card applications.\n"
   ]
  },
  {
   "cell_type": "code",
   "execution_count": null,
   "metadata": {},
   "outputs": [],
   "source": [
    "data = pd.read_csv(r'data\\dataCC.csv', header=0)\n",
    "data.columns = ['Gender', 'Age', 'Debt', 'Married', 'Bank Client', 'Education',\n",
    "                'Race', 'Years Employed', 'Prior Default', 'Employed', 'Credit',\n",
    "                \"Driver's License\", 'Citizenship', 'Postal code', 'Income', 'Approval Status']\n",
    "\n",
    "data = data.replace('?', np.nan)\n",
    "data.fillna(data.mean(), inplace=True)\n",
    "for col in data.columns:\n",
    "    if data[col].dtypes == 'object':\n",
    "        data = data.fillna(data[col].value_counts().index[0])\n",
    "\n",
    "data = data.drop(['Age', 'Married', 'Bank Client', 'Education',\n",
    "                  'Race', 'Years Employed', 'Employed', 'Credit',\n",
    "                  \"Driver's License\", 'Citizenship', 'Postal code', 'Income'], axis=1)\n",
    "\n",
    "data['Gender'].replace({'b': 'Male', 'a': 'Female'}, inplace=True)\n",
    "data['Approval Status'].replace({'+': 1, '-': 0}, inplace=True)\n",
    "data['Prior Default'].replace({'t': 1, 'f': 0}, inplace=True)\n"
   ]
  },
  {
   "cell_type": "markdown",
   "metadata": {},
   "source": [
    "## FACETS\n",
    "\n",
    "[Facets](https://pair-code.github.io/facets/) its a lybrary for data visualization. It contains two robust visualizations to aid in understanding and analyzing machine learning datasets. Get a sense of the shape of each feature of your dataset using Facets Overview, or explore individual observations using Facets Dive.\n",
    "\n",
    "![facets](https://3.bp.blogspot.com/-T0dTxdse9Ow/WWz0u431RpI/AAAAAAAAB5M/rBvToJjx1L0FVVpXkgNOAwzXASyZC_JWwCLcBGAs/s640/image4.gif)\n"
   ]
  },
  {
   "cell_type": "code",
   "execution_count": 3,
   "metadata": {},
   "outputs": [
    {
     "data": {
      "text/html": [
       "<script src='https://cdnjs.cloudflare.com/ajax/libs/webcomponentsjs/1.3.3/webcomponents-lite.js'></script>\n",
       "        <link rel='import' href='https://raw.githubusercontent.com/PAIR-code/facets/1.0.0/facets-dist/facets-jupyter.html'>\n",
       "        <facets-overview id='elem'></facets-overview>\n",
       "        <script>\n",
       "          document.querySelector('#elem').protoInput = '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';\n",
       "        </script>"
      ],
      "text/plain": [
       "<IPython.core.display.HTML object>"
      ]
     },
     "metadata": {},
     "output_type": "display_data"
    },
    {
     "data": {
      "text/html": [
       "<a href='overview_data_credit_card.html' target='_blank'>overview_data_credit_card.html</a>"
      ],
      "text/plain": [
       "<IPython.core.display.HTML object>"
      ]
     },
     "metadata": {},
     "output_type": "display_data"
    }
   ],
   "source": [
    "from facets_overview.feature_statistics_generator import FeatureStatisticsGenerator\n",
    "from IPython.display import HTML\n",
    "import base64\n",
    "\n",
    "fsg = FeatureStatisticsGenerator()\n",
    "dataframes = [\n",
    "    {'table': data, 'name': 'trainData'}]\n",
    "censusProto = fsg.ProtoFromDataFrames(dataframes)\n",
    "protostr = base64.b64encode(censusProto.SerializeToString()).decode('utf-8')\n",
    "\n",
    "\n",
    "HTML_TEMPLATE = '''<script src='https://cdnjs.cloudflare.com/ajax/libs/webcomponentsjs/1.3.3/webcomponents-lite.js'></script>\n",
    "        <link rel='import' href='https://raw.githubusercontent.com/PAIR-code/facets/1.0.0/facets-dist/facets-jupyter.html'>\n",
    "        <facets-overview id='elem'></facets-overview>\n",
    "        <script>\n",
    "          document.querySelector('#elem').protoInput = '{protostr}';\n",
    "        </script>'''\n",
    "html = HTML_TEMPLATE.format(protostr=protostr)\n",
    "display(HTML(html))\n",
    "with open(\"overview_data_credit_card.html\", \"w\") as file:\n",
    "    file.write(html)\n",
    "display(HTML(\"<a href='overview_data_credit_card.html' target='_blank'>overview_data_credit_card.html</a>\"))\n"
   ]
  },
  {
   "cell_type": "code",
   "execution_count": 4,
   "metadata": {},
   "outputs": [
    {
     "name": "stdout",
     "output_type": "stream",
     "text": [
      "\n",
      "For some reason, the Dive HTML does not open well in VScode notebooks, \n",
      "but you can see the dash following the link below:\n",
      "\n"
     ]
    },
    {
     "data": {
      "text/html": [
       "<a href='dive_data_credit_card.html' target='_blank'>dive_data_credit_card.html</a>"
      ],
      "text/plain": [
       "<IPython.core.display.HTML object>"
      ]
     },
     "metadata": {},
     "output_type": "display_data"
    }
   ],
   "source": [
    "SAMPLE_SIZE = 500\n",
    "\n",
    "data_dive = data.sample(SAMPLE_SIZE).to_json(orient='records')\n",
    "\n",
    "HTML_TEMPLATE = \"\"\"<script src=\"https://cdnjs.cloudflare.com/ajax/libs/webcomponentsjs/1.3.3/webcomponents-lite.js\"></script>\n",
    "        <link rel=\"import\" href=\"https://raw.githubusercontent.com/PAIR-code/facets/1.0.0/facets-dist/facets-jupyter.html\">\n",
    "        <facets-dive id=\"elem\" height=\"600\"></facets-dive>\n",
    "        <script>\n",
    "          var data = {jsonstr};\n",
    "          document.querySelector(\"#elem\").data = data;\n",
    "        </script>\"\"\"\n",
    "html = HTML_TEMPLATE.format(jsonstr=data_dive)\n",
    "\n",
    "print('''\n",
    "For some reason, the Dive HTML does not open well in VScode notebooks, \n",
    "but you can see the dash following the link below:\n",
    "''')\n",
    "with open(\"dive_data_credit_card.html\", \"w\") as file:\n",
    "    file.write(html)\n",
    "display(HTML(\"<a href='dive_data_credit_card.html' target='_blank'>dive_data_credit_card.html</a>\"))\n"
   ]
  },
  {
   "cell_type": "markdown",
   "metadata": {},
   "source": [
    "## Pandas Profiling\n",
    "\n",
    "![pandas-profiling](https://warehouse-camo.ingress.cmh1.psfhosted.org/6d498300bf33179bd2299e521adf386991ac9ba4/68747470733a2f2f70616e6461732d70726f66696c696e672e79646174612e61692f646f63732f6173736574732f6c6f676f5f6865616465722e706e67)\n",
    "\n",
    "**Another way to find information about a `pd.DataFrame`, besides using `facets` and functions like `describe` and `info`, is by using the `pandas-profiling` [module](https://pypi.org/project/pandas-profiling/).**\n",
    "\n",
    "**`pandas-profiling` generates profile reports from a pandas `DataFrame`. Extending a pandas `DataFrame` with `df.profile_report()`, will automatically generate a standardized univariate and multivariate report for data understanding.**"
   ]
  },
  {
   "cell_type": "code",
   "execution_count": null,
   "metadata": {},
   "outputs": [],
   "source": [
    "from pandas_profiling import ProfileReport\n",
    "\n",
    "profile = ProfileReport(data, title=\"Pandas Profiling Report\")\n",
    "profile.to_notebook_iframe()\n",
    "profile.to_file(\"pandas_profiling_credit_card.html\")"
   ]
  },
  {
   "cell_type": "markdown",
   "metadata": {},
   "source": [
    "## Training a ML model with `biased` data\n"
   ]
  },
  {
   "cell_type": "code",
   "execution_count": 5,
   "metadata": {},
   "outputs": [
    {
     "name": "stdout",
     "output_type": "stream",
     "text": [
      "Accuracy: 87.68 %\n"
     ]
    }
   ],
   "source": [
    "seed = 42\n",
    "\n",
    "train, test = \\\n",
    "    train_test_split(\n",
    "        data, stratify=data['Gender'], test_size=0.2, random_state=seed)\n",
    "\n",
    "train.reset_index(drop=True, inplace=True)\n",
    "test.reset_index(drop=True, inplace=True)\n",
    "\n",
    "\n",
    "lr = LogisticRegression(random_state=seed)\n",
    "lr.fit(train[['Debt', 'Prior Default']], train['Approval Status'])\n",
    "score = lr.score(test[['Debt', 'Prior Default']], test['Approval Status'])\n",
    "preds = lr.predict(test[['Debt', 'Prior Default']])\n",
    "matrix = confusion_matrix(test['Approval Status'], preds).ravel()\n",
    "print(f'Accuracy: ' + '{:.2f}'.format(score * 100) + ' %')\n"
   ]
  },
  {
   "cell_type": "code",
   "execution_count": 6,
   "metadata": {},
   "outputs": [
    {
     "data": {
      "application/vnd.plotly.v1+json": {
       "config": {
        "plotlyServerURL": "https://plot.ly"
       },
       "data": [
        {
         "coloraxis": "coloraxis",
         "hovertemplate": "Predicted: %{x}<br>True label: %{y}<br>color: %{z}<extra></extra>",
         "name": "0",
         "texttemplate": "%{z}",
         "type": "heatmap",
         "x": [
          "Approved",
          "Not approved"
         ],
         "xaxis": "x",
         "y": [
          "Approved",
          "Not approved"
         ],
         "yaxis": "y",
         "z": [
          [
           61,
           9
          ],
          [
           8,
           60
          ]
         ]
        }
       ],
       "layout": {
        "coloraxis": {
         "colorscale": [
          [
           0,
           "#0d0887"
          ],
          [
           0.1111111111111111,
           "#46039f"
          ],
          [
           0.2222222222222222,
           "#7201a8"
          ],
          [
           0.3333333333333333,
           "#9c179e"
          ],
          [
           0.4444444444444444,
           "#bd3786"
          ],
          [
           0.5555555555555556,
           "#d8576b"
          ],
          [
           0.6666666666666666,
           "#ed7953"
          ],
          [
           0.7777777777777778,
           "#fb9f3a"
          ],
          [
           0.8888888888888888,
           "#fdca26"
          ],
          [
           1,
           "#f0f921"
          ]
         ],
         "showscale": false
        },
        "margin": {
         "t": 60
        },
        "paper_bgcolor": "rgba(0, 0, 0, 0)",
        "plot_bgcolor": "rgba(0, 0, 0, 0)",
        "template": {
         "data": {
          "bar": [
           {
            "error_x": {
             "color": "#f2f5fa"
            },
            "error_y": {
             "color": "#f2f5fa"
            },
            "marker": {
             "line": {
              "color": "rgb(17,17,17)",
              "width": 0.5
             },
             "pattern": {
              "fillmode": "overlay",
              "size": 10,
              "solidity": 0.2
             }
            },
            "type": "bar"
           }
          ],
          "barpolar": [
           {
            "marker": {
             "line": {
              "color": "rgb(17,17,17)",
              "width": 0.5
             },
             "pattern": {
              "fillmode": "overlay",
              "size": 10,
              "solidity": 0.2
             }
            },
            "type": "barpolar"
           }
          ],
          "carpet": [
           {
            "aaxis": {
             "endlinecolor": "#A2B1C6",
             "gridcolor": "#506784",
             "linecolor": "#506784",
             "minorgridcolor": "#506784",
             "startlinecolor": "#A2B1C6"
            },
            "baxis": {
             "endlinecolor": "#A2B1C6",
             "gridcolor": "#506784",
             "linecolor": "#506784",
             "minorgridcolor": "#506784",
             "startlinecolor": "#A2B1C6"
            },
            "type": "carpet"
           }
          ],
          "choropleth": [
           {
            "colorbar": {
             "outlinewidth": 0,
             "ticks": ""
            },
            "type": "choropleth"
           }
          ],
          "contour": [
           {
            "colorbar": {
             "outlinewidth": 0,
             "ticks": ""
            },
            "colorscale": [
             [
              0,
              "#0d0887"
             ],
             [
              0.1111111111111111,
              "#46039f"
             ],
             [
              0.2222222222222222,
              "#7201a8"
             ],
             [
              0.3333333333333333,
              "#9c179e"
             ],
             [
              0.4444444444444444,
              "#bd3786"
             ],
             [
              0.5555555555555556,
              "#d8576b"
             ],
             [
              0.6666666666666666,
              "#ed7953"
             ],
             [
              0.7777777777777778,
              "#fb9f3a"
             ],
             [
              0.8888888888888888,
              "#fdca26"
             ],
             [
              1,
              "#f0f921"
             ]
            ],
            "type": "contour"
           }
          ],
          "contourcarpet": [
           {
            "colorbar": {
             "outlinewidth": 0,
             "ticks": ""
            },
            "type": "contourcarpet"
           }
          ],
          "heatmap": [
           {
            "colorbar": {
             "outlinewidth": 0,
             "ticks": ""
            },
            "colorscale": [
             [
              0,
              "#0d0887"
             ],
             [
              0.1111111111111111,
              "#46039f"
             ],
             [
              0.2222222222222222,
              "#7201a8"
             ],
             [
              0.3333333333333333,
              "#9c179e"
             ],
             [
              0.4444444444444444,
              "#bd3786"
             ],
             [
              0.5555555555555556,
              "#d8576b"
             ],
             [
              0.6666666666666666,
              "#ed7953"
             ],
             [
              0.7777777777777778,
              "#fb9f3a"
             ],
             [
              0.8888888888888888,
              "#fdca26"
             ],
             [
              1,
              "#f0f921"
             ]
            ],
            "type": "heatmap"
           }
          ],
          "heatmapgl": [
           {
            "colorbar": {
             "outlinewidth": 0,
             "ticks": ""
            },
            "colorscale": [
             [
              0,
              "#0d0887"
             ],
             [
              0.1111111111111111,
              "#46039f"
             ],
             [
              0.2222222222222222,
              "#7201a8"
             ],
             [
              0.3333333333333333,
              "#9c179e"
             ],
             [
              0.4444444444444444,
              "#bd3786"
             ],
             [
              0.5555555555555556,
              "#d8576b"
             ],
             [
              0.6666666666666666,
              "#ed7953"
             ],
             [
              0.7777777777777778,
              "#fb9f3a"
             ],
             [
              0.8888888888888888,
              "#fdca26"
             ],
             [
              1,
              "#f0f921"
             ]
            ],
            "type": "heatmapgl"
           }
          ],
          "histogram": [
           {
            "marker": {
             "pattern": {
              "fillmode": "overlay",
              "size": 10,
              "solidity": 0.2
             }
            },
            "type": "histogram"
           }
          ],
          "histogram2d": [
           {
            "colorbar": {
             "outlinewidth": 0,
             "ticks": ""
            },
            "colorscale": [
             [
              0,
              "#0d0887"
             ],
             [
              0.1111111111111111,
              "#46039f"
             ],
             [
              0.2222222222222222,
              "#7201a8"
             ],
             [
              0.3333333333333333,
              "#9c179e"
             ],
             [
              0.4444444444444444,
              "#bd3786"
             ],
             [
              0.5555555555555556,
              "#d8576b"
             ],
             [
              0.6666666666666666,
              "#ed7953"
             ],
             [
              0.7777777777777778,
              "#fb9f3a"
             ],
             [
              0.8888888888888888,
              "#fdca26"
             ],
             [
              1,
              "#f0f921"
             ]
            ],
            "type": "histogram2d"
           }
          ],
          "histogram2dcontour": [
           {
            "colorbar": {
             "outlinewidth": 0,
             "ticks": ""
            },
            "colorscale": [
             [
              0,
              "#0d0887"
             ],
             [
              0.1111111111111111,
              "#46039f"
             ],
             [
              0.2222222222222222,
              "#7201a8"
             ],
             [
              0.3333333333333333,
              "#9c179e"
             ],
             [
              0.4444444444444444,
              "#bd3786"
             ],
             [
              0.5555555555555556,
              "#d8576b"
             ],
             [
              0.6666666666666666,
              "#ed7953"
             ],
             [
              0.7777777777777778,
              "#fb9f3a"
             ],
             [
              0.8888888888888888,
              "#fdca26"
             ],
             [
              1,
              "#f0f921"
             ]
            ],
            "type": "histogram2dcontour"
           }
          ],
          "mesh3d": [
           {
            "colorbar": {
             "outlinewidth": 0,
             "ticks": ""
            },
            "type": "mesh3d"
           }
          ],
          "parcoords": [
           {
            "line": {
             "colorbar": {
              "outlinewidth": 0,
              "ticks": ""
             }
            },
            "type": "parcoords"
           }
          ],
          "pie": [
           {
            "automargin": true,
            "type": "pie"
           }
          ],
          "scatter": [
           {
            "marker": {
             "line": {
              "color": "#283442"
             }
            },
            "type": "scatter"
           }
          ],
          "scatter3d": [
           {
            "line": {
             "colorbar": {
              "outlinewidth": 0,
              "ticks": ""
             }
            },
            "marker": {
             "colorbar": {
              "outlinewidth": 0,
              "ticks": ""
             }
            },
            "type": "scatter3d"
           }
          ],
          "scattercarpet": [
           {
            "marker": {
             "colorbar": {
              "outlinewidth": 0,
              "ticks": ""
             }
            },
            "type": "scattercarpet"
           }
          ],
          "scattergeo": [
           {
            "marker": {
             "colorbar": {
              "outlinewidth": 0,
              "ticks": ""
             }
            },
            "type": "scattergeo"
           }
          ],
          "scattergl": [
           {
            "marker": {
             "line": {
              "color": "#283442"
             }
            },
            "type": "scattergl"
           }
          ],
          "scattermapbox": [
           {
            "marker": {
             "colorbar": {
              "outlinewidth": 0,
              "ticks": ""
             }
            },
            "type": "scattermapbox"
           }
          ],
          "scatterpolar": [
           {
            "marker": {
             "colorbar": {
              "outlinewidth": 0,
              "ticks": ""
             }
            },
            "type": "scatterpolar"
           }
          ],
          "scatterpolargl": [
           {
            "marker": {
             "colorbar": {
              "outlinewidth": 0,
              "ticks": ""
             }
            },
            "type": "scatterpolargl"
           }
          ],
          "scatterternary": [
           {
            "marker": {
             "colorbar": {
              "outlinewidth": 0,
              "ticks": ""
             }
            },
            "type": "scatterternary"
           }
          ],
          "surface": [
           {
            "colorbar": {
             "outlinewidth": 0,
             "ticks": ""
            },
            "colorscale": [
             [
              0,
              "#0d0887"
             ],
             [
              0.1111111111111111,
              "#46039f"
             ],
             [
              0.2222222222222222,
              "#7201a8"
             ],
             [
              0.3333333333333333,
              "#9c179e"
             ],
             [
              0.4444444444444444,
              "#bd3786"
             ],
             [
              0.5555555555555556,
              "#d8576b"
             ],
             [
              0.6666666666666666,
              "#ed7953"
             ],
             [
              0.7777777777777778,
              "#fb9f3a"
             ],
             [
              0.8888888888888888,
              "#fdca26"
             ],
             [
              1,
              "#f0f921"
             ]
            ],
            "type": "surface"
           }
          ],
          "table": [
           {
            "cells": {
             "fill": {
              "color": "#506784"
             },
             "line": {
              "color": "rgb(17,17,17)"
             }
            },
            "header": {
             "fill": {
              "color": "#2a3f5f"
             },
             "line": {
              "color": "rgb(17,17,17)"
             }
            },
            "type": "table"
           }
          ]
         },
         "layout": {
          "annotationdefaults": {
           "arrowcolor": "#f2f5fa",
           "arrowhead": 0,
           "arrowwidth": 1
          },
          "autotypenumbers": "strict",
          "coloraxis": {
           "colorbar": {
            "outlinewidth": 0,
            "ticks": ""
           }
          },
          "colorscale": {
           "diverging": [
            [
             0,
             "#8e0152"
            ],
            [
             0.1,
             "#c51b7d"
            ],
            [
             0.2,
             "#de77ae"
            ],
            [
             0.3,
             "#f1b6da"
            ],
            [
             0.4,
             "#fde0ef"
            ],
            [
             0.5,
             "#f7f7f7"
            ],
            [
             0.6,
             "#e6f5d0"
            ],
            [
             0.7,
             "#b8e186"
            ],
            [
             0.8,
             "#7fbc41"
            ],
            [
             0.9,
             "#4d9221"
            ],
            [
             1,
             "#276419"
            ]
           ],
           "sequential": [
            [
             0,
             "#0d0887"
            ],
            [
             0.1111111111111111,
             "#46039f"
            ],
            [
             0.2222222222222222,
             "#7201a8"
            ],
            [
             0.3333333333333333,
             "#9c179e"
            ],
            [
             0.4444444444444444,
             "#bd3786"
            ],
            [
             0.5555555555555556,
             "#d8576b"
            ],
            [
             0.6666666666666666,
             "#ed7953"
            ],
            [
             0.7777777777777778,
             "#fb9f3a"
            ],
            [
             0.8888888888888888,
             "#fdca26"
            ],
            [
             1,
             "#f0f921"
            ]
           ],
           "sequentialminus": [
            [
             0,
             "#0d0887"
            ],
            [
             0.1111111111111111,
             "#46039f"
            ],
            [
             0.2222222222222222,
             "#7201a8"
            ],
            [
             0.3333333333333333,
             "#9c179e"
            ],
            [
             0.4444444444444444,
             "#bd3786"
            ],
            [
             0.5555555555555556,
             "#d8576b"
            ],
            [
             0.6666666666666666,
             "#ed7953"
            ],
            [
             0.7777777777777778,
             "#fb9f3a"
            ],
            [
             0.8888888888888888,
             "#fdca26"
            ],
            [
             1,
             "#f0f921"
            ]
           ]
          },
          "colorway": [
           "#636efa",
           "#EF553B",
           "#00cc96",
           "#ab63fa",
           "#FFA15A",
           "#19d3f3",
           "#FF6692",
           "#B6E880",
           "#FF97FF",
           "#FECB52"
          ],
          "font": {
           "color": "#f2f5fa"
          },
          "geo": {
           "bgcolor": "rgb(17,17,17)",
           "lakecolor": "rgb(17,17,17)",
           "landcolor": "rgb(17,17,17)",
           "showlakes": true,
           "showland": true,
           "subunitcolor": "#506784"
          },
          "hoverlabel": {
           "align": "left"
          },
          "hovermode": "closest",
          "mapbox": {
           "style": "dark"
          },
          "paper_bgcolor": "rgb(17,17,17)",
          "plot_bgcolor": "rgb(17,17,17)",
          "polar": {
           "angularaxis": {
            "gridcolor": "#506784",
            "linecolor": "#506784",
            "ticks": ""
           },
           "bgcolor": "rgb(17,17,17)",
           "radialaxis": {
            "gridcolor": "#506784",
            "linecolor": "#506784",
            "ticks": ""
           }
          },
          "scene": {
           "xaxis": {
            "backgroundcolor": "rgb(17,17,17)",
            "gridcolor": "#506784",
            "gridwidth": 2,
            "linecolor": "#506784",
            "showbackground": true,
            "ticks": "",
            "zerolinecolor": "#C8D4E3"
           },
           "yaxis": {
            "backgroundcolor": "rgb(17,17,17)",
            "gridcolor": "#506784",
            "gridwidth": 2,
            "linecolor": "#506784",
            "showbackground": true,
            "ticks": "",
            "zerolinecolor": "#C8D4E3"
           },
           "zaxis": {
            "backgroundcolor": "rgb(17,17,17)",
            "gridcolor": "#506784",
            "gridwidth": 2,
            "linecolor": "#506784",
            "showbackground": true,
            "ticks": "",
            "zerolinecolor": "#C8D4E3"
           }
          },
          "shapedefaults": {
           "line": {
            "color": "#f2f5fa"
           }
          },
          "sliderdefaults": {
           "bgcolor": "#C8D4E3",
           "bordercolor": "rgb(17,17,17)",
           "borderwidth": 1,
           "tickwidth": 0
          },
          "ternary": {
           "aaxis": {
            "gridcolor": "#506784",
            "linecolor": "#506784",
            "ticks": ""
           },
           "baxis": {
            "gridcolor": "#506784",
            "linecolor": "#506784",
            "ticks": ""
           },
           "bgcolor": "rgb(17,17,17)",
           "caxis": {
            "gridcolor": "#506784",
            "linecolor": "#506784",
            "ticks": ""
           }
          },
          "title": {
           "x": 0.05
          },
          "updatemenudefaults": {
           "bgcolor": "#506784",
           "borderwidth": 0
          },
          "xaxis": {
           "automargin": true,
           "gridcolor": "#283442",
           "linecolor": "#506784",
           "ticks": "",
           "title": {
            "standoff": 15
           },
           "zerolinecolor": "#283442",
           "zerolinewidth": 2
          },
          "yaxis": {
           "automargin": true,
           "gridcolor": "#283442",
           "linecolor": "#506784",
           "ticks": "",
           "title": {
            "standoff": 15
           },
           "zerolinecolor": "#283442",
           "zerolinewidth": 2
          }
         }
        },
        "title": {
         "text": "Confusion Matrix"
        },
        "xaxis": {
         "anchor": "y",
         "constrain": "domain",
         "domain": [
          0,
          1
         ],
         "scaleanchor": "y",
         "side": "top",
         "title": {
          "text": "Predicted"
         }
        },
        "yaxis": {
         "anchor": "x",
         "autorange": "reversed",
         "constrain": "domain",
         "domain": [
          0,
          1
         ],
         "title": {
          "text": "True label"
         }
        }
       }
      }
     },
     "metadata": {},
     "output_type": "display_data"
    }
   ],
   "source": [
    "fig = px.imshow(matrix.reshape(2, 2),\n",
    "                labels=dict(x=\"Predicted\", y=\"True label\"),\n",
    "                x=['Approved', 'Not approved'],\n",
    "                y=['Approved', 'Not approved'],\n",
    "                text_auto=True\n",
    "                )\n",
    "fig.update_xaxes(side='top')\n",
    "fig.update_layout(template='plotly_dark',\n",
    "                  title='Confusion Matrix',\n",
    "                  coloraxis_showscale=False,\n",
    "                  paper_bgcolor='rgba(0, 0, 0, 0)',\n",
    "                  plot_bgcolor='rgba(0, 0, 0, 0)')\n",
    "fig.show()\n"
   ]
  },
  {
   "cell_type": "markdown",
   "metadata": {},
   "source": [
    "### Statistical Fairness Metrics\n",
    "\n",
    "**_Fairness metrics are a set of measures that enable you to detect the presence of bias in your data or model._ For a full review of the most prominent definitions of fairness in algorithmic classification, we recommend [_Fairness Definitions Explained_](https://fairware.cs.umass.edu/papers/Verma.pdf). Below you will see how to apply these definitions in code.**\n",
    "\n",
    "**Confusion Matrix cheatsheet:**\n",
    "\n",
    "![confusion-matrix](https://ars.els-cdn.com/content/image/3-s2.0-B9780128241455000058-f03-05-9780128241455.jpg)\n",
    "\n",
    "- $TP$: True Positive\n",
    "- $FP$: False Positive\n",
    "- $TN$: True Neagative\n",
    "- $FN$: False Negative\n",
    "\n",
    "### Common ML Fairness Metrics\n",
    "\n",
    "**Statistical Parity Ratio: _Statistical Parity Ratio_ compares the proportion of members of a given group that were classified for the positive class (i.e., correctly or not, a.k.a., TP and FP) to another group (privileged $\\times$ unprivileged).**\n",
    "\n",
    "$$\\frac{Statistical\\;Parity_{\\;unprivileged}}{Statistical\\;Parity_{\\;privileged}} = \\frac{(\\frac{TP  +  FP}{TP  +  FP  +  TN  +  FN})^{unprivileged}}{(\\frac{TP  +  FP}{TP  +  FP  +  TN  +  FN})^{privileged}}$$\n",
    "\n",
    "**Equal Opportunity Ratio: _Equal Opportunity ratio_ compares the true positive rate (i.e., TPR, a.k.a., _Sensitivity/Recall_) of different groups (privileged $\\times$ unprivileged).**\n",
    "\n",
    "$$\\frac{TPR_{\\;unprivileged}}{TPR_{\\;privileged}} = \\frac{(\\frac{TP}{TP+FN})^{unprivileged}}{(\\frac{TP}{TP+FN})^{privileged}}$$\n",
    "\n",
    "**Predictive Parity Ratio: _Predictive Parity Ratio_ compares the positive predictive value (i.e., PPV, a.k.a., _Precision_) of different groups (privileged $\\times$ unprivileged).**\n",
    "\n",
    "$$\\frac{PPV_{\\;unprivileged}}{PPV_{\\;privileged}} = \\frac{(\\frac{TP}{TP+FP})^{unprivileged}}{(\\frac{TP}{TP+FP})^{privileged}}$$\n",
    "\n",
    "**Predictive Equality Ratio: _Predictive Equality Ratio_ compares the false positive rate (FPR, a.k.a., _fall-out/false alarm ratio_) of different groups (privileged $\\times$ unprivileged).**\n",
    "\n",
    "$$\\frac{FPR_{\\;unprivileged}}{FPR_{\\;privileged}} = \\frac{(\\frac{FP}{FP+TN})^{unprivileged}}{(\\frac{FP}{FP+TN})^{privileged}}$$\n",
    "\n",
    "**Accuracy Equality Ratio: _Accuracy Equality Ratio_ compares the proportion of members of a given group that were correctly classified (i.e., _accuracy_) to another group (privileged $\\times$ unprivileged).**\n",
    "\n",
    "$$\\frac{Accuracy_{\\;unprivileged}}{Accuracy_{\\;privileged}} = \\frac{(\\frac{TP  +  TN}{TP  +  FP  +  TN  +  FN})^{unprivileged}}{(\\frac{TP  +  TN}{TP  +  FP  +  TN  +  FN})^{privileged}}$$\n",
    "\n",
    "**Equalized Odds: _Equalized Odds_ it is the most restrictive concept of ML Fairness. This criteria is only satisfied if both groups (privileged $\\times$ unprivileged) have equal TPR and FPR.**\n",
    "\n",
    "$$\\frac{TPR_{\\;unprivileged}}{TPR_{\\;privileged}} = 1 \\;\\land\\;\\frac{FPR_{\\;unprivileged}}{FPR_{\\;privileged}} = 1$$\n"
   ]
  },
  {
   "cell_type": "code",
   "execution_count": 45,
   "metadata": {},
   "outputs": [],
   "source": [
    "def calc_fair(model, DataFrame, protected_atributte, group_priv, group_unpriv, label):\n",
    "    test_set = DataFrame\n",
    "\n",
    "    test_set_priv_labels, test_set_priv = list(test_set[test_set[protected_atributte] == group_priv][label]), test_set[test_set[protected_atributte] == group_priv].drop([label, protected_atributte], axis = 1)\n",
    "    test_set_unpriv_labels, test_set_unpriv = list(test_set[test_set[protected_atributte] == group_unpriv][label]), test_set[test_set[protected_atributte] == group_unpriv].drop([label, protected_atributte], axis = 1)\n",
    "    \n",
    "    preds_priv = model.predict(test_set_priv)\n",
    "    preds_unpriv = model.predict(test_set_unpriv)\n",
    "\n",
    "    TN_PV, FP_PV, FN_PV, TP_PV = confusion_matrix(test_set_priv_labels, preds_priv).ravel()\n",
    "    TN_UPV, FP_UPV, FN_UPV, TP_UPV = confusion_matrix(test_set_unpriv_labels, preds_unpriv).ravel()\n",
    "\n",
    "    statistical_parity_priv = (TP_PV + FP_PV)/(TP_PV + FP_PV + TN_PV + FN_PV)  # STATISTICAL PARITY RATIO\n",
    "    statistical_parity_unpriv = (TP_UPV + FP_UPV)/(TP_UPV + FP_UPV + TN_UPV + FN_UPV)  # STATISTICAL PARITY RATIO\n",
    "    equal_oportunity_priv = TP_PV / (TP_PV+FN_PV)  # TRUE POSITIVE RATIO\n",
    "    equal_oportunity_unpriv = TP_UPV / (TP_UPV+FN_UPV)  # TRUE POSITIVE RATIO\n",
    "    predictive_parity_priv = TP_PV/(TP_PV + FP_PV)  # POSITIVE PREDICTIVE VALUE\n",
    "    predictive_parity_unpriv = TP_UPV/(TP_UPV + FP_UPV)  # POSITIVE PREDICTIVE VALUE\n",
    "    predictive_equality_priv = FP_PV / (FP_PV+TN_PV)  # FALSE POSITIVE RATE\n",
    "    predictive_equality_unpriv = FP_UPV / (FP_UPV+TN_UPV)  # FALSE POSITIVE RATE\n",
    "    accuracy_equality_priv = (TP_PV + TN_PV)/(TP_PV + FP_PV + TN_PV + FN_PV)  # ACCURACY EQUALITY RATIO\n",
    "    accuracy_equality_unpriv = (TP_UPV + TN_UPV)/(TP_UPV + FP_UPV + TN_UPV + FN_UPV)  # ACCURACY EQUALITY RATIO \n",
    "\n",
    "    if statistical_parity_priv >= statistical_parity_unpriv:\n",
    "        statistical_parity_ratio = statistical_parity_unpriv/statistical_parity_priv\n",
    "    elif statistical_parity_priv < statistical_parity_unpriv:\n",
    "        statistical_parity_ratio = statistical_parity_priv/statistical_parity_unpriv\n",
    "\n",
    "    if equal_oportunity_priv >= equal_oportunity_unpriv:\n",
    "        equal_oportunity_ratio = equal_oportunity_unpriv/equal_oportunity_priv\n",
    "    elif equal_oportunity_priv < equal_oportunity_unpriv:\n",
    "        equal_oportunity_ratio = equal_oportunity_priv/equal_oportunity_unpriv\n",
    "    \n",
    "    if predictive_parity_priv >= predictive_parity_unpriv:\n",
    "        predictive_parity_ratio = predictive_parity_unpriv/predictive_parity_priv\n",
    "    elif predictive_parity_priv < predictive_parity_unpriv:\n",
    "        predictive_parity_ratio = predictive_parity_priv/predictive_parity_unpriv\n",
    "\n",
    "    if predictive_equality_priv >= predictive_equality_unpriv:\n",
    "        predictive_equality_ratio = predictive_equality_unpriv/predictive_equality_priv\n",
    "    elif predictive_equality_priv < predictive_equality_unpriv:\n",
    "        predictive_equality_ratio = predictive_equality_priv/predictive_equality_unpriv\n",
    "    \n",
    "    if accuracy_equality_priv >= accuracy_equality_unpriv:\n",
    "        accuracy_equality_ratio = accuracy_equality_unpriv/accuracy_equality_priv\n",
    "    elif accuracy_equality_priv < accuracy_equality_unpriv:\n",
    "        accuracy_equality_ratio = accuracy_equality_priv/accuracy_equality_unpriv\n",
    "\n",
    "    equalized_odds = f'TPR: {round(equal_oportunity_priv, 2)} vs {round(equal_oportunity_unpriv, 2)} <br> FPR: {round(predictive_equality_priv,2)} vs {round(predictive_equality_unpriv,2)}'\n",
    "\n",
    "    data = {'Fairness Metrics': ['Chance of receiving the positive class - privileged',\n",
    "                                'Chance of receiving the positive class - unprivileged',\n",
    "                                'Statistical Parity Ratio (SPR)',\n",
    "                                'True Positive Rate - privileged',\n",
    "                                'True Positive Rate - unprivileged',\n",
    "                                'Equal Opportunity Ratio (EOR)',\n",
    "                                'Positive Predictive Value - privileged',\n",
    "                                'Positive Predictive Value - unprivileged',\n",
    "                                'Predictive Parity Ratio (PPR)',\n",
    "                                'False Positive Rate - privileged',\n",
    "                                'False Positive Rate - unprivileged',\n",
    "                                'Predictive Equality Ratio (PER)',\n",
    "                                'Accuracy - privileged',\n",
    "                                'Accuracy - unprivileged',\n",
    "                                'Accuracy Equality Ratio (AER)',\n",
    "                                'Equalized Odds'],\n",
    "            'Scores': [round(statistical_parity_priv, 2),\n",
    "                        round(statistical_parity_unpriv, 2),\n",
    "                        round(statistical_parity_ratio,2),\n",
    "                        round(equal_oportunity_priv, 2),\n",
    "                        round(equal_oportunity_unpriv, 2),\n",
    "                        round(equal_oportunity_ratio, 2),\n",
    "                        round(predictive_parity_priv,2),\n",
    "                        round(predictive_parity_unpriv,2),\n",
    "                        round(predictive_parity_ratio,2),\n",
    "                        round(predictive_equality_priv,2),\n",
    "                        round(predictive_equality_unpriv,2),\n",
    "                        round(predictive_equality_ratio,2),\n",
    "                        round(accuracy_equality_priv,2),\n",
    "                        round(accuracy_equality_unpriv,2),\n",
    "                        round(accuracy_equality_ratio,2),\n",
    "                        f'TPR: {round(equal_oportunity_priv, 2)} vs {round(equal_oportunity_unpriv, 2)}. FPR: {round(predictive_equality_priv,2)} vs {round(predictive_equality_unpriv,2)}']\n",
    "            }\n",
    "    df = pd.DataFrame(data).set_index('Fairness Metrics')\n",
    "\n",
    "    return df, display(Markdown(f'''\n",
    "|Fairness Scores | Score |\n",
    "|--|--|\n",
    "| Chance of receiving the positive class - privileged |{round(statistical_parity_priv, 2)}|\n",
    "| Chance of receiving the positive class - unprivileged |{round(statistical_parity_unpriv, 2)}|\n",
    "| Statistical Parity Ratio (SPR)|{round(statistical_parity_ratio,2)}|\n",
    "| True Positive Rate - privileged |{round(equal_oportunity_priv, 2)}|\n",
    "| True Positive Rate - unprivileged |{round(equal_oportunity_unpriv, 2)}|\n",
    "| Equal Opportunity Ratio (EOR)|{round(equal_oportunity_ratio, 2)}|\n",
    "| Positive Predictive Value - privileged |{round(predictive_parity_priv,2)}|\n",
    "| Positive Predictive Value - unprivileged |{round(predictive_parity_unpriv,2)}|\n",
    "| Predictive Parity Ratio (PPR)|{round(predictive_parity_ratio,2)}|\n",
    "| False Positive Rate - privileged |{round(predictive_equality_priv,2)}|\n",
    "| False Positive Rate - unprivileged |{round(predictive_equality_unpriv,2)}|\n",
    "| Predictive Equality Ratio (PER)|{round(predictive_equality_ratio,2)}|\n",
    "| Accuracy - privileged |{round(accuracy_equality_priv,2)}|\n",
    "| Accuracy - unprivileged |{round(accuracy_equality_unpriv,2)}|\n",
    "| Accuracy Equality Ratio (AER)|{round(accuracy_equality_ratio,2)}|\n",
    "| Equalized Odds|{equalized_odds}|\n",
    "\n",
    "'''\n",
    "))\n",
    "\n"
   ]
  },
  {
   "cell_type": "code",
   "execution_count": 57,
   "metadata": {},
   "outputs": [
    {
     "data": {
      "text/markdown": [
       "\n",
       "|Fairness Scores | Score |\n",
       "|--|--|\n",
       "| Chance of receiving the positive class - privileged |0.5|\n",
       "| Chance of receiving the positive class - unprivileged |0.5|\n",
       "| Statistical Parity Ratio (SPR)|1.0|\n",
       "| True Positive Rate - privileged |0.86|\n",
       "| True Positive Rate - unprivileged |0.89|\n",
       "| Equal Oportunity Ratio (EOR)|0.96|\n",
       "| Positive Predictive Value - privileged |0.86|\n",
       "| Positive Predictive Value - unprivileged |0.88|\n",
       "| Predictive Parity Ratio (PPR)|0.98|\n",
       "| False Positive Rate - privileged |0.14|\n",
       "| False Positive Rate - unprivileged |0.12|\n",
       "| Predictive Equality Ratio (PER)|0.86|\n",
       "| Accuracy - privileged |0.86|\n",
       "| Accuracy - unprivileged |0.89|\n",
       "| Accuracy Equality Ratio (AER)|0.97|\n",
       "| Equalized Odds|TPR: 0.86 vs 0.89 <br> FPR: 0.14 vs 0.12|\n",
       "\n"
      ],
      "text/plain": [
       "<IPython.core.display.Markdown object>"
      ]
     },
     "metadata": {},
     "output_type": "display_data"
    },
    {
     "data": {
      "text/html": [
       "<div>\n",
       "<style scoped>\n",
       "    .dataframe tbody tr th:only-of-type {\n",
       "        vertical-align: middle;\n",
       "    }\n",
       "\n",
       "    .dataframe tbody tr th {\n",
       "        vertical-align: top;\n",
       "    }\n",
       "\n",
       "    .dataframe thead th {\n",
       "        text-align: right;\n",
       "    }\n",
       "</style>\n",
       "<table border=\"1\" class=\"dataframe\">\n",
       "  <thead>\n",
       "    <tr style=\"text-align: right;\">\n",
       "      <th></th>\n",
       "      <th>Scores</th>\n",
       "    </tr>\n",
       "    <tr>\n",
       "      <th>Fairness Metrics</th>\n",
       "      <th></th>\n",
       "    </tr>\n",
       "  </thead>\n",
       "  <tbody>\n",
       "    <tr>\n",
       "      <th>Chance of receiving the positive class - privileged</th>\n",
       "      <td>0.5</td>\n",
       "    </tr>\n",
       "    <tr>\n",
       "      <th>Chance of receiving the positive class - unprivileged</th>\n",
       "      <td>0.5</td>\n",
       "    </tr>\n",
       "    <tr>\n",
       "      <th>Statistical Parity Ratio (SPR)</th>\n",
       "      <td>1.0</td>\n",
       "    </tr>\n",
       "    <tr>\n",
       "      <th>True Positive Rate - privileged</th>\n",
       "      <td>0.86</td>\n",
       "    </tr>\n",
       "    <tr>\n",
       "      <th>True Positive Rate - unprivileged</th>\n",
       "      <td>0.89</td>\n",
       "    </tr>\n",
       "    <tr>\n",
       "      <th>Equal Oportunity Ratio (EOR)</th>\n",
       "      <td>0.96</td>\n",
       "    </tr>\n",
       "    <tr>\n",
       "      <th>Positive Predictive Value - privileged</th>\n",
       "      <td>0.86</td>\n",
       "    </tr>\n",
       "    <tr>\n",
       "      <th>Positive Predictive Value - unprivileged</th>\n",
       "      <td>0.88</td>\n",
       "    </tr>\n",
       "    <tr>\n",
       "      <th>Predictive Parity Ratio (PPR)</th>\n",
       "      <td>0.98</td>\n",
       "    </tr>\n",
       "    <tr>\n",
       "      <th>False Positive Rate - privileged</th>\n",
       "      <td>0.14</td>\n",
       "    </tr>\n",
       "    <tr>\n",
       "      <th>False Positive Rate - unprivileged</th>\n",
       "      <td>0.12</td>\n",
       "    </tr>\n",
       "    <tr>\n",
       "      <th>Predictive Equality Ratio (PER)</th>\n",
       "      <td>0.86</td>\n",
       "    </tr>\n",
       "    <tr>\n",
       "      <th>Accuracy - privileged</th>\n",
       "      <td>0.86</td>\n",
       "    </tr>\n",
       "    <tr>\n",
       "      <th>Accuracy - unprivileged</th>\n",
       "      <td>0.89</td>\n",
       "    </tr>\n",
       "    <tr>\n",
       "      <th>Accuracy Equality Ratio (AER)</th>\n",
       "      <td>0.97</td>\n",
       "    </tr>\n",
       "    <tr>\n",
       "      <th>Equalized Odds</th>\n",
       "      <td>TPR: 0.86 vs 0.89. FPR: 0.14 vs 0.12</td>\n",
       "    </tr>\n",
       "  </tbody>\n",
       "</table>\n",
       "</div>"
      ],
      "text/plain": [
       "                                                                                  Scores\n",
       "Fairness Metrics                                                                        \n",
       "Chance of receiving the positive class - privil...                                   0.5\n",
       "Chance of receiving the positive class - unpriv...                                   0.5\n",
       "Statistical Parity Ratio (SPR)                                                       1.0\n",
       "True Positive Rate - privileged                                                     0.86\n",
       "True Positive Rate - unprivileged                                                   0.89\n",
       "Equal Oportunity Ratio (EOR)                                                        0.96\n",
       "Positive Predictive Value - privileged                                              0.86\n",
       "Positive Predictive Value - unprivileged                                            0.88\n",
       "Predictive Parity Ratio (PPR)                                                       0.98\n",
       "False Positive Rate - privileged                                                    0.14\n",
       "False Positive Rate - unprivileged                                                  0.12\n",
       "Predictive Equality Ratio (PER)                                                     0.86\n",
       "Accuracy - privileged                                                               0.86\n",
       "Accuracy - unprivileged                                                             0.89\n",
       "Accuracy Equality Ratio (AER)                                                       0.97\n",
       "Equalized Odds                                      TPR: 0.86 vs 0.89. FPR: 0.14 vs 0.12"
      ]
     },
     "metadata": {},
     "output_type": "display_data"
    }
   ],
   "source": [
    "results_df, results_md = calc_fair(lr, test, 'Gender', 'Female', 'Male', 'Approval Status')\n",
    "display(results_df)"
   ]
  },
  {
   "attachments": {},
   "cell_type": "markdown",
   "metadata": {},
   "source": [
    "**Fairness metrics can help us find out if our model is discriminating according to any particular definition of fairness. However, as an [impossibility theorem](https://arxiv.org/abs/2007.06024), we cannot satisfy all Fairness metrics (SP, EO, PP) together. Thus, the choice of which metric to use must be made according to the context of an application (i.e., benefit awarding, medical diagnosis, etc.).**\n",
    "\n",
    "---\n",
    "\n",
    "Return to the [castle](https://github.com/Nkluge-correa/teeny-tiny_castle).\n"
   ]
  }
 ],
 "metadata": {
  "kernelspec": {
   "display_name": "Python 3.9.13 64-bit",
   "language": "python",
   "name": "python3"
  },
  "language_info": {
   "codemirror_mode": {
    "name": "ipython",
    "version": 3
   },
   "file_extension": ".py",
   "mimetype": "text/x-python",
   "name": "python",
   "nbconvert_exporter": "python",
   "pygments_lexer": "ipython3",
   "version": "3.9.13 (tags/v3.9.13:6de2ca5, May 17 2022, 16:36:42) [MSC v.1929 64 bit (AMD64)]"
  },
  "orig_nbformat": 4,
  "vscode": {
   "interpreter": {
    "hash": "aca09746cf57686f00a55ae76e987247ecfb5dd0b3b2e2474d8dbbf0c5e3377e"
   }
  }
 },
 "nbformat": 4,
 "nbformat_minor": 2
}
