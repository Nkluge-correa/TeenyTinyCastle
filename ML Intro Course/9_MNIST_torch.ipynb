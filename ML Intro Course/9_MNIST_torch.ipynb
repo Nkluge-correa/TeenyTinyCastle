{
  "cells": [
    {
      "cell_type": "markdown",
      "metadata": {
        "id": "bRmpRHXBQI9u"
      },
      "source": [
        "# Supervised Learning with `PyTorch`\n",
        "\n",
        "<a href=\"https://colab.research.google.com/drive/1wR5WnJFE9mGov_-yPkLagGXTR41VAGu5\" target=\"_blank\">\n",
        "  <img src=\"https://colab.research.google.com/assets/colab-badge.svg\" alt=\"Open In Colab\">\n",
        "</a>\n",
        "\n",
        "Return to the [castle](https://github.com/Nkluge-correa/teeny-tiny_castle).\n",
        "\n",
        "[PyTorch](https://pytorch.org/) is a popular open-source machine learning framework developed by Facebook's AI Research team. It is built to provide flexibility and speed to researchers and developers working on deep learning projects.\n",
        "\n",
        "PyTorch offers an intuitive and Pythonic interface that enables easy construction and training of complex neural networks. PyTorch also offers a rich set of tools and utilities for data preprocessing, model evaluation, and deployment. It has gained significant traction in the deep learning community due to its ease of use, speed, and flexibility.\n",
        "\n",
        "\n",
        "![torch](https://user-images.githubusercontent.com/42931974/68615320-d6bf3380-04e8-11ea-84f8-dcef049f1ed3.gif)\n",
        "\n",
        "[Source](https://github.com/AnilNITT/PyTorch-for-beginner).\n",
        "\n",
        "In this tutorial, we will implement a neural network, not from scratch, but using PyTorch. We will be training our network via `supervised learning`.\n",
        "\n",
        "PyTorch offers domain-specific libraries such as [TorchText](https://pytorch.org/text/stable/index.html), [TorchVision](https://pytorch.org/vision/stable/index.html), and [TorchAudio](https://pytorch.org/audio/stable/index.html), all of which include datasets. For this tutorial, we will be using a TorchVision dataset.\n",
        "\n",
        "The `torchvision.datasets` module contains `Dataset` objects for many real-world vision data like CIFAR, COCO ([full list here](https://pytorch.org/vision/stable/datasets.html), or just use `dir(datasets)`).\n",
        "\n",
        "In this tutorial, we use the `Fashion_MNIST dataset`. Every TorchVision `Dataset` includes two arguments: `transform` and `target_transform` to modify the samples and labels, respectively.\n"
      ]
    },
    {
      "cell_type": "code",
      "execution_count": 1,
      "metadata": {
        "colab": {
          "base_uri": "https://localhost:8080/"
        },
        "id": "WdV9gwEVQI9w",
        "outputId": "ec82a02f-73dc-4573-95c8-6180b4624542"
      },
      "outputs": [
        {
          "name": "stdout",
          "output_type": "stream",
          "text": [
            "Downloading http://fashion-mnist.s3-website.eu-central-1.amazonaws.com/train-images-idx3-ubyte.gz\n",
            "Downloading http://fashion-mnist.s3-website.eu-central-1.amazonaws.com/train-images-idx3-ubyte.gz to data/FashionMNIST/raw/train-images-idx3-ubyte.gz\n"
          ]
        },
        {
          "name": "stderr",
          "output_type": "stream",
          "text": [
            "100%|██████████| 26421880/26421880 [00:00<00:00, 105338326.41it/s]\n"
          ]
        },
        {
          "name": "stdout",
          "output_type": "stream",
          "text": [
            "Extracting data/FashionMNIST/raw/train-images-idx3-ubyte.gz to data/FashionMNIST/raw\n",
            "\n",
            "Downloading http://fashion-mnist.s3-website.eu-central-1.amazonaws.com/train-labels-idx1-ubyte.gz\n",
            "Downloading http://fashion-mnist.s3-website.eu-central-1.amazonaws.com/train-labels-idx1-ubyte.gz to data/FashionMNIST/raw/train-labels-idx1-ubyte.gz\n"
          ]
        },
        {
          "name": "stderr",
          "output_type": "stream",
          "text": [
            "100%|██████████| 29515/29515 [00:00<00:00, 8981056.48it/s]\n"
          ]
        },
        {
          "name": "stdout",
          "output_type": "stream",
          "text": [
            "Extracting data/FashionMNIST/raw/train-labels-idx1-ubyte.gz to data/FashionMNIST/raw\n",
            "\n",
            "Downloading http://fashion-mnist.s3-website.eu-central-1.amazonaws.com/t10k-images-idx3-ubyte.gz\n",
            "Downloading http://fashion-mnist.s3-website.eu-central-1.amazonaws.com/t10k-images-idx3-ubyte.gz to data/FashionMNIST/raw/t10k-images-idx3-ubyte.gz\n"
          ]
        },
        {
          "name": "stderr",
          "output_type": "stream",
          "text": [
            "100%|██████████| 4422102/4422102 [00:00<00:00, 65577598.62it/s]\n"
          ]
        },
        {
          "name": "stdout",
          "output_type": "stream",
          "text": [
            "Extracting data/FashionMNIST/raw/t10k-images-idx3-ubyte.gz to data/FashionMNIST/raw\n",
            "\n",
            "Downloading http://fashion-mnist.s3-website.eu-central-1.amazonaws.com/t10k-labels-idx1-ubyte.gz\n",
            "Downloading http://fashion-mnist.s3-website.eu-central-1.amazonaws.com/t10k-labels-idx1-ubyte.gz to data/FashionMNIST/raw/t10k-labels-idx1-ubyte.gz\n"
          ]
        },
        {
          "name": "stderr",
          "output_type": "stream",
          "text": [
            "100%|██████████| 5148/5148 [00:00<00:00, 17427180.78it/s]"
          ]
        },
        {
          "name": "stdout",
          "output_type": "stream",
          "text": [
            "Extracting data/FashionMNIST/raw/t10k-labels-idx1-ubyte.gz to data/FashionMNIST/raw\n",
            "\n"
          ]
        },
        {
          "name": "stderr",
          "output_type": "stream",
          "text": [
            "\n"
          ]
        }
      ],
      "source": [
        "from torchvision import datasets\n",
        "from torchvision.transforms import ToTensor\n",
        "\n",
        "training_data = datasets.FashionMNIST(\n",
        "    root=\"data\",\n",
        "    train=True,\n",
        "    download=True,\n",
        "    transform=ToTensor(),\n",
        ")\n",
        "\n",
        "test_data = datasets.FashionMNIST(\n",
        "    root=\"data\",\n",
        "    train=False,\n",
        "    download=True,\n",
        "    transform=ToTensor(),\n",
        ")"
      ]
    },
    {
      "cell_type": "markdown",
      "metadata": {
        "id": "cuMaymrtQI9x"
      },
      "source": [
        "Loading the `datasets.FashionMNIST` gives us the same dataset we used in the previous notebook."
      ]
    },
    {
      "cell_type": "code",
      "execution_count": null,
      "metadata": {
        "colab": {
          "base_uri": "https://localhost:8080/",
          "height": 807
        },
        "id": "OQVVeqe1QI9x",
        "outputId": "f503873a-9178-4980-ce00-743f9630139e"
      },
      "outputs": [
        {
          "data": {
            "image/png": "[encoded data removed]",
            "text/plain": [
              "<Figure size 1000x1000 with 25 Axes>"
            ]
          },
          "metadata": {},
          "output_type": "display_data"
        }
      ],
      "source": [
        "import torch\n",
        "import matplotlib.pyplot as plt\n",
        "\n",
        "plt.figure(figsize=[10, 10])\n",
        "for i in range(25):\n",
        "    plt.subplot(5, 5, i+1)\n",
        "    plt.xticks([])\n",
        "    plt.yticks([])\n",
        "    plt.grid(False)\n",
        "    plt.imshow(torch.squeeze(training_data[i][0]), cmap=plt.cm.binary)\n",
        "\n",
        "plt.show()"
      ]
    },
    {
      "cell_type": "markdown",
      "metadata": {
        "id": "W8CG8XCnQI9x"
      },
      "source": [
        "PyTorch has its own methods. For example, here, we will pass the `Dataset` as an argument to a `DataLoader`. This wraps an iterable over our dataset and supports automatic batching, sampling, shuffling, and multiprocess data loading. Here we define a batch size of 64, i.e., each element in the `DataLoader` iterable will return a batch of 64 images and labels."
      ]
    },
    {
      "cell_type": "code",
      "execution_count": null,
      "metadata": {
        "colab": {
          "base_uri": "https://localhost:8080/"
        },
        "id": "ay-mJBmDQI9x",
        "outputId": "93013ac6-078d-4d33-afee-62d4ca4b3485"
      },
      "outputs": [
        {
          "name": "stdout",
          "output_type": "stream",
          "text": [
            "Sixe of train_data: 60000\n",
            "Sixe of test_data: 10000\n",
            "Shape of X [Batch, Channels, Height, Width]: torch.Size([64, 1, 28, 28])\n",
            "Shape of y: torch.Size([64]) torch.int64\n"
          ]
        }
      ],
      "source": [
        "from torch.utils.data import DataLoader\n",
        "\n",
        "batch_size = 64\n",
        "\n",
        "train_dataloader = DataLoader(training_data, batch_size=batch_size)\n",
        "test_dataloader = DataLoader(test_data, batch_size=batch_size)\n",
        "\n",
        "for X, y in train_dataloader:\n",
        "    print(f'Sixe of train_data: {len(train_dataloader.dataset)}')\n",
        "    print(f'Sixe of test_data: {len(test_dataloader.dataset)}')\n",
        "    print(f'Shape of X [Batch, Channels, Height, Width]: {X.shape}')\n",
        "    print(f'Shape of y: {y.shape} {y.dtype}')\n",
        "    break"
      ]
    },
    {
      "cell_type": "markdown",
      "metadata": {
        "id": "3B9fpnsAQI9x"
      },
      "source": [
        "Neural networks in PyTorch are usually built using classes, inducing the user to OOP (`object oriented programming`).\n",
        "\n",
        "To define a neural network in PyTorch, we create a class that inherits from `nn.Module`. We define the network layers in the `__init__` function and specify how data will pass through the network in the `forward` function. We move it to the GPU if available to accelerate operations in the neural network."
      ]
    },
    {
      "cell_type": "code",
      "execution_count": null,
      "metadata": {
        "colab": {
          "base_uri": "https://localhost:8080/"
        },
        "id": "blbZIoWhQI9x",
        "outputId": "4e861066-6975-44f9-fa5f-66fa2374c743"
      },
      "outputs": [
        {
          "name": "stdout",
          "output_type": "stream",
          "text": [
            "Using cpu device\n",
            "NeuralNetwork(\n",
            "  (flatten): Flatten(start_dim=1, end_dim=-1)\n",
            "  (linear_relu_stack): Sequential(\n",
            "    (0): Linear(in_features=784, out_features=512, bias=True)\n",
            "    (1): ReLU()\n",
            "    (2): Linear(in_features=512, out_features=256, bias=True)\n",
            "    (3): ReLU()\n",
            "    (4): Linear(in_features=256, out_features=128, bias=True)\n",
            "    (5): ReLU()\n",
            "    (6): Linear(in_features=128, out_features=10, bias=True)\n",
            "  )\n",
            ")\n"
          ]
        }
      ],
      "source": [
        "from torch import nn\n",
        "\n",
        "device = \"cuda\" if torch.cuda.is_available() else \"cpu\"\n",
        "print(f\"Using {device} device\")\n",
        "\n",
        "class NeuralNetwork(nn.Module):\n",
        "    \"\"\"\n",
        "    A feedforward neural network that consists of\n",
        "    four fully connected layers with ReLU activation\n",
        "    functions, and a softmax activation function at\n",
        "    the output layer. The network takes input of\n",
        "    shape (batch_size, 1, 28, 28) and produces\n",
        "    output of shape (batch_size, 10), where each\n",
        "    element in the output represents the predicted\n",
        "    probability of the input image belonging to\n",
        "    one of the 10 classes (0-9).\n",
        "\n",
        "    Attributes:\n",
        "    -----------\n",
        "    flatten : nn.Flatten\n",
        "        A module that flattens the input to a 1D tensor.\n",
        "    linear_relu_stack : nn.Sequential\n",
        "        A sequence of fully connected layers with ReLU activation\n",
        "        functions.\n",
        "\n",
        "    Methods:\n",
        "    --------\n",
        "    forward(x)\n",
        "        Performs forward propagation on the input tensor x\n",
        "        and returns the output logits.\n",
        "    \"\"\"\n",
        "    def __init__(self):\n",
        "        super(NeuralNetwork, self).__init__()\n",
        "        self.flatten = nn.Flatten()\n",
        "        self.linear_relu_stack = nn.Sequential(\n",
        "            nn.Linear(28*28, 512),\n",
        "            nn.ReLU(),\n",
        "            nn.Linear(512, 256),\n",
        "            nn.ReLU(),\n",
        "            nn.Linear(256, 128),\n",
        "            nn.ReLU(),\n",
        "            nn.Linear(128, 10)\n",
        "        )\n",
        "\n",
        "    def forward(self, x):\n",
        "        x = self.flatten(x)\n",
        "        logits = self.linear_relu_stack(x)\n",
        "        return logits\n",
        "\n",
        "\n",
        "model = NeuralNetwork().to(device)\n",
        "print(model)\n",
        "\n"
      ]
    },
    {
      "cell_type": "markdown",
      "metadata": {
        "id": "BzFuG5e8QI9y"
      },
      "source": [
        "As before, we need a `loss function` and an `optimizer` to train a model. In a single training loop, the model makes predictions on the training dataset (fed to it in batches) and backpropagates the prediction error to adjust the model’s parameters.\n",
        "\n",
        "We will also create a function to evaluate our model after training."
      ]
    },
    {
      "cell_type": "code",
      "execution_count": null,
      "metadata": {
        "id": "aMUJfe8QQI9y"
      },
      "outputs": [],
      "source": [
        "# our loss function\n",
        "loss_fn = nn.CrossEntropyLoss()\n",
        "\n",
        "# the optimizer\n",
        "optimizer = torch.optim.SGD(model.parameters(), lr=1e-3)\n",
        "\n",
        "\n",
        "def train(dataloader, model, loss_fn, optimizer):\n",
        "    size = len(dataloader.dataset)\n",
        "    model.train()\n",
        "\n",
        "    # for every batch in the dataloader\n",
        "    for batch, (X, y) in enumerate(dataloader):\n",
        "\n",
        "        # move the batch to the device (CPU or GPU)\n",
        "        X, y = X.to(device), y.to(device)\n",
        "\n",
        "        # make a prediction\n",
        "        pred = model(X)\n",
        "\n",
        "        # use the loss function to calculate the loss\n",
        "        loss = loss_fn(pred, y)\n",
        "\n",
        "        # reset the gradients of the optimizer to zero\n",
        "        optimizer.zero_grad()\n",
        "\n",
        "        # backpropagate the loss\n",
        "        loss.backward()\n",
        "\n",
        "        # perform an update to the parameters\n",
        "        optimizer.step()\n",
        "\n",
        "        if batch % 100 == 0:\n",
        "            loss, current = loss.item(), batch * len(X)\n",
        "            print(f'>> Loss: {loss:>7f}  [{current:>5d}/{size:>5d}]')\n",
        "\n",
        "\n",
        "def test(dataloader, model, loss_fn):\n",
        "    size = len(dataloader.dataset)\n",
        "    num_batches = len(dataloader)\n",
        "    model.eval()\n",
        "    test_loss, correct = 0, 0\n",
        "    with torch.no_grad():\n",
        "        for X, y in dataloader:\n",
        "            X, y = X.to(device), y.to(device)\n",
        "            pred = model(X)\n",
        "            test_loss += loss_fn(pred, y).item()\n",
        "\n",
        "            # calculate the accuracy of the predictions in a batch\n",
        "            correct += (pred.argmax(1) == y).type(torch.float).sum().item()\n",
        "    test_loss /= num_batches\n",
        "    correct /= size\n",
        "    print(\n",
        "        f\"Test Error: \\n>> Accuracy: {(100*correct):>0.1f}%\\n>> Avg loss: {test_loss:>8f} \\n\")\n"
      ]
    },
    {
      "cell_type": "markdown",
      "metadata": {
        "id": "EYrXYliLQI9y"
      },
      "source": [
        "The training process is conducted over several iterations (_epochs_). As usual, the model learns new parameters during each epoch to make better predictions.\n"
      ]
    },
    {
      "cell_type": "code",
      "execution_count": null,
      "metadata": {
        "colab": {
          "base_uri": "https://localhost:8080/"
        },
        "id": "eHn4eXmCQI9y",
        "outputId": "9fbabab0-6b89-41fe-b607-5ae4e52dc85b"
      },
      "outputs": [
        {
          "name": "stdout",
          "output_type": "stream",
          "text": [
            "Epoch 1\n",
            "--------------------------------\n",
            ">> Loss: 2.300707  [    0/60000]\n",
            ">> Loss: 2.302816  [ 6400/60000]\n",
            ">> Loss: 2.301031  [12800/60000]\n",
            ">> Loss: 2.301285  [19200/60000]\n",
            ">> Loss: 2.294868  [25600/60000]\n",
            ">> Loss: 2.283386  [32000/60000]\n",
            ">> Loss: 2.287358  [38400/60000]\n",
            ">> Loss: 2.279450  [44800/60000]\n",
            ">> Loss: 2.281208  [51200/60000]\n",
            ">> Loss: 2.267759  [57600/60000]\n",
            "Test Error: \n",
            ">> Accuracy: 20.8%\n",
            ">> Avg loss: 2.277023 \n",
            "\n",
            "Epoch 2\n",
            "--------------------------------\n",
            ">> Loss: 2.275969  [    0/60000]\n",
            ">> Loss: 2.279758  [ 6400/60000]\n",
            ">> Loss: 2.271825  [12800/60000]\n",
            ">> Loss: 2.275166  [19200/60000]\n",
            ">> Loss: 2.268454  [25600/60000]\n",
            ">> Loss: 2.251772  [32000/60000]\n",
            ">> Loss: 2.260715  [38400/60000]\n",
            ">> Loss: 2.246759  [44800/60000]\n",
            ">> Loss: 2.249928  [51200/60000]\n",
            ">> Loss: 2.232908  [57600/60000]\n",
            "Test Error: \n",
            ">> Accuracy: 28.7%\n",
            ">> Avg loss: 2.241486 \n",
            "\n",
            "Epoch 3\n",
            "--------------------------------\n",
            ">> Loss: 2.243896  [    0/60000]\n",
            ">> Loss: 2.246746  [ 6400/60000]\n",
            ">> Loss: 2.228395  [12800/60000]\n",
            ">> Loss: 2.234327  [19200/60000]\n",
            ">> Loss: 2.224177  [25600/60000]\n",
            ">> Loss: 2.197957  [32000/60000]\n",
            ">> Loss: 2.212344  [38400/60000]\n",
            ">> Loss: 2.185745  [44800/60000]\n",
            ">> Loss: 2.189231  [51200/60000]\n",
            ">> Loss: 2.162194  [57600/60000]\n",
            "Test Error: \n",
            ">> Accuracy: 29.5%\n",
            ">> Avg loss: 2.171911 \n",
            "\n",
            "Epoch 4\n",
            "--------------------------------\n",
            ">> Loss: 2.179961  [    0/60000]\n",
            ">> Loss: 2.180126  [ 6400/60000]\n",
            ">> Loss: 2.140685  [12800/60000]\n",
            ">> Loss: 2.150341  [19200/60000]\n",
            ">> Loss: 2.128035  [25600/60000]\n",
            ">> Loss: 2.081604  [32000/60000]\n",
            ">> Loss: 2.103177  [38400/60000]\n",
            ">> Loss: 2.048687  [44800/60000]\n",
            ">> Loss: 2.051389  [51200/60000]\n",
            ">> Loss: 1.998331  [57600/60000]\n",
            "Test Error: \n",
            ">> Accuracy: 37.1%\n",
            ">> Avg loss: 2.013372 \n",
            "\n",
            "Epoch 5\n",
            "--------------------------------\n",
            ">> Loss: 2.036612  [    0/60000]\n",
            ">> Loss: 2.021858  [ 6400/60000]\n",
            ">> Loss: 1.942581  [12800/60000]\n",
            ">> Loss: 1.956688  [19200/60000]\n",
            ">> Loss: 1.897852  [25600/60000]\n",
            ">> Loss: 1.842977  [32000/60000]\n",
            ">> Loss: 1.860637  [38400/60000]\n",
            ">> Loss: 1.775344  [44800/60000]\n",
            ">> Loss: 1.794867  [51200/60000]\n",
            ">> Loss: 1.701439  [57600/60000]\n",
            "Test Error: \n",
            ">> Accuracy: 43.6%\n",
            ">> Avg loss: 1.726013 \n",
            "\n",
            "Epoch 6\n",
            "--------------------------------\n",
            ">> Loss: 1.784411  [    0/60000]\n",
            ">> Loss: 1.744549  [ 6400/60000]\n",
            ">> Loss: 1.633147  [12800/60000]\n",
            ">> Loss: 1.657062  [19200/60000]\n",
            ">> Loss: 1.580856  [25600/60000]\n",
            ">> Loss: 1.563868  [32000/60000]\n",
            ">> Loss: 1.563860  [38400/60000]\n",
            ">> Loss: 1.489828  [44800/60000]\n",
            ">> Loss: 1.524417  [51200/60000]\n",
            ">> Loss: 1.427534  [57600/60000]\n",
            "Test Error: \n",
            ">> Accuracy: 53.2%\n",
            ">> Avg loss: 1.449983 \n",
            "\n",
            "Epoch 7\n",
            "--------------------------------\n",
            ">> Loss: 1.535621  [    0/60000]\n",
            ">> Loss: 1.496325  [ 6400/60000]\n",
            ">> Loss: 1.364728  [12800/60000]\n",
            ">> Loss: 1.406826  [19200/60000]\n",
            ">> Loss: 1.332364  [25600/60000]\n",
            ">> Loss: 1.348769  [32000/60000]\n",
            ">> Loss: 1.347738  [38400/60000]\n",
            ">> Loss: 1.282905  [44800/60000]\n",
            ">> Loss: 1.315721  [51200/60000]\n",
            ">> Loss: 1.244001  [57600/60000]\n",
            "Test Error: \n",
            ">> Accuracy: 56.5%\n",
            ">> Avg loss: 1.254507 \n",
            "\n",
            "Epoch 8\n",
            "--------------------------------\n",
            ">> Loss: 1.344694  [    0/60000]\n",
            ">> Loss: 1.318388  [ 6400/60000]\n",
            ">> Loss: 1.167307  [12800/60000]\n",
            ">> Loss: 1.245180  [19200/60000]\n",
            ">> Loss: 1.156284  [25600/60000]\n",
            ">> Loss: 1.192663  [32000/60000]\n",
            ">> Loss: 1.207504  [38400/60000]\n",
            ">> Loss: 1.140078  [44800/60000]\n",
            ">> Loss: 1.174623  [51200/60000]\n",
            ">> Loss: 1.123350  [57600/60000]\n",
            "Test Error: \n",
            ">> Accuracy: 59.0%\n",
            ">> Avg loss: 1.124394 \n",
            "\n",
            "Epoch 9\n",
            "--------------------------------\n",
            ">> Loss: 1.212616  [    0/60000]\n",
            ">> Loss: 1.200843  [ 6400/60000]\n",
            ">> Loss: 1.028962  [12800/60000]\n",
            ">> Loss: 1.138399  [19200/60000]\n",
            ">> Loss: 1.034074  [25600/60000]\n",
            ">> Loss: 1.078335  [32000/60000]\n",
            ">> Loss: 1.113373  [38400/60000]\n",
            ">> Loss: 1.041191  [44800/60000]\n",
            ">> Loss: 1.070676  [51200/60000]\n",
            ">> Loss: 1.039989  [57600/60000]\n",
            "Test Error: \n",
            ">> Accuracy: 61.4%\n",
            ">> Avg loss: 1.032725 \n",
            "\n",
            "Epoch 10\n",
            "--------------------------------\n",
            ">> Loss: 1.113246  [    0/60000]\n",
            ">> Loss: 1.120748  [ 6400/60000]\n",
            ">> Loss: 0.927113  [12800/60000]\n",
            ">> Loss: 1.061001  [19200/60000]\n",
            ">> Loss: 0.947829  [25600/60000]\n",
            ">> Loss: 0.990108  [32000/60000]\n",
            ">> Loss: 1.047203  [38400/60000]\n",
            ">> Loss: 0.972910  [44800/60000]\n",
            ">> Loss: 0.989396  [51200/60000]\n",
            ">> Loss: 0.979301  [57600/60000]\n",
            "Test Error: \n",
            ">> Accuracy: 63.7%\n",
            ">> Avg loss: 0.965095 \n",
            "\n",
            "Epoch 11\n",
            "--------------------------------\n",
            ">> Loss: 1.034356  [    0/60000]\n",
            ">> Loss: 1.062503  [ 6400/60000]\n",
            ">> Loss: 0.849190  [12800/60000]\n",
            ">> Loss: 1.000777  [19200/60000]\n",
            ">> Loss: 0.886895  [25600/60000]\n",
            ">> Loss: 0.919303  [32000/60000]\n",
            ">> Loss: 0.998082  [38400/60000]\n",
            ">> Loss: 0.924915  [44800/60000]\n",
            ">> Loss: 0.925186  [51200/60000]\n",
            ">> Loss: 0.933067  [57600/60000]\n",
            "Test Error: \n",
            ">> Accuracy: 65.6%\n",
            ">> Avg loss: 0.913602 \n",
            "\n",
            "Epoch 12\n",
            "--------------------------------\n",
            ">> Loss: 0.970244  [    0/60000]\n",
            ">> Loss: 1.016292  [ 6400/60000]\n",
            ">> Loss: 0.787810  [12800/60000]\n",
            ">> Loss: 0.951466  [19200/60000]\n",
            ">> Loss: 0.842993  [25600/60000]\n",
            ">> Loss: 0.861495  [32000/60000]\n",
            ">> Loss: 0.959498  [38400/60000]\n",
            ">> Loss: 0.890179  [44800/60000]\n",
            ">> Loss: 0.874978  [51200/60000]\n",
            ">> Loss: 0.896137  [57600/60000]\n",
            "Test Error: \n",
            ">> Accuracy: 67.2%\n",
            ">> Avg loss: 0.873316 \n",
            "\n",
            "Epoch 13\n",
            "--------------------------------\n",
            ">> Loss: 0.917380  [    0/60000]\n",
            ">> Loss: 0.976684  [ 6400/60000]\n",
            ">> Loss: 0.738077  [12800/60000]\n",
            ">> Loss: 0.910363  [19200/60000]\n",
            ">> Loss: 0.810300  [25600/60000]\n",
            ">> Loss: 0.814237  [32000/60000]\n",
            ">> Loss: 0.927966  [38400/60000]\n",
            ">> Loss: 0.863704  [44800/60000]\n",
            ">> Loss: 0.835693  [51200/60000]\n",
            ">> Loss: 0.865179  [57600/60000]\n",
            "Test Error: \n",
            ">> Accuracy: 68.5%\n",
            ">> Avg loss: 0.840866 \n",
            "\n",
            "Epoch 14\n",
            "--------------------------------\n",
            ">> Loss: 0.872970  [    0/60000]\n",
            ">> Loss: 0.941023  [ 6400/60000]\n",
            ">> Loss: 0.696965  [12800/60000]\n",
            ">> Loss: 0.875664  [19200/60000]\n",
            ">> Loss: 0.784204  [25600/60000]\n",
            ">> Loss: 0.775430  [32000/60000]\n",
            ">> Loss: 0.901064  [38400/60000]\n",
            ">> Loss: 0.841903  [44800/60000]\n",
            ">> Loss: 0.804989  [51200/60000]\n",
            ">> Loss: 0.838034  [57600/60000]\n",
            "Test Error: \n",
            ">> Accuracy: 69.2%\n",
            ">> Avg loss: 0.813881 \n",
            "\n",
            "Epoch 15\n",
            "--------------------------------\n",
            ">> Loss: 0.834721  [    0/60000]\n",
            ">> Loss: 0.908676  [ 6400/60000]\n",
            ">> Loss: 0.662182  [12800/60000]\n",
            ">> Loss: 0.846129  [19200/60000]\n",
            ">> Loss: 0.762123  [25600/60000]\n",
            ">> Loss: 0.743424  [32000/60000]\n",
            ">> Loss: 0.877070  [38400/60000]\n",
            ">> Loss: 0.823204  [44800/60000]\n",
            ">> Loss: 0.781011  [51200/60000]\n",
            ">> Loss: 0.814059  [57600/60000]\n",
            "Test Error: \n",
            ">> Accuracy: 70.2%\n",
            ">> Avg loss: 0.790730 \n",
            "\n",
            "Epoch 16\n",
            "--------------------------------\n",
            ">> Loss: 0.801312  [    0/60000]\n",
            ">> Loss: 0.878314  [ 6400/60000]\n",
            ">> Loss: 0.632577  [12800/60000]\n",
            ">> Loss: 0.821186  [19200/60000]\n",
            ">> Loss: 0.743208  [25600/60000]\n",
            ">> Loss: 0.716651  [32000/60000]\n",
            ">> Loss: 0.855126  [38400/60000]\n",
            ">> Loss: 0.806264  [44800/60000]\n",
            ">> Loss: 0.761709  [51200/60000]\n",
            ">> Loss: 0.792518  [57600/60000]\n",
            "Test Error: \n",
            ">> Accuracy: 71.0%\n",
            ">> Avg loss: 0.770374 \n",
            "\n",
            "Epoch 17\n",
            "--------------------------------\n",
            ">> Loss: 0.771427  [    0/60000]\n",
            ">> Loss: 0.849991  [ 6400/60000]\n",
            ">> Loss: 0.606937  [12800/60000]\n",
            ">> Loss: 0.799830  [19200/60000]\n",
            ">> Loss: 0.726487  [25600/60000]\n",
            ">> Loss: 0.693962  [32000/60000]\n",
            ">> Loss: 0.834276  [38400/60000]\n",
            ">> Loss: 0.790568  [44800/60000]\n",
            ">> Loss: 0.745580  [51200/60000]\n",
            ">> Loss: 0.773139  [57600/60000]\n",
            "Test Error: \n",
            ">> Accuracy: 71.9%\n",
            ">> Avg loss: 0.752094 \n",
            "\n",
            "Epoch 18\n",
            "--------------------------------\n",
            ">> Loss: 0.744174  [    0/60000]\n",
            ">> Loss: 0.823787  [ 6400/60000]\n",
            ">> Loss: 0.584241  [12800/60000]\n",
            ">> Loss: 0.781318  [19200/60000]\n",
            ">> Loss: 0.711610  [25600/60000]\n",
            ">> Loss: 0.674501  [32000/60000]\n",
            ">> Loss: 0.814207  [38400/60000]\n",
            ">> Loss: 0.775721  [44800/60000]\n",
            ">> Loss: 0.731552  [51200/60000]\n",
            ">> Loss: 0.755625  [57600/60000]\n",
            "Test Error: \n",
            ">> Accuracy: 72.6%\n",
            ">> Avg loss: 0.735432 \n",
            "\n",
            "Epoch 19\n",
            "--------------------------------\n",
            ">> Loss: 0.719287  [    0/60000]\n",
            ">> Loss: 0.799903  [ 6400/60000]\n",
            ">> Loss: 0.564088  [12800/60000]\n",
            ">> Loss: 0.764797  [19200/60000]\n",
            ">> Loss: 0.698410  [25600/60000]\n",
            ">> Loss: 0.657768  [32000/60000]\n",
            ">> Loss: 0.794931  [38400/60000]\n",
            ">> Loss: 0.762093  [44800/60000]\n",
            ">> Loss: 0.718880  [51200/60000]\n",
            ">> Loss: 0.739815  [57600/60000]\n",
            "Test Error: \n",
            ">> Accuracy: 73.4%\n",
            ">> Avg loss: 0.720104 \n",
            "\n",
            "Epoch 20\n",
            "--------------------------------\n",
            ">> Loss: 0.696302  [    0/60000]\n",
            ">> Loss: 0.778544  [ 6400/60000]\n",
            ">> Loss: 0.545843  [12800/60000]\n",
            ">> Loss: 0.749926  [19200/60000]\n",
            ">> Loss: 0.687097  [25600/60000]\n",
            ">> Loss: 0.643290  [32000/60000]\n",
            ">> Loss: 0.776363  [38400/60000]\n",
            ">> Loss: 0.749181  [44800/60000]\n",
            ">> Loss: 0.707411  [51200/60000]\n",
            ">> Loss: 0.725430  [57600/60000]\n",
            "Test Error: \n",
            ">> Accuracy: 74.2%\n",
            ">> Avg loss: 0.705862 \n",
            "\n"
          ]
        }
      ],
      "source": [
        "epochs = 20\n",
        "for t in range(epochs):\n",
        "    print(f\"Epoch {t+1}\\n--------------------------------\")\n",
        "    train(train_dataloader, model, loss_fn, optimizer)\n",
        "    test(test_dataloader, model, loss_fn)\n"
      ]
    },
    {
      "cell_type": "markdown",
      "metadata": {
        "id": "2t0QIrb0QI9y"
      },
      "source": [
        "Like in Keras, we can easily save and load our model.\n",
        "\n",
        "A common way to save a model is to serialize the internal state dictionary (containing the model parameters). The process for loading a model includes re-creating the model structure and loading the state dictionary into it.\n"
      ]
    },
    {
      "cell_type": "code",
      "execution_count": null,
      "metadata": {
        "colab": {
          "base_uri": "https://localhost:8080/"
        },
        "id": "P3ZUDE9aQI9y",
        "outputId": "7db629f2-24cb-473c-d4df-5c5ccc7ef2de"
      },
      "outputs": [
        {
          "data": {
            "text/plain": [
              "<All keys matched successfully>"
            ]
          },
          "execution_count": 7,
          "metadata": {},
          "output_type": "execute_result"
        }
      ],
      "source": [
        "torch.save(model.state_dict(), 'fashion_model.pt')\n",
        "model = NeuralNetwork()\n",
        "model.load_state_dict(torch.load('fashion_model.pt'))\n"
      ]
    },
    {
      "cell_type": "markdown",
      "metadata": {
        "id": "zu9Lhe_MQI9y"
      },
      "source": [
        "This model can now be used to make predictions. The trained model outputs raw prediction `logits`. To convert them to a probability distribution, we can use (just like before) a `softmax function`.\n"
      ]
    },
    {
      "cell_type": "code",
      "execution_count": null,
      "metadata": {
        "colab": {
          "base_uri": "https://localhost:8080/",
          "height": 556
        },
        "id": "dBOb5-rlQI9y",
        "outputId": "ae73a814-d799-44be-d775-348ec6ffceb1"
      },
      "outputs": [
        {
          "data": {
            "image/png": "[encoded data removed]",
            "text/plain": [
              "<Figure size 640x480 with 1 Axes>"
            ]
          },
          "metadata": {},
          "output_type": "display_data"
        }
      ],
      "source": [
        "import torch.nn.functional as nnf\n",
        "import numpy as np\n",
        "\n",
        "model.eval()\n",
        "\n",
        "classes = [\n",
        "    \"T-shirt/top\",\n",
        "    \"Trouser\",\n",
        "    \"Pullover\",\n",
        "    \"Dress\",\n",
        "    \"Coat\",\n",
        "    \"Sandal\",\n",
        "    \"Shirt\",\n",
        "    \"Sneaker\",\n",
        "    \"Bag\",\n",
        "    \"Ankle boot\",\n",
        "]\n",
        "\n",
        "sample = np.random.randint(0, 9999)\n",
        "x, y = test_data[sample][0], test_data[sample][1]\n",
        "\n",
        "with torch.no_grad():\n",
        "    pred = model(x)\n",
        "\n",
        "prob = nnf.softmax(pred, dim=1)\n",
        "\n",
        "top_p, top_class = prob.topk(3, dim=1)\n",
        "\n",
        "predicted, actual = classes[top_class[0][0]], classes[y]\n",
        "\n",
        "plt.imshow(torch.squeeze(test_data[sample][0]), cmap=plt.cm.binary)\n",
        "plt.title(f'''\n",
        "Predicted: \"{predicted}\", Actual: \"{actual}\n",
        "1º -> {classes[top_class[0][0]]}: {(top_p[0][0]*100):>0.2f}%\n",
        "2º -> {classes[top_class[0][1]]}: {(top_p[0][1]*100):>0.2f}%\n",
        "2º -> {classes[top_class[0][2]]}: {(top_p[0][2]*100):>0.2f}%\n",
        "''')\n",
        "plt.show()\n"
      ]
    },
    {
      "cell_type": "markdown",
      "metadata": {
        "id": "xwwi4B0gQI9z"
      },
      "source": [
        "Pytorch gives the user greater visibility to much of what the Keras/Tensorflow library hides. However, in the end, both frameworks make sure the job gets done, and which one you choose to use (_you will probably use both if you want to practice ML_) is a matter of taste and preference! 🙃\n",
        "\n",
        "---\n",
        "\n",
        "Return to the [castle](https://github.com/Nkluge-correa/teeny-tiny_castle).\n"
      ]
    }
  ],
  "metadata": {
    "colab": {
      "provenance": []
    },
    "kernelspec": {
      "display_name": "Python 3",
      "name": "python3"
    },
    "language_info": {
      "codemirror_mode": {
        "name": "ipython",
        "version": 3
      },
      "file_extension": ".py",
      "mimetype": "text/x-python",
      "name": "python",
      "nbconvert_exporter": "python",
      "pygments_lexer": "ipython3",
      "version": "3.9.13"
    },
    "orig_nbformat": 4,
    "vscode": {
      "interpreter": {
        "hash": "aca09746cf57686f00a55ae76e987247ecfb5dd0b3b2e2474d8dbbf0c5e3377e"
      }
    }
  },
  "nbformat": 4,
  "nbformat_minor": 0
}
